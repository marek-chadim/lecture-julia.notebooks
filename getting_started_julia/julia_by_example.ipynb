{
 "cells": [
  {
   "cell_type": "markdown",
   "id": "6dcc49fe",
   "metadata": {},
   "source": [
    "\n",
    "<a id='julia-by-example'></a>"
   ]
  },
  {
   "cell_type": "markdown",
   "id": "99248739",
   "metadata": {},
   "source": [
    "# Introductory Examples"
   ]
  },
  {
   "cell_type": "markdown",
   "id": "9dc69919",
   "metadata": {},
   "source": [
    "## Contents\n",
    "\n",
    "- [Introductory Examples](#Introductory-Examples)  \n",
    "  - [Overview](#Overview)  \n",
    "  - [Example: Plotting a White Noise Process](#Example:-Plotting-a-White-Noise-Process)  \n",
    "  - [Example: Variations on Fixed Points](#Example:-Variations-on-Fixed-Points)  \n",
    "  - [Exercises](#Exercises)  \n",
    "  - [Solutions](#Solutions)  "
   ]
  },
  {
   "cell_type": "markdown",
   "id": "bafa9914",
   "metadata": {},
   "source": [
    "## Overview\n",
    "\n",
    "We’re now ready to start learning the Julia language itself."
   ]
  },
  {
   "cell_type": "markdown",
   "id": "9c5a3994",
   "metadata": {},
   "source": [
    "### Level\n",
    "\n",
    "Our approach is aimed at those who already have at least some knowledge of programming — perhaps experience with Python, MATLAB, Fortran, C or similar.\n",
    "\n",
    "In particular, we assume you have some familiarity with fundamental programming concepts such as\n",
    "\n",
    "- variables  \n",
    "- arrays or vectors  \n",
    "- loops  \n",
    "- conditionals (if/else)  \n",
    "\n",
    "\n",
    "\n",
    "<a id='intro-resources'></a>"
   ]
  },
  {
   "cell_type": "markdown",
   "id": "132549a8",
   "metadata": {},
   "source": [
    "### (Optional) Resources for Introductory Programming\n",
    "\n",
    "If Julia is your first programming language, then you may want to examine other resources before proceeding through these chapters.\n",
    "\n",
    "First, you will want to ensure that you have [installed Conda](https://julia.quantecon.org/getting_started.html#install-jupyter), [Julia](https://julia.quantecon.org/getting_started.html#intro-repl) in the previous section, and are able to [launch Jupyter Lab](https://julia.quantecon.org/getting_started.html#running-jupyterlab).  Then, even without downloading these lecture notes you can start learning Julia.\n",
    "\n",
    "Some resources for users with little to no programming experience are the:\n",
    "\n",
    "1. [Introduction to Julia](https://juliaacademy.com/p/intro-to-julia) which is appropriate for those with little programming experience.  \n",
    "  - You will need to sign up for this course to access it, but it is free.  \n",
    "  - Avoid the initial lecture on the installation of Julia and nteract.  \n",
    "  - The Jupyter Notebooks for this class are available [online](https://github.com/JuliaAcademy/Introduction-to-Julia)  \n",
    "1. [Julia for Beginners](https://www.youtube.com/playlist?list=PLhQ2JMBcfAsi_3g2AFJ6B84d8c5jw5kXp) from the [julia for talented amateurs](https://www.youtube.com/c/juliafortalentedamateurs) channel.  \n",
    "  - If you watch these, ignore the environment.  It is using a different open-source editor (i.e. Atom, which is being slowly phased out) and the REPL.  However the content itself is independent of the environment. Skip any setup instructions and just use Jupyter.  \n",
    "1. [Julia Programming for Nervous Beginners](https://www.youtube.com/playlist?list=PLP8iPy9hna6Qpx0MgGyElJ5qFlaIXYf1R) youtube tutorials.  \n",
    "  - These get advanced fairly quickly, but have plenty of great content.  \n",
    "  - This may be less gentle of an introduction for new users given the tooling choices.  \n",
    "\n",
    "\n",
    "However, if you have even introductory experience with any programming language (e.g. you do not need to review what a loop, array, variable, or conditional “if” statement is), you should be able to start directly with these lectures."
   ]
  },
  {
   "cell_type": "markdown",
   "id": "13f559a7",
   "metadata": {},
   "source": [
    "### Approach\n",
    "\n",
    "In this lecture we will write and then pick apart small Julia programs.\n",
    "\n",
    "At this stage the objective is to introduce you to basic syntax and data structures.\n",
    "\n",
    "Deeper concepts—how things work—will be covered in later lectures.\n",
    "\n",
    "Since we are looking for simplicity the examples are a little contrived\n",
    "\n",
    "In this lecture, we will often start with a direct MATLAB/FORTRAN approach which often is **poor coding style** in Julia, but then move towards more **elegant code** which is tightly connected to the mathematics.\n",
    "\n",
    "We assume that you’ve worked your way through [our getting started lecture](https://julia.quantecon.org/getting_started.html) already.\n",
    "\n",
    "The definitive reference is [Julia’s own documentation](https://docs.julialang.org/).  The manual is thoughtfully written but is also quite dense.\n",
    "\n",
    "The presentation in this and our remaining lectures is more of a tutorial style based around examples."
   ]
  },
  {
   "cell_type": "markdown",
   "id": "237ba078",
   "metadata": {},
   "source": [
    "## Example: Plotting a White Noise Process\n",
    "\n",
    "To begin, let’s suppose that we want to simulate and plot the white noise\n",
    "process $ \\epsilon_0, \\epsilon_1, \\ldots, \\epsilon_T $, where each draw $ \\epsilon_t $ is independent standard normal."
   ]
  },
  {
   "cell_type": "markdown",
   "id": "1d85985d",
   "metadata": {},
   "source": [
    "### Introduction to Packages\n",
    "\n",
    "Assuming that you followed  [our getting started lecture](https://julia.quantecon.org/getting_started.html) you will have installed all packages required for your notebooks to run.\n",
    "\n",
    "More generally, there are two ways to install packages and versions (where the first method is discouraged, since Julia provides a state-of-the-art setup for reproducible environments)\n",
    "\n",
    "1. `add` the packages directly into your global installation (e.g. `Pkg.add(\"MyPackage\")` or `] add MyPackage`) without any project activated.  \n",
    "  - We [installed](https://julia.quantecon.org/getting_started.html#intro-repl) the `IJulia` package in this way, since it must be accessible in every project.  \n",
    "  - As a reminder, the `]` enters the package mode, and with some terminals you can directly copy in the whole `] add MyPackage` string.  \n",
    "1. using a directory with a `Project.toml` and `Manifest.toml` files, which provides an isolated set of packages for a particular project.  \n",
    "  - If you load a jupyter notebook, it will automatically look up the tree for the project files to activate, but will not automatically install them.  This can be done with `] instantiate`, as we did in our [installation](https://julia.quantecon.org/getting_started.html#install-packages)  \n",
    "  - The project files can be in parent folders relative to the notebooks and sourcecode.  \n",
    "\n",
    "\n",
    "The project provides the environment for running code is **reproducible**, so that anyone can replicate the precise set of package and versions used in construction.\n",
    "\n",
    "After the installation and activation, `using` provides a way to say that a particular code or notebook will use the package."
   ]
  },
  {
   "cell_type": "code",
   "execution_count": 2,
   "id": "18aa359c",
   "metadata": {
    "hide-output": false
   },
   "outputs": [],
   "source": [
    "using LinearAlgebra, Statistics, Plots, LaTeXStrings"
   ]
  },
  {
   "cell_type": "markdown",
   "id": "eb6898f6",
   "metadata": {},
   "source": [
    "If these packages were not in your project file or global package environment, you will see an error requiring installation.  To reinforce the point above: Ideally you should be using a local `Project.toml` with these in them, in which case you might simply need to `] instantiate` it.  Without a project file, you can manually add them as required (e.g. `] add Plots`).  See [here](https://julia.quantecon.org/getting_started.html#install-packages) for more on instantiation and activation of projects.\n",
    "\n",
    "\n",
    "<a id='import'></a>"
   ]
  },
  {
   "cell_type": "markdown",
   "id": "0cf41787",
   "metadata": {},
   "source": [
    "### Using Functions from a Package\n",
    "\n",
    "Some functions are built into the base Julia, such as `randn`, which returns a single draw from a normal distribution with mean 0 and variance 1 if given no parameters."
   ]
  },
  {
   "cell_type": "code",
   "execution_count": 3,
   "id": "0e0a17b7",
   "metadata": {
    "hide-output": false
   },
   "outputs": [
    {
     "data": {
      "text/plain": [
       "2.2779607959182244"
      ]
     },
     "metadata": {},
     "output_type": "display_data"
    }
   ],
   "source": [
    "randn()"
   ]
  },
  {
   "cell_type": "markdown",
   "id": "63b63ab7",
   "metadata": {},
   "source": [
    "Other functions require importing all of the names from an external library"
   ]
  },
  {
   "cell_type": "code",
   "execution_count": 4,
   "id": "8bb5349f",
   "metadata": {
    "hide-output": false
   },
   "outputs": [
    {
     "data": {
      "image/png": "[encoded data removed]",
      "image/svg+xml": [
       "<?xml version=\"1.0\" encoding=\"utf-8\"?>\n",
       "<svg xmlns=\"http://www.w3.org/2000/svg\" xmlns:xlink=\"http://www.w3.org/1999/xlink\" width=\"600\" height=\"400\" viewBox=\"0 0 2400 1600\">\n",
       "<defs>\n",
       "  <clipPath id=\"clip760\">\n",
       "    <rect x=\"0\" y=\"0\" width=\"2400\" height=\"1600\"/>\n",
       "  </clipPath>\n",
       "</defs>\n",
       "<path clip-path=\"url(#clip760)\" d=\"M0 1600 L2400 1600 L2400 0 L0 0  Z\" fill=\"#ffffff\" fill-rule=\"evenodd\" fill-opacity=\"1\"/>\n",
       "<defs>\n",
       "  <clipPath id=\"clip761\">\n",
       "    <rect x=\"480\" y=\"0\" width=\"1681\" height=\"1600\"/>\n",
       "  </clipPath>\n",
       "</defs>\n",
       "<path clip-path=\"url(#clip760)\" d=\"M147.478 1486.45 L2352.76 1486.45 L2352.76 47.2441 L147.478 47.2441  Z\" fill=\"#ffffff\" fill-rule=\"evenodd\" fill-opacity=\"1\"/>\n",
       "<defs>\n",
       "  <clipPath id=\"clip762\">\n",
       "    <rect x=\"147\" y=\"47\" width=\"2206\" height=\"1440\"/>\n",
       "  </clipPath>\n",
       "</defs>\n",
       "<polyline clip-path=\"url(#clip762)\" style=\"stroke:#000000; stroke-linecap:round; stroke-linejoin:round; stroke-width:2; stroke-opacity:0.1; fill:none\" points=\"188.877,1486.45 188.877,47.2441 \"/>\n",
       "<polyline clip-path=\"url(#clip762)\" style=\"stroke:#000000; stroke-linecap:round; stroke-linejoin:round; stroke-width:2; stroke-opacity:0.1; fill:none\" points=\"714.243,1486.45 714.243,47.2441 \"/>\n",
       "<polyline clip-path=\"url(#clip762)\" style=\"stroke:#000000; stroke-linecap:round; stroke-linejoin:round; stroke-width:2; stroke-opacity:0.1; fill:none\" points=\"1239.61,1486.45 1239.61,47.2441 \"/>\n",
       "<polyline clip-path=\"url(#clip762)\" style=\"stroke:#000000; stroke-linecap:round; stroke-linejoin:round; stroke-width:2; stroke-opacity:0.1; fill:none\" points=\"1764.98,1486.45 1764.98,47.2441 \"/>\n",
       "<polyline clip-path=\"url(#clip762)\" style=\"stroke:#000000; stroke-linecap:round; stroke-linejoin:round; stroke-width:2; stroke-opacity:0.1; fill:none\" points=\"2290.34,1486.45 2290.34,47.2441 \"/>\n",
       "<polyline clip-path=\"url(#clip760)\" style=\"stroke:#000000; stroke-linecap:round; stroke-linejoin:round; stroke-width:4; stroke-opacity:1; fill:none\" points=\"147.478,1486.45 2352.76,1486.45 \"/>\n",
       "<polyline clip-path=\"url(#clip760)\" style=\"stroke:#000000; stroke-linecap:round; stroke-linejoin:round; stroke-width:4; stroke-opacity:1; fill:none\" points=\"188.877,1486.45 188.877,1467.55 \"/>\n",
       "<polyline clip-path=\"url(#clip760)\" style=\"stroke:#000000; stroke-linecap:round; stroke-linejoin:round; stroke-width:4; stroke-opacity:1; fill:none\" points=\"714.243,1486.45 714.243,1467.55 \"/>\n",
       "<polyline clip-path=\"url(#clip760)\" style=\"stroke:#000000; stroke-linecap:round; stroke-linejoin:round; stroke-width:4; stroke-opacity:1; fill:none\" points=\"1239.61,1486.45 1239.61,1467.55 \"/>\n",
       "<polyline clip-path=\"url(#clip760)\" style=\"stroke:#000000; stroke-linecap:round; stroke-linejoin:round; stroke-width:4; stroke-opacity:1; fill:none\" points=\"1764.98,1486.45 1764.98,1467.55 \"/>\n",
       "<polyline clip-path=\"url(#clip760)\" style=\"stroke:#000000; stroke-linecap:round; stroke-linejoin:round; stroke-width:4; stroke-opacity:1; fill:none\" points=\"2290.34,1486.45 2290.34,1467.55 \"/>\n",
       "<path clip-path=\"url(#clip760)\" d=\"M188.877 1517.37 Q185.266 1517.37 183.437 1520.93 Q181.631 1524.47 181.631 1531.6 Q181.631 1538.71 183.437 1542.27 Q185.266 1545.82 188.877 1545.82 Q192.511 1545.82 194.317 1542.27 Q196.145 1538.71 196.145 1531.6 Q196.145 1524.47 194.317 1520.93 Q192.511 1517.37 188.877 1517.37 M188.877 1513.66 Q194.687 1513.66 197.742 1518.27 Q200.821 1522.85 200.821 1531.6 Q200.821 1540.33 197.742 1544.94 Q194.687 1549.52 188.877 1549.52 Q183.067 1549.52 179.988 1544.94 Q176.932 1540.33 176.932 1531.6 Q176.932 1522.85 179.988 1518.27 Q183.067 1513.66 188.877 1513.66 Z\" fill=\"#000000\" fill-rule=\"nonzero\" fill-opacity=\"1\" /><path clip-path=\"url(#clip760)\" d=\"M693.514 1544.91 L709.833 1544.91 L709.833 1548.85 L687.889 1548.85 L687.889 1544.91 Q690.551 1542.16 695.134 1537.53 Q699.741 1532.88 700.921 1531.53 Q703.167 1529.01 704.046 1527.27 Q704.949 1525.51 704.949 1523.82 Q704.949 1521.07 703.005 1519.33 Q701.084 1517.6 697.982 1517.6 Q695.783 1517.6 693.329 1518.36 Q690.898 1519.13 688.121 1520.68 L688.121 1515.95 Q690.945 1514.82 693.398 1514.24 Q695.852 1513.66 697.889 1513.66 Q703.259 1513.66 706.454 1516.35 Q709.648 1519.03 709.648 1523.52 Q709.648 1525.65 708.838 1527.57 Q708.051 1529.47 705.945 1532.07 Q705.366 1532.74 702.264 1535.95 Q699.162 1539.15 693.514 1544.91 Z\" fill=\"#000000\" fill-rule=\"nonzero\" fill-opacity=\"1\" /><path clip-path=\"url(#clip760)\" d=\"M719.695 1514.29 L738.051 1514.29 L738.051 1518.22 L723.977 1518.22 L723.977 1526.7 Q724.995 1526.35 726.014 1526.19 Q727.032 1526 728.051 1526 Q733.838 1526 737.218 1529.17 Q740.597 1532.34 740.597 1537.76 Q740.597 1543.34 737.125 1546.44 Q733.653 1549.52 727.333 1549.52 Q725.157 1549.52 722.889 1549.15 Q720.644 1548.78 718.236 1548.04 L718.236 1543.34 Q720.32 1544.47 722.542 1545.03 Q724.764 1545.58 727.241 1545.58 Q731.245 1545.58 733.583 1543.48 Q735.921 1541.37 735.921 1537.76 Q735.921 1534.15 733.583 1532.04 Q731.245 1529.94 727.241 1529.94 Q725.366 1529.94 723.491 1530.35 Q721.639 1530.77 719.695 1531.65 L719.695 1514.29 Z\" fill=\"#000000\" fill-rule=\"nonzero\" fill-opacity=\"1\" /><path clip-path=\"url(#clip760)\" d=\"M1214.31 1514.29 L1232.67 1514.29 L1232.67 1518.22 L1218.59 1518.22 L1218.59 1526.7 Q1219.61 1526.35 1220.63 1526.19 Q1221.65 1526 1222.67 1526 Q1228.45 1526 1231.83 1529.17 Q1235.21 1532.34 1235.21 1537.76 Q1235.21 1543.34 1231.74 1546.44 Q1228.27 1549.52 1221.95 1549.52 Q1219.77 1549.52 1217.5 1549.15 Q1215.26 1548.78 1212.85 1548.04 L1212.85 1543.34 Q1214.93 1544.47 1217.16 1545.03 Q1219.38 1545.58 1221.86 1545.58 Q1225.86 1545.58 1228.2 1543.48 Q1230.54 1541.37 1230.54 1537.76 Q1230.54 1534.15 1228.2 1532.04 Q1225.86 1529.94 1221.86 1529.94 Q1219.98 1529.94 1218.11 1530.35 Q1216.25 1530.77 1214.31 1531.65 L1214.31 1514.29 Z\" fill=\"#000000\" fill-rule=\"nonzero\" fill-opacity=\"1\" /><path clip-path=\"url(#clip760)\" d=\"M1254.42 1517.37 Q1250.81 1517.37 1248.98 1520.93 Q1247.18 1524.47 1247.18 1531.6 Q1247.18 1538.71 1248.98 1542.27 Q1250.81 1545.82 1254.42 1545.82 Q1258.06 1545.82 1259.86 1542.27 Q1261.69 1538.71 1261.69 1531.6 Q1261.69 1524.47 1259.86 1520.93 Q1258.06 1517.37 1254.42 1517.37 M1254.42 1513.66 Q1260.23 1513.66 1263.29 1518.27 Q1266.37 1522.85 1266.37 1531.6 Q1266.37 1540.33 1263.29 1544.94 Q1260.23 1549.52 1254.42 1549.52 Q1248.61 1549.52 1245.54 1544.94 Q1242.48 1540.33 1242.48 1531.6 Q1242.48 1522.85 1245.54 1518.27 Q1248.61 1513.66 1254.42 1513.66 Z\" fill=\"#000000\" fill-rule=\"nonzero\" fill-opacity=\"1\" /><path clip-path=\"url(#clip760)\" d=\"M1738.83 1514.29 L1761.05 1514.29 L1761.05 1516.28 L1748.51 1548.85 L1743.62 1548.85 L1755.43 1518.22 L1738.83 1518.22 L1738.83 1514.29 Z\" fill=\"#000000\" fill-rule=\"nonzero\" fill-opacity=\"1\" /><path clip-path=\"url(#clip760)\" d=\"M1770.22 1514.29 L1788.58 1514.29 L1788.58 1518.22 L1774.5 1518.22 L1774.5 1526.7 Q1775.52 1526.35 1776.54 1526.19 Q1777.56 1526 1778.58 1526 Q1784.36 1526 1787.74 1529.17 Q1791.12 1532.34 1791.12 1537.76 Q1791.12 1543.34 1787.65 1546.44 Q1784.18 1549.52 1777.86 1549.52 Q1775.68 1549.52 1773.41 1549.15 Q1771.17 1548.78 1768.76 1548.04 L1768.76 1543.34 Q1770.84 1544.47 1773.07 1545.03 Q1775.29 1545.58 1777.77 1545.58 Q1781.77 1545.58 1784.11 1543.48 Q1786.45 1541.37 1786.45 1537.76 Q1786.45 1534.15 1784.11 1532.04 Q1781.77 1529.94 1777.77 1529.94 Q1775.89 1529.94 1774.02 1530.35 Q1772.16 1530.77 1770.22 1531.65 L1770.22 1514.29 Z\" fill=\"#000000\" fill-rule=\"nonzero\" fill-opacity=\"1\" /><path clip-path=\"url(#clip760)\" d=\"M2249.95 1544.91 L2257.59 1544.91 L2257.59 1518.55 L2249.28 1520.21 L2249.28 1515.95 L2257.54 1514.29 L2262.22 1514.29 L2262.22 1544.91 L2269.86 1544.91 L2269.86 1548.85 L2249.95 1548.85 L2249.95 1544.91 Z\" fill=\"#000000\" fill-rule=\"nonzero\" fill-opacity=\"1\" /><path clip-path=\"url(#clip760)\" d=\"M2289.3 1517.37 Q2285.69 1517.37 2283.86 1520.93 Q2282.06 1524.47 2282.06 1531.6 Q2282.06 1538.71 2283.86 1542.27 Q2285.69 1545.82 2289.3 1545.82 Q2292.93 1545.82 2294.74 1542.27 Q2296.57 1538.71 2296.57 1531.6 Q2296.57 1524.47 2294.74 1520.93 Q2292.93 1517.37 2289.3 1517.37 M2289.3 1513.66 Q2295.11 1513.66 2298.17 1518.27 Q2301.25 1522.85 2301.25 1531.6 Q2301.25 1540.33 2298.17 1544.94 Q2295.11 1549.52 2289.3 1549.52 Q2283.49 1549.52 2280.41 1544.94 Q2277.36 1540.33 2277.36 1531.6 Q2277.36 1522.85 2280.41 1518.27 Q2283.49 1513.66 2289.3 1513.66 Z\" fill=\"#000000\" fill-rule=\"nonzero\" fill-opacity=\"1\" /><path clip-path=\"url(#clip760)\" d=\"M2319.46 1517.37 Q2315.85 1517.37 2314.02 1520.93 Q2312.22 1524.47 2312.22 1531.6 Q2312.22 1538.71 2314.02 1542.27 Q2315.85 1545.82 2319.46 1545.82 Q2323.1 1545.82 2324.9 1542.27 Q2326.73 1538.71 2326.73 1531.6 Q2326.73 1524.47 2324.9 1520.93 Q2323.1 1517.37 2319.46 1517.37 M2319.46 1513.66 Q2325.27 1513.66 2328.33 1518.27 Q2331.41 1522.85 2331.41 1531.6 Q2331.41 1540.33 2328.33 1544.94 Q2325.27 1549.52 2319.46 1549.52 Q2313.65 1549.52 2310.57 1544.94 Q2307.52 1540.33 2307.52 1531.6 Q2307.52 1522.85 2310.57 1518.27 Q2313.65 1513.66 2319.46 1513.66 Z\" fill=\"#000000\" fill-rule=\"nonzero\" fill-opacity=\"1\" /><polyline clip-path=\"url(#clip762)\" style=\"stroke:#000000; stroke-linecap:round; stroke-linejoin:round; stroke-width:2; stroke-opacity:0.1; fill:none\" points=\"147.478,1428.48 2352.76,1428.48 \"/>\n",
       "<polyline clip-path=\"url(#clip762)\" style=\"stroke:#000000; stroke-linecap:round; stroke-linejoin:round; stroke-width:2; stroke-opacity:0.1; fill:none\" points=\"147.478,1171.96 2352.76,1171.96 \"/>\n",
       "<polyline clip-path=\"url(#clip762)\" style=\"stroke:#000000; stroke-linecap:round; stroke-linejoin:round; stroke-width:2; stroke-opacity:0.1; fill:none\" points=\"147.478,915.441 2352.76,915.441 \"/>\n",
       "<polyline clip-path=\"url(#clip762)\" style=\"stroke:#000000; stroke-linecap:round; stroke-linejoin:round; stroke-width:2; stroke-opacity:0.1; fill:none\" points=\"147.478,658.924 2352.76,658.924 \"/>\n",
       "<polyline clip-path=\"url(#clip762)\" style=\"stroke:#000000; stroke-linecap:round; stroke-linejoin:round; stroke-width:2; stroke-opacity:0.1; fill:none\" points=\"147.478,402.406 2352.76,402.406 \"/>\n",
       "<polyline clip-path=\"url(#clip762)\" style=\"stroke:#000000; stroke-linecap:round; stroke-linejoin:round; stroke-width:2; stroke-opacity:0.1; fill:none\" points=\"147.478,145.889 2352.76,145.889 \"/>\n",
       "<polyline clip-path=\"url(#clip760)\" style=\"stroke:#000000; stroke-linecap:round; stroke-linejoin:round; stroke-width:4; stroke-opacity:1; fill:none\" points=\"147.478,1486.45 147.478,47.2441 \"/>\n",
       "<polyline clip-path=\"url(#clip760)\" style=\"stroke:#000000; stroke-linecap:round; stroke-linejoin:round; stroke-width:4; stroke-opacity:1; fill:none\" points=\"147.478,1428.48 166.376,1428.48 \"/>\n",
       "<polyline clip-path=\"url(#clip760)\" style=\"stroke:#000000; stroke-linecap:round; stroke-linejoin:round; stroke-width:4; stroke-opacity:1; fill:none\" points=\"147.478,1171.96 166.376,1171.96 \"/>\n",
       "<polyline clip-path=\"url(#clip760)\" style=\"stroke:#000000; stroke-linecap:round; stroke-linejoin:round; stroke-width:4; stroke-opacity:1; fill:none\" points=\"147.478,915.441 166.376,915.441 \"/>\n",
       "<polyline clip-path=\"url(#clip760)\" style=\"stroke:#000000; stroke-linecap:round; stroke-linejoin:round; stroke-width:4; stroke-opacity:1; fill:none\" points=\"147.478,658.924 166.376,658.924 \"/>\n",
       "<polyline clip-path=\"url(#clip760)\" style=\"stroke:#000000; stroke-linecap:round; stroke-linejoin:round; stroke-width:4; stroke-opacity:1; fill:none\" points=\"147.478,402.406 166.376,402.406 \"/>\n",
       "<polyline clip-path=\"url(#clip760)\" style=\"stroke:#000000; stroke-linecap:round; stroke-linejoin:round; stroke-width:4; stroke-opacity:1; fill:none\" points=\"147.478,145.889 166.376,145.889 \"/>\n",
       "<path clip-path=\"url(#clip760)\" d=\"M51.3625 1428.93 L81.0383 1428.93 L81.0383 1432.86 L51.3625 1432.86 L51.3625 1428.93 Z\" fill=\"#000000\" fill-rule=\"nonzero\" fill-opacity=\"1\" /><path clip-path=\"url(#clip760)\" d=\"M95.1586 1441.82 L111.478 1441.82 L111.478 1445.76 L89.5336 1445.76 L89.5336 1441.82 Q92.1956 1439.07 96.7789 1434.44 Q101.385 1429.78 102.566 1428.44 Q104.811 1425.92 105.691 1424.18 Q106.594 1422.42 106.594 1420.73 Q106.594 1417.98 104.649 1416.24 Q102.728 1414.51 99.6261 1414.51 Q97.4271 1414.51 94.9734 1415.27 Q92.5428 1416.03 89.7651 1417.59 L89.7651 1412.86 Q92.5891 1411.73 95.0428 1411.15 Q97.4965 1410.57 99.5335 1410.57 Q104.904 1410.57 108.098 1413.26 Q111.293 1415.94 111.293 1420.43 Q111.293 1422.56 110.483 1424.48 Q109.696 1426.38 107.589 1428.97 Q107.01 1429.65 103.909 1432.86 Q100.807 1436.06 95.1586 1441.82 Z\" fill=\"#000000\" fill-rule=\"nonzero\" fill-opacity=\"1\" /><path clip-path=\"url(#clip760)\" d=\"M50.9921 1172.41 L80.6679 1172.41 L80.6679 1176.35 L50.9921 1176.35 L50.9921 1172.41 Z\" fill=\"#000000\" fill-rule=\"nonzero\" fill-opacity=\"1\" /><path clip-path=\"url(#clip760)\" d=\"M91.5706 1185.3 L99.2095 1185.3 L99.2095 1158.94 L90.8993 1160.6 L90.8993 1156.35 L99.1632 1154.68 L103.839 1154.68 L103.839 1185.3 L111.478 1185.3 L111.478 1189.24 L91.5706 1189.24 L91.5706 1185.3 Z\" fill=\"#000000\" fill-rule=\"nonzero\" fill-opacity=\"1\" /><path clip-path=\"url(#clip760)\" d=\"M99.5335 901.24 Q95.9224 901.24 94.0937 904.805 Q92.2882 908.347 92.2882 915.476 Q92.2882 922.583 94.0937 926.147 Q95.9224 929.689 99.5335 929.689 Q103.168 929.689 104.973 926.147 Q106.802 922.583 106.802 915.476 Q106.802 908.347 104.973 904.805 Q103.168 901.24 99.5335 901.24 M99.5335 897.536 Q105.344 897.536 108.399 902.143 Q111.478 906.726 111.478 915.476 Q111.478 924.203 108.399 928.809 Q105.344 933.393 99.5335 933.393 Q93.7234 933.393 90.6447 928.809 Q87.5892 924.203 87.5892 915.476 Q87.5892 906.726 90.6447 902.143 Q93.7234 897.536 99.5335 897.536 Z\" fill=\"#000000\" fill-rule=\"nonzero\" fill-opacity=\"1\" /><path clip-path=\"url(#clip760)\" d=\"M91.5706 672.269 L99.2095 672.269 L99.2095 645.903 L90.8993 647.57 L90.8993 643.311 L99.1632 641.644 L103.839 641.644 L103.839 672.269 L111.478 672.269 L111.478 676.204 L91.5706 676.204 L91.5706 672.269 Z\" fill=\"#000000\" fill-rule=\"nonzero\" fill-opacity=\"1\" /><path clip-path=\"url(#clip760)\" d=\"M95.1586 415.751 L111.478 415.751 L111.478 419.686 L89.5336 419.686 L89.5336 415.751 Q92.1956 412.997 96.7789 408.367 Q101.385 403.714 102.566 402.372 Q104.811 399.849 105.691 398.112 Q106.594 396.353 106.594 394.663 Q106.594 391.909 104.649 390.173 Q102.728 388.437 99.6261 388.437 Q97.4271 388.437 94.9734 389.2 Q92.5428 389.964 89.7651 391.515 L89.7651 386.793 Q92.5891 385.659 95.0428 385.08 Q97.4965 384.501 99.5335 384.501 Q104.904 384.501 108.098 387.187 Q111.293 389.872 111.293 394.362 Q111.293 396.492 110.483 398.413 Q109.696 400.312 107.589 402.904 Q107.01 403.575 103.909 406.793 Q100.807 409.987 95.1586 415.751 Z\" fill=\"#000000\" fill-rule=\"nonzero\" fill-opacity=\"1\" /><path clip-path=\"url(#clip760)\" d=\"M104.348 144.535 Q107.705 145.252 109.58 147.521 Q111.478 149.789 111.478 153.123 Q111.478 158.238 107.959 161.039 Q104.441 163.84 97.9595 163.84 Q95.7836 163.84 93.4688 163.4 Q91.1771 162.984 88.7234 162.127 L88.7234 157.613 Q90.6678 158.748 92.9826 159.326 Q95.2974 159.905 97.8206 159.905 Q102.219 159.905 104.51 158.169 Q106.825 156.433 106.825 153.123 Q106.825 150.067 104.672 148.354 Q102.543 146.618 98.7234 146.618 L94.6956 146.618 L94.6956 142.775 L98.9085 142.775 Q102.358 142.775 104.186 141.41 Q106.015 140.021 106.015 137.428 Q106.015 134.766 104.117 133.354 Q102.242 131.919 98.7234 131.919 Q96.8021 131.919 94.603 132.336 Q92.4039 132.752 89.7651 133.632 L89.7651 129.465 Q92.4271 128.725 94.7419 128.354 Q97.0798 127.984 99.14 127.984 Q104.464 127.984 107.566 130.414 Q110.668 132.822 110.668 136.942 Q110.668 139.813 109.024 141.803 Q107.381 143.771 104.348 144.535 Z\" fill=\"#000000\" fill-rule=\"nonzero\" fill-opacity=\"1\" /><polyline clip-path=\"url(#clip762)\" style=\"stroke:#009af9; stroke-linecap:round; stroke-linejoin:round; stroke-width:4; stroke-opacity:1; fill:none\" points=\"209.891,914.771 230.906,1116.3 251.921,1364.92 272.935,515.491 293.95,685.603 314.965,1072.27 335.979,1000.77 356.994,731.251 378.009,785.56 399.023,708.932 420.038,690.394 441.053,1445.72 462.067,784.274 483.082,1001.11 504.097,746.546 525.111,985.103 546.126,1282.43 567.141,505.238 588.155,1160.95 609.17,892.499 630.185,502 651.199,1070.01 672.214,1048.82 693.229,1316.5 714.243,944.851 735.258,1192.41 756.272,576.117 777.287,1293.8 798.302,530.563 819.316,891.957 840.331,523.073 861.346,989.494 882.36,799.566 903.375,649.589 924.39,961.732 945.404,448.47 966.419,709.879 987.434,1062.66 1008.45,535.33 1029.46,822.517 1050.48,1289 1071.49,1067.38 1092.51,860.595 1113.52,101.057 1134.54,881.857 1155.55,1148.1 1176.57,739.652 1197.58,436.137 1218.59,928.078 1239.61,957.763 1260.62,333.88 1281.64,552.923 1302.65,1271.37 1323.67,1084.67 1344.68,1171.31 1365.7,844.195 1386.71,1066.81 1407.73,524.501 1428.74,664.154 1449.76,1314.73 1470.77,1024.24 1491.79,1162.07 1512.8,1013 1533.81,833.765 1554.83,684.93 1575.84,582.095 1596.86,755.608 1617.87,1191.67 1638.89,1047.88 1659.9,980.44 1680.92,724.853 1701.93,87.9763 1722.95,841.26 1743.96,497.531 1764.98,663.387 1785.99,249.609 1807.01,815.979 1828.02,1029.19 1849.03,552.074 1870.05,946.084 1891.06,1309.08 1912.08,660.896 1933.09,692.018 1954.11,781.959 1975.12,735.468 1996.14,854.673 2017.15,920.493 2038.17,821.599 2059.18,1311.26 2080.2,1109.49 2101.21,532.439 2122.23,916.752 2143.24,873.766 2164.25,855.706 2185.27,1097.81 2206.28,652.287 2227.3,1100.35 2248.31,787.097 2269.33,914.336 2290.34,681.368 \"/>\n",
       "<path clip-path=\"url(#clip760)\" d=\"M2006.29 198.898 L2279.25 198.898 L2279.25 95.2176 L2006.29 95.2176  Z\" fill=\"#ffffff\" fill-rule=\"evenodd\" fill-opacity=\"1\"/>\n",
       "<polyline clip-path=\"url(#clip760)\" style=\"stroke:#000000; stroke-linecap:round; stroke-linejoin:round; stroke-width:4; stroke-opacity:1; fill:none\" points=\"2006.29,198.898 2279.25,198.898 2279.25,95.2176 2006.29,95.2176 2006.29,198.898 \"/>\n",
       "<polyline clip-path=\"url(#clip760)\" style=\"stroke:#009af9; stroke-linecap:round; stroke-linejoin:round; stroke-width:4; stroke-opacity:1; fill:none\" points=\"2030.79,147.058 2177.81,147.058 \"/>\n",
       "<path clip-path=\"url(#clip760)\" d=\"M2216.16 166.745 Q2214.35 171.375 2212.64 172.787 Q2210.92 174.199 2208.05 174.199 L2204.65 174.199 L2204.65 170.634 L2207.15 170.634 Q2208.91 170.634 2209.88 169.8 Q2210.85 168.967 2212.04 165.865 L2212.8 163.921 L2202.31 138.412 L2206.83 138.412 L2214.93 158.689 L2223.03 138.412 L2227.54 138.412 L2216.16 166.745 Z\" fill=\"#000000\" fill-rule=\"nonzero\" fill-opacity=\"1\" /><path clip-path=\"url(#clip760)\" d=\"M2234.84 160.402 L2242.48 160.402 L2242.48 134.037 L2234.16 135.703 L2234.16 131.444 L2242.43 129.778 L2247.1 129.778 L2247.1 160.402 L2254.74 160.402 L2254.74 164.338 L2234.84 164.338 L2234.84 160.402 Z\" fill=\"#000000\" fill-rule=\"nonzero\" fill-opacity=\"1\" /></svg>\n"
      ],
      "text/html": [
       "<?xml version=\"1.0\" encoding=\"utf-8\"?>\n",
       "<svg xmlns=\"http://www.w3.org/2000/svg\" xmlns:xlink=\"http://www.w3.org/1999/xlink\" width=\"600\" height=\"400\" viewBox=\"0 0 2400 1600\">\n",
       "<defs>\n",
       "  <clipPath id=\"clip810\">\n",
       "    <rect x=\"0\" y=\"0\" width=\"2400\" height=\"1600\"/>\n",
       "  </clipPath>\n",
       "</defs>\n",
       "<path clip-path=\"url(#clip810)\" d=\"M0 1600 L2400 1600 L2400 0 L0 0  Z\" fill=\"#ffffff\" fill-rule=\"evenodd\" fill-opacity=\"1\"/>\n",
       "<defs>\n",
       "  <clipPath id=\"clip811\">\n",
       "    <rect x=\"480\" y=\"0\" width=\"1681\" height=\"1600\"/>\n",
       "  </clipPath>\n",
       "</defs>\n",
       "<path clip-path=\"url(#clip810)\" d=\"M147.478 1486.45 L2352.76 1486.45 L2352.76 47.2441 L147.478 47.2441  Z\" fill=\"#ffffff\" fill-rule=\"evenodd\" fill-opacity=\"1\"/>\n",
       "<defs>\n",
       "  <clipPath id=\"clip812\">\n",
       "    <rect x=\"147\" y=\"47\" width=\"2206\" height=\"1440\"/>\n",
       "  </clipPath>\n",
       "</defs>\n",
       "<polyline clip-path=\"url(#clip812)\" style=\"stroke:#000000; stroke-linecap:round; stroke-linejoin:round; stroke-width:2; stroke-opacity:0.1; fill:none\" points=\"188.877,1486.45 188.877,47.2441 \"/>\n",
       "<polyline clip-path=\"url(#clip812)\" style=\"stroke:#000000; stroke-linecap:round; stroke-linejoin:round; stroke-width:2; stroke-opacity:0.1; fill:none\" points=\"714.243,1486.45 714.243,47.2441 \"/>\n",
       "<polyline clip-path=\"url(#clip812)\" style=\"stroke:#000000; stroke-linecap:round; stroke-linejoin:round; stroke-width:2; stroke-opacity:0.1; fill:none\" points=\"1239.61,1486.45 1239.61,47.2441 \"/>\n",
       "<polyline clip-path=\"url(#clip812)\" style=\"stroke:#000000; stroke-linecap:round; stroke-linejoin:round; stroke-width:2; stroke-opacity:0.1; fill:none\" points=\"1764.98,1486.45 1764.98,47.2441 \"/>\n",
       "<polyline clip-path=\"url(#clip812)\" style=\"stroke:#000000; stroke-linecap:round; stroke-linejoin:round; stroke-width:2; stroke-opacity:0.1; fill:none\" points=\"2290.34,1486.45 2290.34,47.2441 \"/>\n",
       "<polyline clip-path=\"url(#clip810)\" style=\"stroke:#000000; stroke-linecap:round; stroke-linejoin:round; stroke-width:4; stroke-opacity:1; fill:none\" points=\"147.478,1486.45 2352.76,1486.45 \"/>\n",
       "<polyline clip-path=\"url(#clip810)\" style=\"stroke:#000000; stroke-linecap:round; stroke-linejoin:round; stroke-width:4; stroke-opacity:1; fill:none\" points=\"188.877,1486.45 188.877,1467.55 \"/>\n",
       "<polyline clip-path=\"url(#clip810)\" style=\"stroke:#000000; stroke-linecap:round; stroke-linejoin:round; stroke-width:4; stroke-opacity:1; fill:none\" points=\"714.243,1486.45 714.243,1467.55 \"/>\n",
       "<polyline clip-path=\"url(#clip810)\" style=\"stroke:#000000; stroke-linecap:round; stroke-linejoin:round; stroke-width:4; stroke-opacity:1; fill:none\" points=\"1239.61,1486.45 1239.61,1467.55 \"/>\n",
       "<polyline clip-path=\"url(#clip810)\" style=\"stroke:#000000; stroke-linecap:round; stroke-linejoin:round; stroke-width:4; stroke-opacity:1; fill:none\" points=\"1764.98,1486.45 1764.98,1467.55 \"/>\n",
       "<polyline clip-path=\"url(#clip810)\" style=\"stroke:#000000; stroke-linecap:round; stroke-linejoin:round; stroke-width:4; stroke-opacity:1; fill:none\" points=\"2290.34,1486.45 2290.34,1467.55 \"/>\n",
       "<path clip-path=\"url(#clip810)\" d=\"M188.877 1517.37 Q185.266 1517.37 183.437 1520.93 Q181.631 1524.47 181.631 1531.6 Q181.631 1538.71 183.437 1542.27 Q185.266 1545.82 188.877 1545.82 Q192.511 1545.82 194.317 1542.27 Q196.145 1538.71 196.145 1531.6 Q196.145 1524.47 194.317 1520.93 Q192.511 1517.37 188.877 1517.37 M188.877 1513.66 Q194.687 1513.66 197.742 1518.27 Q200.821 1522.85 200.821 1531.6 Q200.821 1540.33 197.742 1544.94 Q194.687 1549.52 188.877 1549.52 Q183.067 1549.52 179.988 1544.94 Q176.932 1540.33 176.932 1531.6 Q176.932 1522.85 179.988 1518.27 Q183.067 1513.66 188.877 1513.66 Z\" fill=\"#000000\" fill-rule=\"nonzero\" fill-opacity=\"1\" /><path clip-path=\"url(#clip810)\" d=\"M693.514 1544.91 L709.833 1544.91 L709.833 1548.85 L687.889 1548.85 L687.889 1544.91 Q690.551 1542.16 695.134 1537.53 Q699.741 1532.88 700.921 1531.53 Q703.167 1529.01 704.046 1527.27 Q704.949 1525.51 704.949 1523.82 Q704.949 1521.07 703.005 1519.33 Q701.084 1517.6 697.982 1517.6 Q695.783 1517.6 693.329 1518.36 Q690.898 1519.13 688.121 1520.68 L688.121 1515.95 Q690.945 1514.82 693.398 1514.24 Q695.852 1513.66 697.889 1513.66 Q703.259 1513.66 706.454 1516.35 Q709.648 1519.03 709.648 1523.52 Q709.648 1525.65 708.838 1527.57 Q708.051 1529.47 705.945 1532.07 Q705.366 1532.74 702.264 1535.95 Q699.162 1539.15 693.514 1544.91 Z\" fill=\"#000000\" fill-rule=\"nonzero\" fill-opacity=\"1\" /><path clip-path=\"url(#clip810)\" d=\"M719.695 1514.29 L738.051 1514.29 L738.051 1518.22 L723.977 1518.22 L723.977 1526.7 Q724.995 1526.35 726.014 1526.19 Q727.032 1526 728.051 1526 Q733.838 1526 737.218 1529.17 Q740.597 1532.34 740.597 1537.76 Q740.597 1543.34 737.125 1546.44 Q733.653 1549.52 727.333 1549.52 Q725.157 1549.52 722.889 1549.15 Q720.644 1548.78 718.236 1548.04 L718.236 1543.34 Q720.32 1544.47 722.542 1545.03 Q724.764 1545.58 727.241 1545.58 Q731.245 1545.58 733.583 1543.48 Q735.921 1541.37 735.921 1537.76 Q735.921 1534.15 733.583 1532.04 Q731.245 1529.94 727.241 1529.94 Q725.366 1529.94 723.491 1530.35 Q721.639 1530.77 719.695 1531.65 L719.695 1514.29 Z\" fill=\"#000000\" fill-rule=\"nonzero\" fill-opacity=\"1\" /><path clip-path=\"url(#clip810)\" d=\"M1214.31 1514.29 L1232.67 1514.29 L1232.67 1518.22 L1218.59 1518.22 L1218.59 1526.7 Q1219.61 1526.35 1220.63 1526.19 Q1221.65 1526 1222.67 1526 Q1228.45 1526 1231.83 1529.17 Q1235.21 1532.34 1235.21 1537.76 Q1235.21 1543.34 1231.74 1546.44 Q1228.27 1549.52 1221.95 1549.52 Q1219.77 1549.52 1217.5 1549.15 Q1215.26 1548.78 1212.85 1548.04 L1212.85 1543.34 Q1214.93 1544.47 1217.16 1545.03 Q1219.38 1545.58 1221.86 1545.58 Q1225.86 1545.58 1228.2 1543.48 Q1230.54 1541.37 1230.54 1537.76 Q1230.54 1534.15 1228.2 1532.04 Q1225.86 1529.94 1221.86 1529.94 Q1219.98 1529.94 1218.11 1530.35 Q1216.25 1530.77 1214.31 1531.65 L1214.31 1514.29 Z\" fill=\"#000000\" fill-rule=\"nonzero\" fill-opacity=\"1\" /><path clip-path=\"url(#clip810)\" d=\"M1254.42 1517.37 Q1250.81 1517.37 1248.98 1520.93 Q1247.18 1524.47 1247.18 1531.6 Q1247.18 1538.71 1248.98 1542.27 Q1250.81 1545.82 1254.42 1545.82 Q1258.06 1545.82 1259.86 1542.27 Q1261.69 1538.71 1261.69 1531.6 Q1261.69 1524.47 1259.86 1520.93 Q1258.06 1517.37 1254.42 1517.37 M1254.42 1513.66 Q1260.23 1513.66 1263.29 1518.27 Q1266.37 1522.85 1266.37 1531.6 Q1266.37 1540.33 1263.29 1544.94 Q1260.23 1549.52 1254.42 1549.52 Q1248.61 1549.52 1245.54 1544.94 Q1242.48 1540.33 1242.48 1531.6 Q1242.48 1522.85 1245.54 1518.27 Q1248.61 1513.66 1254.42 1513.66 Z\" fill=\"#000000\" fill-rule=\"nonzero\" fill-opacity=\"1\" /><path clip-path=\"url(#clip810)\" d=\"M1738.83 1514.29 L1761.05 1514.29 L1761.05 1516.28 L1748.51 1548.85 L1743.62 1548.85 L1755.43 1518.22 L1738.83 1518.22 L1738.83 1514.29 Z\" fill=\"#000000\" fill-rule=\"nonzero\" fill-opacity=\"1\" /><path clip-path=\"url(#clip810)\" d=\"M1770.22 1514.29 L1788.58 1514.29 L1788.58 1518.22 L1774.5 1518.22 L1774.5 1526.7 Q1775.52 1526.35 1776.54 1526.19 Q1777.56 1526 1778.58 1526 Q1784.36 1526 1787.74 1529.17 Q1791.12 1532.34 1791.12 1537.76 Q1791.12 1543.34 1787.65 1546.44 Q1784.18 1549.52 1777.86 1549.52 Q1775.68 1549.52 1773.41 1549.15 Q1771.17 1548.78 1768.76 1548.04 L1768.76 1543.34 Q1770.84 1544.47 1773.07 1545.03 Q1775.29 1545.58 1777.77 1545.58 Q1781.77 1545.58 1784.11 1543.48 Q1786.45 1541.37 1786.45 1537.76 Q1786.45 1534.15 1784.11 1532.04 Q1781.77 1529.94 1777.77 1529.94 Q1775.89 1529.94 1774.02 1530.35 Q1772.16 1530.77 1770.22 1531.65 L1770.22 1514.29 Z\" fill=\"#000000\" fill-rule=\"nonzero\" fill-opacity=\"1\" /><path clip-path=\"url(#clip810)\" d=\"M2249.95 1544.91 L2257.59 1544.91 L2257.59 1518.55 L2249.28 1520.21 L2249.28 1515.95 L2257.54 1514.29 L2262.22 1514.29 L2262.22 1544.91 L2269.86 1544.91 L2269.86 1548.85 L2249.95 1548.85 L2249.95 1544.91 Z\" fill=\"#000000\" fill-rule=\"nonzero\" fill-opacity=\"1\" /><path clip-path=\"url(#clip810)\" d=\"M2289.3 1517.37 Q2285.69 1517.37 2283.86 1520.93 Q2282.06 1524.47 2282.06 1531.6 Q2282.06 1538.71 2283.86 1542.27 Q2285.69 1545.82 2289.3 1545.82 Q2292.93 1545.82 2294.74 1542.27 Q2296.57 1538.71 2296.57 1531.6 Q2296.57 1524.47 2294.74 1520.93 Q2292.93 1517.37 2289.3 1517.37 M2289.3 1513.66 Q2295.11 1513.66 2298.17 1518.27 Q2301.25 1522.85 2301.25 1531.6 Q2301.25 1540.33 2298.17 1544.94 Q2295.11 1549.52 2289.3 1549.52 Q2283.49 1549.52 2280.41 1544.94 Q2277.36 1540.33 2277.36 1531.6 Q2277.36 1522.85 2280.41 1518.27 Q2283.49 1513.66 2289.3 1513.66 Z\" fill=\"#000000\" fill-rule=\"nonzero\" fill-opacity=\"1\" /><path clip-path=\"url(#clip810)\" d=\"M2319.46 1517.37 Q2315.85 1517.37 2314.02 1520.93 Q2312.22 1524.47 2312.22 1531.6 Q2312.22 1538.71 2314.02 1542.27 Q2315.85 1545.82 2319.46 1545.82 Q2323.1 1545.82 2324.9 1542.27 Q2326.73 1538.71 2326.73 1531.6 Q2326.73 1524.47 2324.9 1520.93 Q2323.1 1517.37 2319.46 1517.37 M2319.46 1513.66 Q2325.27 1513.66 2328.33 1518.27 Q2331.41 1522.85 2331.41 1531.6 Q2331.41 1540.33 2328.33 1544.94 Q2325.27 1549.52 2319.46 1549.52 Q2313.65 1549.52 2310.57 1544.94 Q2307.52 1540.33 2307.52 1531.6 Q2307.52 1522.85 2310.57 1518.27 Q2313.65 1513.66 2319.46 1513.66 Z\" fill=\"#000000\" fill-rule=\"nonzero\" fill-opacity=\"1\" /><polyline clip-path=\"url(#clip812)\" style=\"stroke:#000000; stroke-linecap:round; stroke-linejoin:round; stroke-width:2; stroke-opacity:0.1; fill:none\" points=\"147.478,1428.48 2352.76,1428.48 \"/>\n",
       "<polyline clip-path=\"url(#clip812)\" style=\"stroke:#000000; stroke-linecap:round; stroke-linejoin:round; stroke-width:2; stroke-opacity:0.1; fill:none\" points=\"147.478,1171.96 2352.76,1171.96 \"/>\n",
       "<polyline clip-path=\"url(#clip812)\" style=\"stroke:#000000; stroke-linecap:round; stroke-linejoin:round; stroke-width:2; stroke-opacity:0.1; fill:none\" points=\"147.478,915.441 2352.76,915.441 \"/>\n",
       "<polyline clip-path=\"url(#clip812)\" style=\"stroke:#000000; stroke-linecap:round; stroke-linejoin:round; stroke-width:2; stroke-opacity:0.1; fill:none\" points=\"147.478,658.924 2352.76,658.924 \"/>\n",
       "<polyline clip-path=\"url(#clip812)\" style=\"stroke:#000000; stroke-linecap:round; stroke-linejoin:round; stroke-width:2; stroke-opacity:0.1; fill:none\" points=\"147.478,402.406 2352.76,402.406 \"/>\n",
       "<polyline clip-path=\"url(#clip812)\" style=\"stroke:#000000; stroke-linecap:round; stroke-linejoin:round; stroke-width:2; stroke-opacity:0.1; fill:none\" points=\"147.478,145.889 2352.76,145.889 \"/>\n",
       "<polyline clip-path=\"url(#clip810)\" style=\"stroke:#000000; stroke-linecap:round; stroke-linejoin:round; stroke-width:4; stroke-opacity:1; fill:none\" points=\"147.478,1486.45 147.478,47.2441 \"/>\n",
       "<polyline clip-path=\"url(#clip810)\" style=\"stroke:#000000; stroke-linecap:round; stroke-linejoin:round; stroke-width:4; stroke-opacity:1; fill:none\" points=\"147.478,1428.48 166.376,1428.48 \"/>\n",
       "<polyline clip-path=\"url(#clip810)\" style=\"stroke:#000000; stroke-linecap:round; stroke-linejoin:round; stroke-width:4; stroke-opacity:1; fill:none\" points=\"147.478,1171.96 166.376,1171.96 \"/>\n",
       "<polyline clip-path=\"url(#clip810)\" style=\"stroke:#000000; stroke-linecap:round; stroke-linejoin:round; stroke-width:4; stroke-opacity:1; fill:none\" points=\"147.478,915.441 166.376,915.441 \"/>\n",
       "<polyline clip-path=\"url(#clip810)\" style=\"stroke:#000000; stroke-linecap:round; stroke-linejoin:round; stroke-width:4; stroke-opacity:1; fill:none\" points=\"147.478,658.924 166.376,658.924 \"/>\n",
       "<polyline clip-path=\"url(#clip810)\" style=\"stroke:#000000; stroke-linecap:round; stroke-linejoin:round; stroke-width:4; stroke-opacity:1; fill:none\" points=\"147.478,402.406 166.376,402.406 \"/>\n",
       "<polyline clip-path=\"url(#clip810)\" style=\"stroke:#000000; stroke-linecap:round; stroke-linejoin:round; stroke-width:4; stroke-opacity:1; fill:none\" points=\"147.478,145.889 166.376,145.889 \"/>\n",
       "<path clip-path=\"url(#clip810)\" d=\"M51.3625 1428.93 L81.0383 1428.93 L81.0383 1432.86 L51.3625 1432.86 L51.3625 1428.93 Z\" fill=\"#000000\" fill-rule=\"nonzero\" fill-opacity=\"1\" /><path clip-path=\"url(#clip810)\" d=\"M95.1586 1441.82 L111.478 1441.82 L111.478 1445.76 L89.5336 1445.76 L89.5336 1441.82 Q92.1956 1439.07 96.7789 1434.44 Q101.385 1429.78 102.566 1428.44 Q104.811 1425.92 105.691 1424.18 Q106.594 1422.42 106.594 1420.73 Q106.594 1417.98 104.649 1416.24 Q102.728 1414.51 99.6261 1414.51 Q97.4271 1414.51 94.9734 1415.27 Q92.5428 1416.03 89.7651 1417.59 L89.7651 1412.86 Q92.5891 1411.73 95.0428 1411.15 Q97.4965 1410.57 99.5335 1410.57 Q104.904 1410.57 108.098 1413.26 Q111.293 1415.94 111.293 1420.43 Q111.293 1422.56 110.483 1424.48 Q109.696 1426.38 107.589 1428.97 Q107.01 1429.65 103.909 1432.86 Q100.807 1436.06 95.1586 1441.82 Z\" fill=\"#000000\" fill-rule=\"nonzero\" fill-opacity=\"1\" /><path clip-path=\"url(#clip810)\" d=\"M50.9921 1172.41 L80.6679 1172.41 L80.6679 1176.35 L50.9921 1176.35 L50.9921 1172.41 Z\" fill=\"#000000\" fill-rule=\"nonzero\" fill-opacity=\"1\" /><path clip-path=\"url(#clip810)\" d=\"M91.5706 1185.3 L99.2095 1185.3 L99.2095 1158.94 L90.8993 1160.6 L90.8993 1156.35 L99.1632 1154.68 L103.839 1154.68 L103.839 1185.3 L111.478 1185.3 L111.478 1189.24 L91.5706 1189.24 L91.5706 1185.3 Z\" fill=\"#000000\" fill-rule=\"nonzero\" fill-opacity=\"1\" /><path clip-path=\"url(#clip810)\" d=\"M99.5335 901.24 Q95.9224 901.24 94.0937 904.805 Q92.2882 908.347 92.2882 915.476 Q92.2882 922.583 94.0937 926.147 Q95.9224 929.689 99.5335 929.689 Q103.168 929.689 104.973 926.147 Q106.802 922.583 106.802 915.476 Q106.802 908.347 104.973 904.805 Q103.168 901.24 99.5335 901.24 M99.5335 897.536 Q105.344 897.536 108.399 902.143 Q111.478 906.726 111.478 915.476 Q111.478 924.203 108.399 928.809 Q105.344 933.393 99.5335 933.393 Q93.7234 933.393 90.6447 928.809 Q87.5892 924.203 87.5892 915.476 Q87.5892 906.726 90.6447 902.143 Q93.7234 897.536 99.5335 897.536 Z\" fill=\"#000000\" fill-rule=\"nonzero\" fill-opacity=\"1\" /><path clip-path=\"url(#clip810)\" d=\"M91.5706 672.269 L99.2095 672.269 L99.2095 645.903 L90.8993 647.57 L90.8993 643.311 L99.1632 641.644 L103.839 641.644 L103.839 672.269 L111.478 672.269 L111.478 676.204 L91.5706 676.204 L91.5706 672.269 Z\" fill=\"#000000\" fill-rule=\"nonzero\" fill-opacity=\"1\" /><path clip-path=\"url(#clip810)\" d=\"M95.1586 415.751 L111.478 415.751 L111.478 419.686 L89.5336 419.686 L89.5336 415.751 Q92.1956 412.997 96.7789 408.367 Q101.385 403.714 102.566 402.372 Q104.811 399.849 105.691 398.112 Q106.594 396.353 106.594 394.663 Q106.594 391.909 104.649 390.173 Q102.728 388.437 99.6261 388.437 Q97.4271 388.437 94.9734 389.2 Q92.5428 389.964 89.7651 391.515 L89.7651 386.793 Q92.5891 385.659 95.0428 385.08 Q97.4965 384.501 99.5335 384.501 Q104.904 384.501 108.098 387.187 Q111.293 389.872 111.293 394.362 Q111.293 396.492 110.483 398.413 Q109.696 400.312 107.589 402.904 Q107.01 403.575 103.909 406.793 Q100.807 409.987 95.1586 415.751 Z\" fill=\"#000000\" fill-rule=\"nonzero\" fill-opacity=\"1\" /><path clip-path=\"url(#clip810)\" d=\"M104.348 144.535 Q107.705 145.252 109.58 147.521 Q111.478 149.789 111.478 153.123 Q111.478 158.238 107.959 161.039 Q104.441 163.84 97.9595 163.84 Q95.7836 163.84 93.4688 163.4 Q91.1771 162.984 88.7234 162.127 L88.7234 157.613 Q90.6678 158.748 92.9826 159.326 Q95.2974 159.905 97.8206 159.905 Q102.219 159.905 104.51 158.169 Q106.825 156.433 106.825 153.123 Q106.825 150.067 104.672 148.354 Q102.543 146.618 98.7234 146.618 L94.6956 146.618 L94.6956 142.775 L98.9085 142.775 Q102.358 142.775 104.186 141.41 Q106.015 140.021 106.015 137.428 Q106.015 134.766 104.117 133.354 Q102.242 131.919 98.7234 131.919 Q96.8021 131.919 94.603 132.336 Q92.4039 132.752 89.7651 133.632 L89.7651 129.465 Q92.4271 128.725 94.7419 128.354 Q97.0798 127.984 99.14 127.984 Q104.464 127.984 107.566 130.414 Q110.668 132.822 110.668 136.942 Q110.668 139.813 109.024 141.803 Q107.381 143.771 104.348 144.535 Z\" fill=\"#000000\" fill-rule=\"nonzero\" fill-opacity=\"1\" /><polyline clip-path=\"url(#clip812)\" style=\"stroke:#009af9; stroke-linecap:round; stroke-linejoin:round; stroke-width:4; stroke-opacity:1; fill:none\" points=\"209.891,914.771 230.906,1116.3 251.921,1364.92 272.935,515.491 293.95,685.603 314.965,1072.27 335.979,1000.77 356.994,731.251 378.009,785.56 399.023,708.932 420.038,690.394 441.053,1445.72 462.067,784.274 483.082,1001.11 504.097,746.546 525.111,985.103 546.126,1282.43 567.141,505.238 588.155,1160.95 609.17,892.499 630.185,502 651.199,1070.01 672.214,1048.82 693.229,1316.5 714.243,944.851 735.258,1192.41 756.272,576.117 777.287,1293.8 798.302,530.563 819.316,891.957 840.331,523.073 861.346,989.494 882.36,799.566 903.375,649.589 924.39,961.732 945.404,448.47 966.419,709.879 987.434,1062.66 1008.45,535.33 1029.46,822.517 1050.48,1289 1071.49,1067.38 1092.51,860.595 1113.52,101.057 1134.54,881.857 1155.55,1148.1 1176.57,739.652 1197.58,436.137 1218.59,928.078 1239.61,957.763 1260.62,333.88 1281.64,552.923 1302.65,1271.37 1323.67,1084.67 1344.68,1171.31 1365.7,844.195 1386.71,1066.81 1407.73,524.501 1428.74,664.154 1449.76,1314.73 1470.77,1024.24 1491.79,1162.07 1512.8,1013 1533.81,833.765 1554.83,684.93 1575.84,582.095 1596.86,755.608 1617.87,1191.67 1638.89,1047.88 1659.9,980.44 1680.92,724.853 1701.93,87.9763 1722.95,841.26 1743.96,497.531 1764.98,663.387 1785.99,249.609 1807.01,815.979 1828.02,1029.19 1849.03,552.074 1870.05,946.084 1891.06,1309.08 1912.08,660.896 1933.09,692.018 1954.11,781.959 1975.12,735.468 1996.14,854.673 2017.15,920.493 2038.17,821.599 2059.18,1311.26 2080.2,1109.49 2101.21,532.439 2122.23,916.752 2143.24,873.766 2164.25,855.706 2185.27,1097.81 2206.28,652.287 2227.3,1100.35 2248.31,787.097 2269.33,914.336 2290.34,681.368 \"/>\n",
       "<path clip-path=\"url(#clip810)\" d=\"M2006.29 198.898 L2279.25 198.898 L2279.25 95.2176 L2006.29 95.2176  Z\" fill=\"#ffffff\" fill-rule=\"evenodd\" fill-opacity=\"1\"/>\n",
       "<polyline clip-path=\"url(#clip810)\" style=\"stroke:#000000; stroke-linecap:round; stroke-linejoin:round; stroke-width:4; stroke-opacity:1; fill:none\" points=\"2006.29,198.898 2279.25,198.898 2279.25,95.2176 2006.29,95.2176 2006.29,198.898 \"/>\n",
       "<polyline clip-path=\"url(#clip810)\" style=\"stroke:#009af9; stroke-linecap:round; stroke-linejoin:round; stroke-width:4; stroke-opacity:1; fill:none\" points=\"2030.79,147.058 2177.81,147.058 \"/>\n",
       "<path clip-path=\"url(#clip810)\" d=\"M2216.16 166.745 Q2214.35 171.375 2212.64 172.787 Q2210.92 174.199 2208.05 174.199 L2204.65 174.199 L2204.65 170.634 L2207.15 170.634 Q2208.91 170.634 2209.88 169.8 Q2210.85 168.967 2212.04 165.865 L2212.8 163.921 L2202.31 138.412 L2206.83 138.412 L2214.93 158.689 L2223.03 138.412 L2227.54 138.412 L2216.16 166.745 Z\" fill=\"#000000\" fill-rule=\"nonzero\" fill-opacity=\"1\" /><path clip-path=\"url(#clip810)\" d=\"M2234.84 160.402 L2242.48 160.402 L2242.48 134.037 L2234.16 135.703 L2234.16 131.444 L2242.43 129.778 L2247.1 129.778 L2247.1 160.402 L2254.74 160.402 L2254.74 164.338 L2234.84 164.338 L2234.84 160.402 Z\" fill=\"#000000\" fill-rule=\"nonzero\" fill-opacity=\"1\" /></svg>\n"
      ]
     },
     "metadata": {},
     "output_type": "display_data"
    }
   ],
   "source": [
    "n = 100\n",
    "ep = randn(n)\n",
    "plot(1:n, ep)"
   ]
  },
  {
   "cell_type": "markdown",
   "id": "c5e9552a",
   "metadata": {},
   "source": [
    "Let’s break this down and see how it works.\n",
    "\n",
    "The effect of the statement `using Plots` is to make all the names exported by the `Plots` module available.\n",
    "\n",
    "If a project file was activated (i.e., running jupyter with the project files local to the notebook), it will use whatever version of `Plots.jl` that was specified in the `Project.toml` and `Manifest.toml` files.\n",
    "\n",
    "The other packages `LinearAlgebra` and `Statistics` are base Julia libraries, but require an explicit using.\n",
    "\n",
    "The arguments to `plot` are the numbers `1,2, ..., n` for the x-axis, a vector `ep` for the y-axis, and (optional) settings.\n",
    "\n",
    "The function `randn(n)` returns a column vector `n` random draws from a normal distribution with mean 0 and variance 1.\n",
    "\n",
    ">**Note**\n",
    ">\n",
    ">As a language intended for mathematical and scientific computing, Julia has\n",
    "strong support for using unicode characters.\n",
    "\n",
    "Rather than using a symbol such as `ep` we could have used `ϵ` and many other symbols can be typed in most Julia editor by providing the LaTeX and `<TAB>`, i.e. `\\epsilon<TAB>`."
   ]
  },
  {
   "cell_type": "markdown",
   "id": "07ac4e77",
   "metadata": {},
   "source": [
    "### Arrays\n",
    "\n",
    "The return type is one of the most fundamental Julia data types: an array"
   ]
  },
  {
   "cell_type": "code",
   "execution_count": 5,
   "id": "2bd7411c",
   "metadata": {
    "hide-output": false
   },
   "outputs": [
    {
     "data": {
      "text/plain": [
       "Vector{Float64}\u001b[90m (alias for \u001b[39m\u001b[90mArray{Float64, 1}\u001b[39m\u001b[90m)\u001b[39m"
      ]
     },
     "metadata": {},
     "output_type": "display_data"
    }
   ],
   "source": [
    "typeof(ep)"
   ]
  },
  {
   "cell_type": "code",
   "execution_count": 6,
   "id": "3e675f89",
   "metadata": {
    "hide-output": false
   },
   "outputs": [
    {
     "data": {
      "text/plain": [
       "5-element Vector{Float64}:\n",
       "  0.002615248790466724\n",
       " -0.7830324845206775\n",
       " -1.7522311632495278\n",
       "  1.559156256803483\n",
       "  0.8959937724390274"
      ]
     },
     "metadata": {},
     "output_type": "display_data"
    }
   ],
   "source": [
    "ep[1:5]"
   ]
  },
  {
   "cell_type": "markdown",
   "id": "2a4714a7",
   "metadata": {},
   "source": [
    "The information from `typeof()` tells us that `ep` is an array of 64 bit floating point values, of dimension 1.\n",
    "\n",
    "In Julia, one-dimensional arrays are interpreted as column vectors for purposes of linear algebra.\n",
    "\n",
    "The `ep[1:5]` returns an array of the first 5 elements of `ep`.\n",
    "\n",
    "Notice from the above that\n",
    "\n",
    "- array indices start at 1 (like MATLAB and Fortran, but unlike Python and C)  \n",
    "- array elements are referenced using square brackets (unlike MATLAB and Fortran)  \n",
    "\n",
    "\n",
    "To get **help and examples** in Jupyter or other julia editors, use the `?` before a function name or syntax."
   ]
  },
  {
   "cell_type": "code",
   "execution_count": 7,
   "id": "793bf61f",
   "metadata": {
    "hide-output": false
   },
   "outputs": [
    {
     "ename": "Base.Meta.ParseError",
     "evalue": "ParseError:\n# Error @ c:\\Users\\chadi\\OneDrive - Handelshögskolan i Stockholm\\GitHub\\lecture-julia.notebooks\\getting_started_julia\\julia_by_example.ipynb:1:1\n?typeof\n╙ ── not a unary operator",
     "output_type": "error",
     "traceback": [
      "ParseError:\n",
      "# Error @ c:\\Users\\chadi\\OneDrive - Handelshögskolan i Stockholm\\GitHub\\lecture-julia.notebooks\\getting_started_julia\\julia_by_example.ipynb:1:1\n",
      "?typeof\n",
      "╙ ── not a unary operator\n",
      "\n",
      "Stacktrace:\n",
      " [1] top-level scope\n",
      "   @ c:\\Users\\chadi\\OneDrive - Handelshögskolan i Stockholm\\GitHub\\lecture-julia.notebooks\\getting_started_julia\\julia_by_example.ipynb:1"
     ]
    }
   ],
   "source": [
    "?typeof\n",
    "\n",
    "search: typeof typejoin TypeError\n",
    "\n",
    "Get the concrete type of x.\n",
    "\n",
    "Examples\n",
    "\n",
    "julia> a = 1//2;\n",
    "\n",
    "julia> typeof(a)\n",
    "Rational{Int64}\n",
    "\n",
    "julia> M = [1 2; 3.5 4];\n",
    "\n",
    "julia> typeof(M)\n",
    "Array{Float64,2}"
   ]
  },
  {
   "cell_type": "markdown",
   "id": "91f6b796",
   "metadata": {},
   "source": [
    "### For Loops\n",
    "\n",
    "Although there’s no need in terms of what we wanted to achieve with our\n",
    "program, for the sake of learning syntax let’s rewrite our program to use a\n",
    "`for` loop for generating the data.\n",
    "\n",
    ">**Note**\n",
    ">\n",
    ">The rules for variables accessed in `for` and `while` loops can be sensitive to how they are used (and variables can sometimes require a `global` as part of the declaration).  We strongly advise you to avoid top level (i.e. outside of functions) `for` and `while` loops when working with `.jl`.  This scoping issue does not apply when used within functions, and will not be seen in the REPL or Jupyter notebooks.\n",
    "\n",
    "Starting with the most direct version, and pretending we are in a world where `randn` can only return a single value"
   ]
  },
  {
   "cell_type": "code",
   "execution_count": 8,
   "id": "e7518280",
   "metadata": {
    "hide-output": false
   },
   "outputs": [],
   "source": [
    "# poor style\n",
    "n = 100\n",
    "ep = zeros(n)\n",
    "for i in 1:n\n",
    "    ep[i] = randn()\n",
    "end"
   ]
  },
  {
   "cell_type": "markdown",
   "id": "0ff4b8cc",
   "metadata": {},
   "source": [
    "Here we first declared `ep` to be a vector of `n` numbers, initialized by the floating point `0.0`.\n",
    "\n",
    "The `for` loop then populates this array by successive calls to `randn()`.\n",
    "\n",
    "Like all code blocks in Julia, the end of the `for` loop code block (which is just one line here) is indicated by the keyword `end`.\n",
    "\n",
    "The word `in` from the `for` loop can be replaced by either `∈` or `=`.\n",
    "\n",
    "The index variable is looped over for all integers from `1:n` – but this does not actually create a vector of those indices.\n",
    "\n",
    "Instead, it creates an **iterator** that is looped over – in this case the **range** of integers from `1` to `n`.\n",
    "\n",
    "While this example successfully fills in `ep` with the correct values, it is very indirect as the connection between the index `i` and the `ep` vector is unclear.\n",
    "\n",
    "To fix this, use `eachindex`"
   ]
  },
  {
   "cell_type": "code",
   "execution_count": 9,
   "id": "b7456752",
   "metadata": {
    "hide-output": false
   },
   "outputs": [],
   "source": [
    "# better style\n",
    "n = 100\n",
    "ep = zeros(n)\n",
    "for i in eachindex(ep)\n",
    "    ep[i] = randn()\n",
    "end"
   ]
  },
  {
   "cell_type": "markdown",
   "id": "dc959f0c",
   "metadata": {},
   "source": [
    "Here, `eachindex(ep)` returns an iterator of indices which can be used to access `ep`.\n",
    "\n",
    "While iterators are memory efficient because the elements are generated on the fly rather than stored in memory, the main benefit is (1) it can lead to code which is clearer and less prone to typos; and (2) it allows the compiler flexibility to creatively generate fast code.\n",
    "\n",
    "In Julia you can also loop directly over arrays themselves, like so"
   ]
  },
  {
   "cell_type": "code",
   "execution_count": 10,
   "id": "b747cb35",
   "metadata": {
    "hide-output": false
   },
   "outputs": [
    {
     "data": {
      "text/plain": [
       "-0.14504677007517744"
      ]
     },
     "metadata": {},
     "output_type": "display_data"
    }
   ],
   "source": [
    "ep_sum = 0.0 # careful to use 0.0 here, instead of 0\n",
    "m = 5\n",
    "for ep_val in ep[1:m]\n",
    "    ep_sum = ep_sum + ep_val\n",
    "end\n",
    "ep_mean = ep_sum / m"
   ]
  },
  {
   "cell_type": "markdown",
   "id": "0b86bf9c",
   "metadata": {},
   "source": [
    "where `ep[1:m]` returns the elements of the vector at indices `1` to `m`.\n",
    "\n",
    "Of course, in Julia there are built in functions to perform this calculation which we can compare against"
   ]
  },
  {
   "cell_type": "code",
   "execution_count": 11,
   "id": "b0b5b14a",
   "metadata": {
    "hide-output": false
   },
   "outputs": [
    {
     "data": {
      "text/plain": [
       "true"
      ]
     },
     "metadata": {},
     "output_type": "display_data"
    }
   ],
   "source": [
    "ep_mean ≈ mean(ep[1:m])\n",
    "isapprox(ep_mean, mean(ep[1:m])) # equivalent\n",
    "ep_mean ≈ sum(ep[1:m]) / m"
   ]
  },
  {
   "cell_type": "markdown",
   "id": "c253efde",
   "metadata": {},
   "source": [
    "In these examples, note the use of `≈` or `isapprox` to test equality, rather than `==`, which is appropriate for integers and other types.\n",
    "\n",
    "Approximately equal, typed with `\\approx<TAB>`, is the appropriate way to compare any floating point numbers due to the standard issues of [floating point math](https://floating-point-gui.de/).  Note that `x ≈ y` is the same as `isapprox(x, y)`.\n",
    "\n",
    "\n",
    "<a id='user-defined-functions'></a>"
   ]
  },
  {
   "cell_type": "markdown",
   "id": "2ce3d6cf",
   "metadata": {},
   "source": [
    "### User-Defined Functions\n",
    "\n",
    "For the sake of the exercise, let’s go back to the `for` loop but restructure our program so that generation of random variables takes place within a user-defined function.\n",
    "\n",
    "To make things more interesting, instead of directly plotting the draws from the distribution, let’s plot the squares of these draws"
   ]
  },
  {
   "cell_type": "code",
   "execution_count": 12,
   "id": "7d586527",
   "metadata": {
    "hide-output": false
   },
   "outputs": [
    {
     "data": {
      "image/png": "[encoded data removed]",
      "image/svg+xml": [
       "<?xml version=\"1.0\" encoding=\"utf-8\"?>\n",
       "<svg xmlns=\"http://www.w3.org/2000/svg\" xmlns:xlink=\"http://www.w3.org/1999/xlink\" width=\"600\" height=\"400\" viewBox=\"0 0 2400 1600\">\n",
       "<defs>\n",
       "  <clipPath id=\"clip850\">\n",
       "    <rect x=\"0\" y=\"0\" width=\"2400\" height=\"1600\"/>\n",
       "  </clipPath>\n",
       "</defs>\n",
       "<path clip-path=\"url(#clip850)\" d=\"M0 1600 L2400 1600 L2400 0 L0 0  Z\" fill=\"#ffffff\" fill-rule=\"evenodd\" fill-opacity=\"1\"/>\n",
       "<defs>\n",
       "  <clipPath id=\"clip851\">\n",
       "    <rect x=\"480\" y=\"0\" width=\"1681\" height=\"1600\"/>\n",
       "  </clipPath>\n",
       "</defs>\n",
       "<path clip-path=\"url(#clip850)\" d=\"M110.881 1486.45 L2352.76 1486.45 L2352.76 47.2441 L110.881 47.2441  Z\" fill=\"#ffffff\" fill-rule=\"evenodd\" fill-opacity=\"1\"/>\n",
       "<defs>\n",
       "  <clipPath id=\"clip852\">\n",
       "    <rect x=\"110\" y=\"47\" width=\"2243\" height=\"1440\"/>\n",
       "  </clipPath>\n",
       "</defs>\n",
       "<polyline clip-path=\"url(#clip852)\" style=\"stroke:#000000; stroke-linecap:round; stroke-linejoin:round; stroke-width:2; stroke-opacity:0.1; fill:none\" points=\"409.328,1486.45 409.328,47.2441 \"/>\n",
       "<polyline clip-path=\"url(#clip852)\" style=\"stroke:#000000; stroke-linecap:round; stroke-linejoin:round; stroke-width:2; stroke-opacity:0.1; fill:none\" points=\"879.322,1486.45 879.322,47.2441 \"/>\n",
       "<polyline clip-path=\"url(#clip852)\" style=\"stroke:#000000; stroke-linecap:round; stroke-linejoin:round; stroke-width:2; stroke-opacity:0.1; fill:none\" points=\"1349.32,1486.45 1349.32,47.2441 \"/>\n",
       "<polyline clip-path=\"url(#clip852)\" style=\"stroke:#000000; stroke-linecap:round; stroke-linejoin:round; stroke-width:2; stroke-opacity:0.1; fill:none\" points=\"1819.31,1486.45 1819.31,47.2441 \"/>\n",
       "<polyline clip-path=\"url(#clip852)\" style=\"stroke:#000000; stroke-linecap:round; stroke-linejoin:round; stroke-width:2; stroke-opacity:0.1; fill:none\" points=\"2289.31,1486.45 2289.31,47.2441 \"/>\n",
       "<polyline clip-path=\"url(#clip850)\" style=\"stroke:#000000; stroke-linecap:round; stroke-linejoin:round; stroke-width:4; stroke-opacity:1; fill:none\" points=\"110.881,1486.45 2352.76,1486.45 \"/>\n",
       "<polyline clip-path=\"url(#clip850)\" style=\"stroke:#000000; stroke-linecap:round; stroke-linejoin:round; stroke-width:4; stroke-opacity:1; fill:none\" points=\"409.328,1486.45 409.328,1467.55 \"/>\n",
       "<polyline clip-path=\"url(#clip850)\" style=\"stroke:#000000; stroke-linecap:round; stroke-linejoin:round; stroke-width:4; stroke-opacity:1; fill:none\" points=\"879.322,1486.45 879.322,1467.55 \"/>\n",
       "<polyline clip-path=\"url(#clip850)\" style=\"stroke:#000000; stroke-linecap:round; stroke-linejoin:round; stroke-width:4; stroke-opacity:1; fill:none\" points=\"1349.32,1486.45 1349.32,1467.55 \"/>\n",
       "<polyline clip-path=\"url(#clip850)\" style=\"stroke:#000000; stroke-linecap:round; stroke-linejoin:round; stroke-width:4; stroke-opacity:1; fill:none\" points=\"1819.31,1486.45 1819.31,1467.55 \"/>\n",
       "<polyline clip-path=\"url(#clip850)\" style=\"stroke:#000000; stroke-linecap:round; stroke-linejoin:round; stroke-width:4; stroke-opacity:1; fill:none\" points=\"2289.31,1486.45 2289.31,1467.55 \"/>\n",
       "<path clip-path=\"url(#clip850)\" d=\"M403.98 1544.91 L420.3 1544.91 L420.3 1548.85 L398.355 1548.85 L398.355 1544.91 Q401.017 1542.16 405.601 1537.53 Q410.207 1532.88 411.388 1531.53 Q413.633 1529.01 414.513 1527.27 Q415.415 1525.51 415.415 1523.82 Q415.415 1521.07 413.471 1519.33 Q411.55 1517.6 408.448 1517.6 Q406.249 1517.6 403.795 1518.36 Q401.365 1519.13 398.587 1520.68 L398.587 1515.95 Q401.411 1514.82 403.865 1514.24 Q406.318 1513.66 408.355 1513.66 Q413.726 1513.66 416.92 1516.35 Q420.115 1519.03 420.115 1523.52 Q420.115 1525.65 419.304 1527.57 Q418.517 1529.47 416.411 1532.07 Q415.832 1532.74 412.73 1535.95 Q409.628 1539.15 403.98 1544.91 Z\" fill=\"#000000\" fill-rule=\"nonzero\" fill-opacity=\"1\" /><path clip-path=\"url(#clip850)\" d=\"M882.332 1518.36 L870.526 1536.81 L882.332 1536.81 L882.332 1518.36 M881.105 1514.29 L886.984 1514.29 L886.984 1536.81 L891.915 1536.81 L891.915 1540.7 L886.984 1540.7 L886.984 1548.85 L882.332 1548.85 L882.332 1540.7 L866.73 1540.7 L866.73 1536.19 L881.105 1514.29 Z\" fill=\"#000000\" fill-rule=\"nonzero\" fill-opacity=\"1\" /><path clip-path=\"url(#clip850)\" d=\"M1349.72 1529.7 Q1346.57 1529.7 1344.72 1531.86 Q1342.89 1534.01 1342.89 1537.76 Q1342.89 1541.49 1344.72 1543.66 Q1346.57 1545.82 1349.72 1545.82 Q1352.87 1545.82 1354.7 1543.66 Q1356.55 1541.49 1356.55 1537.76 Q1356.55 1534.01 1354.7 1531.86 Q1352.87 1529.7 1349.72 1529.7 M1359 1515.05 L1359 1519.31 Q1357.25 1518.48 1355.44 1518.04 Q1353.66 1517.6 1351.9 1517.6 Q1347.27 1517.6 1344.81 1520.72 Q1342.38 1523.85 1342.04 1530.17 Q1343.4 1528.15 1345.46 1527.09 Q1347.52 1526 1350 1526 Q1355.21 1526 1358.22 1529.17 Q1361.25 1532.32 1361.25 1537.76 Q1361.25 1543.08 1358.1 1546.3 Q1354.95 1549.52 1349.72 1549.52 Q1343.73 1549.52 1340.56 1544.94 Q1337.38 1540.33 1337.38 1531.6 Q1337.38 1523.41 1341.27 1518.55 Q1345.16 1513.66 1351.71 1513.66 Q1353.47 1513.66 1355.25 1514.01 Q1357.06 1514.36 1359 1515.05 Z\" fill=\"#000000\" fill-rule=\"nonzero\" fill-opacity=\"1\" /><path clip-path=\"url(#clip850)\" d=\"M1819.31 1532.44 Q1815.98 1532.44 1814.06 1534.22 Q1812.16 1536 1812.16 1539.13 Q1812.16 1542.25 1814.06 1544.03 Q1815.98 1545.82 1819.31 1545.82 Q1822.65 1545.82 1824.57 1544.03 Q1826.49 1542.23 1826.49 1539.13 Q1826.49 1536 1824.57 1534.22 Q1822.67 1532.44 1819.31 1532.44 M1814.64 1530.45 Q1811.63 1529.7 1809.94 1527.64 Q1808.27 1525.58 1808.27 1522.62 Q1808.27 1518.48 1811.21 1516.07 Q1814.17 1513.66 1819.31 1513.66 Q1824.47 1513.66 1827.41 1516.07 Q1830.35 1518.48 1830.35 1522.62 Q1830.35 1525.58 1828.66 1527.64 Q1827 1529.7 1824.01 1530.45 Q1827.39 1531.23 1829.27 1533.52 Q1831.16 1535.82 1831.16 1539.13 Q1831.16 1544.15 1828.08 1546.83 Q1825.03 1549.52 1819.31 1549.52 Q1813.59 1549.52 1810.52 1546.83 Q1807.46 1544.15 1807.46 1539.13 Q1807.46 1535.82 1809.36 1533.52 Q1811.26 1531.23 1814.64 1530.45 M1812.92 1523.06 Q1812.92 1525.75 1814.59 1527.25 Q1816.28 1528.76 1819.31 1528.76 Q1822.32 1528.76 1824.01 1527.25 Q1825.72 1525.75 1825.72 1523.06 Q1825.72 1520.38 1824.01 1518.87 Q1822.32 1517.37 1819.31 1517.37 Q1816.28 1517.37 1814.59 1518.87 Q1812.92 1520.38 1812.92 1523.06 Z\" fill=\"#000000\" fill-rule=\"nonzero\" fill-opacity=\"1\" /><path clip-path=\"url(#clip850)\" d=\"M2263.99 1544.91 L2271.63 1544.91 L2271.63 1518.55 L2263.32 1520.21 L2263.32 1515.95 L2271.59 1514.29 L2276.26 1514.29 L2276.26 1544.91 L2283.9 1544.91 L2283.9 1548.85 L2263.99 1548.85 L2263.99 1544.91 Z\" fill=\"#000000\" fill-rule=\"nonzero\" fill-opacity=\"1\" /><path clip-path=\"url(#clip850)\" d=\"M2303.35 1517.37 Q2299.73 1517.37 2297.91 1520.93 Q2296.1 1524.47 2296.1 1531.6 Q2296.1 1538.71 2297.91 1542.27 Q2299.73 1545.82 2303.35 1545.82 Q2306.98 1545.82 2308.79 1542.27 Q2310.61 1538.71 2310.61 1531.6 Q2310.61 1524.47 2308.79 1520.93 Q2306.98 1517.37 2303.35 1517.37 M2303.35 1513.66 Q2309.16 1513.66 2312.21 1518.27 Q2315.29 1522.85 2315.29 1531.6 Q2315.29 1540.33 2312.21 1544.94 Q2309.16 1549.52 2303.35 1549.52 Q2297.54 1549.52 2294.46 1544.94 Q2291.4 1540.33 2291.4 1531.6 Q2291.4 1522.85 2294.46 1518.27 Q2297.54 1513.66 2303.35 1513.66 Z\" fill=\"#000000\" fill-rule=\"nonzero\" fill-opacity=\"1\" /><polyline clip-path=\"url(#clip852)\" style=\"stroke:#000000; stroke-linecap:round; stroke-linejoin:round; stroke-width:2; stroke-opacity:0.1; fill:none\" points=\"110.881,1447.62 2352.76,1447.62 \"/>\n",
       "<polyline clip-path=\"url(#clip852)\" style=\"stroke:#000000; stroke-linecap:round; stroke-linejoin:round; stroke-width:2; stroke-opacity:0.1; fill:none\" points=\"110.881,983.594 2352.76,983.594 \"/>\n",
       "<polyline clip-path=\"url(#clip852)\" style=\"stroke:#000000; stroke-linecap:round; stroke-linejoin:round; stroke-width:2; stroke-opacity:0.1; fill:none\" points=\"110.881,519.569 2352.76,519.569 \"/>\n",
       "<polyline clip-path=\"url(#clip852)\" style=\"stroke:#000000; stroke-linecap:round; stroke-linejoin:round; stroke-width:2; stroke-opacity:0.1; fill:none\" points=\"110.881,55.5444 2352.76,55.5444 \"/>\n",
       "<polyline clip-path=\"url(#clip850)\" style=\"stroke:#000000; stroke-linecap:round; stroke-linejoin:round; stroke-width:4; stroke-opacity:1; fill:none\" points=\"110.881,1486.45 110.881,47.2441 \"/>\n",
       "<polyline clip-path=\"url(#clip850)\" style=\"stroke:#000000; stroke-linecap:round; stroke-linejoin:round; stroke-width:4; stroke-opacity:1; fill:none\" points=\"110.881,1447.62 129.779,1447.62 \"/>\n",
       "<polyline clip-path=\"url(#clip850)\" style=\"stroke:#000000; stroke-linecap:round; stroke-linejoin:round; stroke-width:4; stroke-opacity:1; fill:none\" points=\"110.881,983.594 129.779,983.594 \"/>\n",
       "<polyline clip-path=\"url(#clip850)\" style=\"stroke:#000000; stroke-linecap:round; stroke-linejoin:round; stroke-width:4; stroke-opacity:1; fill:none\" points=\"110.881,519.569 129.779,519.569 \"/>\n",
       "<polyline clip-path=\"url(#clip850)\" style=\"stroke:#000000; stroke-linecap:round; stroke-linejoin:round; stroke-width:4; stroke-opacity:1; fill:none\" points=\"110.881,55.5444 129.779,55.5444 \"/>\n",
       "<path clip-path=\"url(#clip850)\" d=\"M62.9365 1433.42 Q59.3254 1433.42 57.4967 1436.98 Q55.6912 1440.52 55.6912 1447.65 Q55.6912 1454.76 57.4967 1458.33 Q59.3254 1461.87 62.9365 1461.87 Q66.5707 1461.87 68.3763 1458.33 Q70.205 1454.76 70.205 1447.65 Q70.205 1440.52 68.3763 1436.98 Q66.5707 1433.42 62.9365 1433.42 M62.9365 1429.71 Q68.7467 1429.71 71.8022 1434.32 Q74.8809 1438.9 74.8809 1447.65 Q74.8809 1456.38 71.8022 1460.99 Q68.7467 1465.57 62.9365 1465.57 Q57.1264 1465.57 54.0477 1460.99 Q50.9921 1456.38 50.9921 1447.65 Q50.9921 1438.9 54.0477 1434.32 Q57.1264 1429.71 62.9365 1429.71 Z\" fill=\"#000000\" fill-rule=\"nonzero\" fill-opacity=\"1\" /><path clip-path=\"url(#clip850)\" d=\"M54.9736 996.939 L62.6124 996.939 L62.6124 970.574 L54.3023 972.24 L54.3023 967.981 L62.5661 966.314 L67.242 966.314 L67.242 996.939 L74.8809 996.939 L74.8809 1000.87 L54.9736 1000.87 L54.9736 996.939 Z\" fill=\"#000000\" fill-rule=\"nonzero\" fill-opacity=\"1\" /><path clip-path=\"url(#clip850)\" d=\"M58.5615 532.914 L74.8809 532.914 L74.8809 536.849 L52.9366 536.849 L52.9366 532.914 Q55.5986 530.16 60.1819 525.53 Q64.7883 520.877 65.9689 519.535 Q68.2143 517.012 69.0939 515.275 Q69.9967 513.516 69.9967 511.826 Q69.9967 509.072 68.0522 507.336 Q66.1309 505.6 63.0291 505.6 Q60.83 505.6 58.3763 506.363 Q55.9458 507.127 53.168 508.678 L53.168 503.956 Q55.9921 502.822 58.4458 502.243 Q60.8995 501.664 62.9365 501.664 Q68.3068 501.664 71.5013 504.35 Q74.6957 507.035 74.6957 511.525 Q74.6957 513.655 73.8855 515.576 Q73.0985 517.475 70.992 520.067 Q70.4133 520.738 67.3115 523.956 Q64.2096 527.15 58.5615 532.914 Z\" fill=\"#000000\" fill-rule=\"nonzero\" fill-opacity=\"1\" /><path clip-path=\"url(#clip850)\" d=\"M67.7513 54.1903 Q71.1078 54.9079 72.9827 57.1764 Q74.8809 59.4449 74.8809 62.7782 Q74.8809 67.8939 71.3624 70.6948 Q67.8439 73.4957 61.3624 73.4957 Q59.1865 73.4957 56.8717 73.0559 Q54.5801 72.6393 52.1264 71.7828 L52.1264 67.2689 Q54.0708 68.4032 56.3856 68.9819 Q58.7004 69.5606 61.2236 69.5606 Q65.6217 69.5606 67.9133 67.8245 Q70.2281 66.0884 70.2281 62.7782 Q70.2281 59.7227 68.0754 58.0097 Q65.9457 56.2736 62.1263 56.2736 L58.0986 56.2736 L58.0986 52.431 L62.3115 52.431 Q65.7606 52.431 67.5893 51.0653 Q69.418 49.6764 69.418 47.0838 Q69.418 44.4218 67.5198 43.0098 Q65.6448 41.5746 62.1263 41.5746 Q60.205 41.5746 58.006 41.9913 Q55.8069 42.4079 53.168 43.2876 L53.168 39.1209 Q55.8301 38.3802 58.1449 38.0098 Q60.4828 37.6394 62.543 37.6394 Q67.867 37.6394 70.9689 40.07 Q74.0707 42.4774 74.0707 46.5977 Q74.0707 49.4681 72.4272 51.4588 Q70.7837 53.4264 67.7513 54.1903 Z\" fill=\"#000000\" fill-rule=\"nonzero\" fill-opacity=\"1\" /><polyline clip-path=\"url(#clip852)\" style=\"stroke:#009af9; stroke-linecap:round; stroke-linejoin:round; stroke-width:4; stroke-opacity:1; fill:none\" points=\"174.33,87.9763 409.328,1012.78 644.325,1445.72 879.322,225.405 1114.32,1186.62 1349.32,1431.4 1584.31,1360.59 1819.31,460.3 2054.31,1127.37 2289.31,1439.46 \"/>\n",
       "<path clip-path=\"url(#clip850)\" d=\"M2001.41 198.898 L2278.03 198.898 L2278.03 95.2176 L2001.41 95.2176  Z\" fill=\"#ffffff\" fill-rule=\"evenodd\" fill-opacity=\"1\"/>\n",
       "<polyline clip-path=\"url(#clip850)\" style=\"stroke:#000000; stroke-linecap:round; stroke-linejoin:round; stroke-width:4; stroke-opacity:1; fill:none\" points=\"2001.41,198.898 2278.03,198.898 2278.03,95.2176 2001.41,95.2176 2001.41,198.898 \"/>\n",
       "<polyline clip-path=\"url(#clip850)\" style=\"stroke:#009af9; stroke-linecap:round; stroke-linejoin:round; stroke-width:4; stroke-opacity:1; fill:none\" points=\"2026.32,147.058 2175.78,147.058 \"/>\n",
       "<path clip-path=\"url(#clip850)\" d=\"M2214.53 166.745 Q2212.72 171.375 2211.01 172.787 Q2209.3 174.199 2206.43 174.199 L2203.02 174.199 L2203.02 170.634 L2205.52 170.634 Q2207.28 170.634 2208.26 169.8 Q2209.23 168.967 2210.41 165.865 L2211.17 163.921 L2200.69 138.412 L2205.2 138.412 L2213.3 158.689 L2221.4 138.412 L2225.92 138.412 L2214.53 166.745 Z\" fill=\"#000000\" fill-rule=\"nonzero\" fill-opacity=\"1\" /><path clip-path=\"url(#clip850)\" d=\"M2233.21 160.402 L2240.85 160.402 L2240.85 134.037 L2232.54 135.703 L2232.54 131.444 L2240.8 129.778 L2245.48 129.778 L2245.48 160.402 L2253.12 160.402 L2253.12 164.338 L2233.21 164.338 L2233.21 160.402 Z\" fill=\"#000000\" fill-rule=\"nonzero\" fill-opacity=\"1\" /></svg>\n"
      ],
      "text/html": [
       "<?xml version=\"1.0\" encoding=\"utf-8\"?>\n",
       "<svg xmlns=\"http://www.w3.org/2000/svg\" xmlns:xlink=\"http://www.w3.org/1999/xlink\" width=\"600\" height=\"400\" viewBox=\"0 0 2400 1600\">\n",
       "<defs>\n",
       "  <clipPath id=\"clip900\">\n",
       "    <rect x=\"0\" y=\"0\" width=\"2400\" height=\"1600\"/>\n",
       "  </clipPath>\n",
       "</defs>\n",
       "<path clip-path=\"url(#clip900)\" d=\"M0 1600 L2400 1600 L2400 0 L0 0  Z\" fill=\"#ffffff\" fill-rule=\"evenodd\" fill-opacity=\"1\"/>\n",
       "<defs>\n",
       "  <clipPath id=\"clip901\">\n",
       "    <rect x=\"480\" y=\"0\" width=\"1681\" height=\"1600\"/>\n",
       "  </clipPath>\n",
       "</defs>\n",
       "<path clip-path=\"url(#clip900)\" d=\"M110.881 1486.45 L2352.76 1486.45 L2352.76 47.2441 L110.881 47.2441  Z\" fill=\"#ffffff\" fill-rule=\"evenodd\" fill-opacity=\"1\"/>\n",
       "<defs>\n",
       "  <clipPath id=\"clip902\">\n",
       "    <rect x=\"110\" y=\"47\" width=\"2243\" height=\"1440\"/>\n",
       "  </clipPath>\n",
       "</defs>\n",
       "<polyline clip-path=\"url(#clip902)\" style=\"stroke:#000000; stroke-linecap:round; stroke-linejoin:round; stroke-width:2; stroke-opacity:0.1; fill:none\" points=\"409.328,1486.45 409.328,47.2441 \"/>\n",
       "<polyline clip-path=\"url(#clip902)\" style=\"stroke:#000000; stroke-linecap:round; stroke-linejoin:round; stroke-width:2; stroke-opacity:0.1; fill:none\" points=\"879.322,1486.45 879.322,47.2441 \"/>\n",
       "<polyline clip-path=\"url(#clip902)\" style=\"stroke:#000000; stroke-linecap:round; stroke-linejoin:round; stroke-width:2; stroke-opacity:0.1; fill:none\" points=\"1349.32,1486.45 1349.32,47.2441 \"/>\n",
       "<polyline clip-path=\"url(#clip902)\" style=\"stroke:#000000; stroke-linecap:round; stroke-linejoin:round; stroke-width:2; stroke-opacity:0.1; fill:none\" points=\"1819.31,1486.45 1819.31,47.2441 \"/>\n",
       "<polyline clip-path=\"url(#clip902)\" style=\"stroke:#000000; stroke-linecap:round; stroke-linejoin:round; stroke-width:2; stroke-opacity:0.1; fill:none\" points=\"2289.31,1486.45 2289.31,47.2441 \"/>\n",
       "<polyline clip-path=\"url(#clip900)\" style=\"stroke:#000000; stroke-linecap:round; stroke-linejoin:round; stroke-width:4; stroke-opacity:1; fill:none\" points=\"110.881,1486.45 2352.76,1486.45 \"/>\n",
       "<polyline clip-path=\"url(#clip900)\" style=\"stroke:#000000; stroke-linecap:round; stroke-linejoin:round; stroke-width:4; stroke-opacity:1; fill:none\" points=\"409.328,1486.45 409.328,1467.55 \"/>\n",
       "<polyline clip-path=\"url(#clip900)\" style=\"stroke:#000000; stroke-linecap:round; stroke-linejoin:round; stroke-width:4; stroke-opacity:1; fill:none\" points=\"879.322,1486.45 879.322,1467.55 \"/>\n",
       "<polyline clip-path=\"url(#clip900)\" style=\"stroke:#000000; stroke-linecap:round; stroke-linejoin:round; stroke-width:4; stroke-opacity:1; fill:none\" points=\"1349.32,1486.45 1349.32,1467.55 \"/>\n",
       "<polyline clip-path=\"url(#clip900)\" style=\"stroke:#000000; stroke-linecap:round; stroke-linejoin:round; stroke-width:4; stroke-opacity:1; fill:none\" points=\"1819.31,1486.45 1819.31,1467.55 \"/>\n",
       "<polyline clip-path=\"url(#clip900)\" style=\"stroke:#000000; stroke-linecap:round; stroke-linejoin:round; stroke-width:4; stroke-opacity:1; fill:none\" points=\"2289.31,1486.45 2289.31,1467.55 \"/>\n",
       "<path clip-path=\"url(#clip900)\" d=\"M403.98 1544.91 L420.3 1544.91 L420.3 1548.85 L398.355 1548.85 L398.355 1544.91 Q401.017 1542.16 405.601 1537.53 Q410.207 1532.88 411.388 1531.53 Q413.633 1529.01 414.513 1527.27 Q415.415 1525.51 415.415 1523.82 Q415.415 1521.07 413.471 1519.33 Q411.55 1517.6 408.448 1517.6 Q406.249 1517.6 403.795 1518.36 Q401.365 1519.13 398.587 1520.68 L398.587 1515.95 Q401.411 1514.82 403.865 1514.24 Q406.318 1513.66 408.355 1513.66 Q413.726 1513.66 416.92 1516.35 Q420.115 1519.03 420.115 1523.52 Q420.115 1525.65 419.304 1527.57 Q418.517 1529.47 416.411 1532.07 Q415.832 1532.74 412.73 1535.95 Q409.628 1539.15 403.98 1544.91 Z\" fill=\"#000000\" fill-rule=\"nonzero\" fill-opacity=\"1\" /><path clip-path=\"url(#clip900)\" d=\"M882.332 1518.36 L870.526 1536.81 L882.332 1536.81 L882.332 1518.36 M881.105 1514.29 L886.984 1514.29 L886.984 1536.81 L891.915 1536.81 L891.915 1540.7 L886.984 1540.7 L886.984 1548.85 L882.332 1548.85 L882.332 1540.7 L866.73 1540.7 L866.73 1536.19 L881.105 1514.29 Z\" fill=\"#000000\" fill-rule=\"nonzero\" fill-opacity=\"1\" /><path clip-path=\"url(#clip900)\" d=\"M1349.72 1529.7 Q1346.57 1529.7 1344.72 1531.86 Q1342.89 1534.01 1342.89 1537.76 Q1342.89 1541.49 1344.72 1543.66 Q1346.57 1545.82 1349.72 1545.82 Q1352.87 1545.82 1354.7 1543.66 Q1356.55 1541.49 1356.55 1537.76 Q1356.55 1534.01 1354.7 1531.86 Q1352.87 1529.7 1349.72 1529.7 M1359 1515.05 L1359 1519.31 Q1357.25 1518.48 1355.44 1518.04 Q1353.66 1517.6 1351.9 1517.6 Q1347.27 1517.6 1344.81 1520.72 Q1342.38 1523.85 1342.04 1530.17 Q1343.4 1528.15 1345.46 1527.09 Q1347.52 1526 1350 1526 Q1355.21 1526 1358.22 1529.17 Q1361.25 1532.32 1361.25 1537.76 Q1361.25 1543.08 1358.1 1546.3 Q1354.95 1549.52 1349.72 1549.52 Q1343.73 1549.52 1340.56 1544.94 Q1337.38 1540.33 1337.38 1531.6 Q1337.38 1523.41 1341.27 1518.55 Q1345.16 1513.66 1351.71 1513.66 Q1353.47 1513.66 1355.25 1514.01 Q1357.06 1514.36 1359 1515.05 Z\" fill=\"#000000\" fill-rule=\"nonzero\" fill-opacity=\"1\" /><path clip-path=\"url(#clip900)\" d=\"M1819.31 1532.44 Q1815.98 1532.44 1814.06 1534.22 Q1812.16 1536 1812.16 1539.13 Q1812.16 1542.25 1814.06 1544.03 Q1815.98 1545.82 1819.31 1545.82 Q1822.65 1545.82 1824.57 1544.03 Q1826.49 1542.23 1826.49 1539.13 Q1826.49 1536 1824.57 1534.22 Q1822.67 1532.44 1819.31 1532.44 M1814.64 1530.45 Q1811.63 1529.7 1809.94 1527.64 Q1808.27 1525.58 1808.27 1522.62 Q1808.27 1518.48 1811.21 1516.07 Q1814.17 1513.66 1819.31 1513.66 Q1824.47 1513.66 1827.41 1516.07 Q1830.35 1518.48 1830.35 1522.62 Q1830.35 1525.58 1828.66 1527.64 Q1827 1529.7 1824.01 1530.45 Q1827.39 1531.23 1829.27 1533.52 Q1831.16 1535.82 1831.16 1539.13 Q1831.16 1544.15 1828.08 1546.83 Q1825.03 1549.52 1819.31 1549.52 Q1813.59 1549.52 1810.52 1546.83 Q1807.46 1544.15 1807.46 1539.13 Q1807.46 1535.82 1809.36 1533.52 Q1811.26 1531.23 1814.64 1530.45 M1812.92 1523.06 Q1812.92 1525.75 1814.59 1527.25 Q1816.28 1528.76 1819.31 1528.76 Q1822.32 1528.76 1824.01 1527.25 Q1825.72 1525.75 1825.72 1523.06 Q1825.72 1520.38 1824.01 1518.87 Q1822.32 1517.37 1819.31 1517.37 Q1816.28 1517.37 1814.59 1518.87 Q1812.92 1520.38 1812.92 1523.06 Z\" fill=\"#000000\" fill-rule=\"nonzero\" fill-opacity=\"1\" /><path clip-path=\"url(#clip900)\" d=\"M2263.99 1544.91 L2271.63 1544.91 L2271.63 1518.55 L2263.32 1520.21 L2263.32 1515.95 L2271.59 1514.29 L2276.26 1514.29 L2276.26 1544.91 L2283.9 1544.91 L2283.9 1548.85 L2263.99 1548.85 L2263.99 1544.91 Z\" fill=\"#000000\" fill-rule=\"nonzero\" fill-opacity=\"1\" /><path clip-path=\"url(#clip900)\" d=\"M2303.35 1517.37 Q2299.73 1517.37 2297.91 1520.93 Q2296.1 1524.47 2296.1 1531.6 Q2296.1 1538.71 2297.91 1542.27 Q2299.73 1545.82 2303.35 1545.82 Q2306.98 1545.82 2308.79 1542.27 Q2310.61 1538.71 2310.61 1531.6 Q2310.61 1524.47 2308.79 1520.93 Q2306.98 1517.37 2303.35 1517.37 M2303.35 1513.66 Q2309.16 1513.66 2312.21 1518.27 Q2315.29 1522.85 2315.29 1531.6 Q2315.29 1540.33 2312.21 1544.94 Q2309.16 1549.52 2303.35 1549.52 Q2297.54 1549.52 2294.46 1544.94 Q2291.4 1540.33 2291.4 1531.6 Q2291.4 1522.85 2294.46 1518.27 Q2297.54 1513.66 2303.35 1513.66 Z\" fill=\"#000000\" fill-rule=\"nonzero\" fill-opacity=\"1\" /><polyline clip-path=\"url(#clip902)\" style=\"stroke:#000000; stroke-linecap:round; stroke-linejoin:round; stroke-width:2; stroke-opacity:0.1; fill:none\" points=\"110.881,1447.62 2352.76,1447.62 \"/>\n",
       "<polyline clip-path=\"url(#clip902)\" style=\"stroke:#000000; stroke-linecap:round; stroke-linejoin:round; stroke-width:2; stroke-opacity:0.1; fill:none\" points=\"110.881,983.594 2352.76,983.594 \"/>\n",
       "<polyline clip-path=\"url(#clip902)\" style=\"stroke:#000000; stroke-linecap:round; stroke-linejoin:round; stroke-width:2; stroke-opacity:0.1; fill:none\" points=\"110.881,519.569 2352.76,519.569 \"/>\n",
       "<polyline clip-path=\"url(#clip902)\" style=\"stroke:#000000; stroke-linecap:round; stroke-linejoin:round; stroke-width:2; stroke-opacity:0.1; fill:none\" points=\"110.881,55.5444 2352.76,55.5444 \"/>\n",
       "<polyline clip-path=\"url(#clip900)\" style=\"stroke:#000000; stroke-linecap:round; stroke-linejoin:round; stroke-width:4; stroke-opacity:1; fill:none\" points=\"110.881,1486.45 110.881,47.2441 \"/>\n",
       "<polyline clip-path=\"url(#clip900)\" style=\"stroke:#000000; stroke-linecap:round; stroke-linejoin:round; stroke-width:4; stroke-opacity:1; fill:none\" points=\"110.881,1447.62 129.779,1447.62 \"/>\n",
       "<polyline clip-path=\"url(#clip900)\" style=\"stroke:#000000; stroke-linecap:round; stroke-linejoin:round; stroke-width:4; stroke-opacity:1; fill:none\" points=\"110.881,983.594 129.779,983.594 \"/>\n",
       "<polyline clip-path=\"url(#clip900)\" style=\"stroke:#000000; stroke-linecap:round; stroke-linejoin:round; stroke-width:4; stroke-opacity:1; fill:none\" points=\"110.881,519.569 129.779,519.569 \"/>\n",
       "<polyline clip-path=\"url(#clip900)\" style=\"stroke:#000000; stroke-linecap:round; stroke-linejoin:round; stroke-width:4; stroke-opacity:1; fill:none\" points=\"110.881,55.5444 129.779,55.5444 \"/>\n",
       "<path clip-path=\"url(#clip900)\" d=\"M62.9365 1433.42 Q59.3254 1433.42 57.4967 1436.98 Q55.6912 1440.52 55.6912 1447.65 Q55.6912 1454.76 57.4967 1458.33 Q59.3254 1461.87 62.9365 1461.87 Q66.5707 1461.87 68.3763 1458.33 Q70.205 1454.76 70.205 1447.65 Q70.205 1440.52 68.3763 1436.98 Q66.5707 1433.42 62.9365 1433.42 M62.9365 1429.71 Q68.7467 1429.71 71.8022 1434.32 Q74.8809 1438.9 74.8809 1447.65 Q74.8809 1456.38 71.8022 1460.99 Q68.7467 1465.57 62.9365 1465.57 Q57.1264 1465.57 54.0477 1460.99 Q50.9921 1456.38 50.9921 1447.65 Q50.9921 1438.9 54.0477 1434.32 Q57.1264 1429.71 62.9365 1429.71 Z\" fill=\"#000000\" fill-rule=\"nonzero\" fill-opacity=\"1\" /><path clip-path=\"url(#clip900)\" d=\"M54.9736 996.939 L62.6124 996.939 L62.6124 970.574 L54.3023 972.24 L54.3023 967.981 L62.5661 966.314 L67.242 966.314 L67.242 996.939 L74.8809 996.939 L74.8809 1000.87 L54.9736 1000.87 L54.9736 996.939 Z\" fill=\"#000000\" fill-rule=\"nonzero\" fill-opacity=\"1\" /><path clip-path=\"url(#clip900)\" d=\"M58.5615 532.914 L74.8809 532.914 L74.8809 536.849 L52.9366 536.849 L52.9366 532.914 Q55.5986 530.16 60.1819 525.53 Q64.7883 520.877 65.9689 519.535 Q68.2143 517.012 69.0939 515.275 Q69.9967 513.516 69.9967 511.826 Q69.9967 509.072 68.0522 507.336 Q66.1309 505.6 63.0291 505.6 Q60.83 505.6 58.3763 506.363 Q55.9458 507.127 53.168 508.678 L53.168 503.956 Q55.9921 502.822 58.4458 502.243 Q60.8995 501.664 62.9365 501.664 Q68.3068 501.664 71.5013 504.35 Q74.6957 507.035 74.6957 511.525 Q74.6957 513.655 73.8855 515.576 Q73.0985 517.475 70.992 520.067 Q70.4133 520.738 67.3115 523.956 Q64.2096 527.15 58.5615 532.914 Z\" fill=\"#000000\" fill-rule=\"nonzero\" fill-opacity=\"1\" /><path clip-path=\"url(#clip900)\" d=\"M67.7513 54.1903 Q71.1078 54.9079 72.9827 57.1764 Q74.8809 59.4449 74.8809 62.7782 Q74.8809 67.8939 71.3624 70.6948 Q67.8439 73.4957 61.3624 73.4957 Q59.1865 73.4957 56.8717 73.0559 Q54.5801 72.6393 52.1264 71.7828 L52.1264 67.2689 Q54.0708 68.4032 56.3856 68.9819 Q58.7004 69.5606 61.2236 69.5606 Q65.6217 69.5606 67.9133 67.8245 Q70.2281 66.0884 70.2281 62.7782 Q70.2281 59.7227 68.0754 58.0097 Q65.9457 56.2736 62.1263 56.2736 L58.0986 56.2736 L58.0986 52.431 L62.3115 52.431 Q65.7606 52.431 67.5893 51.0653 Q69.418 49.6764 69.418 47.0838 Q69.418 44.4218 67.5198 43.0098 Q65.6448 41.5746 62.1263 41.5746 Q60.205 41.5746 58.006 41.9913 Q55.8069 42.4079 53.168 43.2876 L53.168 39.1209 Q55.8301 38.3802 58.1449 38.0098 Q60.4828 37.6394 62.543 37.6394 Q67.867 37.6394 70.9689 40.07 Q74.0707 42.4774 74.0707 46.5977 Q74.0707 49.4681 72.4272 51.4588 Q70.7837 53.4264 67.7513 54.1903 Z\" fill=\"#000000\" fill-rule=\"nonzero\" fill-opacity=\"1\" /><polyline clip-path=\"url(#clip902)\" style=\"stroke:#009af9; stroke-linecap:round; stroke-linejoin:round; stroke-width:4; stroke-opacity:1; fill:none\" points=\"174.33,87.9763 409.328,1012.78 644.325,1445.72 879.322,225.405 1114.32,1186.62 1349.32,1431.4 1584.31,1360.59 1819.31,460.3 2054.31,1127.37 2289.31,1439.46 \"/>\n",
       "<path clip-path=\"url(#clip900)\" d=\"M2001.41 198.898 L2278.03 198.898 L2278.03 95.2176 L2001.41 95.2176  Z\" fill=\"#ffffff\" fill-rule=\"evenodd\" fill-opacity=\"1\"/>\n",
       "<polyline clip-path=\"url(#clip900)\" style=\"stroke:#000000; stroke-linecap:round; stroke-linejoin:round; stroke-width:4; stroke-opacity:1; fill:none\" points=\"2001.41,198.898 2278.03,198.898 2278.03,95.2176 2001.41,95.2176 2001.41,198.898 \"/>\n",
       "<polyline clip-path=\"url(#clip900)\" style=\"stroke:#009af9; stroke-linecap:round; stroke-linejoin:round; stroke-width:4; stroke-opacity:1; fill:none\" points=\"2026.32,147.058 2175.78,147.058 \"/>\n",
       "<path clip-path=\"url(#clip900)\" d=\"M2214.53 166.745 Q2212.72 171.375 2211.01 172.787 Q2209.3 174.199 2206.43 174.199 L2203.02 174.199 L2203.02 170.634 L2205.52 170.634 Q2207.28 170.634 2208.26 169.8 Q2209.23 168.967 2210.41 165.865 L2211.17 163.921 L2200.69 138.412 L2205.2 138.412 L2213.3 158.689 L2221.4 138.412 L2225.92 138.412 L2214.53 166.745 Z\" fill=\"#000000\" fill-rule=\"nonzero\" fill-opacity=\"1\" /><path clip-path=\"url(#clip900)\" d=\"M2233.21 160.402 L2240.85 160.402 L2240.85 134.037 L2232.54 135.703 L2232.54 131.444 L2240.8 129.778 L2245.48 129.778 L2245.48 160.402 L2253.12 160.402 L2253.12 164.338 L2233.21 164.338 L2233.21 160.402 Z\" fill=\"#000000\" fill-rule=\"nonzero\" fill-opacity=\"1\" /></svg>\n"
      ]
     },
     "metadata": {},
     "output_type": "display_data"
    }
   ],
   "source": [
    "# poor style\n",
    "function generatedata(n)\n",
    "    ep = zeros(n)\n",
    "    for i in eachindex(ep)\n",
    "        ep[i] = (randn())^2 # squaring the result\n",
    "    end\n",
    "    return ep\n",
    "end\n",
    "\n",
    "data = generatedata(10)\n",
    "plot(data)"
   ]
  },
  {
   "cell_type": "markdown",
   "id": "349df953",
   "metadata": {},
   "source": [
    "Here\n",
    "\n",
    "- `function` is a Julia keyword that indicates the start of a function definition  \n",
    "- `generatedata` is an arbitrary name for the function  \n",
    "- `return` is a keyword indicating the return value, as is often unnecessary  \n",
    "\n",
    "\n",
    "Let us make this example slightly better by “remembering” that `randn` can return a vectors."
   ]
  },
  {
   "cell_type": "code",
   "execution_count": 13,
   "id": "3b6a95bb",
   "metadata": {
    "hide-output": false
   },
   "outputs": [
    {
     "data": {
      "text/plain": [
       "5-element Vector{Float64}:\n",
       " 0.13471548295139268\n",
       " 0.6852302198681236\n",
       " 0.052291484832903946\n",
       " 3.0436774784468548\n",
       " 0.6228709905180663"
      ]
     },
     "metadata": {},
     "output_type": "display_data"
    }
   ],
   "source": [
    "# still poor style\n",
    "function generatedata(n)\n",
    "    ep = randn(n) # use built in function\n",
    "\n",
    "    for i in eachindex(ep)\n",
    "        ep[i] = ep[i]^2 # squaring the result\n",
    "    end\n",
    "\n",
    "    return ep\n",
    "end\n",
    "data = generatedata(5)"
   ]
  },
  {
   "cell_type": "markdown",
   "id": "7b594081",
   "metadata": {},
   "source": [
    "While better, the looping over the `i` index to square the results is difficult to read.\n",
    "\n",
    "Instead of looping, we can **broadcast** the `^2` square function over a vector using a `.`.\n",
    "\n",
    "To be clear, unlike Python, R, and MATLAB (to a lesser extent), the reason to drop the `for` is **not** for performance reasons, but rather because of code clarity.\n",
    "\n",
    "Loops of this sort are at least as efficient as vectorized approach in compiled languages like Julia, so use a for loop if you think it makes the code more clear."
   ]
  },
  {
   "cell_type": "code",
   "execution_count": 14,
   "id": "f1392cf8",
   "metadata": {
    "hide-output": false
   },
   "outputs": [
    {
     "data": {
      "text/plain": [
       "5-element Vector{Float64}:\n",
       " 3.1187590323605208\n",
       " 0.3432677659801314\n",
       " 0.2517754721233146\n",
       " 0.12548433593881753\n",
       " 0.7043807991859918"
      ]
     },
     "metadata": {},
     "output_type": "display_data"
    }
   ],
   "source": [
    "# better style\n",
    "function generatedata(n)\n",
    "    ep = randn(n) # use built in function\n",
    "    return ep .^ 2\n",
    "end\n",
    "data = generatedata(5)"
   ]
  },
  {
   "cell_type": "markdown",
   "id": "2d9082dd",
   "metadata": {},
   "source": [
    "We can even drop the `function` if we define it on a single line."
   ]
  },
  {
   "cell_type": "code",
   "execution_count": 15,
   "id": "179e8351",
   "metadata": {
    "hide-output": false
   },
   "outputs": [
    {
     "data": {
      "text/plain": [
       "5-element Vector{Float64}:\n",
       " 1.6982521412776101\n",
       " 0.2672098282522619\n",
       " 0.045506800897816536\n",
       " 0.9302764960962695\n",
       " 0.277658193732941"
      ]
     },
     "metadata": {},
     "output_type": "display_data"
    }
   ],
   "source": [
    "# good style\n",
    "generatedata(n) = randn(n) .^ 2\n",
    "data = generatedata(5)"
   ]
  },
  {
   "cell_type": "markdown",
   "id": "a66c4188",
   "metadata": {},
   "source": [
    "Finally, we can broadcast any function, where squaring is only a special case."
   ]
  },
  {
   "cell_type": "code",
   "execution_count": 16,
   "id": "4eb36eb9",
   "metadata": {
    "hide-output": false
   },
   "outputs": [
    {
     "data": {
      "text/plain": [
       "5-element Vector{Float64}:\n",
       " 0.0665212866483435\n",
       " 0.5489518900858422\n",
       " 0.8844595778839927\n",
       " 2.1996449437054695\n",
       " 0.692244647806224"
      ]
     },
     "metadata": {},
     "output_type": "display_data"
    }
   ],
   "source": [
    "# good style\n",
    "f(x) = x^2 # simple square function\n",
    "generatedata(n) = f.(randn(n)) # broadcasts on f\n",
    "data = generatedata(5)"
   ]
  },
  {
   "cell_type": "markdown",
   "id": "ce6f66eb",
   "metadata": {},
   "source": [
    "As a final – abstract – approach, we can make the `generatedata` function able to generically apply to a function."
   ]
  },
  {
   "cell_type": "code",
   "execution_count": 17,
   "id": "6923b7f9",
   "metadata": {
    "hide-output": false
   },
   "outputs": [
    {
     "data": {
      "text/plain": [
       "5-element Vector{Float64}:\n",
       " 0.009698535577155188\n",
       " 0.15093362459931728\n",
       " 2.3971995942254885\n",
       " 0.061172215019814694\n",
       " 0.006675865944291627"
      ]
     },
     "metadata": {},
     "output_type": "display_data"
    }
   ],
   "source": [
    "generatedata(n, gen) = gen.(randn(n)) # broadcasts on gen\n",
    "f(x) = x^2 # simple square function\n",
    "data = generatedata(5, f) # applies f"
   ]
  },
  {
   "cell_type": "markdown",
   "id": "4aecd0c1",
   "metadata": {},
   "source": [
    "Whether this example is better or worse than the previous version depends on how it is used.\n",
    "\n",
    "High degrees of abstraction and generality, e.g. passing in a function `f` in this case, can make code either clearer or more confusing, but Julia enables you to use these techniques **with no performance overhead**.\n",
    "\n",
    "For this particular case, the clearest and most general solution is probably the simplest."
   ]
  },
  {
   "cell_type": "code",
   "execution_count": 18,
   "id": "74a8ad0e",
   "metadata": {
    "hide-output": false
   },
   "outputs": [
    {
     "data": {
      "image/png": "[encoded data removed]",
      "image/svg+xml": [
       "<?xml version=\"1.0\" encoding=\"utf-8\"?>\n",
       "<svg xmlns=\"http://www.w3.org/2000/svg\" xmlns:xlink=\"http://www.w3.org/1999/xlink\" width=\"600\" height=\"400\" viewBox=\"0 0 2400 1600\">\n",
       "<defs>\n",
       "  <clipPath id=\"clip940\">\n",
       "    <rect x=\"0\" y=\"0\" width=\"2400\" height=\"1600\"/>\n",
       "  </clipPath>\n",
       "</defs>\n",
       "<path clip-path=\"url(#clip940)\" d=\"M0 1600 L2400 1600 L2400 0 L0 0  Z\" fill=\"#ffffff\" fill-rule=\"evenodd\" fill-opacity=\"1\"/>\n",
       "<defs>\n",
       "  <clipPath id=\"clip941\">\n",
       "    <rect x=\"480\" y=\"0\" width=\"1681\" height=\"1600\"/>\n",
       "  </clipPath>\n",
       "</defs>\n",
       "<path clip-path=\"url(#clip940)\" d=\"M192.941 1486.45 L2352.76 1486.45 L2352.76 47.2441 L192.941 47.2441  Z\" fill=\"#ffffff\" fill-rule=\"evenodd\" fill-opacity=\"1\"/>\n",
       "<defs>\n",
       "  <clipPath id=\"clip942\">\n",
       "    <rect x=\"192\" y=\"47\" width=\"2161\" height=\"1440\"/>\n",
       "  </clipPath>\n",
       "</defs>\n",
       "<polyline clip-path=\"url(#clip942)\" style=\"stroke:#000000; stroke-linecap:round; stroke-linejoin:round; stroke-width:2; stroke-opacity:0.1; fill:none\" points=\"233.486,1486.45 233.486,47.2441 \"/>\n",
       "<polyline clip-path=\"url(#clip942)\" style=\"stroke:#000000; stroke-linecap:round; stroke-linejoin:round; stroke-width:2; stroke-opacity:0.1; fill:none\" points=\"748.022,1486.45 748.022,47.2441 \"/>\n",
       "<polyline clip-path=\"url(#clip942)\" style=\"stroke:#000000; stroke-linecap:round; stroke-linejoin:round; stroke-width:2; stroke-opacity:0.1; fill:none\" points=\"1262.56,1486.45 1262.56,47.2441 \"/>\n",
       "<polyline clip-path=\"url(#clip942)\" style=\"stroke:#000000; stroke-linecap:round; stroke-linejoin:round; stroke-width:2; stroke-opacity:0.1; fill:none\" points=\"1777.09,1486.45 1777.09,47.2441 \"/>\n",
       "<polyline clip-path=\"url(#clip942)\" style=\"stroke:#000000; stroke-linecap:round; stroke-linejoin:round; stroke-width:2; stroke-opacity:0.1; fill:none\" points=\"2291.63,1486.45 2291.63,47.2441 \"/>\n",
       "<polyline clip-path=\"url(#clip940)\" style=\"stroke:#000000; stroke-linecap:round; stroke-linejoin:round; stroke-width:4; stroke-opacity:1; fill:none\" points=\"192.941,1486.45 2352.76,1486.45 \"/>\n",
       "<polyline clip-path=\"url(#clip940)\" style=\"stroke:#000000; stroke-linecap:round; stroke-linejoin:round; stroke-width:4; stroke-opacity:1; fill:none\" points=\"233.486,1486.45 233.486,1467.55 \"/>\n",
       "<polyline clip-path=\"url(#clip940)\" style=\"stroke:#000000; stroke-linecap:round; stroke-linejoin:round; stroke-width:4; stroke-opacity:1; fill:none\" points=\"748.022,1486.45 748.022,1467.55 \"/>\n",
       "<polyline clip-path=\"url(#clip940)\" style=\"stroke:#000000; stroke-linecap:round; stroke-linejoin:round; stroke-width:4; stroke-opacity:1; fill:none\" points=\"1262.56,1486.45 1262.56,1467.55 \"/>\n",
       "<polyline clip-path=\"url(#clip940)\" style=\"stroke:#000000; stroke-linecap:round; stroke-linejoin:round; stroke-width:4; stroke-opacity:1; fill:none\" points=\"1777.09,1486.45 1777.09,1467.55 \"/>\n",
       "<polyline clip-path=\"url(#clip940)\" style=\"stroke:#000000; stroke-linecap:round; stroke-linejoin:round; stroke-width:4; stroke-opacity:1; fill:none\" points=\"2291.63,1486.45 2291.63,1467.55 \"/>\n",
       "<path clip-path=\"url(#clip940)\" d=\"M233.486 1517.37 Q229.875 1517.37 228.046 1520.93 Q226.241 1524.47 226.241 1531.6 Q226.241 1538.71 228.046 1542.27 Q229.875 1545.82 233.486 1545.82 Q237.12 1545.82 238.926 1542.27 Q240.755 1538.71 240.755 1531.6 Q240.755 1524.47 238.926 1520.93 Q237.12 1517.37 233.486 1517.37 M233.486 1513.66 Q239.296 1513.66 242.352 1518.27 Q245.43 1522.85 245.43 1531.6 Q245.43 1540.33 242.352 1544.94 Q239.296 1549.52 233.486 1549.52 Q227.676 1549.52 224.597 1544.94 Q221.542 1540.33 221.542 1531.6 Q221.542 1522.85 224.597 1518.27 Q227.676 1513.66 233.486 1513.66 Z\" fill=\"#000000\" fill-rule=\"nonzero\" fill-opacity=\"1\" /><path clip-path=\"url(#clip940)\" d=\"M727.293 1544.91 L743.612 1544.91 L743.612 1548.85 L721.668 1548.85 L721.668 1544.91 Q724.33 1542.16 728.913 1537.53 Q733.52 1532.88 734.7 1531.53 Q736.945 1529.01 737.825 1527.27 Q738.728 1525.51 738.728 1523.82 Q738.728 1521.07 736.783 1519.33 Q734.862 1517.6 731.76 1517.6 Q729.561 1517.6 727.108 1518.36 Q724.677 1519.13 721.899 1520.68 L721.899 1515.95 Q724.723 1514.82 727.177 1514.24 Q729.631 1513.66 731.668 1513.66 Q737.038 1513.66 740.232 1516.35 Q743.427 1519.03 743.427 1523.52 Q743.427 1525.65 742.617 1527.57 Q741.83 1529.47 739.723 1532.07 Q739.145 1532.74 736.043 1535.95 Q732.941 1539.15 727.293 1544.91 Z\" fill=\"#000000\" fill-rule=\"nonzero\" fill-opacity=\"1\" /><path clip-path=\"url(#clip940)\" d=\"M753.473 1514.29 L771.83 1514.29 L771.83 1518.22 L757.756 1518.22 L757.756 1526.7 Q758.774 1526.35 759.793 1526.19 Q760.811 1526 761.83 1526 Q767.617 1526 770.996 1529.17 Q774.376 1532.34 774.376 1537.76 Q774.376 1543.34 770.904 1546.44 Q767.431 1549.52 761.112 1549.52 Q758.936 1549.52 756.668 1549.15 Q754.422 1548.78 752.015 1548.04 L752.015 1543.34 Q754.098 1544.47 756.32 1545.03 Q758.543 1545.58 761.019 1545.58 Q765.024 1545.58 767.362 1543.48 Q769.7 1541.37 769.7 1537.76 Q769.7 1534.15 767.362 1532.04 Q765.024 1529.94 761.019 1529.94 Q759.144 1529.94 757.269 1530.35 Q755.418 1530.77 753.473 1531.65 L753.473 1514.29 Z\" fill=\"#000000\" fill-rule=\"nonzero\" fill-opacity=\"1\" /><path clip-path=\"url(#clip940)\" d=\"M1237.26 1514.29 L1255.61 1514.29 L1255.61 1518.22 L1241.54 1518.22 L1241.54 1526.7 Q1242.56 1526.35 1243.58 1526.19 Q1244.59 1526 1245.61 1526 Q1251.4 1526 1254.78 1529.17 Q1258.16 1532.34 1258.16 1537.76 Q1258.16 1543.34 1254.69 1546.44 Q1251.22 1549.52 1244.9 1549.52 Q1242.72 1549.52 1240.45 1549.15 Q1238.21 1548.78 1235.8 1548.04 L1235.8 1543.34 Q1237.88 1544.47 1240.1 1545.03 Q1242.33 1545.58 1244.8 1545.58 Q1248.81 1545.58 1251.15 1543.48 Q1253.48 1541.37 1253.48 1537.76 Q1253.48 1534.15 1251.15 1532.04 Q1248.81 1529.94 1244.8 1529.94 Q1242.93 1529.94 1241.05 1530.35 Q1239.2 1530.77 1237.26 1531.65 L1237.26 1514.29 Z\" fill=\"#000000\" fill-rule=\"nonzero\" fill-opacity=\"1\" /><path clip-path=\"url(#clip940)\" d=\"M1277.37 1517.37 Q1273.76 1517.37 1271.93 1520.93 Q1270.13 1524.47 1270.13 1531.6 Q1270.13 1538.71 1271.93 1542.27 Q1273.76 1545.82 1277.37 1545.82 Q1281.01 1545.82 1282.81 1542.27 Q1284.64 1538.71 1284.64 1531.6 Q1284.64 1524.47 1282.81 1520.93 Q1281.01 1517.37 1277.37 1517.37 M1277.37 1513.66 Q1283.18 1513.66 1286.24 1518.27 Q1289.32 1522.85 1289.32 1531.6 Q1289.32 1540.33 1286.24 1544.94 Q1283.18 1549.52 1277.37 1549.52 Q1271.56 1549.52 1268.48 1544.94 Q1265.43 1540.33 1265.43 1531.6 Q1265.43 1522.85 1268.48 1518.27 Q1271.56 1513.66 1277.37 1513.66 Z\" fill=\"#000000\" fill-rule=\"nonzero\" fill-opacity=\"1\" /><path clip-path=\"url(#clip940)\" d=\"M1750.95 1514.29 L1773.17 1514.29 L1773.17 1516.28 L1760.62 1548.85 L1755.74 1548.85 L1767.54 1518.22 L1750.95 1518.22 L1750.95 1514.29 Z\" fill=\"#000000\" fill-rule=\"nonzero\" fill-opacity=\"1\" /><path clip-path=\"url(#clip940)\" d=\"M1782.34 1514.29 L1800.69 1514.29 L1800.69 1518.22 L1786.62 1518.22 L1786.62 1526.7 Q1787.64 1526.35 1788.66 1526.19 Q1789.67 1526 1790.69 1526 Q1796.48 1526 1799.86 1529.17 Q1803.24 1532.34 1803.24 1537.76 Q1803.24 1543.34 1799.77 1546.44 Q1796.29 1549.52 1789.98 1549.52 Q1787.8 1549.52 1785.53 1549.15 Q1783.29 1548.78 1780.88 1548.04 L1780.88 1543.34 Q1782.96 1544.47 1785.18 1545.03 Q1787.41 1545.58 1789.88 1545.58 Q1793.89 1545.58 1796.23 1543.48 Q1798.56 1541.37 1798.56 1537.76 Q1798.56 1534.15 1796.23 1532.04 Q1793.89 1529.94 1789.88 1529.94 Q1788.01 1529.94 1786.13 1530.35 Q1784.28 1530.77 1782.34 1531.65 L1782.34 1514.29 Z\" fill=\"#000000\" fill-rule=\"nonzero\" fill-opacity=\"1\" /><path clip-path=\"url(#clip940)\" d=\"M2251.24 1544.91 L2258.87 1544.91 L2258.87 1518.55 L2250.56 1520.21 L2250.56 1515.95 L2258.83 1514.29 L2263.5 1514.29 L2263.5 1544.91 L2271.14 1544.91 L2271.14 1548.85 L2251.24 1548.85 L2251.24 1544.91 Z\" fill=\"#000000\" fill-rule=\"nonzero\" fill-opacity=\"1\" /><path clip-path=\"url(#clip940)\" d=\"M2290.59 1517.37 Q2286.98 1517.37 2285.15 1520.93 Q2283.34 1524.47 2283.34 1531.6 Q2283.34 1538.71 2285.15 1542.27 Q2286.98 1545.82 2290.59 1545.82 Q2294.22 1545.82 2296.03 1542.27 Q2297.86 1538.71 2297.86 1531.6 Q2297.86 1524.47 2296.03 1520.93 Q2294.22 1517.37 2290.59 1517.37 M2290.59 1513.66 Q2296.4 1513.66 2299.45 1518.27 Q2302.53 1522.85 2302.53 1531.6 Q2302.53 1540.33 2299.45 1544.94 Q2296.4 1549.52 2290.59 1549.52 Q2284.78 1549.52 2281.7 1544.94 Q2278.64 1540.33 2278.64 1531.6 Q2278.64 1522.85 2281.7 1518.27 Q2284.78 1513.66 2290.59 1513.66 Z\" fill=\"#000000\" fill-rule=\"nonzero\" fill-opacity=\"1\" /><path clip-path=\"url(#clip940)\" d=\"M2320.75 1517.37 Q2317.14 1517.37 2315.31 1520.93 Q2313.5 1524.47 2313.5 1531.6 Q2313.5 1538.71 2315.31 1542.27 Q2317.14 1545.82 2320.75 1545.82 Q2324.38 1545.82 2326.19 1542.27 Q2328.02 1538.71 2328.02 1531.6 Q2328.02 1524.47 2326.19 1520.93 Q2324.38 1517.37 2320.75 1517.37 M2320.75 1513.66 Q2326.56 1513.66 2329.61 1518.27 Q2332.69 1522.85 2332.69 1531.6 Q2332.69 1540.33 2329.61 1544.94 Q2326.56 1549.52 2320.75 1549.52 Q2314.94 1549.52 2311.86 1544.94 Q2308.8 1540.33 2308.8 1531.6 Q2308.8 1522.85 2311.86 1518.27 Q2314.94 1513.66 2320.75 1513.66 Z\" fill=\"#000000\" fill-rule=\"nonzero\" fill-opacity=\"1\" /><polyline clip-path=\"url(#clip942)\" style=\"stroke:#000000; stroke-linecap:round; stroke-linejoin:round; stroke-width:2; stroke-opacity:0.1; fill:none\" points=\"192.941,1401.76 2352.76,1401.76 \"/>\n",
       "<polyline clip-path=\"url(#clip942)\" style=\"stroke:#000000; stroke-linecap:round; stroke-linejoin:round; stroke-width:2; stroke-opacity:0.1; fill:none\" points=\"192.941,1093.66 2352.76,1093.66 \"/>\n",
       "<polyline clip-path=\"url(#clip942)\" style=\"stroke:#000000; stroke-linecap:round; stroke-linejoin:round; stroke-width:2; stroke-opacity:0.1; fill:none\" points=\"192.941,785.56 2352.76,785.56 \"/>\n",
       "<polyline clip-path=\"url(#clip942)\" style=\"stroke:#000000; stroke-linecap:round; stroke-linejoin:round; stroke-width:2; stroke-opacity:0.1; fill:none\" points=\"192.941,477.458 2352.76,477.458 \"/>\n",
       "<polyline clip-path=\"url(#clip942)\" style=\"stroke:#000000; stroke-linecap:round; stroke-linejoin:round; stroke-width:2; stroke-opacity:0.1; fill:none\" points=\"192.941,169.355 2352.76,169.355 \"/>\n",
       "<polyline clip-path=\"url(#clip940)\" style=\"stroke:#000000; stroke-linecap:round; stroke-linejoin:round; stroke-width:4; stroke-opacity:1; fill:none\" points=\"192.941,1486.45 192.941,47.2441 \"/>\n",
       "<polyline clip-path=\"url(#clip940)\" style=\"stroke:#000000; stroke-linecap:round; stroke-linejoin:round; stroke-width:4; stroke-opacity:1; fill:none\" points=\"192.941,1401.76 211.838,1401.76 \"/>\n",
       "<polyline clip-path=\"url(#clip940)\" style=\"stroke:#000000; stroke-linecap:round; stroke-linejoin:round; stroke-width:4; stroke-opacity:1; fill:none\" points=\"192.941,1093.66 211.838,1093.66 \"/>\n",
       "<polyline clip-path=\"url(#clip940)\" style=\"stroke:#000000; stroke-linecap:round; stroke-linejoin:round; stroke-width:4; stroke-opacity:1; fill:none\" points=\"192.941,785.56 211.838,785.56 \"/>\n",
       "<polyline clip-path=\"url(#clip940)\" style=\"stroke:#000000; stroke-linecap:round; stroke-linejoin:round; stroke-width:4; stroke-opacity:1; fill:none\" points=\"192.941,477.458 211.838,477.458 \"/>\n",
       "<polyline clip-path=\"url(#clip940)\" style=\"stroke:#000000; stroke-linecap:round; stroke-linejoin:round; stroke-width:4; stroke-opacity:1; fill:none\" points=\"192.941,169.355 211.838,169.355 \"/>\n",
       "<path clip-path=\"url(#clip940)\" d=\"M50.9921 1402.22 L80.6679 1402.22 L80.6679 1406.15 L50.9921 1406.15 L50.9921 1402.22 Z\" fill=\"#000000\" fill-rule=\"nonzero\" fill-opacity=\"1\" /><path clip-path=\"url(#clip940)\" d=\"M94.7882 1415.11 L111.108 1415.11 L111.108 1419.04 L89.1632 1419.04 L89.1632 1415.11 Q91.8252 1412.35 96.4085 1407.73 Q101.015 1403.07 102.196 1401.73 Q104.441 1399.21 105.321 1397.47 Q106.223 1395.71 106.223 1394.02 Q106.223 1391.27 104.279 1389.53 Q102.358 1387.79 99.2558 1387.79 Q97.0567 1387.79 94.603 1388.56 Q92.1725 1389.32 89.3947 1390.87 L89.3947 1386.15 Q92.2188 1385.02 94.6724 1384.44 Q97.1261 1383.86 99.1632 1383.86 Q104.534 1383.86 107.728 1386.54 Q110.922 1389.23 110.922 1393.72 Q110.922 1395.85 110.112 1397.77 Q109.325 1399.67 107.219 1402.26 Q106.64 1402.93 103.538 1406.15 Q100.436 1409.35 94.7882 1415.11 Z\" fill=\"#000000\" fill-rule=\"nonzero\" fill-opacity=\"1\" /><path clip-path=\"url(#clip940)\" d=\"M120.922 1413.16 L125.807 1413.16 L125.807 1419.04 L120.922 1419.04 L120.922 1413.16 Z\" fill=\"#000000\" fill-rule=\"nonzero\" fill-opacity=\"1\" /><path clip-path=\"url(#clip940)\" d=\"M136.038 1384.48 L154.394 1384.48 L154.394 1388.42 L140.32 1388.42 L140.32 1396.89 Q141.339 1396.54 142.357 1396.38 Q143.376 1396.2 144.394 1396.2 Q150.181 1396.2 153.561 1399.37 Q156.941 1402.54 156.941 1407.96 Q156.941 1413.54 153.468 1416.64 Q149.996 1419.72 143.677 1419.72 Q141.501 1419.72 139.232 1419.35 Q136.987 1418.98 134.58 1418.23 L134.58 1413.54 Q136.663 1414.67 138.885 1415.23 Q141.107 1415.78 143.584 1415.78 Q147.589 1415.78 149.927 1413.67 Q152.265 1411.57 152.265 1407.96 Q152.265 1404.35 149.927 1402.24 Q147.589 1400.13 143.584 1400.13 Q141.709 1400.13 139.834 1400.55 Q137.982 1400.97 136.038 1401.85 L136.038 1384.48 Z\" fill=\"#000000\" fill-rule=\"nonzero\" fill-opacity=\"1\" /><path clip-path=\"url(#clip940)\" d=\"M99.765 1079.46 Q96.1539 1079.46 94.3252 1083.03 Q92.5197 1086.57 92.5197 1093.7 Q92.5197 1100.8 94.3252 1104.37 Q96.1539 1107.91 99.765 1107.91 Q103.399 1107.91 105.205 1104.37 Q107.033 1100.8 107.033 1093.7 Q107.033 1086.57 105.205 1083.03 Q103.399 1079.46 99.765 1079.46 M99.765 1075.76 Q105.575 1075.76 108.631 1080.36 Q111.709 1084.95 111.709 1093.7 Q111.709 1102.42 108.631 1107.03 Q105.575 1111.61 99.765 1111.61 Q93.9549 1111.61 90.8762 1107.03 Q87.8206 1102.42 87.8206 1093.7 Q87.8206 1084.95 90.8762 1080.36 Q93.9549 1075.76 99.765 1075.76 Z\" fill=\"#000000\" fill-rule=\"nonzero\" fill-opacity=\"1\" /><path clip-path=\"url(#clip940)\" d=\"M119.927 1105.06 L124.811 1105.06 L124.811 1110.94 L119.927 1110.94 L119.927 1105.06 Z\" fill=\"#000000\" fill-rule=\"nonzero\" fill-opacity=\"1\" /><path clip-path=\"url(#clip940)\" d=\"M144.996 1079.46 Q141.385 1079.46 139.556 1083.03 Q137.751 1086.57 137.751 1093.7 Q137.751 1100.8 139.556 1104.37 Q141.385 1107.91 144.996 1107.91 Q148.63 1107.91 150.436 1104.37 Q152.265 1100.8 152.265 1093.7 Q152.265 1086.57 150.436 1083.03 Q148.63 1079.46 144.996 1079.46 M144.996 1075.76 Q150.806 1075.76 153.862 1080.36 Q156.941 1084.95 156.941 1093.7 Q156.941 1102.42 153.862 1107.03 Q150.806 1111.61 144.996 1111.61 Q139.186 1111.61 136.107 1107.03 Q133.052 1102.42 133.052 1093.7 Q133.052 1084.95 136.107 1080.36 Q139.186 1075.76 144.996 1075.76 Z\" fill=\"#000000\" fill-rule=\"nonzero\" fill-opacity=\"1\" /><path clip-path=\"url(#clip940)\" d=\"M94.7882 798.905 L111.108 798.905 L111.108 802.84 L89.1632 802.84 L89.1632 798.905 Q91.8252 796.15 96.4085 791.521 Q101.015 786.868 102.196 785.525 Q104.441 783.002 105.321 781.266 Q106.223 779.507 106.223 777.817 Q106.223 775.062 104.279 773.326 Q102.358 771.59 99.2558 771.59 Q97.0567 771.59 94.603 772.354 Q92.1725 773.118 89.3947 774.669 L89.3947 769.947 Q92.2188 768.812 94.6724 768.234 Q97.1261 767.655 99.1632 767.655 Q104.534 767.655 107.728 770.34 Q110.922 773.025 110.922 777.516 Q110.922 779.646 110.112 781.567 Q109.325 783.465 107.219 786.058 Q106.64 786.729 103.538 789.947 Q100.436 793.141 94.7882 798.905 Z\" fill=\"#000000\" fill-rule=\"nonzero\" fill-opacity=\"1\" /><path clip-path=\"url(#clip940)\" d=\"M120.922 796.96 L125.807 796.96 L125.807 802.84 L120.922 802.84 L120.922 796.96 Z\" fill=\"#000000\" fill-rule=\"nonzero\" fill-opacity=\"1\" /><path clip-path=\"url(#clip940)\" d=\"M136.038 768.28 L154.394 768.28 L154.394 772.215 L140.32 772.215 L140.32 780.687 Q141.339 780.34 142.357 780.178 Q143.376 779.993 144.394 779.993 Q150.181 779.993 153.561 783.164 Q156.941 786.335 156.941 791.752 Q156.941 797.331 153.468 800.433 Q149.996 803.511 143.677 803.511 Q141.501 803.511 139.232 803.141 Q136.987 802.771 134.58 802.03 L134.58 797.331 Q136.663 798.465 138.885 799.021 Q141.107 799.576 143.584 799.576 Q147.589 799.576 149.927 797.47 Q152.265 795.363 152.265 791.752 Q152.265 788.141 149.927 786.034 Q147.589 783.928 143.584 783.928 Q141.709 783.928 139.834 784.345 Q137.982 784.761 136.038 785.641 L136.038 768.28 Z\" fill=\"#000000\" fill-rule=\"nonzero\" fill-opacity=\"1\" /><path clip-path=\"url(#clip940)\" d=\"M89.8114 460.178 L108.168 460.178 L108.168 464.113 L94.0937 464.113 L94.0937 472.585 Q95.1123 472.238 96.1308 472.076 Q97.1493 471.891 98.1678 471.891 Q103.955 471.891 107.334 475.062 Q110.714 478.233 110.714 483.65 Q110.714 489.228 107.242 492.33 Q103.77 495.409 97.4502 495.409 Q95.2743 495.409 93.0058 495.039 Q90.7604 494.668 88.353 493.928 L88.353 489.228 Q90.4364 490.363 92.6586 490.918 Q94.8808 491.474 97.3576 491.474 Q101.362 491.474 103.7 489.367 Q106.038 487.261 106.038 483.65 Q106.038 480.039 103.7 477.932 Q101.362 475.826 97.3576 475.826 Q95.4826 475.826 93.6076 476.242 Q91.7558 476.659 89.8114 477.539 L89.8114 460.178 Z\" fill=\"#000000\" fill-rule=\"nonzero\" fill-opacity=\"1\" /><path clip-path=\"url(#clip940)\" d=\"M119.927 488.858 L124.811 488.858 L124.811 494.738 L119.927 494.738 L119.927 488.858 Z\" fill=\"#000000\" fill-rule=\"nonzero\" fill-opacity=\"1\" /><path clip-path=\"url(#clip940)\" d=\"M144.996 463.256 Q141.385 463.256 139.556 466.821 Q137.751 470.363 137.751 477.492 Q137.751 484.599 139.556 488.164 Q141.385 491.705 144.996 491.705 Q148.63 491.705 150.436 488.164 Q152.265 484.599 152.265 477.492 Q152.265 470.363 150.436 466.821 Q148.63 463.256 144.996 463.256 M144.996 459.553 Q150.806 459.553 153.862 464.159 Q156.941 468.742 156.941 477.492 Q156.941 486.219 153.862 490.826 Q150.806 495.409 144.996 495.409 Q139.186 495.409 136.107 490.826 Q133.052 486.219 133.052 477.492 Q133.052 468.742 136.107 464.159 Q139.186 459.553 144.996 459.553 Z\" fill=\"#000000\" fill-rule=\"nonzero\" fill-opacity=\"1\" /><path clip-path=\"url(#clip940)\" d=\"M89.5799 152.075 L111.802 152.075 L111.802 154.066 L99.2558 186.635 L94.3715 186.635 L106.177 156.011 L89.5799 156.011 L89.5799 152.075 Z\" fill=\"#000000\" fill-rule=\"nonzero\" fill-opacity=\"1\" /><path clip-path=\"url(#clip940)\" d=\"M120.922 180.756 L125.807 180.756 L125.807 186.635 L120.922 186.635 L120.922 180.756 Z\" fill=\"#000000\" fill-rule=\"nonzero\" fill-opacity=\"1\" /><path clip-path=\"url(#clip940)\" d=\"M136.038 152.075 L154.394 152.075 L154.394 156.011 L140.32 156.011 L140.32 164.483 Q141.339 164.136 142.357 163.973 Q143.376 163.788 144.394 163.788 Q150.181 163.788 153.561 166.96 Q156.941 170.131 156.941 175.548 Q156.941 181.126 153.468 184.228 Q149.996 187.307 143.677 187.307 Q141.501 187.307 139.232 186.936 Q136.987 186.566 134.58 185.825 L134.58 181.126 Q136.663 182.26 138.885 182.816 Q141.107 183.372 143.584 183.372 Q147.589 183.372 149.927 181.265 Q152.265 179.159 152.265 175.548 Q152.265 171.936 149.927 169.83 Q147.589 167.723 143.584 167.723 Q141.709 167.723 139.834 168.14 Q137.982 168.557 136.038 169.436 L136.038 152.075 Z\" fill=\"#000000\" fill-rule=\"nonzero\" fill-opacity=\"1\" /><polyline clip-path=\"url(#clip942)\" style=\"stroke:#009af9; stroke-linecap:round; stroke-linejoin:round; stroke-width:4; stroke-opacity:1; fill:none\" points=\"254.067,1062.92 274.649,1074.75 295.23,951.351 315.812,979.96 336.393,1075.82 356.975,356.274 377.556,977.636 398.137,1008.02 418.719,1074.99 439.3,1056.22 459.882,965.82 480.463,567.308 501.045,1090.94 521.626,1038.47 542.208,1058.98 562.789,1046 583.37,1079.98 603.952,1009.38 624.533,1074.67 645.115,799.807 665.696,791.944 686.278,1056.76 706.859,1080.76 727.44,979.878 748.022,1040.51 768.603,1062.5 789.185,1031.42 809.766,1078.3 830.348,1027.12 850.929,662.843 871.51,1093.18 892.092,1081.1 912.673,973.455 933.255,1082.56 953.836,1000.99 974.418,1089.41 994.999,939.304 1015.58,1093.65 1036.16,1083.86 1056.74,939.806 1077.32,1054.8 1097.91,1029.26 1118.49,991.215 1139.07,1093.41 1159.65,1068.5 1180.23,1093.41 1200.81,913.162 1221.39,1065.1 1241.98,1076.26 1262.56,836.835 1283.14,1024.76 1303.72,1075.86 1324.3,1051.25 1344.88,959.253 1365.46,1091.74 1386.05,989.784 1406.63,458.068 1427.21,1048.89 1447.79,1070 1468.37,929.877 1488.95,443.866 1509.53,705.513 1530.12,1093.47 1550.7,1093.64 1571.28,623.188 1591.86,991.114 1612.44,1093.63 1633.02,1048.76 1653.6,1081.23 1674.19,1088.27 1694.77,1004.5 1715.35,1013.89 1735.93,1074.83 1756.51,989.581 1777.09,934.348 1797.67,1083.03 1818.26,454.421 1838.84,874.333 1859.42,915.844 1880,1092.87 1900.58,1077.72 1921.16,932.844 1941.74,87.9763 1962.33,909.8 1982.91,929.124 2003.49,1077.82 2024.07,1089.2 2044.65,855.254 2065.23,974.887 2085.81,1093.55 2106.4,1080.7 2126.98,943.66 2147.56,542.113 2168.14,636.854 2188.72,979.389 2209.3,1050.76 2229.88,1026.88 2250.47,947.263 2271.05,1088.27 2291.63,1076.38 \"/>\n",
       "<polyline clip-path=\"url(#clip942)\" style=\"stroke:#e26f46; stroke-linecap:round; stroke-linejoin:round; stroke-width:4; stroke-opacity:1; fill:none\" points=\"254.067,1155.21 274.649,1141.94 295.23,961.229 315.812,1212.04 336.393,1140.56 356.975,1395.12 377.556,974.083 398.137,990.925 418.719,1045.7 439.3,1161.59 459.882,968.142 480.463,838.97 501.045,1075.34 521.626,1176.14 542.208,1159.04 562.789,1017.02 583.37,1134.73 603.952,1195.58 624.533,1045.28 645.115,1283.96 665.696,1286.49 686.278,1161.1 706.859,1053.78 727.44,1212.08 748.022,1012.73 768.603,1031.69 789.185,1181.24 809.766,1050.15 830.348,1184.22 850.929,863.24 871.51,1085.93 892.092,1133.01 912.673,1215.38 933.255,1056.67 953.836,1200.53 974.418,1116.56 994.999,1231.59 1015.58,1094.76 1036.16,1058.91 1056.74,955.962 1077.32,1024.45 1097.91,1182.75 1118.49,981.298 1139.07,1099.18 1159.65,1149.35 1180.23,1088.08 1200.81,944.515 1221.39,1152.99 1241.98,1047.35 1262.56,1271.57 1283.14,1001.51 1303.72,1140.5 1324.3,1021.37 1344.88,964.958 1365.46,1109.05 1386.05,1206.81 1406.63,1373.54 1427.21,1019.38 1447.79,1039.66 1468.37,951.588 1488.95,1376.65 1509.53,874.948 1530.12,1088.79 1550.7,1095.22 1571.28,1334.46 1591.86,981.243 1612.44,1095.72 1633.02,1019.28 1653.6,1132.81 1674.19,1119.43 1694.77,988.835 1715.35,994.507 1735.93,1045.48 1756.51,1206.92 1777.09,953.541 1797.67,1129.86 1818.26,812.983 1838.84,929.253 1859.42,945.627 1880,1083.77 1900.58,1137.99 1921.16,1234.44 1941.74,1445.72 1962.33,1244.19 1982.91,1236.06 2003.49,1049.48 2024.07,1117.11 2044.65,1265.07 2065.23,1214.65 2085.81,1097.3 2106.4,1053.7 2126.98,1229.63 2147.56,832.945 2168.14,1330.93 2188.72,974.99 2209.3,1166.37 2229.88,1002.94 2250.47,1227.98 2271.05,1119.43 2291.63,1139.81 \"/>\n",
       "<path clip-path=\"url(#clip940)\" d=\"M264.934 250.738 L528.09 250.738 L528.09 95.2176 L264.934 95.2176  Z\" fill=\"#ffffff\" fill-rule=\"evenodd\" fill-opacity=\"1\"/>\n",
       "<polyline clip-path=\"url(#clip940)\" style=\"stroke:#000000; stroke-linecap:round; stroke-linejoin:round; stroke-width:4; stroke-opacity:1; fill:none\" points=\"264.934,250.738 528.09,250.738 528.09,95.2176 264.934,95.2176 264.934,250.738 \"/>\n",
       "<polyline clip-path=\"url(#clip940)\" style=\"stroke:#009af9; stroke-linecap:round; stroke-linejoin:round; stroke-width:4; stroke-opacity:1; fill:none\" points=\"288.932,147.058 432.92,147.058 \"/>\n",
       "<path clip-path=\"url(#clip940)\" d=\"M480.809 147.001 Q480.809 148.312 479.989 149.062 Q479.169 149.788 478.232 149.788 Q477.342 149.788 476.874 149.273 Q476.406 148.757 476.406 148.102 Q476.406 147.212 477.061 146.439 Q477.717 145.666 478.701 145.502 Q477.741 144.893 476.312 144.893 Q475.375 144.893 474.555 145.385 Q473.759 145.877 473.267 146.509 Q472.798 147.141 472.377 148.055 Q471.979 148.945 471.815 149.484 Q471.674 149.999 471.557 150.561 L469.918 157.119 Q469.121 160.234 469.121 161.335 Q469.121 162.694 469.777 163.607 Q470.433 164.497 471.744 164.497 Q472.26 164.497 472.845 164.357 Q473.431 164.193 474.18 163.771 Q474.953 163.326 475.633 162.67 Q476.335 161.991 477.015 160.843 Q477.694 159.696 478.139 158.22 Q478.279 157.705 478.748 157.705 Q479.333 157.705 479.333 158.173 Q479.333 158.571 479.005 159.415 Q478.701 160.234 478.022 161.312 Q477.366 162.366 476.499 163.326 Q475.633 164.263 474.344 164.919 Q473.056 165.575 471.651 165.575 Q469.636 165.575 468.301 164.497 Q466.966 163.42 466.474 161.921 Q466.357 162.132 466.193 162.413 Q466.029 162.694 465.538 163.326 Q465.069 163.935 464.53 164.404 Q463.992 164.849 463.148 165.2 Q462.329 165.575 461.439 165.575 Q460.314 165.575 459.307 165.247 Q458.323 164.919 457.621 164.169 Q456.918 163.42 456.918 162.389 Q456.918 161.242 457.691 160.445 Q458.487 159.625 459.565 159.625 Q460.244 159.625 460.783 160.024 Q461.345 160.422 461.345 161.288 Q461.345 162.249 460.689 162.975 Q460.033 163.701 459.096 163.888 Q460.057 164.497 461.485 164.497 Q463.031 164.497 464.249 163.139 Q465.467 161.78 466.053 159.508 Q467.505 154.051 468.067 151.615 Q468.629 149.156 468.629 148.102 Q468.629 147.118 468.372 146.439 Q468.114 145.759 467.669 145.455 Q467.247 145.127 466.849 145.01 Q466.474 144.893 466.053 144.893 Q465.35 144.893 464.554 145.174 Q463.781 145.455 462.844 146.111 Q461.93 146.743 461.064 148.055 Q460.197 149.366 459.612 151.17 Q459.495 151.709 458.979 151.709 Q458.417 151.685 458.417 151.217 Q458.417 150.819 458.722 149.999 Q459.049 149.156 459.705 148.102 Q460.385 147.048 461.251 146.111 Q462.141 145.15 463.429 144.495 Q464.741 143.839 466.146 143.839 Q466.779 143.839 467.388 143.979 Q468.02 144.096 468.77 144.448 Q469.543 144.799 470.222 145.572 Q470.901 146.345 471.323 147.469 Q471.604 146.931 471.979 146.415 Q472.377 145.9 472.986 145.268 Q473.618 144.612 474.485 144.237 Q475.375 143.839 476.359 143.839 Q477.319 143.839 478.256 144.096 Q479.193 144.331 479.989 145.104 Q480.809 145.853 480.809 147.001 Z\" fill=\"#000000\" fill-rule=\"nonzero\" fill-opacity=\"1\" /><path clip-path=\"url(#clip940)\" d=\"M485.694 150.696 Q485.694 150.09 485.743 149.909 Q485.809 149.729 486.071 149.45 L492.515 142.269 Q496.04 138.301 496.04 134.842 Q496.04 132.595 494.86 130.989 Q493.695 129.382 491.548 129.382 Q490.072 129.382 488.826 130.284 Q487.58 131.185 487.006 132.792 Q487.104 132.759 487.449 132.759 Q488.285 132.759 488.744 133.284 Q489.219 133.809 489.219 134.514 Q489.219 135.415 488.629 135.858 Q488.055 136.284 487.481 136.284 Q487.252 136.284 486.94 136.235 Q486.645 136.186 486.17 135.727 Q485.694 135.251 485.694 134.415 Q485.694 132.071 487.465 130.202 Q489.252 128.332 491.974 128.332 Q495.056 128.332 497.073 130.169 Q499.106 131.989 499.106 134.842 Q499.106 135.842 498.794 136.76 Q498.499 137.662 498.089 138.367 Q497.696 139.072 496.614 140.203 Q495.532 141.334 494.663 142.138 Q493.794 142.941 491.843 144.646 L488.285 148.106 L494.335 148.106 Q497.286 148.106 497.516 147.843 Q497.844 147.368 498.253 144.859 L499.106 144.859 L498.155 150.696 L485.694 150.696 Z\" fill=\"#000000\" fill-rule=\"nonzero\" fill-opacity=\"1\" /><polyline clip-path=\"url(#clip940)\" style=\"stroke:#e26f46; stroke-linecap:round; stroke-linejoin:round; stroke-width:4; stroke-opacity:1; fill:none\" points=\"288.932,198.898 432.92,198.898 \"/>\n",
       "<path clip-path=\"url(#clip940)\" d=\"M480.809 191.089 Q480.809 192.4 479.989 193.15 Q479.169 193.876 478.232 193.876 Q477.342 193.876 476.874 193.361 Q476.406 192.846 476.406 192.19 Q476.406 191.3 477.061 190.527 Q477.717 189.754 478.701 189.59 Q477.741 188.981 476.312 188.981 Q475.375 188.981 474.555 189.473 Q473.759 189.965 473.267 190.597 Q472.798 191.229 472.377 192.143 Q471.979 193.033 471.815 193.572 Q471.674 194.087 471.557 194.649 L469.918 201.207 Q469.121 204.323 469.121 205.423 Q469.121 206.782 469.777 207.695 Q470.433 208.585 471.744 208.585 Q472.26 208.585 472.845 208.445 Q473.431 208.281 474.18 207.859 Q474.953 207.414 475.633 206.758 Q476.335 206.079 477.015 204.931 Q477.694 203.784 478.139 202.308 Q478.279 201.793 478.748 201.793 Q479.333 201.793 479.333 202.261 Q479.333 202.66 479.005 203.503 Q478.701 204.323 478.022 205.4 Q477.366 206.454 476.499 207.414 Q475.633 208.351 474.344 209.007 Q473.056 209.663 471.651 209.663 Q469.636 209.663 468.301 208.585 Q466.966 207.508 466.474 206.009 Q466.357 206.22 466.193 206.501 Q466.029 206.782 465.538 207.414 Q465.069 208.023 464.53 208.492 Q463.992 208.937 463.148 209.288 Q462.329 209.663 461.439 209.663 Q460.314 209.663 459.307 209.335 Q458.323 209.007 457.621 208.257 Q456.918 207.508 456.918 206.477 Q456.918 205.33 457.691 204.533 Q458.487 203.714 459.565 203.714 Q460.244 203.714 460.783 204.112 Q461.345 204.51 461.345 205.377 Q461.345 206.337 460.689 207.063 Q460.033 207.789 459.096 207.976 Q460.057 208.585 461.485 208.585 Q463.031 208.585 464.249 207.227 Q465.467 205.868 466.053 203.596 Q467.505 198.139 468.067 195.703 Q468.629 193.244 468.629 192.19 Q468.629 191.206 468.372 190.527 Q468.114 189.847 467.669 189.543 Q467.247 189.215 466.849 189.098 Q466.474 188.981 466.053 188.981 Q465.35 188.981 464.554 189.262 Q463.781 189.543 462.844 190.199 Q461.93 190.831 461.064 192.143 Q460.197 193.455 459.612 195.258 Q459.495 195.797 458.979 195.797 Q458.417 195.773 458.417 195.305 Q458.417 194.907 458.722 194.087 Q459.049 193.244 459.705 192.19 Q460.385 191.136 461.251 190.199 Q462.141 189.238 463.429 188.583 Q464.741 187.927 466.146 187.927 Q466.779 187.927 467.388 188.067 Q468.02 188.184 468.77 188.536 Q469.543 188.887 470.222 189.66 Q470.901 190.433 471.323 191.557 Q471.604 191.019 471.979 190.503 Q472.377 189.988 472.986 189.356 Q473.618 188.7 474.485 188.325 Q475.375 187.927 476.359 187.927 Q477.319 187.927 478.256 188.184 Q479.193 188.419 479.989 189.192 Q480.809 189.941 480.809 191.089 Z\" fill=\"#000000\" fill-rule=\"nonzero\" fill-opacity=\"1\" /></svg>\n"
      ],
      "text/html": [
       "<?xml version=\"1.0\" encoding=\"utf-8\"?>\n",
       "<svg xmlns=\"http://www.w3.org/2000/svg\" xmlns:xlink=\"http://www.w3.org/1999/xlink\" width=\"600\" height=\"400\" viewBox=\"0 0 2400 1600\">\n",
       "<defs>\n",
       "  <clipPath id=\"clip990\">\n",
       "    <rect x=\"0\" y=\"0\" width=\"2400\" height=\"1600\"/>\n",
       "  </clipPath>\n",
       "</defs>\n",
       "<path clip-path=\"url(#clip990)\" d=\"M0 1600 L2400 1600 L2400 0 L0 0  Z\" fill=\"#ffffff\" fill-rule=\"evenodd\" fill-opacity=\"1\"/>\n",
       "<defs>\n",
       "  <clipPath id=\"clip991\">\n",
       "    <rect x=\"480\" y=\"0\" width=\"1681\" height=\"1600\"/>\n",
       "  </clipPath>\n",
       "</defs>\n",
       "<path clip-path=\"url(#clip990)\" d=\"M192.941 1486.45 L2352.76 1486.45 L2352.76 47.2441 L192.941 47.2441  Z\" fill=\"#ffffff\" fill-rule=\"evenodd\" fill-opacity=\"1\"/>\n",
       "<defs>\n",
       "  <clipPath id=\"clip992\">\n",
       "    <rect x=\"192\" y=\"47\" width=\"2161\" height=\"1440\"/>\n",
       "  </clipPath>\n",
       "</defs>\n",
       "<polyline clip-path=\"url(#clip992)\" style=\"stroke:#000000; stroke-linecap:round; stroke-linejoin:round; stroke-width:2; stroke-opacity:0.1; fill:none\" points=\"233.486,1486.45 233.486,47.2441 \"/>\n",
       "<polyline clip-path=\"url(#clip992)\" style=\"stroke:#000000; stroke-linecap:round; stroke-linejoin:round; stroke-width:2; stroke-opacity:0.1; fill:none\" points=\"748.022,1486.45 748.022,47.2441 \"/>\n",
       "<polyline clip-path=\"url(#clip992)\" style=\"stroke:#000000; stroke-linecap:round; stroke-linejoin:round; stroke-width:2; stroke-opacity:0.1; fill:none\" points=\"1262.56,1486.45 1262.56,47.2441 \"/>\n",
       "<polyline clip-path=\"url(#clip992)\" style=\"stroke:#000000; stroke-linecap:round; stroke-linejoin:round; stroke-width:2; stroke-opacity:0.1; fill:none\" points=\"1777.09,1486.45 1777.09,47.2441 \"/>\n",
       "<polyline clip-path=\"url(#clip992)\" style=\"stroke:#000000; stroke-linecap:round; stroke-linejoin:round; stroke-width:2; stroke-opacity:0.1; fill:none\" points=\"2291.63,1486.45 2291.63,47.2441 \"/>\n",
       "<polyline clip-path=\"url(#clip990)\" style=\"stroke:#000000; stroke-linecap:round; stroke-linejoin:round; stroke-width:4; stroke-opacity:1; fill:none\" points=\"192.941,1486.45 2352.76,1486.45 \"/>\n",
       "<polyline clip-path=\"url(#clip990)\" style=\"stroke:#000000; stroke-linecap:round; stroke-linejoin:round; stroke-width:4; stroke-opacity:1; fill:none\" points=\"233.486,1486.45 233.486,1467.55 \"/>\n",
       "<polyline clip-path=\"url(#clip990)\" style=\"stroke:#000000; stroke-linecap:round; stroke-linejoin:round; stroke-width:4; stroke-opacity:1; fill:none\" points=\"748.022,1486.45 748.022,1467.55 \"/>\n",
       "<polyline clip-path=\"url(#clip990)\" style=\"stroke:#000000; stroke-linecap:round; stroke-linejoin:round; stroke-width:4; stroke-opacity:1; fill:none\" points=\"1262.56,1486.45 1262.56,1467.55 \"/>\n",
       "<polyline clip-path=\"url(#clip990)\" style=\"stroke:#000000; stroke-linecap:round; stroke-linejoin:round; stroke-width:4; stroke-opacity:1; fill:none\" points=\"1777.09,1486.45 1777.09,1467.55 \"/>\n",
       "<polyline clip-path=\"url(#clip990)\" style=\"stroke:#000000; stroke-linecap:round; stroke-linejoin:round; stroke-width:4; stroke-opacity:1; fill:none\" points=\"2291.63,1486.45 2291.63,1467.55 \"/>\n",
       "<path clip-path=\"url(#clip990)\" d=\"M233.486 1517.37 Q229.875 1517.37 228.046 1520.93 Q226.241 1524.47 226.241 1531.6 Q226.241 1538.71 228.046 1542.27 Q229.875 1545.82 233.486 1545.82 Q237.12 1545.82 238.926 1542.27 Q240.755 1538.71 240.755 1531.6 Q240.755 1524.47 238.926 1520.93 Q237.12 1517.37 233.486 1517.37 M233.486 1513.66 Q239.296 1513.66 242.352 1518.27 Q245.43 1522.85 245.43 1531.6 Q245.43 1540.33 242.352 1544.94 Q239.296 1549.52 233.486 1549.52 Q227.676 1549.52 224.597 1544.94 Q221.542 1540.33 221.542 1531.6 Q221.542 1522.85 224.597 1518.27 Q227.676 1513.66 233.486 1513.66 Z\" fill=\"#000000\" fill-rule=\"nonzero\" fill-opacity=\"1\" /><path clip-path=\"url(#clip990)\" d=\"M727.293 1544.91 L743.612 1544.91 L743.612 1548.85 L721.668 1548.85 L721.668 1544.91 Q724.33 1542.16 728.913 1537.53 Q733.52 1532.88 734.7 1531.53 Q736.945 1529.01 737.825 1527.27 Q738.728 1525.51 738.728 1523.82 Q738.728 1521.07 736.783 1519.33 Q734.862 1517.6 731.76 1517.6 Q729.561 1517.6 727.108 1518.36 Q724.677 1519.13 721.899 1520.68 L721.899 1515.95 Q724.723 1514.82 727.177 1514.24 Q729.631 1513.66 731.668 1513.66 Q737.038 1513.66 740.232 1516.35 Q743.427 1519.03 743.427 1523.52 Q743.427 1525.65 742.617 1527.57 Q741.83 1529.47 739.723 1532.07 Q739.145 1532.74 736.043 1535.95 Q732.941 1539.15 727.293 1544.91 Z\" fill=\"#000000\" fill-rule=\"nonzero\" fill-opacity=\"1\" /><path clip-path=\"url(#clip990)\" d=\"M753.473 1514.29 L771.83 1514.29 L771.83 1518.22 L757.756 1518.22 L757.756 1526.7 Q758.774 1526.35 759.793 1526.19 Q760.811 1526 761.83 1526 Q767.617 1526 770.996 1529.17 Q774.376 1532.34 774.376 1537.76 Q774.376 1543.34 770.904 1546.44 Q767.431 1549.52 761.112 1549.52 Q758.936 1549.52 756.668 1549.15 Q754.422 1548.78 752.015 1548.04 L752.015 1543.34 Q754.098 1544.47 756.32 1545.03 Q758.543 1545.58 761.019 1545.58 Q765.024 1545.58 767.362 1543.48 Q769.7 1541.37 769.7 1537.76 Q769.7 1534.15 767.362 1532.04 Q765.024 1529.94 761.019 1529.94 Q759.144 1529.94 757.269 1530.35 Q755.418 1530.77 753.473 1531.65 L753.473 1514.29 Z\" fill=\"#000000\" fill-rule=\"nonzero\" fill-opacity=\"1\" /><path clip-path=\"url(#clip990)\" d=\"M1237.26 1514.29 L1255.61 1514.29 L1255.61 1518.22 L1241.54 1518.22 L1241.54 1526.7 Q1242.56 1526.35 1243.58 1526.19 Q1244.59 1526 1245.61 1526 Q1251.4 1526 1254.78 1529.17 Q1258.16 1532.34 1258.16 1537.76 Q1258.16 1543.34 1254.69 1546.44 Q1251.22 1549.52 1244.9 1549.52 Q1242.72 1549.52 1240.45 1549.15 Q1238.21 1548.78 1235.8 1548.04 L1235.8 1543.34 Q1237.88 1544.47 1240.1 1545.03 Q1242.33 1545.58 1244.8 1545.58 Q1248.81 1545.58 1251.15 1543.48 Q1253.48 1541.37 1253.48 1537.76 Q1253.48 1534.15 1251.15 1532.04 Q1248.81 1529.94 1244.8 1529.94 Q1242.93 1529.94 1241.05 1530.35 Q1239.2 1530.77 1237.26 1531.65 L1237.26 1514.29 Z\" fill=\"#000000\" fill-rule=\"nonzero\" fill-opacity=\"1\" /><path clip-path=\"url(#clip990)\" d=\"M1277.37 1517.37 Q1273.76 1517.37 1271.93 1520.93 Q1270.13 1524.47 1270.13 1531.6 Q1270.13 1538.71 1271.93 1542.27 Q1273.76 1545.82 1277.37 1545.82 Q1281.01 1545.82 1282.81 1542.27 Q1284.64 1538.71 1284.64 1531.6 Q1284.64 1524.47 1282.81 1520.93 Q1281.01 1517.37 1277.37 1517.37 M1277.37 1513.66 Q1283.18 1513.66 1286.24 1518.27 Q1289.32 1522.85 1289.32 1531.6 Q1289.32 1540.33 1286.24 1544.94 Q1283.18 1549.52 1277.37 1549.52 Q1271.56 1549.52 1268.48 1544.94 Q1265.43 1540.33 1265.43 1531.6 Q1265.43 1522.85 1268.48 1518.27 Q1271.56 1513.66 1277.37 1513.66 Z\" fill=\"#000000\" fill-rule=\"nonzero\" fill-opacity=\"1\" /><path clip-path=\"url(#clip990)\" d=\"M1750.95 1514.29 L1773.17 1514.29 L1773.17 1516.28 L1760.62 1548.85 L1755.74 1548.85 L1767.54 1518.22 L1750.95 1518.22 L1750.95 1514.29 Z\" fill=\"#000000\" fill-rule=\"nonzero\" fill-opacity=\"1\" /><path clip-path=\"url(#clip990)\" d=\"M1782.34 1514.29 L1800.69 1514.29 L1800.69 1518.22 L1786.62 1518.22 L1786.62 1526.7 Q1787.64 1526.35 1788.66 1526.19 Q1789.67 1526 1790.69 1526 Q1796.48 1526 1799.86 1529.17 Q1803.24 1532.34 1803.24 1537.76 Q1803.24 1543.34 1799.77 1546.44 Q1796.29 1549.52 1789.98 1549.52 Q1787.8 1549.52 1785.53 1549.15 Q1783.29 1548.78 1780.88 1548.04 L1780.88 1543.34 Q1782.96 1544.47 1785.18 1545.03 Q1787.41 1545.58 1789.88 1545.58 Q1793.89 1545.58 1796.23 1543.48 Q1798.56 1541.37 1798.56 1537.76 Q1798.56 1534.15 1796.23 1532.04 Q1793.89 1529.94 1789.88 1529.94 Q1788.01 1529.94 1786.13 1530.35 Q1784.28 1530.77 1782.34 1531.65 L1782.34 1514.29 Z\" fill=\"#000000\" fill-rule=\"nonzero\" fill-opacity=\"1\" /><path clip-path=\"url(#clip990)\" d=\"M2251.24 1544.91 L2258.87 1544.91 L2258.87 1518.55 L2250.56 1520.21 L2250.56 1515.95 L2258.83 1514.29 L2263.5 1514.29 L2263.5 1544.91 L2271.14 1544.91 L2271.14 1548.85 L2251.24 1548.85 L2251.24 1544.91 Z\" fill=\"#000000\" fill-rule=\"nonzero\" fill-opacity=\"1\" /><path clip-path=\"url(#clip990)\" d=\"M2290.59 1517.37 Q2286.98 1517.37 2285.15 1520.93 Q2283.34 1524.47 2283.34 1531.6 Q2283.34 1538.71 2285.15 1542.27 Q2286.98 1545.82 2290.59 1545.82 Q2294.22 1545.82 2296.03 1542.27 Q2297.86 1538.71 2297.86 1531.6 Q2297.86 1524.47 2296.03 1520.93 Q2294.22 1517.37 2290.59 1517.37 M2290.59 1513.66 Q2296.4 1513.66 2299.45 1518.27 Q2302.53 1522.85 2302.53 1531.6 Q2302.53 1540.33 2299.45 1544.94 Q2296.4 1549.52 2290.59 1549.52 Q2284.78 1549.52 2281.7 1544.94 Q2278.64 1540.33 2278.64 1531.6 Q2278.64 1522.85 2281.7 1518.27 Q2284.78 1513.66 2290.59 1513.66 Z\" fill=\"#000000\" fill-rule=\"nonzero\" fill-opacity=\"1\" /><path clip-path=\"url(#clip990)\" d=\"M2320.75 1517.37 Q2317.14 1517.37 2315.31 1520.93 Q2313.5 1524.47 2313.5 1531.6 Q2313.5 1538.71 2315.31 1542.27 Q2317.14 1545.82 2320.75 1545.82 Q2324.38 1545.82 2326.19 1542.27 Q2328.02 1538.71 2328.02 1531.6 Q2328.02 1524.47 2326.19 1520.93 Q2324.38 1517.37 2320.75 1517.37 M2320.75 1513.66 Q2326.56 1513.66 2329.61 1518.27 Q2332.69 1522.85 2332.69 1531.6 Q2332.69 1540.33 2329.61 1544.94 Q2326.56 1549.52 2320.75 1549.52 Q2314.94 1549.52 2311.86 1544.94 Q2308.8 1540.33 2308.8 1531.6 Q2308.8 1522.85 2311.86 1518.27 Q2314.94 1513.66 2320.75 1513.66 Z\" fill=\"#000000\" fill-rule=\"nonzero\" fill-opacity=\"1\" /><polyline clip-path=\"url(#clip992)\" style=\"stroke:#000000; stroke-linecap:round; stroke-linejoin:round; stroke-width:2; stroke-opacity:0.1; fill:none\" points=\"192.941,1401.76 2352.76,1401.76 \"/>\n",
       "<polyline clip-path=\"url(#clip992)\" style=\"stroke:#000000; stroke-linecap:round; stroke-linejoin:round; stroke-width:2; stroke-opacity:0.1; fill:none\" points=\"192.941,1093.66 2352.76,1093.66 \"/>\n",
       "<polyline clip-path=\"url(#clip992)\" style=\"stroke:#000000; stroke-linecap:round; stroke-linejoin:round; stroke-width:2; stroke-opacity:0.1; fill:none\" points=\"192.941,785.56 2352.76,785.56 \"/>\n",
       "<polyline clip-path=\"url(#clip992)\" style=\"stroke:#000000; stroke-linecap:round; stroke-linejoin:round; stroke-width:2; stroke-opacity:0.1; fill:none\" points=\"192.941,477.458 2352.76,477.458 \"/>\n",
       "<polyline clip-path=\"url(#clip992)\" style=\"stroke:#000000; stroke-linecap:round; stroke-linejoin:round; stroke-width:2; stroke-opacity:0.1; fill:none\" points=\"192.941,169.355 2352.76,169.355 \"/>\n",
       "<polyline clip-path=\"url(#clip990)\" style=\"stroke:#000000; stroke-linecap:round; stroke-linejoin:round; stroke-width:4; stroke-opacity:1; fill:none\" points=\"192.941,1486.45 192.941,47.2441 \"/>\n",
       "<polyline clip-path=\"url(#clip990)\" style=\"stroke:#000000; stroke-linecap:round; stroke-linejoin:round; stroke-width:4; stroke-opacity:1; fill:none\" points=\"192.941,1401.76 211.838,1401.76 \"/>\n",
       "<polyline clip-path=\"url(#clip990)\" style=\"stroke:#000000; stroke-linecap:round; stroke-linejoin:round; stroke-width:4; stroke-opacity:1; fill:none\" points=\"192.941,1093.66 211.838,1093.66 \"/>\n",
       "<polyline clip-path=\"url(#clip990)\" style=\"stroke:#000000; stroke-linecap:round; stroke-linejoin:round; stroke-width:4; stroke-opacity:1; fill:none\" points=\"192.941,785.56 211.838,785.56 \"/>\n",
       "<polyline clip-path=\"url(#clip990)\" style=\"stroke:#000000; stroke-linecap:round; stroke-linejoin:round; stroke-width:4; stroke-opacity:1; fill:none\" points=\"192.941,477.458 211.838,477.458 \"/>\n",
       "<polyline clip-path=\"url(#clip990)\" style=\"stroke:#000000; stroke-linecap:round; stroke-linejoin:round; stroke-width:4; stroke-opacity:1; fill:none\" points=\"192.941,169.355 211.838,169.355 \"/>\n",
       "<path clip-path=\"url(#clip990)\" d=\"M50.9921 1402.22 L80.6679 1402.22 L80.6679 1406.15 L50.9921 1406.15 L50.9921 1402.22 Z\" fill=\"#000000\" fill-rule=\"nonzero\" fill-opacity=\"1\" /><path clip-path=\"url(#clip990)\" d=\"M94.7882 1415.11 L111.108 1415.11 L111.108 1419.04 L89.1632 1419.04 L89.1632 1415.11 Q91.8252 1412.35 96.4085 1407.73 Q101.015 1403.07 102.196 1401.73 Q104.441 1399.21 105.321 1397.47 Q106.223 1395.71 106.223 1394.02 Q106.223 1391.27 104.279 1389.53 Q102.358 1387.79 99.2558 1387.79 Q97.0567 1387.79 94.603 1388.56 Q92.1725 1389.32 89.3947 1390.87 L89.3947 1386.15 Q92.2188 1385.02 94.6724 1384.44 Q97.1261 1383.86 99.1632 1383.86 Q104.534 1383.86 107.728 1386.54 Q110.922 1389.23 110.922 1393.72 Q110.922 1395.85 110.112 1397.77 Q109.325 1399.67 107.219 1402.26 Q106.64 1402.93 103.538 1406.15 Q100.436 1409.35 94.7882 1415.11 Z\" fill=\"#000000\" fill-rule=\"nonzero\" fill-opacity=\"1\" /><path clip-path=\"url(#clip990)\" d=\"M120.922 1413.16 L125.807 1413.16 L125.807 1419.04 L120.922 1419.04 L120.922 1413.16 Z\" fill=\"#000000\" fill-rule=\"nonzero\" fill-opacity=\"1\" /><path clip-path=\"url(#clip990)\" d=\"M136.038 1384.48 L154.394 1384.48 L154.394 1388.42 L140.32 1388.42 L140.32 1396.89 Q141.339 1396.54 142.357 1396.38 Q143.376 1396.2 144.394 1396.2 Q150.181 1396.2 153.561 1399.37 Q156.941 1402.54 156.941 1407.96 Q156.941 1413.54 153.468 1416.64 Q149.996 1419.72 143.677 1419.72 Q141.501 1419.72 139.232 1419.35 Q136.987 1418.98 134.58 1418.23 L134.58 1413.54 Q136.663 1414.67 138.885 1415.23 Q141.107 1415.78 143.584 1415.78 Q147.589 1415.78 149.927 1413.67 Q152.265 1411.57 152.265 1407.96 Q152.265 1404.35 149.927 1402.24 Q147.589 1400.13 143.584 1400.13 Q141.709 1400.13 139.834 1400.55 Q137.982 1400.97 136.038 1401.85 L136.038 1384.48 Z\" fill=\"#000000\" fill-rule=\"nonzero\" fill-opacity=\"1\" /><path clip-path=\"url(#clip990)\" d=\"M99.765 1079.46 Q96.1539 1079.46 94.3252 1083.03 Q92.5197 1086.57 92.5197 1093.7 Q92.5197 1100.8 94.3252 1104.37 Q96.1539 1107.91 99.765 1107.91 Q103.399 1107.91 105.205 1104.37 Q107.033 1100.8 107.033 1093.7 Q107.033 1086.57 105.205 1083.03 Q103.399 1079.46 99.765 1079.46 M99.765 1075.76 Q105.575 1075.76 108.631 1080.36 Q111.709 1084.95 111.709 1093.7 Q111.709 1102.42 108.631 1107.03 Q105.575 1111.61 99.765 1111.61 Q93.9549 1111.61 90.8762 1107.03 Q87.8206 1102.42 87.8206 1093.7 Q87.8206 1084.95 90.8762 1080.36 Q93.9549 1075.76 99.765 1075.76 Z\" fill=\"#000000\" fill-rule=\"nonzero\" fill-opacity=\"1\" /><path clip-path=\"url(#clip990)\" d=\"M119.927 1105.06 L124.811 1105.06 L124.811 1110.94 L119.927 1110.94 L119.927 1105.06 Z\" fill=\"#000000\" fill-rule=\"nonzero\" fill-opacity=\"1\" /><path clip-path=\"url(#clip990)\" d=\"M144.996 1079.46 Q141.385 1079.46 139.556 1083.03 Q137.751 1086.57 137.751 1093.7 Q137.751 1100.8 139.556 1104.37 Q141.385 1107.91 144.996 1107.91 Q148.63 1107.91 150.436 1104.37 Q152.265 1100.8 152.265 1093.7 Q152.265 1086.57 150.436 1083.03 Q148.63 1079.46 144.996 1079.46 M144.996 1075.76 Q150.806 1075.76 153.862 1080.36 Q156.941 1084.95 156.941 1093.7 Q156.941 1102.42 153.862 1107.03 Q150.806 1111.61 144.996 1111.61 Q139.186 1111.61 136.107 1107.03 Q133.052 1102.42 133.052 1093.7 Q133.052 1084.95 136.107 1080.36 Q139.186 1075.76 144.996 1075.76 Z\" fill=\"#000000\" fill-rule=\"nonzero\" fill-opacity=\"1\" /><path clip-path=\"url(#clip990)\" d=\"M94.7882 798.905 L111.108 798.905 L111.108 802.84 L89.1632 802.84 L89.1632 798.905 Q91.8252 796.15 96.4085 791.521 Q101.015 786.868 102.196 785.525 Q104.441 783.002 105.321 781.266 Q106.223 779.507 106.223 777.817 Q106.223 775.062 104.279 773.326 Q102.358 771.59 99.2558 771.59 Q97.0567 771.59 94.603 772.354 Q92.1725 773.118 89.3947 774.669 L89.3947 769.947 Q92.2188 768.812 94.6724 768.234 Q97.1261 767.655 99.1632 767.655 Q104.534 767.655 107.728 770.34 Q110.922 773.025 110.922 777.516 Q110.922 779.646 110.112 781.567 Q109.325 783.465 107.219 786.058 Q106.64 786.729 103.538 789.947 Q100.436 793.141 94.7882 798.905 Z\" fill=\"#000000\" fill-rule=\"nonzero\" fill-opacity=\"1\" /><path clip-path=\"url(#clip990)\" d=\"M120.922 796.96 L125.807 796.96 L125.807 802.84 L120.922 802.84 L120.922 796.96 Z\" fill=\"#000000\" fill-rule=\"nonzero\" fill-opacity=\"1\" /><path clip-path=\"url(#clip990)\" d=\"M136.038 768.28 L154.394 768.28 L154.394 772.215 L140.32 772.215 L140.32 780.687 Q141.339 780.34 142.357 780.178 Q143.376 779.993 144.394 779.993 Q150.181 779.993 153.561 783.164 Q156.941 786.335 156.941 791.752 Q156.941 797.331 153.468 800.433 Q149.996 803.511 143.677 803.511 Q141.501 803.511 139.232 803.141 Q136.987 802.771 134.58 802.03 L134.58 797.331 Q136.663 798.465 138.885 799.021 Q141.107 799.576 143.584 799.576 Q147.589 799.576 149.927 797.47 Q152.265 795.363 152.265 791.752 Q152.265 788.141 149.927 786.034 Q147.589 783.928 143.584 783.928 Q141.709 783.928 139.834 784.345 Q137.982 784.761 136.038 785.641 L136.038 768.28 Z\" fill=\"#000000\" fill-rule=\"nonzero\" fill-opacity=\"1\" /><path clip-path=\"url(#clip990)\" d=\"M89.8114 460.178 L108.168 460.178 L108.168 464.113 L94.0937 464.113 L94.0937 472.585 Q95.1123 472.238 96.1308 472.076 Q97.1493 471.891 98.1678 471.891 Q103.955 471.891 107.334 475.062 Q110.714 478.233 110.714 483.65 Q110.714 489.228 107.242 492.33 Q103.77 495.409 97.4502 495.409 Q95.2743 495.409 93.0058 495.039 Q90.7604 494.668 88.353 493.928 L88.353 489.228 Q90.4364 490.363 92.6586 490.918 Q94.8808 491.474 97.3576 491.474 Q101.362 491.474 103.7 489.367 Q106.038 487.261 106.038 483.65 Q106.038 480.039 103.7 477.932 Q101.362 475.826 97.3576 475.826 Q95.4826 475.826 93.6076 476.242 Q91.7558 476.659 89.8114 477.539 L89.8114 460.178 Z\" fill=\"#000000\" fill-rule=\"nonzero\" fill-opacity=\"1\" /><path clip-path=\"url(#clip990)\" d=\"M119.927 488.858 L124.811 488.858 L124.811 494.738 L119.927 494.738 L119.927 488.858 Z\" fill=\"#000000\" fill-rule=\"nonzero\" fill-opacity=\"1\" /><path clip-path=\"url(#clip990)\" d=\"M144.996 463.256 Q141.385 463.256 139.556 466.821 Q137.751 470.363 137.751 477.492 Q137.751 484.599 139.556 488.164 Q141.385 491.705 144.996 491.705 Q148.63 491.705 150.436 488.164 Q152.265 484.599 152.265 477.492 Q152.265 470.363 150.436 466.821 Q148.63 463.256 144.996 463.256 M144.996 459.553 Q150.806 459.553 153.862 464.159 Q156.941 468.742 156.941 477.492 Q156.941 486.219 153.862 490.826 Q150.806 495.409 144.996 495.409 Q139.186 495.409 136.107 490.826 Q133.052 486.219 133.052 477.492 Q133.052 468.742 136.107 464.159 Q139.186 459.553 144.996 459.553 Z\" fill=\"#000000\" fill-rule=\"nonzero\" fill-opacity=\"1\" /><path clip-path=\"url(#clip990)\" d=\"M89.5799 152.075 L111.802 152.075 L111.802 154.066 L99.2558 186.635 L94.3715 186.635 L106.177 156.011 L89.5799 156.011 L89.5799 152.075 Z\" fill=\"#000000\" fill-rule=\"nonzero\" fill-opacity=\"1\" /><path clip-path=\"url(#clip990)\" d=\"M120.922 180.756 L125.807 180.756 L125.807 186.635 L120.922 186.635 L120.922 180.756 Z\" fill=\"#000000\" fill-rule=\"nonzero\" fill-opacity=\"1\" /><path clip-path=\"url(#clip990)\" d=\"M136.038 152.075 L154.394 152.075 L154.394 156.011 L140.32 156.011 L140.32 164.483 Q141.339 164.136 142.357 163.973 Q143.376 163.788 144.394 163.788 Q150.181 163.788 153.561 166.96 Q156.941 170.131 156.941 175.548 Q156.941 181.126 153.468 184.228 Q149.996 187.307 143.677 187.307 Q141.501 187.307 139.232 186.936 Q136.987 186.566 134.58 185.825 L134.58 181.126 Q136.663 182.26 138.885 182.816 Q141.107 183.372 143.584 183.372 Q147.589 183.372 149.927 181.265 Q152.265 179.159 152.265 175.548 Q152.265 171.936 149.927 169.83 Q147.589 167.723 143.584 167.723 Q141.709 167.723 139.834 168.14 Q137.982 168.557 136.038 169.436 L136.038 152.075 Z\" fill=\"#000000\" fill-rule=\"nonzero\" fill-opacity=\"1\" /><polyline clip-path=\"url(#clip992)\" style=\"stroke:#009af9; stroke-linecap:round; stroke-linejoin:round; stroke-width:4; stroke-opacity:1; fill:none\" points=\"254.067,1062.92 274.649,1074.75 295.23,951.351 315.812,979.96 336.393,1075.82 356.975,356.274 377.556,977.636 398.137,1008.02 418.719,1074.99 439.3,1056.22 459.882,965.82 480.463,567.308 501.045,1090.94 521.626,1038.47 542.208,1058.98 562.789,1046 583.37,1079.98 603.952,1009.38 624.533,1074.67 645.115,799.807 665.696,791.944 686.278,1056.76 706.859,1080.76 727.44,979.878 748.022,1040.51 768.603,1062.5 789.185,1031.42 809.766,1078.3 830.348,1027.12 850.929,662.843 871.51,1093.18 892.092,1081.1 912.673,973.455 933.255,1082.56 953.836,1000.99 974.418,1089.41 994.999,939.304 1015.58,1093.65 1036.16,1083.86 1056.74,939.806 1077.32,1054.8 1097.91,1029.26 1118.49,991.215 1139.07,1093.41 1159.65,1068.5 1180.23,1093.41 1200.81,913.162 1221.39,1065.1 1241.98,1076.26 1262.56,836.835 1283.14,1024.76 1303.72,1075.86 1324.3,1051.25 1344.88,959.253 1365.46,1091.74 1386.05,989.784 1406.63,458.068 1427.21,1048.89 1447.79,1070 1468.37,929.877 1488.95,443.866 1509.53,705.513 1530.12,1093.47 1550.7,1093.64 1571.28,623.188 1591.86,991.114 1612.44,1093.63 1633.02,1048.76 1653.6,1081.23 1674.19,1088.27 1694.77,1004.5 1715.35,1013.89 1735.93,1074.83 1756.51,989.581 1777.09,934.348 1797.67,1083.03 1818.26,454.421 1838.84,874.333 1859.42,915.844 1880,1092.87 1900.58,1077.72 1921.16,932.844 1941.74,87.9763 1962.33,909.8 1982.91,929.124 2003.49,1077.82 2024.07,1089.2 2044.65,855.254 2065.23,974.887 2085.81,1093.55 2106.4,1080.7 2126.98,943.66 2147.56,542.113 2168.14,636.854 2188.72,979.389 2209.3,1050.76 2229.88,1026.88 2250.47,947.263 2271.05,1088.27 2291.63,1076.38 \"/>\n",
       "<polyline clip-path=\"url(#clip992)\" style=\"stroke:#e26f46; stroke-linecap:round; stroke-linejoin:round; stroke-width:4; stroke-opacity:1; fill:none\" points=\"254.067,1155.21 274.649,1141.94 295.23,961.229 315.812,1212.04 336.393,1140.56 356.975,1395.12 377.556,974.083 398.137,990.925 418.719,1045.7 439.3,1161.59 459.882,968.142 480.463,838.97 501.045,1075.34 521.626,1176.14 542.208,1159.04 562.789,1017.02 583.37,1134.73 603.952,1195.58 624.533,1045.28 645.115,1283.96 665.696,1286.49 686.278,1161.1 706.859,1053.78 727.44,1212.08 748.022,1012.73 768.603,1031.69 789.185,1181.24 809.766,1050.15 830.348,1184.22 850.929,863.24 871.51,1085.93 892.092,1133.01 912.673,1215.38 933.255,1056.67 953.836,1200.53 974.418,1116.56 994.999,1231.59 1015.58,1094.76 1036.16,1058.91 1056.74,955.962 1077.32,1024.45 1097.91,1182.75 1118.49,981.298 1139.07,1099.18 1159.65,1149.35 1180.23,1088.08 1200.81,944.515 1221.39,1152.99 1241.98,1047.35 1262.56,1271.57 1283.14,1001.51 1303.72,1140.5 1324.3,1021.37 1344.88,964.958 1365.46,1109.05 1386.05,1206.81 1406.63,1373.54 1427.21,1019.38 1447.79,1039.66 1468.37,951.588 1488.95,1376.65 1509.53,874.948 1530.12,1088.79 1550.7,1095.22 1571.28,1334.46 1591.86,981.243 1612.44,1095.72 1633.02,1019.28 1653.6,1132.81 1674.19,1119.43 1694.77,988.835 1715.35,994.507 1735.93,1045.48 1756.51,1206.92 1777.09,953.541 1797.67,1129.86 1818.26,812.983 1838.84,929.253 1859.42,945.627 1880,1083.77 1900.58,1137.99 1921.16,1234.44 1941.74,1445.72 1962.33,1244.19 1982.91,1236.06 2003.49,1049.48 2024.07,1117.11 2044.65,1265.07 2065.23,1214.65 2085.81,1097.3 2106.4,1053.7 2126.98,1229.63 2147.56,832.945 2168.14,1330.93 2188.72,974.99 2209.3,1166.37 2229.88,1002.94 2250.47,1227.98 2271.05,1119.43 2291.63,1139.81 \"/>\n",
       "<path clip-path=\"url(#clip990)\" d=\"M264.934 250.738 L528.09 250.738 L528.09 95.2176 L264.934 95.2176  Z\" fill=\"#ffffff\" fill-rule=\"evenodd\" fill-opacity=\"1\"/>\n",
       "<polyline clip-path=\"url(#clip990)\" style=\"stroke:#000000; stroke-linecap:round; stroke-linejoin:round; stroke-width:4; stroke-opacity:1; fill:none\" points=\"264.934,250.738 528.09,250.738 528.09,95.2176 264.934,95.2176 264.934,250.738 \"/>\n",
       "<polyline clip-path=\"url(#clip990)\" style=\"stroke:#009af9; stroke-linecap:round; stroke-linejoin:round; stroke-width:4; stroke-opacity:1; fill:none\" points=\"288.932,147.058 432.92,147.058 \"/>\n",
       "<path clip-path=\"url(#clip990)\" d=\"M480.809 147.001 Q480.809 148.312 479.989 149.062 Q479.169 149.788 478.232 149.788 Q477.342 149.788 476.874 149.273 Q476.406 148.757 476.406 148.102 Q476.406 147.212 477.061 146.439 Q477.717 145.666 478.701 145.502 Q477.741 144.893 476.312 144.893 Q475.375 144.893 474.555 145.385 Q473.759 145.877 473.267 146.509 Q472.798 147.141 472.377 148.055 Q471.979 148.945 471.815 149.484 Q471.674 149.999 471.557 150.561 L469.918 157.119 Q469.121 160.234 469.121 161.335 Q469.121 162.694 469.777 163.607 Q470.433 164.497 471.744 164.497 Q472.26 164.497 472.845 164.357 Q473.431 164.193 474.18 163.771 Q474.953 163.326 475.633 162.67 Q476.335 161.991 477.015 160.843 Q477.694 159.696 478.139 158.22 Q478.279 157.705 478.748 157.705 Q479.333 157.705 479.333 158.173 Q479.333 158.571 479.005 159.415 Q478.701 160.234 478.022 161.312 Q477.366 162.366 476.499 163.326 Q475.633 164.263 474.344 164.919 Q473.056 165.575 471.651 165.575 Q469.636 165.575 468.301 164.497 Q466.966 163.42 466.474 161.921 Q466.357 162.132 466.193 162.413 Q466.029 162.694 465.538 163.326 Q465.069 163.935 464.53 164.404 Q463.992 164.849 463.148 165.2 Q462.329 165.575 461.439 165.575 Q460.314 165.575 459.307 165.247 Q458.323 164.919 457.621 164.169 Q456.918 163.42 456.918 162.389 Q456.918 161.242 457.691 160.445 Q458.487 159.625 459.565 159.625 Q460.244 159.625 460.783 160.024 Q461.345 160.422 461.345 161.288 Q461.345 162.249 460.689 162.975 Q460.033 163.701 459.096 163.888 Q460.057 164.497 461.485 164.497 Q463.031 164.497 464.249 163.139 Q465.467 161.78 466.053 159.508 Q467.505 154.051 468.067 151.615 Q468.629 149.156 468.629 148.102 Q468.629 147.118 468.372 146.439 Q468.114 145.759 467.669 145.455 Q467.247 145.127 466.849 145.01 Q466.474 144.893 466.053 144.893 Q465.35 144.893 464.554 145.174 Q463.781 145.455 462.844 146.111 Q461.93 146.743 461.064 148.055 Q460.197 149.366 459.612 151.17 Q459.495 151.709 458.979 151.709 Q458.417 151.685 458.417 151.217 Q458.417 150.819 458.722 149.999 Q459.049 149.156 459.705 148.102 Q460.385 147.048 461.251 146.111 Q462.141 145.15 463.429 144.495 Q464.741 143.839 466.146 143.839 Q466.779 143.839 467.388 143.979 Q468.02 144.096 468.77 144.448 Q469.543 144.799 470.222 145.572 Q470.901 146.345 471.323 147.469 Q471.604 146.931 471.979 146.415 Q472.377 145.9 472.986 145.268 Q473.618 144.612 474.485 144.237 Q475.375 143.839 476.359 143.839 Q477.319 143.839 478.256 144.096 Q479.193 144.331 479.989 145.104 Q480.809 145.853 480.809 147.001 Z\" fill=\"#000000\" fill-rule=\"nonzero\" fill-opacity=\"1\" /><path clip-path=\"url(#clip990)\" d=\"M485.694 150.696 Q485.694 150.09 485.743 149.909 Q485.809 149.729 486.071 149.45 L492.515 142.269 Q496.04 138.301 496.04 134.842 Q496.04 132.595 494.86 130.989 Q493.695 129.382 491.548 129.382 Q490.072 129.382 488.826 130.284 Q487.58 131.185 487.006 132.792 Q487.104 132.759 487.449 132.759 Q488.285 132.759 488.744 133.284 Q489.219 133.809 489.219 134.514 Q489.219 135.415 488.629 135.858 Q488.055 136.284 487.481 136.284 Q487.252 136.284 486.94 136.235 Q486.645 136.186 486.17 135.727 Q485.694 135.251 485.694 134.415 Q485.694 132.071 487.465 130.202 Q489.252 128.332 491.974 128.332 Q495.056 128.332 497.073 130.169 Q499.106 131.989 499.106 134.842 Q499.106 135.842 498.794 136.76 Q498.499 137.662 498.089 138.367 Q497.696 139.072 496.614 140.203 Q495.532 141.334 494.663 142.138 Q493.794 142.941 491.843 144.646 L488.285 148.106 L494.335 148.106 Q497.286 148.106 497.516 147.843 Q497.844 147.368 498.253 144.859 L499.106 144.859 L498.155 150.696 L485.694 150.696 Z\" fill=\"#000000\" fill-rule=\"nonzero\" fill-opacity=\"1\" /><polyline clip-path=\"url(#clip990)\" style=\"stroke:#e26f46; stroke-linecap:round; stroke-linejoin:round; stroke-width:4; stroke-opacity:1; fill:none\" points=\"288.932,198.898 432.92,198.898 \"/>\n",
       "<path clip-path=\"url(#clip990)\" d=\"M480.809 191.089 Q480.809 192.4 479.989 193.15 Q479.169 193.876 478.232 193.876 Q477.342 193.876 476.874 193.361 Q476.406 192.846 476.406 192.19 Q476.406 191.3 477.061 190.527 Q477.717 189.754 478.701 189.59 Q477.741 188.981 476.312 188.981 Q475.375 188.981 474.555 189.473 Q473.759 189.965 473.267 190.597 Q472.798 191.229 472.377 192.143 Q471.979 193.033 471.815 193.572 Q471.674 194.087 471.557 194.649 L469.918 201.207 Q469.121 204.323 469.121 205.423 Q469.121 206.782 469.777 207.695 Q470.433 208.585 471.744 208.585 Q472.26 208.585 472.845 208.445 Q473.431 208.281 474.18 207.859 Q474.953 207.414 475.633 206.758 Q476.335 206.079 477.015 204.931 Q477.694 203.784 478.139 202.308 Q478.279 201.793 478.748 201.793 Q479.333 201.793 479.333 202.261 Q479.333 202.66 479.005 203.503 Q478.701 204.323 478.022 205.4 Q477.366 206.454 476.499 207.414 Q475.633 208.351 474.344 209.007 Q473.056 209.663 471.651 209.663 Q469.636 209.663 468.301 208.585 Q466.966 207.508 466.474 206.009 Q466.357 206.22 466.193 206.501 Q466.029 206.782 465.538 207.414 Q465.069 208.023 464.53 208.492 Q463.992 208.937 463.148 209.288 Q462.329 209.663 461.439 209.663 Q460.314 209.663 459.307 209.335 Q458.323 209.007 457.621 208.257 Q456.918 207.508 456.918 206.477 Q456.918 205.33 457.691 204.533 Q458.487 203.714 459.565 203.714 Q460.244 203.714 460.783 204.112 Q461.345 204.51 461.345 205.377 Q461.345 206.337 460.689 207.063 Q460.033 207.789 459.096 207.976 Q460.057 208.585 461.485 208.585 Q463.031 208.585 464.249 207.227 Q465.467 205.868 466.053 203.596 Q467.505 198.139 468.067 195.703 Q468.629 193.244 468.629 192.19 Q468.629 191.206 468.372 190.527 Q468.114 189.847 467.669 189.543 Q467.247 189.215 466.849 189.098 Q466.474 188.981 466.053 188.981 Q465.35 188.981 464.554 189.262 Q463.781 189.543 462.844 190.199 Q461.93 190.831 461.064 192.143 Q460.197 193.455 459.612 195.258 Q459.495 195.797 458.979 195.797 Q458.417 195.773 458.417 195.305 Q458.417 194.907 458.722 194.087 Q459.049 193.244 459.705 192.19 Q460.385 191.136 461.251 190.199 Q462.141 189.238 463.429 188.583 Q464.741 187.927 466.146 187.927 Q466.779 187.927 467.388 188.067 Q468.02 188.184 468.77 188.536 Q469.543 188.887 470.222 189.66 Q470.901 190.433 471.323 191.557 Q471.604 191.019 471.979 190.503 Q472.377 189.988 472.986 189.356 Q473.618 188.7 474.485 188.325 Q475.375 187.927 476.359 187.927 Q477.319 187.927 478.256 188.184 Q479.193 188.419 479.989 189.192 Q480.809 189.941 480.809 191.089 Z\" fill=\"#000000\" fill-rule=\"nonzero\" fill-opacity=\"1\" /></svg>\n"
      ]
     },
     "metadata": {},
     "output_type": "display_data"
    }
   ],
   "source": [
    "# direct solution with broadcasting, and small user-defined function\n",
    "n = 100\n",
    "f(x) = x^2\n",
    "\n",
    "x = randn(n)\n",
    "plot(f.(x), label = L\"x^2\")\n",
    "plot!(x, label = L\"x\") # layer on the same plot"
   ]
  },
  {
   "cell_type": "markdown",
   "id": "8654ec8b",
   "metadata": {},
   "source": [
    "While broadcasting above superficially looks like vectorizing functions in MATLAB, or Python ufuncs, it is much richer and built on core foundations of the language.\n",
    "\n",
    "The other additional function `plot!` adds a graph to the existing plot.\n",
    "\n",
    "This follows a general convention in Julia, where a function that modifies the arguments or a global state has a `!` at the end of its name.\n",
    "\n",
    "The `L` in front of the labels is using the LaTeXStrings package, which will try to interpret the text as latex for display."
   ]
  },
  {
   "cell_type": "markdown",
   "id": "dd6c557a",
   "metadata": {},
   "source": [
    "#### A Slightly More Useful Function\n",
    "\n",
    "Let’s make a slightly more useful function.\n",
    "\n",
    "This function will be passed in a choice of probability distribution and respond by plotting a histogram of observations.\n",
    "\n",
    "In doing so we’ll make use of the `Distributions` package, which we assume was instantiated above with the project.\n",
    "\n",
    "Here’s the code"
   ]
  },
  {
   "cell_type": "code",
   "execution_count": 19,
   "id": "f02eb5ae",
   "metadata": {
    "hide-output": false
   },
   "outputs": [
    {
     "data": {
      "image/png": "[encoded data removed]",
      "image/svg+xml": [
       "<?xml version=\"1.0\" encoding=\"utf-8\"?>\n",
       "<svg xmlns=\"http://www.w3.org/2000/svg\" xmlns:xlink=\"http://www.w3.org/1999/xlink\" width=\"600\" height=\"400\" viewBox=\"0 0 2400 1600\">\n",
       "<defs>\n",
       "  <clipPath id=\"clip030\">\n",
       "    <rect x=\"0\" y=\"0\" width=\"2400\" height=\"1600\"/>\n",
       "  </clipPath>\n",
       "</defs>\n",
       "<path clip-path=\"url(#clip030)\" d=\"M0 1600 L2400 1600 L2400 0 L0 0  Z\" fill=\"#ffffff\" fill-rule=\"evenodd\" fill-opacity=\"1\"/>\n",
       "<defs>\n",
       "  <clipPath id=\"clip031\">\n",
       "    <rect x=\"480\" y=\"0\" width=\"1681\" height=\"1600\"/>\n",
       "  </clipPath>\n",
       "</defs>\n",
       "<path clip-path=\"url(#clip030)\" d=\"M141.853 1486.45 L2352.76 1486.45 L2352.76 47.2441 L141.853 47.2441  Z\" fill=\"#ffffff\" fill-rule=\"evenodd\" fill-opacity=\"1\"/>\n",
       "<defs>\n",
       "  <clipPath id=\"clip032\">\n",
       "    <rect x=\"141\" y=\"47\" width=\"2212\" height=\"1440\"/>\n",
       "  </clipPath>\n",
       "</defs>\n",
       "<polyline clip-path=\"url(#clip032)\" style=\"stroke:#000000; stroke-linecap:round; stroke-linejoin:round; stroke-width:2; stroke-opacity:0.1; fill:none\" points=\"190.579,1486.45 190.579,47.2441 \"/>\n",
       "<polyline clip-path=\"url(#clip032)\" style=\"stroke:#000000; stroke-linecap:round; stroke-linejoin:round; stroke-width:2; stroke-opacity:0.1; fill:none\" points=\"627.845,1486.45 627.845,47.2441 \"/>\n",
       "<polyline clip-path=\"url(#clip032)\" style=\"stroke:#000000; stroke-linecap:round; stroke-linejoin:round; stroke-width:2; stroke-opacity:0.1; fill:none\" points=\"1065.11,1486.45 1065.11,47.2441 \"/>\n",
       "<polyline clip-path=\"url(#clip032)\" style=\"stroke:#000000; stroke-linecap:round; stroke-linejoin:round; stroke-width:2; stroke-opacity:0.1; fill:none\" points=\"1502.38,1486.45 1502.38,47.2441 \"/>\n",
       "<polyline clip-path=\"url(#clip032)\" style=\"stroke:#000000; stroke-linecap:round; stroke-linejoin:round; stroke-width:2; stroke-opacity:0.1; fill:none\" points=\"1939.64,1486.45 1939.64,47.2441 \"/>\n",
       "<polyline clip-path=\"url(#clip030)\" style=\"stroke:#000000; stroke-linecap:round; stroke-linejoin:round; stroke-width:4; stroke-opacity:1; fill:none\" points=\"141.853,1486.45 2352.76,1486.45 \"/>\n",
       "<polyline clip-path=\"url(#clip030)\" style=\"stroke:#000000; stroke-linecap:round; stroke-linejoin:round; stroke-width:4; stroke-opacity:1; fill:none\" points=\"190.579,1486.45 190.579,1467.55 \"/>\n",
       "<polyline clip-path=\"url(#clip030)\" style=\"stroke:#000000; stroke-linecap:round; stroke-linejoin:round; stroke-width:4; stroke-opacity:1; fill:none\" points=\"627.845,1486.45 627.845,1467.55 \"/>\n",
       "<polyline clip-path=\"url(#clip030)\" style=\"stroke:#000000; stroke-linecap:round; stroke-linejoin:round; stroke-width:4; stroke-opacity:1; fill:none\" points=\"1065.11,1486.45 1065.11,1467.55 \"/>\n",
       "<polyline clip-path=\"url(#clip030)\" style=\"stroke:#000000; stroke-linecap:round; stroke-linejoin:round; stroke-width:4; stroke-opacity:1; fill:none\" points=\"1502.38,1486.45 1502.38,1467.55 \"/>\n",
       "<polyline clip-path=\"url(#clip030)\" style=\"stroke:#000000; stroke-linecap:round; stroke-linejoin:round; stroke-width:4; stroke-opacity:1; fill:none\" points=\"1939.64,1486.45 1939.64,1467.55 \"/>\n",
       "<path clip-path=\"url(#clip030)\" d=\"M159.642 1532.02 L189.317 1532.02 L189.317 1535.95 L159.642 1535.95 L159.642 1532.02 Z\" fill=\"#000000\" fill-rule=\"nonzero\" fill-opacity=\"1\" /><path clip-path=\"url(#clip030)\" d=\"M209.989 1529.7 Q206.84 1529.7 204.989 1531.86 Q203.16 1534.01 203.16 1537.76 Q203.16 1541.49 204.989 1543.66 Q206.84 1545.82 209.989 1545.82 Q213.137 1545.82 214.965 1543.66 Q216.817 1541.49 216.817 1537.76 Q216.817 1534.01 214.965 1531.86 Q213.137 1529.7 209.989 1529.7 M219.271 1515.05 L219.271 1519.31 Q217.512 1518.48 215.706 1518.04 Q213.924 1517.6 212.164 1517.6 Q207.535 1517.6 205.081 1520.72 Q202.651 1523.85 202.303 1530.17 Q203.669 1528.15 205.729 1527.09 Q207.789 1526 210.266 1526 Q215.475 1526 218.484 1529.17 Q221.516 1532.32 221.516 1537.76 Q221.516 1543.08 218.368 1546.3 Q215.22 1549.52 209.989 1549.52 Q203.993 1549.52 200.822 1544.94 Q197.651 1540.33 197.651 1531.6 Q197.651 1523.41 201.54 1518.55 Q205.428 1513.66 211.979 1513.66 Q213.739 1513.66 215.521 1514.01 Q217.326 1514.36 219.271 1515.05 Z\" fill=\"#000000\" fill-rule=\"nonzero\" fill-opacity=\"1\" /><path clip-path=\"url(#clip030)\" d=\"M597.312 1532.02 L626.988 1532.02 L626.988 1535.95 L597.312 1535.95 L597.312 1532.02 Z\" fill=\"#000000\" fill-rule=\"nonzero\" fill-opacity=\"1\" /><path clip-path=\"url(#clip030)\" d=\"M651.247 1530.21 Q654.604 1530.93 656.479 1533.2 Q658.377 1535.47 658.377 1538.8 Q658.377 1543.92 654.858 1546.72 Q651.34 1549.52 644.858 1549.52 Q642.683 1549.52 640.368 1549.08 Q638.076 1548.66 635.622 1547.81 L635.622 1543.29 Q637.567 1544.43 639.882 1545.01 Q642.196 1545.58 644.72 1545.58 Q649.118 1545.58 651.409 1543.85 Q653.724 1542.11 653.724 1538.8 Q653.724 1535.75 651.571 1534.03 Q649.442 1532.3 645.622 1532.3 L641.595 1532.3 L641.595 1528.45 L645.808 1528.45 Q649.257 1528.45 651.085 1527.09 Q652.914 1525.7 652.914 1523.11 Q652.914 1520.45 651.016 1519.03 Q649.141 1517.6 645.622 1517.6 Q643.701 1517.6 641.502 1518.01 Q639.303 1518.43 636.664 1519.31 L636.664 1515.14 Q639.326 1514.4 641.641 1514.03 Q643.979 1513.66 646.039 1513.66 Q651.363 1513.66 654.465 1516.09 Q657.567 1518.5 657.567 1522.62 Q657.567 1525.49 655.923 1527.48 Q654.28 1529.45 651.247 1530.21 Z\" fill=\"#000000\" fill-rule=\"nonzero\" fill-opacity=\"1\" /><path clip-path=\"url(#clip030)\" d=\"M1065.11 1517.37 Q1061.5 1517.37 1059.67 1520.93 Q1057.87 1524.47 1057.87 1531.6 Q1057.87 1538.71 1059.67 1542.27 Q1061.5 1545.82 1065.11 1545.82 Q1068.74 1545.82 1070.55 1542.27 Q1072.38 1538.71 1072.38 1531.6 Q1072.38 1524.47 1070.55 1520.93 Q1068.74 1517.37 1065.11 1517.37 M1065.11 1513.66 Q1070.92 1513.66 1073.98 1518.27 Q1077.05 1522.85 1077.05 1531.6 Q1077.05 1540.33 1073.98 1544.94 Q1070.92 1549.52 1065.11 1549.52 Q1059.3 1549.52 1056.22 1544.94 Q1053.17 1540.33 1053.17 1531.6 Q1053.17 1522.85 1056.22 1518.27 Q1059.3 1513.66 1065.11 1513.66 Z\" fill=\"#000000\" fill-rule=\"nonzero\" fill-opacity=\"1\" /><path clip-path=\"url(#clip030)\" d=\"M1506.62 1530.21 Q1509.98 1530.93 1511.86 1533.2 Q1513.75 1535.47 1513.75 1538.8 Q1513.75 1543.92 1510.23 1546.72 Q1506.72 1549.52 1500.23 1549.52 Q1498.06 1549.52 1495.74 1549.08 Q1493.45 1548.66 1491 1547.81 L1491 1543.29 Q1492.94 1544.43 1495.26 1545.01 Q1497.57 1545.58 1500.1 1545.58 Q1504.49 1545.58 1506.79 1543.85 Q1509.1 1542.11 1509.1 1538.8 Q1509.1 1535.75 1506.95 1534.03 Q1504.82 1532.3 1501 1532.3 L1496.97 1532.3 L1496.97 1528.45 L1501.18 1528.45 Q1504.63 1528.45 1506.46 1527.09 Q1508.29 1525.7 1508.29 1523.11 Q1508.29 1520.45 1506.39 1519.03 Q1504.52 1517.6 1501 1517.6 Q1499.08 1517.6 1496.88 1518.01 Q1494.68 1518.43 1492.04 1519.31 L1492.04 1515.14 Q1494.7 1514.4 1497.02 1514.03 Q1499.36 1513.66 1501.42 1513.66 Q1506.74 1513.66 1509.84 1516.09 Q1512.94 1518.5 1512.94 1522.62 Q1512.94 1525.49 1511.3 1527.48 Q1509.66 1529.45 1506.62 1530.21 Z\" fill=\"#000000\" fill-rule=\"nonzero\" fill-opacity=\"1\" /><path clip-path=\"url(#clip030)\" d=\"M1940.05 1529.7 Q1936.9 1529.7 1935.05 1531.86 Q1933.22 1534.01 1933.22 1537.76 Q1933.22 1541.49 1935.05 1543.66 Q1936.9 1545.82 1940.05 1545.82 Q1943.2 1545.82 1945.02 1543.66 Q1946.88 1541.49 1946.88 1537.76 Q1946.88 1534.01 1945.02 1531.86 Q1943.2 1529.7 1940.05 1529.7 M1949.33 1515.05 L1949.33 1519.31 Q1947.57 1518.48 1945.76 1518.04 Q1943.98 1517.6 1942.22 1517.6 Q1937.59 1517.6 1935.14 1520.72 Q1932.71 1523.85 1932.36 1530.17 Q1933.73 1528.15 1935.79 1527.09 Q1937.85 1526 1940.32 1526 Q1945.53 1526 1948.54 1529.17 Q1951.57 1532.32 1951.57 1537.76 Q1951.57 1543.08 1948.43 1546.3 Q1945.28 1549.52 1940.05 1549.52 Q1934.05 1549.52 1930.88 1544.94 Q1927.71 1540.33 1927.71 1531.6 Q1927.71 1523.41 1931.6 1518.55 Q1935.49 1513.66 1942.04 1513.66 Q1943.8 1513.66 1945.58 1514.01 Q1947.38 1514.36 1949.33 1515.05 Z\" fill=\"#000000\" fill-rule=\"nonzero\" fill-opacity=\"1\" /><polyline clip-path=\"url(#clip032)\" style=\"stroke:#000000; stroke-linecap:round; stroke-linejoin:round; stroke-width:2; stroke-opacity:0.1; fill:none\" points=\"141.853,1486.45 2352.76,1486.45 \"/>\n",
       "<polyline clip-path=\"url(#clip032)\" style=\"stroke:#000000; stroke-linecap:round; stroke-linejoin:round; stroke-width:2; stroke-opacity:0.1; fill:none\" points=\"141.853,1189.7 2352.76,1189.7 \"/>\n",
       "<polyline clip-path=\"url(#clip032)\" style=\"stroke:#000000; stroke-linecap:round; stroke-linejoin:round; stroke-width:2; stroke-opacity:0.1; fill:none\" points=\"141.853,892.962 2352.76,892.962 \"/>\n",
       "<polyline clip-path=\"url(#clip032)\" style=\"stroke:#000000; stroke-linecap:round; stroke-linejoin:round; stroke-width:2; stroke-opacity:0.1; fill:none\" points=\"141.853,596.219 2352.76,596.219 \"/>\n",
       "<polyline clip-path=\"url(#clip032)\" style=\"stroke:#000000; stroke-linecap:round; stroke-linejoin:round; stroke-width:2; stroke-opacity:0.1; fill:none\" points=\"141.853,299.476 2352.76,299.476 \"/>\n",
       "<polyline clip-path=\"url(#clip030)\" style=\"stroke:#000000; stroke-linecap:round; stroke-linejoin:round; stroke-width:4; stroke-opacity:1; fill:none\" points=\"141.853,1486.45 141.853,47.2441 \"/>\n",
       "<polyline clip-path=\"url(#clip030)\" style=\"stroke:#000000; stroke-linecap:round; stroke-linejoin:round; stroke-width:4; stroke-opacity:1; fill:none\" points=\"141.853,1486.45 160.751,1486.45 \"/>\n",
       "<polyline clip-path=\"url(#clip030)\" style=\"stroke:#000000; stroke-linecap:round; stroke-linejoin:round; stroke-width:4; stroke-opacity:1; fill:none\" points=\"141.853,1189.7 160.751,1189.7 \"/>\n",
       "<polyline clip-path=\"url(#clip030)\" style=\"stroke:#000000; stroke-linecap:round; stroke-linejoin:round; stroke-width:4; stroke-opacity:1; fill:none\" points=\"141.853,892.962 160.751,892.962 \"/>\n",
       "<polyline clip-path=\"url(#clip030)\" style=\"stroke:#000000; stroke-linecap:round; stroke-linejoin:round; stroke-width:4; stroke-opacity:1; fill:none\" points=\"141.853,596.219 160.751,596.219 \"/>\n",
       "<polyline clip-path=\"url(#clip030)\" style=\"stroke:#000000; stroke-linecap:round; stroke-linejoin:round; stroke-width:4; stroke-opacity:1; fill:none\" points=\"141.853,299.476 160.751,299.476 \"/>\n",
       "<path clip-path=\"url(#clip030)\" d=\"M93.9086 1472.25 Q90.2975 1472.25 88.4688 1475.81 Q86.6632 1479.35 86.6632 1486.48 Q86.6632 1493.59 88.4688 1497.15 Q90.2975 1500.7 93.9086 1500.7 Q97.5428 1500.7 99.3483 1497.15 Q101.177 1493.59 101.177 1486.48 Q101.177 1479.35 99.3483 1475.81 Q97.5428 1472.25 93.9086 1472.25 M93.9086 1468.54 Q99.7187 1468.54 102.774 1473.15 Q105.853 1477.73 105.853 1486.48 Q105.853 1495.21 102.774 1499.82 Q99.7187 1504.4 93.9086 1504.4 Q88.0984 1504.4 85.0197 1499.82 Q81.9642 1495.21 81.9642 1486.48 Q81.9642 1477.73 85.0197 1473.15 Q88.0984 1468.54 93.9086 1468.54 Z\" fill=\"#000000\" fill-rule=\"nonzero\" fill-opacity=\"1\" /><path clip-path=\"url(#clip030)\" d=\"M57.7745 1203.05 L74.0939 1203.05 L74.0939 1206.98 L52.1495 1206.98 L52.1495 1203.05 Q54.8115 1200.3 59.3949 1195.67 Q64.0013 1191.01 65.1819 1189.67 Q67.4272 1187.15 68.3068 1185.41 Q69.2096 1183.65 69.2096 1181.96 Q69.2096 1179.21 67.2652 1177.47 Q65.3439 1175.73 62.2421 1175.73 Q60.043 1175.73 57.5893 1176.5 Q55.1588 1177.26 52.381 1178.81 L52.381 1174.09 Q55.2051 1172.96 57.6588 1172.38 Q60.1124 1171.8 62.1495 1171.8 Q67.5198 1171.8 70.7142 1174.49 Q73.9087 1177.17 73.9087 1181.66 Q73.9087 1183.79 73.0985 1185.71 Q72.3115 1187.61 70.205 1190.2 Q69.6263 1190.87 66.5245 1194.09 Q63.4226 1197.29 57.7745 1203.05 Z\" fill=\"#000000\" fill-rule=\"nonzero\" fill-opacity=\"1\" /><path clip-path=\"url(#clip030)\" d=\"M93.9086 1175.5 Q90.2975 1175.5 88.4688 1179.07 Q86.6632 1182.61 86.6632 1189.74 Q86.6632 1196.85 88.4688 1200.41 Q90.2975 1203.95 93.9086 1203.95 Q97.5428 1203.95 99.3483 1200.41 Q101.177 1196.85 101.177 1189.74 Q101.177 1182.61 99.3483 1179.07 Q97.5428 1175.5 93.9086 1175.5 M93.9086 1171.8 Q99.7187 1171.8 102.774 1176.41 Q105.853 1180.99 105.853 1189.74 Q105.853 1198.47 102.774 1203.07 Q99.7187 1207.66 93.9086 1207.66 Q88.0984 1207.66 85.0197 1203.07 Q81.9642 1198.47 81.9642 1189.74 Q81.9642 1180.99 85.0197 1176.41 Q88.0984 1171.8 93.9086 1171.8 Z\" fill=\"#000000\" fill-rule=\"nonzero\" fill-opacity=\"1\" /><path clip-path=\"url(#clip030)\" d=\"M66.5939 879.756 L54.7884 898.205 L66.5939 898.205 L66.5939 879.756 M65.367 875.682 L71.2466 875.682 L71.2466 898.205 L76.1772 898.205 L76.1772 902.094 L71.2466 902.094 L71.2466 910.242 L66.5939 910.242 L66.5939 902.094 L50.9921 902.094 L50.9921 897.58 L65.367 875.682 Z\" fill=\"#000000\" fill-rule=\"nonzero\" fill-opacity=\"1\" /><path clip-path=\"url(#clip030)\" d=\"M93.9086 878.76 Q90.2975 878.76 88.4688 882.325 Q86.6632 885.867 86.6632 892.997 Q86.6632 900.103 88.4688 903.668 Q90.2975 907.209 93.9086 907.209 Q97.5428 907.209 99.3483 903.668 Q101.177 900.103 101.177 892.997 Q101.177 885.867 99.3483 882.325 Q97.5428 878.76 93.9086 878.76 M93.9086 875.057 Q99.7187 875.057 102.774 879.663 Q105.853 884.247 105.853 892.997 Q105.853 901.723 102.774 906.33 Q99.7187 910.913 93.9086 910.913 Q88.0984 910.913 85.0197 906.33 Q81.9642 901.723 81.9642 892.997 Q81.9642 884.247 85.0197 879.663 Q88.0984 875.057 93.9086 875.057 Z\" fill=\"#000000\" fill-rule=\"nonzero\" fill-opacity=\"1\" /><path clip-path=\"url(#clip030)\" d=\"M64.3254 594.355 Q61.1773 594.355 59.3254 596.508 Q57.4967 598.661 57.4967 602.411 Q57.4967 606.138 59.3254 608.314 Q61.1773 610.466 64.3254 610.466 Q67.4735 610.466 69.3022 608.314 Q71.1541 606.138 71.1541 602.411 Q71.1541 598.661 69.3022 596.508 Q67.4735 594.355 64.3254 594.355 M73.6077 579.703 L73.6077 583.962 Q71.8485 583.129 70.0429 582.689 Q68.2606 582.249 66.5013 582.249 Q61.8717 582.249 59.418 585.374 Q56.9875 588.499 56.6402 594.818 Q58.006 592.804 60.0662 591.74 Q62.1263 590.652 64.6032 590.652 Q69.8115 590.652 72.8207 593.823 Q75.8531 596.971 75.8531 602.411 Q75.8531 607.735 72.705 610.952 Q69.5568 614.17 64.3254 614.17 Q58.33 614.17 55.1588 609.587 Q51.9875 604.98 51.9875 596.253 Q51.9875 588.059 55.8764 583.198 Q59.7652 578.314 66.3161 578.314 Q68.0754 578.314 69.8578 578.661 Q71.6633 579.008 73.6077 579.703 Z\" fill=\"#000000\" fill-rule=\"nonzero\" fill-opacity=\"1\" /><path clip-path=\"url(#clip030)\" d=\"M93.9086 582.017 Q90.2975 582.017 88.4688 585.582 Q86.6632 589.124 86.6632 596.253 Q86.6632 603.36 88.4688 606.925 Q90.2975 610.466 93.9086 610.466 Q97.5428 610.466 99.3483 606.925 Q101.177 603.36 101.177 596.253 Q101.177 589.124 99.3483 585.582 Q97.5428 582.017 93.9086 582.017 M93.9086 578.314 Q99.7187 578.314 102.774 582.92 Q105.853 587.504 105.853 596.253 Q105.853 604.98 102.774 609.587 Q99.7187 614.17 93.9086 614.17 Q88.0984 614.17 85.0197 609.587 Q81.9642 604.98 81.9642 596.253 Q81.9642 587.504 85.0197 582.92 Q88.0984 578.314 93.9086 578.314 Z\" fill=\"#000000\" fill-rule=\"nonzero\" fill-opacity=\"1\" /><path clip-path=\"url(#clip030)\" d=\"M63.7467 300.344 Q60.4134 300.344 58.4921 302.126 Q56.5939 303.909 56.5939 307.034 Q56.5939 310.158 58.4921 311.941 Q60.4134 313.723 63.7467 313.723 Q67.08 313.723 69.0013 311.941 Q70.9226 310.135 70.9226 307.034 Q70.9226 303.909 69.0013 302.126 Q67.1032 300.344 63.7467 300.344 M59.0708 298.353 Q56.0615 297.612 54.3717 295.552 Q52.7051 293.492 52.7051 290.529 Q52.7051 286.385 55.6449 283.978 Q58.6078 281.571 63.7467 281.571 Q68.9087 281.571 71.8485 283.978 Q74.7883 286.385 74.7883 290.529 Q74.7883 293.492 73.0985 295.552 Q71.4318 297.612 68.4457 298.353 Q71.8253 299.14 73.7003 301.432 Q75.5985 303.723 75.5985 307.034 Q75.5985 312.057 72.5198 314.742 Q69.4642 317.427 63.7467 317.427 Q58.0291 317.427 54.9504 314.742 Q51.8949 312.057 51.8949 307.034 Q51.8949 303.723 53.793 301.432 Q55.6912 299.14 59.0708 298.353 M57.3578 290.969 Q57.3578 293.654 59.0245 295.159 Q60.7143 296.663 63.7467 296.663 Q66.7559 296.663 68.4457 295.159 Q70.1587 293.654 70.1587 290.969 Q70.1587 288.284 68.4457 286.779 Q66.7559 285.274 63.7467 285.274 Q60.7143 285.274 59.0245 286.779 Q57.3578 288.284 57.3578 290.969 Z\" fill=\"#000000\" fill-rule=\"nonzero\" fill-opacity=\"1\" /><path clip-path=\"url(#clip030)\" d=\"M93.9086 285.274 Q90.2975 285.274 88.4688 288.839 Q86.6632 292.381 86.6632 299.51 Q86.6632 306.617 88.4688 310.182 Q90.2975 313.723 93.9086 313.723 Q97.5428 313.723 99.3483 310.182 Q101.177 306.617 101.177 299.51 Q101.177 292.381 99.3483 288.839 Q97.5428 285.274 93.9086 285.274 M93.9086 281.571 Q99.7187 281.571 102.774 286.177 Q105.853 290.76 105.853 299.51 Q105.853 308.237 102.774 312.844 Q99.7187 317.427 93.9086 317.427 Q88.0984 317.427 85.0197 312.844 Q81.9642 308.237 81.9642 299.51 Q81.9642 290.76 85.0197 286.177 Q88.0984 281.571 93.9086 281.571 Z\" fill=\"#000000\" fill-rule=\"nonzero\" fill-opacity=\"1\" /><path clip-path=\"url(#clip032)\" d=\"M263.457 1471.61 L263.457 1486.45 L336.334 1486.45 L336.334 1471.61 L263.457 1471.61 L263.457 1471.61  Z\" fill=\"#009af9\" fill-rule=\"evenodd\" fill-opacity=\"1\"/>\n",
       "<polyline clip-path=\"url(#clip032)\" style=\"stroke:#000000; stroke-linecap:round; stroke-linejoin:round; stroke-width:4; stroke-opacity:1; fill:none\" points=\"263.457,1471.61 263.457,1486.45 336.334,1486.45 336.334,1471.61 263.457,1471.61 \"/>\n",
       "<path clip-path=\"url(#clip032)\" d=\"M336.334 1471.61 L336.334 1486.45 L409.212 1486.45 L409.212 1471.61 L336.334 1471.61 L336.334 1471.61  Z\" fill=\"#009af9\" fill-rule=\"evenodd\" fill-opacity=\"1\"/>\n",
       "<polyline clip-path=\"url(#clip032)\" style=\"stroke:#000000; stroke-linecap:round; stroke-linejoin:round; stroke-width:4; stroke-opacity:1; fill:none\" points=\"336.334,1471.61 336.334,1486.45 409.212,1486.45 409.212,1471.61 336.334,1471.61 \"/>\n",
       "<path clip-path=\"url(#clip032)\" d=\"M409.212 1471.61 L409.212 1486.45 L482.089 1486.45 L482.089 1471.61 L409.212 1471.61 L409.212 1471.61  Z\" fill=\"#009af9\" fill-rule=\"evenodd\" fill-opacity=\"1\"/>\n",
       "<polyline clip-path=\"url(#clip032)\" style=\"stroke:#000000; stroke-linecap:round; stroke-linejoin:round; stroke-width:4; stroke-opacity:1; fill:none\" points=\"409.212,1471.61 409.212,1486.45 482.089,1486.45 482.089,1471.61 409.212,1471.61 \"/>\n",
       "<path clip-path=\"url(#clip032)\" d=\"M482.089 1412.26 L482.089 1486.45 L554.967 1486.45 L554.967 1412.26 L482.089 1412.26 L482.089 1412.26  Z\" fill=\"#009af9\" fill-rule=\"evenodd\" fill-opacity=\"1\"/>\n",
       "<polyline clip-path=\"url(#clip032)\" style=\"stroke:#000000; stroke-linecap:round; stroke-linejoin:round; stroke-width:4; stroke-opacity:1; fill:none\" points=\"482.089,1412.26 482.089,1486.45 554.967,1486.45 554.967,1412.26 482.089,1412.26 \"/>\n",
       "<path clip-path=\"url(#clip032)\" d=\"M554.967 1471.61 L554.967 1486.45 L627.845 1486.45 L627.845 1471.61 L554.967 1471.61 L554.967 1471.61  Z\" fill=\"#009af9\" fill-rule=\"evenodd\" fill-opacity=\"1\"/>\n",
       "<polyline clip-path=\"url(#clip032)\" style=\"stroke:#000000; stroke-linecap:round; stroke-linejoin:round; stroke-width:4; stroke-opacity:1; fill:none\" points=\"554.967,1471.61 554.967,1486.45 627.845,1486.45 627.845,1471.61 554.967,1471.61 \"/>\n",
       "<path clip-path=\"url(#clip032)\" d=\"M627.845 1382.59 L627.845 1486.45 L700.722 1486.45 L700.722 1382.59 L627.845 1382.59 L627.845 1382.59  Z\" fill=\"#009af9\" fill-rule=\"evenodd\" fill-opacity=\"1\"/>\n",
       "<polyline clip-path=\"url(#clip032)\" style=\"stroke:#000000; stroke-linecap:round; stroke-linejoin:round; stroke-width:4; stroke-opacity:1; fill:none\" points=\"627.845,1382.59 627.845,1486.45 700.722,1486.45 700.722,1382.59 627.845,1382.59 \"/>\n",
       "<path clip-path=\"url(#clip032)\" d=\"M700.722 1249.05 L700.722 1486.45 L773.6 1486.45 L773.6 1249.05 L700.722 1249.05 L700.722 1249.05  Z\" fill=\"#009af9\" fill-rule=\"evenodd\" fill-opacity=\"1\"/>\n",
       "<polyline clip-path=\"url(#clip032)\" style=\"stroke:#000000; stroke-linecap:round; stroke-linejoin:round; stroke-width:4; stroke-opacity:1; fill:none\" points=\"700.722,1249.05 700.722,1486.45 773.6,1486.45 773.6,1249.05 700.722,1249.05 \"/>\n",
       "<path clip-path=\"url(#clip032)\" d=\"M773.6 1115.52 L773.6 1486.45 L846.478 1486.45 L846.478 1115.52 L773.6 1115.52 L773.6 1115.52  Z\" fill=\"#009af9\" fill-rule=\"evenodd\" fill-opacity=\"1\"/>\n",
       "<polyline clip-path=\"url(#clip032)\" style=\"stroke:#000000; stroke-linecap:round; stroke-linejoin:round; stroke-width:4; stroke-opacity:1; fill:none\" points=\"773.6,1115.52 773.6,1486.45 846.478,1486.45 846.478,1115.52 773.6,1115.52 \"/>\n",
       "<path clip-path=\"url(#clip032)\" d=\"M846.478 892.962 L846.478 1486.45 L919.355 1486.45 L919.355 892.962 L846.478 892.962 L846.478 892.962  Z\" fill=\"#009af9\" fill-rule=\"evenodd\" fill-opacity=\"1\"/>\n",
       "<polyline clip-path=\"url(#clip032)\" style=\"stroke:#000000; stroke-linecap:round; stroke-linejoin:round; stroke-width:4; stroke-opacity:1; fill:none\" points=\"846.478,892.962 846.478,1486.45 919.355,1486.45 919.355,892.962 846.478,892.962 \"/>\n",
       "<path clip-path=\"url(#clip032)\" d=\"M919.355 536.87 L919.355 1486.45 L992.233 1486.45 L992.233 536.87 L919.355 536.87 L919.355 536.87  Z\" fill=\"#009af9\" fill-rule=\"evenodd\" fill-opacity=\"1\"/>\n",
       "<polyline clip-path=\"url(#clip032)\" style=\"stroke:#000000; stroke-linecap:round; stroke-linejoin:round; stroke-width:4; stroke-opacity:1; fill:none\" points=\"919.355,536.87 919.355,1486.45 992.233,1486.45 992.233,536.87 919.355,536.87 \"/>\n",
       "<path clip-path=\"url(#clip032)\" d=\"M992.233 47.2441 L992.233 1486.45 L1065.11 1486.45 L1065.11 47.2441 L992.233 47.2441 L992.233 47.2441  Z\" fill=\"#009af9\" fill-rule=\"evenodd\" fill-opacity=\"1\"/>\n",
       "<polyline clip-path=\"url(#clip032)\" style=\"stroke:#000000; stroke-linecap:round; stroke-linejoin:round; stroke-width:4; stroke-opacity:1; fill:none\" points=\"992.233,47.2441 992.233,1486.45 1065.11,1486.45 1065.11,47.2441 992.233,47.2441 \"/>\n",
       "<path clip-path=\"url(#clip032)\" d=\"M1065.11 225.29 L1065.11 1486.45 L1137.99 1486.45 L1137.99 225.29 L1065.11 225.29 L1065.11 225.29  Z\" fill=\"#009af9\" fill-rule=\"evenodd\" fill-opacity=\"1\"/>\n",
       "<polyline clip-path=\"url(#clip032)\" style=\"stroke:#000000; stroke-linecap:round; stroke-linejoin:round; stroke-width:4; stroke-opacity:1; fill:none\" points=\"1065.11,225.29 1065.11,1486.45 1137.99,1486.45 1137.99,225.29 1065.11,225.29 \"/>\n",
       "<path clip-path=\"url(#clip032)\" d=\"M1137.99 566.544 L1137.99 1486.45 L1210.87 1486.45 L1210.87 566.544 L1137.99 566.544 L1137.99 566.544  Z\" fill=\"#009af9\" fill-rule=\"evenodd\" fill-opacity=\"1\"/>\n",
       "<polyline clip-path=\"url(#clip032)\" style=\"stroke:#000000; stroke-linecap:round; stroke-linejoin:round; stroke-width:4; stroke-opacity:1; fill:none\" points=\"1137.99,566.544 1137.99,1486.45 1210.87,1486.45 1210.87,566.544 1137.99,566.544 \"/>\n",
       "<path clip-path=\"url(#clip032)\" d=\"M1210.87 937.473 L1210.87 1486.45 L1283.74 1486.45 L1283.74 937.473 L1210.87 937.473 L1210.87 937.473  Z\" fill=\"#009af9\" fill-rule=\"evenodd\" fill-opacity=\"1\"/>\n",
       "<polyline clip-path=\"url(#clip032)\" style=\"stroke:#000000; stroke-linecap:round; stroke-linejoin:round; stroke-width:4; stroke-opacity:1; fill:none\" points=\"1210.87,937.473 1210.87,1486.45 1283.74,1486.45 1283.74,937.473 1210.87,937.473 \"/>\n",
       "<path clip-path=\"url(#clip032)\" d=\"M1283.74 1189.7 L1283.74 1486.45 L1356.62 1486.45 L1356.62 1189.7 L1283.74 1189.7 L1283.74 1189.7  Z\" fill=\"#009af9\" fill-rule=\"evenodd\" fill-opacity=\"1\"/>\n",
       "<polyline clip-path=\"url(#clip032)\" style=\"stroke:#000000; stroke-linecap:round; stroke-linejoin:round; stroke-width:4; stroke-opacity:1; fill:none\" points=\"1283.74,1189.7 1283.74,1486.45 1356.62,1486.45 1356.62,1189.7 1283.74,1189.7 \"/>\n",
       "<path clip-path=\"url(#clip032)\" d=\"M1356.62 1308.4 L1356.62 1486.45 L1429.5 1486.45 L1429.5 1308.4 L1356.62 1308.4 L1356.62 1308.4  Z\" fill=\"#009af9\" fill-rule=\"evenodd\" fill-opacity=\"1\"/>\n",
       "<polyline clip-path=\"url(#clip032)\" style=\"stroke:#000000; stroke-linecap:round; stroke-linejoin:round; stroke-width:4; stroke-opacity:1; fill:none\" points=\"1356.62,1308.4 1356.62,1486.45 1429.5,1486.45 1429.5,1308.4 1356.62,1308.4 \"/>\n",
       "<path clip-path=\"url(#clip032)\" d=\"M1429.5 1338.08 L1429.5 1486.45 L1502.38 1486.45 L1502.38 1338.08 L1429.5 1338.08 L1429.5 1338.08  Z\" fill=\"#009af9\" fill-rule=\"evenodd\" fill-opacity=\"1\"/>\n",
       "<polyline clip-path=\"url(#clip032)\" style=\"stroke:#000000; stroke-linecap:round; stroke-linejoin:round; stroke-width:4; stroke-opacity:1; fill:none\" points=\"1429.5,1338.08 1429.5,1486.45 1502.38,1486.45 1502.38,1338.08 1429.5,1338.08 \"/>\n",
       "<path clip-path=\"url(#clip032)\" d=\"M1502.38 1441.94 L1502.38 1486.45 L1575.25 1486.45 L1575.25 1441.94 L1502.38 1441.94 L1502.38 1441.94  Z\" fill=\"#009af9\" fill-rule=\"evenodd\" fill-opacity=\"1\"/>\n",
       "<polyline clip-path=\"url(#clip032)\" style=\"stroke:#000000; stroke-linecap:round; stroke-linejoin:round; stroke-width:4; stroke-opacity:1; fill:none\" points=\"1502.38,1441.94 1502.38,1486.45 1575.25,1486.45 1575.25,1441.94 1502.38,1441.94 \"/>\n",
       "<path clip-path=\"url(#clip032)\" d=\"M1575.25 1427.1 L1575.25 1486.45 L1648.13 1486.45 L1648.13 1427.1 L1575.25 1427.1 L1575.25 1427.1  Z\" fill=\"#009af9\" fill-rule=\"evenodd\" fill-opacity=\"1\"/>\n",
       "<polyline clip-path=\"url(#clip032)\" style=\"stroke:#000000; stroke-linecap:round; stroke-linejoin:round; stroke-width:4; stroke-opacity:1; fill:none\" points=\"1575.25,1427.1 1575.25,1486.45 1648.13,1486.45 1648.13,1427.1 1575.25,1427.1 \"/>\n",
       "<path clip-path=\"url(#clip032)\" d=\"M1648.13 1412.26 L1648.13 1486.45 L1721.01 1486.45 L1721.01 1412.26 L1648.13 1412.26 L1648.13 1412.26  Z\" fill=\"#009af9\" fill-rule=\"evenodd\" fill-opacity=\"1\"/>\n",
       "<polyline clip-path=\"url(#clip032)\" style=\"stroke:#000000; stroke-linecap:round; stroke-linejoin:round; stroke-width:4; stroke-opacity:1; fill:none\" points=\"1648.13,1412.26 1648.13,1486.45 1721.01,1486.45 1721.01,1412.26 1648.13,1412.26 \"/>\n",
       "<path clip-path=\"url(#clip032)\" d=\"M1721.01 1471.61 L1721.01 1486.45 L1793.89 1486.45 L1793.89 1471.61 L1721.01 1471.61 L1721.01 1471.61  Z\" fill=\"#009af9\" fill-rule=\"evenodd\" fill-opacity=\"1\"/>\n",
       "<polyline clip-path=\"url(#clip032)\" style=\"stroke:#000000; stroke-linecap:round; stroke-linejoin:round; stroke-width:4; stroke-opacity:1; fill:none\" points=\"1721.01,1471.61 1721.01,1486.45 1793.89,1486.45 1793.89,1471.61 1721.01,1471.61 \"/>\n",
       "<path clip-path=\"url(#clip032)\" d=\"M1793.89 1486.45 L1793.89 1486.45 L1866.76 1486.45 L1866.76 1486.45 L1793.89 1486.45 L1793.89 1486.45  Z\" fill=\"#009af9\" fill-rule=\"evenodd\" fill-opacity=\"1\"/>\n",
       "<polyline clip-path=\"url(#clip032)\" style=\"stroke:#000000; stroke-linecap:round; stroke-linejoin:round; stroke-width:4; stroke-opacity:1; fill:none\" points=\"1793.89,1486.45 1793.89,1486.45 1866.76,1486.45 1793.89,1486.45 \"/>\n",
       "<path clip-path=\"url(#clip032)\" d=\"M1866.76 1471.61 L1866.76 1486.45 L1939.64 1486.45 L1939.64 1471.61 L1866.76 1471.61 L1866.76 1471.61  Z\" fill=\"#009af9\" fill-rule=\"evenodd\" fill-opacity=\"1\"/>\n",
       "<polyline clip-path=\"url(#clip032)\" style=\"stroke:#000000; stroke-linecap:round; stroke-linejoin:round; stroke-width:4; stroke-opacity:1; fill:none\" points=\"1866.76,1471.61 1866.76,1486.45 1939.64,1486.45 1939.64,1471.61 1866.76,1471.61 \"/>\n",
       "<path clip-path=\"url(#clip032)\" d=\"M1939.64 1471.61 L1939.64 1486.45 L2012.52 1486.45 L2012.52 1471.61 L1939.64 1471.61 L1939.64 1471.61  Z\" fill=\"#009af9\" fill-rule=\"evenodd\" fill-opacity=\"1\"/>\n",
       "<polyline clip-path=\"url(#clip032)\" style=\"stroke:#000000; stroke-linecap:round; stroke-linejoin:round; stroke-width:4; stroke-opacity:1; fill:none\" points=\"1939.64,1471.61 1939.64,1486.45 2012.52,1486.45 2012.52,1471.61 1939.64,1471.61 \"/>\n",
       "<path clip-path=\"url(#clip032)\" d=\"M2012.52 1486.45 L2012.52 1486.45 L2085.4 1486.45 L2085.4 1486.45 L2012.52 1486.45 L2012.52 1486.45  Z\" fill=\"#009af9\" fill-rule=\"evenodd\" fill-opacity=\"1\"/>\n",
       "<polyline clip-path=\"url(#clip032)\" style=\"stroke:#000000; stroke-linecap:round; stroke-linejoin:round; stroke-width:4; stroke-opacity:1; fill:none\" points=\"2012.52,1486.45 2012.52,1486.45 2085.4,1486.45 2012.52,1486.45 \"/>\n",
       "<path clip-path=\"url(#clip032)\" d=\"M2085.4 1486.45 L2085.4 1486.45 L2158.27 1486.45 L2158.27 1486.45 L2085.4 1486.45 L2085.4 1486.45  Z\" fill=\"#009af9\" fill-rule=\"evenodd\" fill-opacity=\"1\"/>\n",
       "<polyline clip-path=\"url(#clip032)\" style=\"stroke:#000000; stroke-linecap:round; stroke-linejoin:round; stroke-width:4; stroke-opacity:1; fill:none\" points=\"2085.4,1486.45 2085.4,1486.45 2158.27,1486.45 2085.4,1486.45 \"/>\n",
       "<path clip-path=\"url(#clip032)\" d=\"M2158.27 1471.61 L2158.27 1486.45 L2231.15 1486.45 L2231.15 1471.61 L2158.27 1471.61 L2158.27 1471.61  Z\" fill=\"#009af9\" fill-rule=\"evenodd\" fill-opacity=\"1\"/>\n",
       "<polyline clip-path=\"url(#clip032)\" style=\"stroke:#000000; stroke-linecap:round; stroke-linejoin:round; stroke-width:4; stroke-opacity:1; fill:none\" points=\"2158.27,1471.61 2158.27,1486.45 2231.15,1486.45 2231.15,1471.61 2158.27,1471.61 \"/>\n",
       "<circle clip-path=\"url(#clip032)\" style=\"fill:#009af9; stroke:none; fill-opacity:0\" cx=\"299.895\" cy=\"1471.61\" r=\"2\"/>\n",
       "<circle clip-path=\"url(#clip032)\" style=\"fill:#009af9; stroke:none; fill-opacity:0\" cx=\"372.773\" cy=\"1471.61\" r=\"2\"/>\n",
       "<circle clip-path=\"url(#clip032)\" style=\"fill:#009af9; stroke:none; fill-opacity:0\" cx=\"445.651\" cy=\"1471.61\" r=\"2\"/>\n",
       "<circle clip-path=\"url(#clip032)\" style=\"fill:#009af9; stroke:none; fill-opacity:0\" cx=\"518.528\" cy=\"1412.26\" r=\"2\"/>\n",
       "<circle clip-path=\"url(#clip032)\" style=\"fill:#009af9; stroke:none; fill-opacity:0\" cx=\"591.406\" cy=\"1471.61\" r=\"2\"/>\n",
       "<circle clip-path=\"url(#clip032)\" style=\"fill:#009af9; stroke:none; fill-opacity:0\" cx=\"664.283\" cy=\"1382.59\" r=\"2\"/>\n",
       "<circle clip-path=\"url(#clip032)\" style=\"fill:#009af9; stroke:none; fill-opacity:0\" cx=\"737.161\" cy=\"1249.05\" r=\"2\"/>\n",
       "<circle clip-path=\"url(#clip032)\" style=\"fill:#009af9; stroke:none; fill-opacity:0\" cx=\"810.039\" cy=\"1115.52\" r=\"2\"/>\n",
       "<circle clip-path=\"url(#clip032)\" style=\"fill:#009af9; stroke:none; fill-opacity:0\" cx=\"882.916\" cy=\"892.962\" r=\"2\"/>\n",
       "<circle clip-path=\"url(#clip032)\" style=\"fill:#009af9; stroke:none; fill-opacity:0\" cx=\"955.794\" cy=\"536.87\" r=\"2\"/>\n",
       "<circle clip-path=\"url(#clip032)\" style=\"fill:#009af9; stroke:none; fill-opacity:0\" cx=\"1028.67\" cy=\"47.2441\" r=\"2\"/>\n",
       "<circle clip-path=\"url(#clip032)\" style=\"fill:#009af9; stroke:none; fill-opacity:0\" cx=\"1101.55\" cy=\"225.29\" r=\"2\"/>\n",
       "<circle clip-path=\"url(#clip032)\" style=\"fill:#009af9; stroke:none; fill-opacity:0\" cx=\"1174.43\" cy=\"566.544\" r=\"2\"/>\n",
       "<circle clip-path=\"url(#clip032)\" style=\"fill:#009af9; stroke:none; fill-opacity:0\" cx=\"1247.3\" cy=\"937.473\" r=\"2\"/>\n",
       "<circle clip-path=\"url(#clip032)\" style=\"fill:#009af9; stroke:none; fill-opacity:0\" cx=\"1320.18\" cy=\"1189.7\" r=\"2\"/>\n",
       "<circle clip-path=\"url(#clip032)\" style=\"fill:#009af9; stroke:none; fill-opacity:0\" cx=\"1393.06\" cy=\"1308.4\" r=\"2\"/>\n",
       "<circle clip-path=\"url(#clip032)\" style=\"fill:#009af9; stroke:none; fill-opacity:0\" cx=\"1465.94\" cy=\"1338.08\" r=\"2\"/>\n",
       "<circle clip-path=\"url(#clip032)\" style=\"fill:#009af9; stroke:none; fill-opacity:0\" cx=\"1538.81\" cy=\"1441.94\" r=\"2\"/>\n",
       "<circle clip-path=\"url(#clip032)\" style=\"fill:#009af9; stroke:none; fill-opacity:0\" cx=\"1611.69\" cy=\"1427.1\" r=\"2\"/>\n",
       "<circle clip-path=\"url(#clip032)\" style=\"fill:#009af9; stroke:none; fill-opacity:0\" cx=\"1684.57\" cy=\"1412.26\" r=\"2\"/>\n",
       "<circle clip-path=\"url(#clip032)\" style=\"fill:#009af9; stroke:none; fill-opacity:0\" cx=\"1757.45\" cy=\"1471.61\" r=\"2\"/>\n",
       "<circle clip-path=\"url(#clip032)\" style=\"fill:#009af9; stroke:none; fill-opacity:0\" cx=\"1830.33\" cy=\"1486.45\" r=\"2\"/>\n",
       "<circle clip-path=\"url(#clip032)\" style=\"fill:#009af9; stroke:none; fill-opacity:0\" cx=\"1903.2\" cy=\"1471.61\" r=\"2\"/>\n",
       "<circle clip-path=\"url(#clip032)\" style=\"fill:#009af9; stroke:none; fill-opacity:0\" cx=\"1976.08\" cy=\"1471.61\" r=\"2\"/>\n",
       "<circle clip-path=\"url(#clip032)\" style=\"fill:#009af9; stroke:none; fill-opacity:0\" cx=\"2048.96\" cy=\"1486.45\" r=\"2\"/>\n",
       "<circle clip-path=\"url(#clip032)\" style=\"fill:#009af9; stroke:none; fill-opacity:0\" cx=\"2121.84\" cy=\"1486.45\" r=\"2\"/>\n",
       "<circle clip-path=\"url(#clip032)\" style=\"fill:#009af9; stroke:none; fill-opacity:0\" cx=\"2194.71\" cy=\"1471.61\" r=\"2\"/>\n",
       "<path clip-path=\"url(#clip030)\" d=\"M2005.54 198.898 L2279.06 198.898 L2279.06 95.2176 L2005.54 95.2176  Z\" fill=\"#ffffff\" fill-rule=\"evenodd\" fill-opacity=\"1\"/>\n",
       "<polyline clip-path=\"url(#clip030)\" style=\"stroke:#000000; stroke-linecap:round; stroke-linejoin:round; stroke-width:4; stroke-opacity:1; fill:none\" points=\"2005.54,198.898 2279.06,198.898 2279.06,95.2176 2005.54,95.2176 2005.54,198.898 \"/>\n",
       "<path clip-path=\"url(#clip030)\" d=\"M2030.1 167.794 L2177.5 167.794 L2177.5 126.322 L2030.1 126.322 L2030.1 167.794  Z\" fill=\"#009af9\" fill-rule=\"evenodd\" fill-opacity=\"1\"/>\n",
       "<polyline clip-path=\"url(#clip030)\" style=\"stroke:#000000; stroke-linecap:round; stroke-linejoin:round; stroke-width:4; stroke-opacity:1; fill:none\" points=\"2030.1,167.794 2177.5,167.794 2177.5,126.322 2030.1,126.322 2030.1,167.794 \"/>\n",
       "<path clip-path=\"url(#clip030)\" d=\"M2215.91 166.745 Q2214.1 171.375 2212.39 172.787 Q2210.67 174.199 2207.8 174.199 L2204.4 174.199 L2204.4 170.634 L2206.9 170.634 Q2208.66 170.634 2209.63 169.8 Q2210.6 168.967 2211.79 165.865 L2212.55 163.921 L2202.06 138.412 L2206.58 138.412 L2214.68 158.689 L2222.78 138.412 L2227.29 138.412 L2215.91 166.745 Z\" fill=\"#000000\" fill-rule=\"nonzero\" fill-opacity=\"1\" /><path clip-path=\"url(#clip030)\" d=\"M2234.59 160.402 L2242.23 160.402 L2242.23 134.037 L2233.91 135.703 L2233.91 131.444 L2242.18 129.778 L2246.85 129.778 L2246.85 160.402 L2254.49 160.402 L2254.49 164.338 L2234.59 164.338 L2234.59 160.402 Z\" fill=\"#000000\" fill-rule=\"nonzero\" fill-opacity=\"1\" /></svg>\n"
      ],
      "text/html": [
       "<?xml version=\"1.0\" encoding=\"utf-8\"?>\n",
       "<svg xmlns=\"http://www.w3.org/2000/svg\" xmlns:xlink=\"http://www.w3.org/1999/xlink\" width=\"600\" height=\"400\" viewBox=\"0 0 2400 1600\">\n",
       "<defs>\n",
       "  <clipPath id=\"clip080\">\n",
       "    <rect x=\"0\" y=\"0\" width=\"2400\" height=\"1600\"/>\n",
       "  </clipPath>\n",
       "</defs>\n",
       "<path clip-path=\"url(#clip080)\" d=\"M0 1600 L2400 1600 L2400 0 L0 0  Z\" fill=\"#ffffff\" fill-rule=\"evenodd\" fill-opacity=\"1\"/>\n",
       "<defs>\n",
       "  <clipPath id=\"clip081\">\n",
       "    <rect x=\"480\" y=\"0\" width=\"1681\" height=\"1600\"/>\n",
       "  </clipPath>\n",
       "</defs>\n",
       "<path clip-path=\"url(#clip080)\" d=\"M141.853 1486.45 L2352.76 1486.45 L2352.76 47.2441 L141.853 47.2441  Z\" fill=\"#ffffff\" fill-rule=\"evenodd\" fill-opacity=\"1\"/>\n",
       "<defs>\n",
       "  <clipPath id=\"clip082\">\n",
       "    <rect x=\"141\" y=\"47\" width=\"2212\" height=\"1440\"/>\n",
       "  </clipPath>\n",
       "</defs>\n",
       "<polyline clip-path=\"url(#clip082)\" style=\"stroke:#000000; stroke-linecap:round; stroke-linejoin:round; stroke-width:2; stroke-opacity:0.1; fill:none\" points=\"190.579,1486.45 190.579,47.2441 \"/>\n",
       "<polyline clip-path=\"url(#clip082)\" style=\"stroke:#000000; stroke-linecap:round; stroke-linejoin:round; stroke-width:2; stroke-opacity:0.1; fill:none\" points=\"627.845,1486.45 627.845,47.2441 \"/>\n",
       "<polyline clip-path=\"url(#clip082)\" style=\"stroke:#000000; stroke-linecap:round; stroke-linejoin:round; stroke-width:2; stroke-opacity:0.1; fill:none\" points=\"1065.11,1486.45 1065.11,47.2441 \"/>\n",
       "<polyline clip-path=\"url(#clip082)\" style=\"stroke:#000000; stroke-linecap:round; stroke-linejoin:round; stroke-width:2; stroke-opacity:0.1; fill:none\" points=\"1502.38,1486.45 1502.38,47.2441 \"/>\n",
       "<polyline clip-path=\"url(#clip082)\" style=\"stroke:#000000; stroke-linecap:round; stroke-linejoin:round; stroke-width:2; stroke-opacity:0.1; fill:none\" points=\"1939.64,1486.45 1939.64,47.2441 \"/>\n",
       "<polyline clip-path=\"url(#clip080)\" style=\"stroke:#000000; stroke-linecap:round; stroke-linejoin:round; stroke-width:4; stroke-opacity:1; fill:none\" points=\"141.853,1486.45 2352.76,1486.45 \"/>\n",
       "<polyline clip-path=\"url(#clip080)\" style=\"stroke:#000000; stroke-linecap:round; stroke-linejoin:round; stroke-width:4; stroke-opacity:1; fill:none\" points=\"190.579,1486.45 190.579,1467.55 \"/>\n",
       "<polyline clip-path=\"url(#clip080)\" style=\"stroke:#000000; stroke-linecap:round; stroke-linejoin:round; stroke-width:4; stroke-opacity:1; fill:none\" points=\"627.845,1486.45 627.845,1467.55 \"/>\n",
       "<polyline clip-path=\"url(#clip080)\" style=\"stroke:#000000; stroke-linecap:round; stroke-linejoin:round; stroke-width:4; stroke-opacity:1; fill:none\" points=\"1065.11,1486.45 1065.11,1467.55 \"/>\n",
       "<polyline clip-path=\"url(#clip080)\" style=\"stroke:#000000; stroke-linecap:round; stroke-linejoin:round; stroke-width:4; stroke-opacity:1; fill:none\" points=\"1502.38,1486.45 1502.38,1467.55 \"/>\n",
       "<polyline clip-path=\"url(#clip080)\" style=\"stroke:#000000; stroke-linecap:round; stroke-linejoin:round; stroke-width:4; stroke-opacity:1; fill:none\" points=\"1939.64,1486.45 1939.64,1467.55 \"/>\n",
       "<path clip-path=\"url(#clip080)\" d=\"M159.642 1532.02 L189.317 1532.02 L189.317 1535.95 L159.642 1535.95 L159.642 1532.02 Z\" fill=\"#000000\" fill-rule=\"nonzero\" fill-opacity=\"1\" /><path clip-path=\"url(#clip080)\" d=\"M209.989 1529.7 Q206.84 1529.7 204.989 1531.86 Q203.16 1534.01 203.16 1537.76 Q203.16 1541.49 204.989 1543.66 Q206.84 1545.82 209.989 1545.82 Q213.137 1545.82 214.965 1543.66 Q216.817 1541.49 216.817 1537.76 Q216.817 1534.01 214.965 1531.86 Q213.137 1529.7 209.989 1529.7 M219.271 1515.05 L219.271 1519.31 Q217.512 1518.48 215.706 1518.04 Q213.924 1517.6 212.164 1517.6 Q207.535 1517.6 205.081 1520.72 Q202.651 1523.85 202.303 1530.17 Q203.669 1528.15 205.729 1527.09 Q207.789 1526 210.266 1526 Q215.475 1526 218.484 1529.17 Q221.516 1532.32 221.516 1537.76 Q221.516 1543.08 218.368 1546.3 Q215.22 1549.52 209.989 1549.52 Q203.993 1549.52 200.822 1544.94 Q197.651 1540.33 197.651 1531.6 Q197.651 1523.41 201.54 1518.55 Q205.428 1513.66 211.979 1513.66 Q213.739 1513.66 215.521 1514.01 Q217.326 1514.36 219.271 1515.05 Z\" fill=\"#000000\" fill-rule=\"nonzero\" fill-opacity=\"1\" /><path clip-path=\"url(#clip080)\" d=\"M597.312 1532.02 L626.988 1532.02 L626.988 1535.95 L597.312 1535.95 L597.312 1532.02 Z\" fill=\"#000000\" fill-rule=\"nonzero\" fill-opacity=\"1\" /><path clip-path=\"url(#clip080)\" d=\"M651.247 1530.21 Q654.604 1530.93 656.479 1533.2 Q658.377 1535.47 658.377 1538.8 Q658.377 1543.92 654.858 1546.72 Q651.34 1549.52 644.858 1549.52 Q642.683 1549.52 640.368 1549.08 Q638.076 1548.66 635.622 1547.81 L635.622 1543.29 Q637.567 1544.43 639.882 1545.01 Q642.196 1545.58 644.72 1545.58 Q649.118 1545.58 651.409 1543.85 Q653.724 1542.11 653.724 1538.8 Q653.724 1535.75 651.571 1534.03 Q649.442 1532.3 645.622 1532.3 L641.595 1532.3 L641.595 1528.45 L645.808 1528.45 Q649.257 1528.45 651.085 1527.09 Q652.914 1525.7 652.914 1523.11 Q652.914 1520.45 651.016 1519.03 Q649.141 1517.6 645.622 1517.6 Q643.701 1517.6 641.502 1518.01 Q639.303 1518.43 636.664 1519.31 L636.664 1515.14 Q639.326 1514.4 641.641 1514.03 Q643.979 1513.66 646.039 1513.66 Q651.363 1513.66 654.465 1516.09 Q657.567 1518.5 657.567 1522.62 Q657.567 1525.49 655.923 1527.48 Q654.28 1529.45 651.247 1530.21 Z\" fill=\"#000000\" fill-rule=\"nonzero\" fill-opacity=\"1\" /><path clip-path=\"url(#clip080)\" d=\"M1065.11 1517.37 Q1061.5 1517.37 1059.67 1520.93 Q1057.87 1524.47 1057.87 1531.6 Q1057.87 1538.71 1059.67 1542.27 Q1061.5 1545.82 1065.11 1545.82 Q1068.74 1545.82 1070.55 1542.27 Q1072.38 1538.71 1072.38 1531.6 Q1072.38 1524.47 1070.55 1520.93 Q1068.74 1517.37 1065.11 1517.37 M1065.11 1513.66 Q1070.92 1513.66 1073.98 1518.27 Q1077.05 1522.85 1077.05 1531.6 Q1077.05 1540.33 1073.98 1544.94 Q1070.92 1549.52 1065.11 1549.52 Q1059.3 1549.52 1056.22 1544.94 Q1053.17 1540.33 1053.17 1531.6 Q1053.17 1522.85 1056.22 1518.27 Q1059.3 1513.66 1065.11 1513.66 Z\" fill=\"#000000\" fill-rule=\"nonzero\" fill-opacity=\"1\" /><path clip-path=\"url(#clip080)\" d=\"M1506.62 1530.21 Q1509.98 1530.93 1511.86 1533.2 Q1513.75 1535.47 1513.75 1538.8 Q1513.75 1543.92 1510.23 1546.72 Q1506.72 1549.52 1500.23 1549.52 Q1498.06 1549.52 1495.74 1549.08 Q1493.45 1548.66 1491 1547.81 L1491 1543.29 Q1492.94 1544.43 1495.26 1545.01 Q1497.57 1545.58 1500.1 1545.58 Q1504.49 1545.58 1506.79 1543.85 Q1509.1 1542.11 1509.1 1538.8 Q1509.1 1535.75 1506.95 1534.03 Q1504.82 1532.3 1501 1532.3 L1496.97 1532.3 L1496.97 1528.45 L1501.18 1528.45 Q1504.63 1528.45 1506.46 1527.09 Q1508.29 1525.7 1508.29 1523.11 Q1508.29 1520.45 1506.39 1519.03 Q1504.52 1517.6 1501 1517.6 Q1499.08 1517.6 1496.88 1518.01 Q1494.68 1518.43 1492.04 1519.31 L1492.04 1515.14 Q1494.7 1514.4 1497.02 1514.03 Q1499.36 1513.66 1501.42 1513.66 Q1506.74 1513.66 1509.84 1516.09 Q1512.94 1518.5 1512.94 1522.62 Q1512.94 1525.49 1511.3 1527.48 Q1509.66 1529.45 1506.62 1530.21 Z\" fill=\"#000000\" fill-rule=\"nonzero\" fill-opacity=\"1\" /><path clip-path=\"url(#clip080)\" d=\"M1940.05 1529.7 Q1936.9 1529.7 1935.05 1531.86 Q1933.22 1534.01 1933.22 1537.76 Q1933.22 1541.49 1935.05 1543.66 Q1936.9 1545.82 1940.05 1545.82 Q1943.2 1545.82 1945.02 1543.66 Q1946.88 1541.49 1946.88 1537.76 Q1946.88 1534.01 1945.02 1531.86 Q1943.2 1529.7 1940.05 1529.7 M1949.33 1515.05 L1949.33 1519.31 Q1947.57 1518.48 1945.76 1518.04 Q1943.98 1517.6 1942.22 1517.6 Q1937.59 1517.6 1935.14 1520.72 Q1932.71 1523.85 1932.36 1530.17 Q1933.73 1528.15 1935.79 1527.09 Q1937.85 1526 1940.32 1526 Q1945.53 1526 1948.54 1529.17 Q1951.57 1532.32 1951.57 1537.76 Q1951.57 1543.08 1948.43 1546.3 Q1945.28 1549.52 1940.05 1549.52 Q1934.05 1549.52 1930.88 1544.94 Q1927.71 1540.33 1927.71 1531.6 Q1927.71 1523.41 1931.6 1518.55 Q1935.49 1513.66 1942.04 1513.66 Q1943.8 1513.66 1945.58 1514.01 Q1947.38 1514.36 1949.33 1515.05 Z\" fill=\"#000000\" fill-rule=\"nonzero\" fill-opacity=\"1\" /><polyline clip-path=\"url(#clip082)\" style=\"stroke:#000000; stroke-linecap:round; stroke-linejoin:round; stroke-width:2; stroke-opacity:0.1; fill:none\" points=\"141.853,1486.45 2352.76,1486.45 \"/>\n",
       "<polyline clip-path=\"url(#clip082)\" style=\"stroke:#000000; stroke-linecap:round; stroke-linejoin:round; stroke-width:2; stroke-opacity:0.1; fill:none\" points=\"141.853,1189.7 2352.76,1189.7 \"/>\n",
       "<polyline clip-path=\"url(#clip082)\" style=\"stroke:#000000; stroke-linecap:round; stroke-linejoin:round; stroke-width:2; stroke-opacity:0.1; fill:none\" points=\"141.853,892.962 2352.76,892.962 \"/>\n",
       "<polyline clip-path=\"url(#clip082)\" style=\"stroke:#000000; stroke-linecap:round; stroke-linejoin:round; stroke-width:2; stroke-opacity:0.1; fill:none\" points=\"141.853,596.219 2352.76,596.219 \"/>\n",
       "<polyline clip-path=\"url(#clip082)\" style=\"stroke:#000000; stroke-linecap:round; stroke-linejoin:round; stroke-width:2; stroke-opacity:0.1; fill:none\" points=\"141.853,299.476 2352.76,299.476 \"/>\n",
       "<polyline clip-path=\"url(#clip080)\" style=\"stroke:#000000; stroke-linecap:round; stroke-linejoin:round; stroke-width:4; stroke-opacity:1; fill:none\" points=\"141.853,1486.45 141.853,47.2441 \"/>\n",
       "<polyline clip-path=\"url(#clip080)\" style=\"stroke:#000000; stroke-linecap:round; stroke-linejoin:round; stroke-width:4; stroke-opacity:1; fill:none\" points=\"141.853,1486.45 160.751,1486.45 \"/>\n",
       "<polyline clip-path=\"url(#clip080)\" style=\"stroke:#000000; stroke-linecap:round; stroke-linejoin:round; stroke-width:4; stroke-opacity:1; fill:none\" points=\"141.853,1189.7 160.751,1189.7 \"/>\n",
       "<polyline clip-path=\"url(#clip080)\" style=\"stroke:#000000; stroke-linecap:round; stroke-linejoin:round; stroke-width:4; stroke-opacity:1; fill:none\" points=\"141.853,892.962 160.751,892.962 \"/>\n",
       "<polyline clip-path=\"url(#clip080)\" style=\"stroke:#000000; stroke-linecap:round; stroke-linejoin:round; stroke-width:4; stroke-opacity:1; fill:none\" points=\"141.853,596.219 160.751,596.219 \"/>\n",
       "<polyline clip-path=\"url(#clip080)\" style=\"stroke:#000000; stroke-linecap:round; stroke-linejoin:round; stroke-width:4; stroke-opacity:1; fill:none\" points=\"141.853,299.476 160.751,299.476 \"/>\n",
       "<path clip-path=\"url(#clip080)\" d=\"M93.9086 1472.25 Q90.2975 1472.25 88.4688 1475.81 Q86.6632 1479.35 86.6632 1486.48 Q86.6632 1493.59 88.4688 1497.15 Q90.2975 1500.7 93.9086 1500.7 Q97.5428 1500.7 99.3483 1497.15 Q101.177 1493.59 101.177 1486.48 Q101.177 1479.35 99.3483 1475.81 Q97.5428 1472.25 93.9086 1472.25 M93.9086 1468.54 Q99.7187 1468.54 102.774 1473.15 Q105.853 1477.73 105.853 1486.48 Q105.853 1495.21 102.774 1499.82 Q99.7187 1504.4 93.9086 1504.4 Q88.0984 1504.4 85.0197 1499.82 Q81.9642 1495.21 81.9642 1486.48 Q81.9642 1477.73 85.0197 1473.15 Q88.0984 1468.54 93.9086 1468.54 Z\" fill=\"#000000\" fill-rule=\"nonzero\" fill-opacity=\"1\" /><path clip-path=\"url(#clip080)\" d=\"M57.7745 1203.05 L74.0939 1203.05 L74.0939 1206.98 L52.1495 1206.98 L52.1495 1203.05 Q54.8115 1200.3 59.3949 1195.67 Q64.0013 1191.01 65.1819 1189.67 Q67.4272 1187.15 68.3068 1185.41 Q69.2096 1183.65 69.2096 1181.96 Q69.2096 1179.21 67.2652 1177.47 Q65.3439 1175.73 62.2421 1175.73 Q60.043 1175.73 57.5893 1176.5 Q55.1588 1177.26 52.381 1178.81 L52.381 1174.09 Q55.2051 1172.96 57.6588 1172.38 Q60.1124 1171.8 62.1495 1171.8 Q67.5198 1171.8 70.7142 1174.49 Q73.9087 1177.17 73.9087 1181.66 Q73.9087 1183.79 73.0985 1185.71 Q72.3115 1187.61 70.205 1190.2 Q69.6263 1190.87 66.5245 1194.09 Q63.4226 1197.29 57.7745 1203.05 Z\" fill=\"#000000\" fill-rule=\"nonzero\" fill-opacity=\"1\" /><path clip-path=\"url(#clip080)\" d=\"M93.9086 1175.5 Q90.2975 1175.5 88.4688 1179.07 Q86.6632 1182.61 86.6632 1189.74 Q86.6632 1196.85 88.4688 1200.41 Q90.2975 1203.95 93.9086 1203.95 Q97.5428 1203.95 99.3483 1200.41 Q101.177 1196.85 101.177 1189.74 Q101.177 1182.61 99.3483 1179.07 Q97.5428 1175.5 93.9086 1175.5 M93.9086 1171.8 Q99.7187 1171.8 102.774 1176.41 Q105.853 1180.99 105.853 1189.74 Q105.853 1198.47 102.774 1203.07 Q99.7187 1207.66 93.9086 1207.66 Q88.0984 1207.66 85.0197 1203.07 Q81.9642 1198.47 81.9642 1189.74 Q81.9642 1180.99 85.0197 1176.41 Q88.0984 1171.8 93.9086 1171.8 Z\" fill=\"#000000\" fill-rule=\"nonzero\" fill-opacity=\"1\" /><path clip-path=\"url(#clip080)\" d=\"M66.5939 879.756 L54.7884 898.205 L66.5939 898.205 L66.5939 879.756 M65.367 875.682 L71.2466 875.682 L71.2466 898.205 L76.1772 898.205 L76.1772 902.094 L71.2466 902.094 L71.2466 910.242 L66.5939 910.242 L66.5939 902.094 L50.9921 902.094 L50.9921 897.58 L65.367 875.682 Z\" fill=\"#000000\" fill-rule=\"nonzero\" fill-opacity=\"1\" /><path clip-path=\"url(#clip080)\" d=\"M93.9086 878.76 Q90.2975 878.76 88.4688 882.325 Q86.6632 885.867 86.6632 892.997 Q86.6632 900.103 88.4688 903.668 Q90.2975 907.209 93.9086 907.209 Q97.5428 907.209 99.3483 903.668 Q101.177 900.103 101.177 892.997 Q101.177 885.867 99.3483 882.325 Q97.5428 878.76 93.9086 878.76 M93.9086 875.057 Q99.7187 875.057 102.774 879.663 Q105.853 884.247 105.853 892.997 Q105.853 901.723 102.774 906.33 Q99.7187 910.913 93.9086 910.913 Q88.0984 910.913 85.0197 906.33 Q81.9642 901.723 81.9642 892.997 Q81.9642 884.247 85.0197 879.663 Q88.0984 875.057 93.9086 875.057 Z\" fill=\"#000000\" fill-rule=\"nonzero\" fill-opacity=\"1\" /><path clip-path=\"url(#clip080)\" d=\"M64.3254 594.355 Q61.1773 594.355 59.3254 596.508 Q57.4967 598.661 57.4967 602.411 Q57.4967 606.138 59.3254 608.314 Q61.1773 610.466 64.3254 610.466 Q67.4735 610.466 69.3022 608.314 Q71.1541 606.138 71.1541 602.411 Q71.1541 598.661 69.3022 596.508 Q67.4735 594.355 64.3254 594.355 M73.6077 579.703 L73.6077 583.962 Q71.8485 583.129 70.0429 582.689 Q68.2606 582.249 66.5013 582.249 Q61.8717 582.249 59.418 585.374 Q56.9875 588.499 56.6402 594.818 Q58.006 592.804 60.0662 591.74 Q62.1263 590.652 64.6032 590.652 Q69.8115 590.652 72.8207 593.823 Q75.8531 596.971 75.8531 602.411 Q75.8531 607.735 72.705 610.952 Q69.5568 614.17 64.3254 614.17 Q58.33 614.17 55.1588 609.587 Q51.9875 604.98 51.9875 596.253 Q51.9875 588.059 55.8764 583.198 Q59.7652 578.314 66.3161 578.314 Q68.0754 578.314 69.8578 578.661 Q71.6633 579.008 73.6077 579.703 Z\" fill=\"#000000\" fill-rule=\"nonzero\" fill-opacity=\"1\" /><path clip-path=\"url(#clip080)\" d=\"M93.9086 582.017 Q90.2975 582.017 88.4688 585.582 Q86.6632 589.124 86.6632 596.253 Q86.6632 603.36 88.4688 606.925 Q90.2975 610.466 93.9086 610.466 Q97.5428 610.466 99.3483 606.925 Q101.177 603.36 101.177 596.253 Q101.177 589.124 99.3483 585.582 Q97.5428 582.017 93.9086 582.017 M93.9086 578.314 Q99.7187 578.314 102.774 582.92 Q105.853 587.504 105.853 596.253 Q105.853 604.98 102.774 609.587 Q99.7187 614.17 93.9086 614.17 Q88.0984 614.17 85.0197 609.587 Q81.9642 604.98 81.9642 596.253 Q81.9642 587.504 85.0197 582.92 Q88.0984 578.314 93.9086 578.314 Z\" fill=\"#000000\" fill-rule=\"nonzero\" fill-opacity=\"1\" /><path clip-path=\"url(#clip080)\" d=\"M63.7467 300.344 Q60.4134 300.344 58.4921 302.126 Q56.5939 303.909 56.5939 307.034 Q56.5939 310.158 58.4921 311.941 Q60.4134 313.723 63.7467 313.723 Q67.08 313.723 69.0013 311.941 Q70.9226 310.135 70.9226 307.034 Q70.9226 303.909 69.0013 302.126 Q67.1032 300.344 63.7467 300.344 M59.0708 298.353 Q56.0615 297.612 54.3717 295.552 Q52.7051 293.492 52.7051 290.529 Q52.7051 286.385 55.6449 283.978 Q58.6078 281.571 63.7467 281.571 Q68.9087 281.571 71.8485 283.978 Q74.7883 286.385 74.7883 290.529 Q74.7883 293.492 73.0985 295.552 Q71.4318 297.612 68.4457 298.353 Q71.8253 299.14 73.7003 301.432 Q75.5985 303.723 75.5985 307.034 Q75.5985 312.057 72.5198 314.742 Q69.4642 317.427 63.7467 317.427 Q58.0291 317.427 54.9504 314.742 Q51.8949 312.057 51.8949 307.034 Q51.8949 303.723 53.793 301.432 Q55.6912 299.14 59.0708 298.353 M57.3578 290.969 Q57.3578 293.654 59.0245 295.159 Q60.7143 296.663 63.7467 296.663 Q66.7559 296.663 68.4457 295.159 Q70.1587 293.654 70.1587 290.969 Q70.1587 288.284 68.4457 286.779 Q66.7559 285.274 63.7467 285.274 Q60.7143 285.274 59.0245 286.779 Q57.3578 288.284 57.3578 290.969 Z\" fill=\"#000000\" fill-rule=\"nonzero\" fill-opacity=\"1\" /><path clip-path=\"url(#clip080)\" d=\"M93.9086 285.274 Q90.2975 285.274 88.4688 288.839 Q86.6632 292.381 86.6632 299.51 Q86.6632 306.617 88.4688 310.182 Q90.2975 313.723 93.9086 313.723 Q97.5428 313.723 99.3483 310.182 Q101.177 306.617 101.177 299.51 Q101.177 292.381 99.3483 288.839 Q97.5428 285.274 93.9086 285.274 M93.9086 281.571 Q99.7187 281.571 102.774 286.177 Q105.853 290.76 105.853 299.51 Q105.853 308.237 102.774 312.844 Q99.7187 317.427 93.9086 317.427 Q88.0984 317.427 85.0197 312.844 Q81.9642 308.237 81.9642 299.51 Q81.9642 290.76 85.0197 286.177 Q88.0984 281.571 93.9086 281.571 Z\" fill=\"#000000\" fill-rule=\"nonzero\" fill-opacity=\"1\" /><path clip-path=\"url(#clip082)\" d=\"M263.457 1471.61 L263.457 1486.45 L336.334 1486.45 L336.334 1471.61 L263.457 1471.61 L263.457 1471.61  Z\" fill=\"#009af9\" fill-rule=\"evenodd\" fill-opacity=\"1\"/>\n",
       "<polyline clip-path=\"url(#clip082)\" style=\"stroke:#000000; stroke-linecap:round; stroke-linejoin:round; stroke-width:4; stroke-opacity:1; fill:none\" points=\"263.457,1471.61 263.457,1486.45 336.334,1486.45 336.334,1471.61 263.457,1471.61 \"/>\n",
       "<path clip-path=\"url(#clip082)\" d=\"M336.334 1471.61 L336.334 1486.45 L409.212 1486.45 L409.212 1471.61 L336.334 1471.61 L336.334 1471.61  Z\" fill=\"#009af9\" fill-rule=\"evenodd\" fill-opacity=\"1\"/>\n",
       "<polyline clip-path=\"url(#clip082)\" style=\"stroke:#000000; stroke-linecap:round; stroke-linejoin:round; stroke-width:4; stroke-opacity:1; fill:none\" points=\"336.334,1471.61 336.334,1486.45 409.212,1486.45 409.212,1471.61 336.334,1471.61 \"/>\n",
       "<path clip-path=\"url(#clip082)\" d=\"M409.212 1471.61 L409.212 1486.45 L482.089 1486.45 L482.089 1471.61 L409.212 1471.61 L409.212 1471.61  Z\" fill=\"#009af9\" fill-rule=\"evenodd\" fill-opacity=\"1\"/>\n",
       "<polyline clip-path=\"url(#clip082)\" style=\"stroke:#000000; stroke-linecap:round; stroke-linejoin:round; stroke-width:4; stroke-opacity:1; fill:none\" points=\"409.212,1471.61 409.212,1486.45 482.089,1486.45 482.089,1471.61 409.212,1471.61 \"/>\n",
       "<path clip-path=\"url(#clip082)\" d=\"M482.089 1412.26 L482.089 1486.45 L554.967 1486.45 L554.967 1412.26 L482.089 1412.26 L482.089 1412.26  Z\" fill=\"#009af9\" fill-rule=\"evenodd\" fill-opacity=\"1\"/>\n",
       "<polyline clip-path=\"url(#clip082)\" style=\"stroke:#000000; stroke-linecap:round; stroke-linejoin:round; stroke-width:4; stroke-opacity:1; fill:none\" points=\"482.089,1412.26 482.089,1486.45 554.967,1486.45 554.967,1412.26 482.089,1412.26 \"/>\n",
       "<path clip-path=\"url(#clip082)\" d=\"M554.967 1471.61 L554.967 1486.45 L627.845 1486.45 L627.845 1471.61 L554.967 1471.61 L554.967 1471.61  Z\" fill=\"#009af9\" fill-rule=\"evenodd\" fill-opacity=\"1\"/>\n",
       "<polyline clip-path=\"url(#clip082)\" style=\"stroke:#000000; stroke-linecap:round; stroke-linejoin:round; stroke-width:4; stroke-opacity:1; fill:none\" points=\"554.967,1471.61 554.967,1486.45 627.845,1486.45 627.845,1471.61 554.967,1471.61 \"/>\n",
       "<path clip-path=\"url(#clip082)\" d=\"M627.845 1382.59 L627.845 1486.45 L700.722 1486.45 L700.722 1382.59 L627.845 1382.59 L627.845 1382.59  Z\" fill=\"#009af9\" fill-rule=\"evenodd\" fill-opacity=\"1\"/>\n",
       "<polyline clip-path=\"url(#clip082)\" style=\"stroke:#000000; stroke-linecap:round; stroke-linejoin:round; stroke-width:4; stroke-opacity:1; fill:none\" points=\"627.845,1382.59 627.845,1486.45 700.722,1486.45 700.722,1382.59 627.845,1382.59 \"/>\n",
       "<path clip-path=\"url(#clip082)\" d=\"M700.722 1249.05 L700.722 1486.45 L773.6 1486.45 L773.6 1249.05 L700.722 1249.05 L700.722 1249.05  Z\" fill=\"#009af9\" fill-rule=\"evenodd\" fill-opacity=\"1\"/>\n",
       "<polyline clip-path=\"url(#clip082)\" style=\"stroke:#000000; stroke-linecap:round; stroke-linejoin:round; stroke-width:4; stroke-opacity:1; fill:none\" points=\"700.722,1249.05 700.722,1486.45 773.6,1486.45 773.6,1249.05 700.722,1249.05 \"/>\n",
       "<path clip-path=\"url(#clip082)\" d=\"M773.6 1115.52 L773.6 1486.45 L846.478 1486.45 L846.478 1115.52 L773.6 1115.52 L773.6 1115.52  Z\" fill=\"#009af9\" fill-rule=\"evenodd\" fill-opacity=\"1\"/>\n",
       "<polyline clip-path=\"url(#clip082)\" style=\"stroke:#000000; stroke-linecap:round; stroke-linejoin:round; stroke-width:4; stroke-opacity:1; fill:none\" points=\"773.6,1115.52 773.6,1486.45 846.478,1486.45 846.478,1115.52 773.6,1115.52 \"/>\n",
       "<path clip-path=\"url(#clip082)\" d=\"M846.478 892.962 L846.478 1486.45 L919.355 1486.45 L919.355 892.962 L846.478 892.962 L846.478 892.962  Z\" fill=\"#009af9\" fill-rule=\"evenodd\" fill-opacity=\"1\"/>\n",
       "<polyline clip-path=\"url(#clip082)\" style=\"stroke:#000000; stroke-linecap:round; stroke-linejoin:round; stroke-width:4; stroke-opacity:1; fill:none\" points=\"846.478,892.962 846.478,1486.45 919.355,1486.45 919.355,892.962 846.478,892.962 \"/>\n",
       "<path clip-path=\"url(#clip082)\" d=\"M919.355 536.87 L919.355 1486.45 L992.233 1486.45 L992.233 536.87 L919.355 536.87 L919.355 536.87  Z\" fill=\"#009af9\" fill-rule=\"evenodd\" fill-opacity=\"1\"/>\n",
       "<polyline clip-path=\"url(#clip082)\" style=\"stroke:#000000; stroke-linecap:round; stroke-linejoin:round; stroke-width:4; stroke-opacity:1; fill:none\" points=\"919.355,536.87 919.355,1486.45 992.233,1486.45 992.233,536.87 919.355,536.87 \"/>\n",
       "<path clip-path=\"url(#clip082)\" d=\"M992.233 47.2441 L992.233 1486.45 L1065.11 1486.45 L1065.11 47.2441 L992.233 47.2441 L992.233 47.2441  Z\" fill=\"#009af9\" fill-rule=\"evenodd\" fill-opacity=\"1\"/>\n",
       "<polyline clip-path=\"url(#clip082)\" style=\"stroke:#000000; stroke-linecap:round; stroke-linejoin:round; stroke-width:4; stroke-opacity:1; fill:none\" points=\"992.233,47.2441 992.233,1486.45 1065.11,1486.45 1065.11,47.2441 992.233,47.2441 \"/>\n",
       "<path clip-path=\"url(#clip082)\" d=\"M1065.11 225.29 L1065.11 1486.45 L1137.99 1486.45 L1137.99 225.29 L1065.11 225.29 L1065.11 225.29  Z\" fill=\"#009af9\" fill-rule=\"evenodd\" fill-opacity=\"1\"/>\n",
       "<polyline clip-path=\"url(#clip082)\" style=\"stroke:#000000; stroke-linecap:round; stroke-linejoin:round; stroke-width:4; stroke-opacity:1; fill:none\" points=\"1065.11,225.29 1065.11,1486.45 1137.99,1486.45 1137.99,225.29 1065.11,225.29 \"/>\n",
       "<path clip-path=\"url(#clip082)\" d=\"M1137.99 566.544 L1137.99 1486.45 L1210.87 1486.45 L1210.87 566.544 L1137.99 566.544 L1137.99 566.544  Z\" fill=\"#009af9\" fill-rule=\"evenodd\" fill-opacity=\"1\"/>\n",
       "<polyline clip-path=\"url(#clip082)\" style=\"stroke:#000000; stroke-linecap:round; stroke-linejoin:round; stroke-width:4; stroke-opacity:1; fill:none\" points=\"1137.99,566.544 1137.99,1486.45 1210.87,1486.45 1210.87,566.544 1137.99,566.544 \"/>\n",
       "<path clip-path=\"url(#clip082)\" d=\"M1210.87 937.473 L1210.87 1486.45 L1283.74 1486.45 L1283.74 937.473 L1210.87 937.473 L1210.87 937.473  Z\" fill=\"#009af9\" fill-rule=\"evenodd\" fill-opacity=\"1\"/>\n",
       "<polyline clip-path=\"url(#clip082)\" style=\"stroke:#000000; stroke-linecap:round; stroke-linejoin:round; stroke-width:4; stroke-opacity:1; fill:none\" points=\"1210.87,937.473 1210.87,1486.45 1283.74,1486.45 1283.74,937.473 1210.87,937.473 \"/>\n",
       "<path clip-path=\"url(#clip082)\" d=\"M1283.74 1189.7 L1283.74 1486.45 L1356.62 1486.45 L1356.62 1189.7 L1283.74 1189.7 L1283.74 1189.7  Z\" fill=\"#009af9\" fill-rule=\"evenodd\" fill-opacity=\"1\"/>\n",
       "<polyline clip-path=\"url(#clip082)\" style=\"stroke:#000000; stroke-linecap:round; stroke-linejoin:round; stroke-width:4; stroke-opacity:1; fill:none\" points=\"1283.74,1189.7 1283.74,1486.45 1356.62,1486.45 1356.62,1189.7 1283.74,1189.7 \"/>\n",
       "<path clip-path=\"url(#clip082)\" d=\"M1356.62 1308.4 L1356.62 1486.45 L1429.5 1486.45 L1429.5 1308.4 L1356.62 1308.4 L1356.62 1308.4  Z\" fill=\"#009af9\" fill-rule=\"evenodd\" fill-opacity=\"1\"/>\n",
       "<polyline clip-path=\"url(#clip082)\" style=\"stroke:#000000; stroke-linecap:round; stroke-linejoin:round; stroke-width:4; stroke-opacity:1; fill:none\" points=\"1356.62,1308.4 1356.62,1486.45 1429.5,1486.45 1429.5,1308.4 1356.62,1308.4 \"/>\n",
       "<path clip-path=\"url(#clip082)\" d=\"M1429.5 1338.08 L1429.5 1486.45 L1502.38 1486.45 L1502.38 1338.08 L1429.5 1338.08 L1429.5 1338.08  Z\" fill=\"#009af9\" fill-rule=\"evenodd\" fill-opacity=\"1\"/>\n",
       "<polyline clip-path=\"url(#clip082)\" style=\"stroke:#000000; stroke-linecap:round; stroke-linejoin:round; stroke-width:4; stroke-opacity:1; fill:none\" points=\"1429.5,1338.08 1429.5,1486.45 1502.38,1486.45 1502.38,1338.08 1429.5,1338.08 \"/>\n",
       "<path clip-path=\"url(#clip082)\" d=\"M1502.38 1441.94 L1502.38 1486.45 L1575.25 1486.45 L1575.25 1441.94 L1502.38 1441.94 L1502.38 1441.94  Z\" fill=\"#009af9\" fill-rule=\"evenodd\" fill-opacity=\"1\"/>\n",
       "<polyline clip-path=\"url(#clip082)\" style=\"stroke:#000000; stroke-linecap:round; stroke-linejoin:round; stroke-width:4; stroke-opacity:1; fill:none\" points=\"1502.38,1441.94 1502.38,1486.45 1575.25,1486.45 1575.25,1441.94 1502.38,1441.94 \"/>\n",
       "<path clip-path=\"url(#clip082)\" d=\"M1575.25 1427.1 L1575.25 1486.45 L1648.13 1486.45 L1648.13 1427.1 L1575.25 1427.1 L1575.25 1427.1  Z\" fill=\"#009af9\" fill-rule=\"evenodd\" fill-opacity=\"1\"/>\n",
       "<polyline clip-path=\"url(#clip082)\" style=\"stroke:#000000; stroke-linecap:round; stroke-linejoin:round; stroke-width:4; stroke-opacity:1; fill:none\" points=\"1575.25,1427.1 1575.25,1486.45 1648.13,1486.45 1648.13,1427.1 1575.25,1427.1 \"/>\n",
       "<path clip-path=\"url(#clip082)\" d=\"M1648.13 1412.26 L1648.13 1486.45 L1721.01 1486.45 L1721.01 1412.26 L1648.13 1412.26 L1648.13 1412.26  Z\" fill=\"#009af9\" fill-rule=\"evenodd\" fill-opacity=\"1\"/>\n",
       "<polyline clip-path=\"url(#clip082)\" style=\"stroke:#000000; stroke-linecap:round; stroke-linejoin:round; stroke-width:4; stroke-opacity:1; fill:none\" points=\"1648.13,1412.26 1648.13,1486.45 1721.01,1486.45 1721.01,1412.26 1648.13,1412.26 \"/>\n",
       "<path clip-path=\"url(#clip082)\" d=\"M1721.01 1471.61 L1721.01 1486.45 L1793.89 1486.45 L1793.89 1471.61 L1721.01 1471.61 L1721.01 1471.61  Z\" fill=\"#009af9\" fill-rule=\"evenodd\" fill-opacity=\"1\"/>\n",
       "<polyline clip-path=\"url(#clip082)\" style=\"stroke:#000000; stroke-linecap:round; stroke-linejoin:round; stroke-width:4; stroke-opacity:1; fill:none\" points=\"1721.01,1471.61 1721.01,1486.45 1793.89,1486.45 1793.89,1471.61 1721.01,1471.61 \"/>\n",
       "<path clip-path=\"url(#clip082)\" d=\"M1793.89 1486.45 L1793.89 1486.45 L1866.76 1486.45 L1866.76 1486.45 L1793.89 1486.45 L1793.89 1486.45  Z\" fill=\"#009af9\" fill-rule=\"evenodd\" fill-opacity=\"1\"/>\n",
       "<polyline clip-path=\"url(#clip082)\" style=\"stroke:#000000; stroke-linecap:round; stroke-linejoin:round; stroke-width:4; stroke-opacity:1; fill:none\" points=\"1793.89,1486.45 1793.89,1486.45 1866.76,1486.45 1793.89,1486.45 \"/>\n",
       "<path clip-path=\"url(#clip082)\" d=\"M1866.76 1471.61 L1866.76 1486.45 L1939.64 1486.45 L1939.64 1471.61 L1866.76 1471.61 L1866.76 1471.61  Z\" fill=\"#009af9\" fill-rule=\"evenodd\" fill-opacity=\"1\"/>\n",
       "<polyline clip-path=\"url(#clip082)\" style=\"stroke:#000000; stroke-linecap:round; stroke-linejoin:round; stroke-width:4; stroke-opacity:1; fill:none\" points=\"1866.76,1471.61 1866.76,1486.45 1939.64,1486.45 1939.64,1471.61 1866.76,1471.61 \"/>\n",
       "<path clip-path=\"url(#clip082)\" d=\"M1939.64 1471.61 L1939.64 1486.45 L2012.52 1486.45 L2012.52 1471.61 L1939.64 1471.61 L1939.64 1471.61  Z\" fill=\"#009af9\" fill-rule=\"evenodd\" fill-opacity=\"1\"/>\n",
       "<polyline clip-path=\"url(#clip082)\" style=\"stroke:#000000; stroke-linecap:round; stroke-linejoin:round; stroke-width:4; stroke-opacity:1; fill:none\" points=\"1939.64,1471.61 1939.64,1486.45 2012.52,1486.45 2012.52,1471.61 1939.64,1471.61 \"/>\n",
       "<path clip-path=\"url(#clip082)\" d=\"M2012.52 1486.45 L2012.52 1486.45 L2085.4 1486.45 L2085.4 1486.45 L2012.52 1486.45 L2012.52 1486.45  Z\" fill=\"#009af9\" fill-rule=\"evenodd\" fill-opacity=\"1\"/>\n",
       "<polyline clip-path=\"url(#clip082)\" style=\"stroke:#000000; stroke-linecap:round; stroke-linejoin:round; stroke-width:4; stroke-opacity:1; fill:none\" points=\"2012.52,1486.45 2012.52,1486.45 2085.4,1486.45 2012.52,1486.45 \"/>\n",
       "<path clip-path=\"url(#clip082)\" d=\"M2085.4 1486.45 L2085.4 1486.45 L2158.27 1486.45 L2158.27 1486.45 L2085.4 1486.45 L2085.4 1486.45  Z\" fill=\"#009af9\" fill-rule=\"evenodd\" fill-opacity=\"1\"/>\n",
       "<polyline clip-path=\"url(#clip082)\" style=\"stroke:#000000; stroke-linecap:round; stroke-linejoin:round; stroke-width:4; stroke-opacity:1; fill:none\" points=\"2085.4,1486.45 2085.4,1486.45 2158.27,1486.45 2085.4,1486.45 \"/>\n",
       "<path clip-path=\"url(#clip082)\" d=\"M2158.27 1471.61 L2158.27 1486.45 L2231.15 1486.45 L2231.15 1471.61 L2158.27 1471.61 L2158.27 1471.61  Z\" fill=\"#009af9\" fill-rule=\"evenodd\" fill-opacity=\"1\"/>\n",
       "<polyline clip-path=\"url(#clip082)\" style=\"stroke:#000000; stroke-linecap:round; stroke-linejoin:round; stroke-width:4; stroke-opacity:1; fill:none\" points=\"2158.27,1471.61 2158.27,1486.45 2231.15,1486.45 2231.15,1471.61 2158.27,1471.61 \"/>\n",
       "<circle clip-path=\"url(#clip082)\" style=\"fill:#009af9; stroke:none; fill-opacity:0\" cx=\"299.895\" cy=\"1471.61\" r=\"2\"/>\n",
       "<circle clip-path=\"url(#clip082)\" style=\"fill:#009af9; stroke:none; fill-opacity:0\" cx=\"372.773\" cy=\"1471.61\" r=\"2\"/>\n",
       "<circle clip-path=\"url(#clip082)\" style=\"fill:#009af9; stroke:none; fill-opacity:0\" cx=\"445.651\" cy=\"1471.61\" r=\"2\"/>\n",
       "<circle clip-path=\"url(#clip082)\" style=\"fill:#009af9; stroke:none; fill-opacity:0\" cx=\"518.528\" cy=\"1412.26\" r=\"2\"/>\n",
       "<circle clip-path=\"url(#clip082)\" style=\"fill:#009af9; stroke:none; fill-opacity:0\" cx=\"591.406\" cy=\"1471.61\" r=\"2\"/>\n",
       "<circle clip-path=\"url(#clip082)\" style=\"fill:#009af9; stroke:none; fill-opacity:0\" cx=\"664.283\" cy=\"1382.59\" r=\"2\"/>\n",
       "<circle clip-path=\"url(#clip082)\" style=\"fill:#009af9; stroke:none; fill-opacity:0\" cx=\"737.161\" cy=\"1249.05\" r=\"2\"/>\n",
       "<circle clip-path=\"url(#clip082)\" style=\"fill:#009af9; stroke:none; fill-opacity:0\" cx=\"810.039\" cy=\"1115.52\" r=\"2\"/>\n",
       "<circle clip-path=\"url(#clip082)\" style=\"fill:#009af9; stroke:none; fill-opacity:0\" cx=\"882.916\" cy=\"892.962\" r=\"2\"/>\n",
       "<circle clip-path=\"url(#clip082)\" style=\"fill:#009af9; stroke:none; fill-opacity:0\" cx=\"955.794\" cy=\"536.87\" r=\"2\"/>\n",
       "<circle clip-path=\"url(#clip082)\" style=\"fill:#009af9; stroke:none; fill-opacity:0\" cx=\"1028.67\" cy=\"47.2441\" r=\"2\"/>\n",
       "<circle clip-path=\"url(#clip082)\" style=\"fill:#009af9; stroke:none; fill-opacity:0\" cx=\"1101.55\" cy=\"225.29\" r=\"2\"/>\n",
       "<circle clip-path=\"url(#clip082)\" style=\"fill:#009af9; stroke:none; fill-opacity:0\" cx=\"1174.43\" cy=\"566.544\" r=\"2\"/>\n",
       "<circle clip-path=\"url(#clip082)\" style=\"fill:#009af9; stroke:none; fill-opacity:0\" cx=\"1247.3\" cy=\"937.473\" r=\"2\"/>\n",
       "<circle clip-path=\"url(#clip082)\" style=\"fill:#009af9; stroke:none; fill-opacity:0\" cx=\"1320.18\" cy=\"1189.7\" r=\"2\"/>\n",
       "<circle clip-path=\"url(#clip082)\" style=\"fill:#009af9; stroke:none; fill-opacity:0\" cx=\"1393.06\" cy=\"1308.4\" r=\"2\"/>\n",
       "<circle clip-path=\"url(#clip082)\" style=\"fill:#009af9; stroke:none; fill-opacity:0\" cx=\"1465.94\" cy=\"1338.08\" r=\"2\"/>\n",
       "<circle clip-path=\"url(#clip082)\" style=\"fill:#009af9; stroke:none; fill-opacity:0\" cx=\"1538.81\" cy=\"1441.94\" r=\"2\"/>\n",
       "<circle clip-path=\"url(#clip082)\" style=\"fill:#009af9; stroke:none; fill-opacity:0\" cx=\"1611.69\" cy=\"1427.1\" r=\"2\"/>\n",
       "<circle clip-path=\"url(#clip082)\" style=\"fill:#009af9; stroke:none; fill-opacity:0\" cx=\"1684.57\" cy=\"1412.26\" r=\"2\"/>\n",
       "<circle clip-path=\"url(#clip082)\" style=\"fill:#009af9; stroke:none; fill-opacity:0\" cx=\"1757.45\" cy=\"1471.61\" r=\"2\"/>\n",
       "<circle clip-path=\"url(#clip082)\" style=\"fill:#009af9; stroke:none; fill-opacity:0\" cx=\"1830.33\" cy=\"1486.45\" r=\"2\"/>\n",
       "<circle clip-path=\"url(#clip082)\" style=\"fill:#009af9; stroke:none; fill-opacity:0\" cx=\"1903.2\" cy=\"1471.61\" r=\"2\"/>\n",
       "<circle clip-path=\"url(#clip082)\" style=\"fill:#009af9; stroke:none; fill-opacity:0\" cx=\"1976.08\" cy=\"1471.61\" r=\"2\"/>\n",
       "<circle clip-path=\"url(#clip082)\" style=\"fill:#009af9; stroke:none; fill-opacity:0\" cx=\"2048.96\" cy=\"1486.45\" r=\"2\"/>\n",
       "<circle clip-path=\"url(#clip082)\" style=\"fill:#009af9; stroke:none; fill-opacity:0\" cx=\"2121.84\" cy=\"1486.45\" r=\"2\"/>\n",
       "<circle clip-path=\"url(#clip082)\" style=\"fill:#009af9; stroke:none; fill-opacity:0\" cx=\"2194.71\" cy=\"1471.61\" r=\"2\"/>\n",
       "<path clip-path=\"url(#clip080)\" d=\"M2005.54 198.898 L2279.06 198.898 L2279.06 95.2176 L2005.54 95.2176  Z\" fill=\"#ffffff\" fill-rule=\"evenodd\" fill-opacity=\"1\"/>\n",
       "<polyline clip-path=\"url(#clip080)\" style=\"stroke:#000000; stroke-linecap:round; stroke-linejoin:round; stroke-width:4; stroke-opacity:1; fill:none\" points=\"2005.54,198.898 2279.06,198.898 2279.06,95.2176 2005.54,95.2176 2005.54,198.898 \"/>\n",
       "<path clip-path=\"url(#clip080)\" d=\"M2030.1 167.794 L2177.5 167.794 L2177.5 126.322 L2030.1 126.322 L2030.1 167.794  Z\" fill=\"#009af9\" fill-rule=\"evenodd\" fill-opacity=\"1\"/>\n",
       "<polyline clip-path=\"url(#clip080)\" style=\"stroke:#000000; stroke-linecap:round; stroke-linejoin:round; stroke-width:4; stroke-opacity:1; fill:none\" points=\"2030.1,167.794 2177.5,167.794 2177.5,126.322 2030.1,126.322 2030.1,167.794 \"/>\n",
       "<path clip-path=\"url(#clip080)\" d=\"M2215.91 166.745 Q2214.1 171.375 2212.39 172.787 Q2210.67 174.199 2207.8 174.199 L2204.4 174.199 L2204.4 170.634 L2206.9 170.634 Q2208.66 170.634 2209.63 169.8 Q2210.6 168.967 2211.79 165.865 L2212.55 163.921 L2202.06 138.412 L2206.58 138.412 L2214.68 158.689 L2222.78 138.412 L2227.29 138.412 L2215.91 166.745 Z\" fill=\"#000000\" fill-rule=\"nonzero\" fill-opacity=\"1\" /><path clip-path=\"url(#clip080)\" d=\"M2234.59 160.402 L2242.23 160.402 L2242.23 134.037 L2233.91 135.703 L2233.91 131.444 L2242.18 129.778 L2246.85 129.778 L2246.85 160.402 L2254.49 160.402 L2254.49 164.338 L2234.59 164.338 L2234.59 160.402 Z\" fill=\"#000000\" fill-rule=\"nonzero\" fill-opacity=\"1\" /></svg>\n"
      ]
     },
     "metadata": {},
     "output_type": "display_data"
    }
   ],
   "source": [
    "using Distributions\n",
    "\n",
    "function plothistogram(distribution, n)\n",
    "    ep = rand(distribution, n)  # n draws from distribution\n",
    "    histogram(ep)\n",
    "end\n",
    "\n",
    "lp = Laplace()\n",
    "plothistogram(lp, 500)"
   ]
  },
  {
   "cell_type": "markdown",
   "id": "9564051f",
   "metadata": {},
   "source": [
    "Let’s have a casual discussion of how all this works while leaving technical details for later in the lectures.\n",
    "\n",
    "First, `lp = Laplace()` creates an instance of a data type defined\n",
    "in the `Distributions` module that represents the Laplace distribution.\n",
    "\n",
    "The name `lp` is bound to this value.\n",
    "\n",
    "When we make the function call `plothistogram(lp, 500)` the code in the body\n",
    "of the function `plothistogram` is run with\n",
    "\n",
    "- the name `distribution` bound to the same value as `lp`  \n",
    "- the name `n` bound to the integer `500`  "
   ]
  },
  {
   "cell_type": "markdown",
   "id": "a1994231",
   "metadata": {},
   "source": [
    "#### A Mystery\n",
    "\n",
    "Now consider the function call `rand(distribution, n)`.\n",
    "\n",
    "This looks like something of a mystery.\n",
    "\n",
    "The function `rand()` is defined in the base library such that `rand(n)` returns `n` uniform random variables on $ [0, 1) $."
   ]
  },
  {
   "cell_type": "code",
   "execution_count": 20,
   "id": "4e0a4442",
   "metadata": {
    "hide-output": false
   },
   "outputs": [
    {
     "data": {
      "text/plain": [
       "3-element Vector{Float64}:\n",
       " 0.4241484566881245\n",
       " 0.2755770276152192\n",
       " 0.1839190221110627"
      ]
     },
     "metadata": {},
     "output_type": "display_data"
    }
   ],
   "source": [
    "rand(3)"
   ]
  },
  {
   "cell_type": "markdown",
   "id": "26300911",
   "metadata": {},
   "source": [
    "On the other hand, `distribution` points to a data type representing the Laplace distribution that has been defined in a third party package.\n",
    "\n",
    "So how can it be that `rand()` is able to take this kind of value as an\n",
    "argument and return the output that we want?\n",
    "\n",
    "The answer in a nutshell is **multiple dispatch**, which Julia uses to implement **generic programming**.\n",
    "\n",
    "This refers to the idea that functions in Julia can have different behavior\n",
    "depending on the particular arguments that they’re passed.\n",
    "\n",
    "Hence in Julia we can take an existing function and give it a new behavior by defining how it acts on a new type of value.\n",
    "\n",
    "The compiler knows which function definition to apply to in a given setting by looking at the types of the values the function is called on.\n",
    "\n",
    "In Julia these alternative versions of a function are called **methods**."
   ]
  },
  {
   "cell_type": "markdown",
   "id": "11da1ffe",
   "metadata": {},
   "source": [
    "## Example: Variations on Fixed Points\n",
    "\n",
    "Take a mapping $ f : X \\to X $ for some set $ X $.\n",
    "\n",
    "If there exists an $ x^* \\in X $ such that $ f(x^*) = x^* $, then $ x^* $: is called a “fixed point” of $ f $.\n",
    "\n",
    "For our second example, we will start with a simple example of determining fixed points of a function.\n",
    "\n",
    "The goal is to start with code in a MATLAB style, and move towards a more **Julian** style with high mathematical clarity."
   ]
  },
  {
   "cell_type": "markdown",
   "id": "363efca5",
   "metadata": {},
   "source": [
    "### Fixed Point Maps\n",
    "\n",
    "Consider the simple equation, where the scalars $ p,\\beta $ are given, and  $ v $ is the scalar we wish to solve for\n",
    "\n",
    "$$\n",
    "v = p + \\beta v\n",
    "$$\n",
    "\n",
    "Of course, in this simple example, with parameter restrictions this can be solved as $ v = p/(1 - \\beta) $.\n",
    "\n",
    "Rearrange the equation in terms of a map $ f(x) : \\mathbb R \\to \\mathbb R $\n",
    "\n",
    "\n",
    "<a id='equation-fixed-point-map'></a>\n",
    "$$\n",
    "v = f(v) \\tag{2.1}\n",
    "$$\n",
    "\n",
    "where\n",
    "\n",
    "$$\n",
    "f(v) := p + \\beta v\n",
    "$$\n",
    "\n",
    "Therefore, a fixed point $ v^* $ of $ f(\\cdot) $ is a solution to the above problem."
   ]
  },
  {
   "cell_type": "markdown",
   "id": "f8a747be",
   "metadata": {},
   "source": [
    "### While Loops\n",
    "\n",
    "One approach to finding a fixed point of [(2.1)](#equation-fixed-point-map) is to start with an initial value, and iterate the map\n",
    "\n",
    "\n",
    "<a id='equation-fixed-point-naive'></a>\n",
    "$$\n",
    "v^{n+1} = f(v^n) \\tag{2.2}\n",
    "$$\n",
    "\n",
    "For this exact `f` function,  we can see the convergence to $ v = p/(1-\\beta) $ when $ |\\beta| < 1 $ by iterating backwards and taking $ n\\to\\infty $\n",
    "\n",
    "$$\n",
    "v^{n+1} = p + \\beta v^n = p + \\beta p + \\beta^2 v^{n-1} = p \\sum_{i=0}^{n-1} \\beta^i + \\beta^n v_0\n",
    "$$\n",
    "\n",
    "To implement the iteration in [(2.2)](#equation-fixed-point-naive), we start by solving this problem with a `while` loop.\n",
    "\n",
    "The syntax for the while loop contains no surprises, and looks nearly identical to a MATLAB implementation."
   ]
  },
  {
   "cell_type": "code",
   "execution_count": 21,
   "id": "617ee3f8",
   "metadata": {
    "hide-output": false
   },
   "outputs": [
    {
     "name": "stdout",
     "output_type": "stream",
     "text": [
      "Fixed point = 9.999999173706609\n",
      "  |f(x) - x| = 9.181037796679448e-8 in 155 iterations\n"
     ]
    }
   ],
   "source": [
    "# poor style\n",
    "p = 1.0 # note 1.0 rather than 1\n",
    "beta = 0.9\n",
    "maxiter = 1000\n",
    "tolerance = 1.0E-7\n",
    "v_iv = 0.8 # initial condition\n",
    "\n",
    "# setup the algorithm\n",
    "v_old = v_iv\n",
    "normdiff = Inf\n",
    "iter = 1\n",
    "while normdiff > tolerance && iter <= maxiter\n",
    "    v_new = p + beta * v_old # the f(v) map\n",
    "    normdiff = norm(v_new - v_old)\n",
    "\n",
    "    # replace and continue\n",
    "    v_old = v_new\n",
    "    iter = iter + 1\n",
    "end\n",
    "println(\"Fixed point = $v_old\n",
    "  |f(x) - x| = $normdiff in $iter iterations\")"
   ]
  },
  {
   "cell_type": "markdown",
   "id": "aa97dfbe",
   "metadata": {},
   "source": [
    "The `while` loop, like the `for` loop should only be used directly in Jupyter or the inside of a function.\n",
    "\n",
    "Here, we have used the `norm` function (from the `LinearAlgebra` base library) to compare the values.\n",
    "\n",
    "The other new function is the `println` with the string interpolation, which splices the value of an expression or variable prefixed by \\$ into a string.\n",
    "\n",
    "An alternative approach is to use a `for` loop, and check for convergence in each iteration."
   ]
  },
  {
   "cell_type": "code",
   "execution_count": 22,
   "id": "f80c71fc",
   "metadata": {
    "hide-output": false
   },
   "outputs": [
    {
     "name": "stdout",
     "output_type": "stream",
     "text": [
      "Fixed point = 9.999999081896231\n",
      "  |f(x) - x| = 9.181037796679448e-8 in 154 iterations\n"
     ]
    }
   ],
   "source": [
    "# setup the algorithm\n",
    "v_old = v_iv\n",
    "normdiff = Inf\n",
    "iter = 1\n",
    "for i in 1:maxiter\n",
    "    v_new = p + beta * v_old # the f(v) map\n",
    "    normdiff = norm(v_new - v_old)\n",
    "    if normdiff < tolerance # check convergence\n",
    "        iter = i\n",
    "        break # converged, exit loop\n",
    "    end\n",
    "    # replace and continue\n",
    "    v_old = v_new\n",
    "end\n",
    "println(\"Fixed point = $v_old\n",
    "  |f(x) - x| = $normdiff in $iter iterations\")"
   ]
  },
  {
   "cell_type": "markdown",
   "id": "bc60469f",
   "metadata": {},
   "source": [
    "The new feature there is `break` , which leaves a `for` or `while` loop."
   ]
  },
  {
   "cell_type": "markdown",
   "id": "d4722a27",
   "metadata": {},
   "source": [
    "### Using a Function\n",
    "\n",
    "The first problem with this setup is that it depends on being sequentially run – which can be easily remedied with a function."
   ]
  },
  {
   "cell_type": "code",
   "execution_count": 23,
   "id": "b0c98294",
   "metadata": {
    "hide-output": false
   },
   "outputs": [
    {
     "name": "stdout",
     "output_type": "stream",
     "text": [
      "Fixed point = 9.999999173706609\n",
      "  |f(x) - x| = 9.181037796679448e-8 in 155 iterations\n"
     ]
    }
   ],
   "source": [
    "# better, but still poor style\n",
    "function v_fp(beta, ρ, v_iv, tolerance, maxiter)\n",
    "    # setup the algorithm\n",
    "    v_old = v_iv\n",
    "    normdiff = Inf\n",
    "    iter = 1\n",
    "    while normdiff > tolerance && iter <= maxiter\n",
    "        v_new = p + beta * v_old # the f(v) map\n",
    "        normdiff = norm(v_new - v_old)\n",
    "\n",
    "        # replace and continue\n",
    "        v_old = v_new\n",
    "        iter = iter + 1\n",
    "    end\n",
    "    return (v_old, normdiff, iter) # returns a tuple\n",
    "end\n",
    "\n",
    "# some values\n",
    "p = 1.0 # note 1.0 rather than 1\n",
    "beta = 0.9\n",
    "maxiter = 1000\n",
    "tolerance = 1.0E-7\n",
    "v_initial = 0.8 # initial condition\n",
    "\n",
    "v_star, normdiff, iter = v_fp(beta, p, v_initial, tolerance, maxiter)\n",
    "println(\"Fixed point = $v_star\n",
    "  |f(x) - x| = $normdiff in $iter iterations\")"
   ]
  },
  {
   "cell_type": "markdown",
   "id": "05b4e0c0",
   "metadata": {},
   "source": [
    "While better, there could still be improvements."
   ]
  },
  {
   "cell_type": "markdown",
   "id": "77e255ae",
   "metadata": {},
   "source": [
    "### Passing a Function\n",
    "\n",
    "The chief issue is that the algorithm (finding a fixed point) is reusable and generic, while the function we calculate `p + beta * v` is specific to our problem.\n",
    "\n",
    "A key feature of languages like Julia, is the ability to efficiently handle functions passed to other functions."
   ]
  },
  {
   "cell_type": "code",
   "execution_count": 24,
   "id": "6eb8b507",
   "metadata": {
    "hide-output": false
   },
   "outputs": [
    {
     "name": "stdout",
     "output_type": "stream",
     "text": [
      "Fixed point = 9.999999173706609\n",
      "  |f(x) - x| = 9.181037796679448e-8 in 155 iterations\n"
     ]
    }
   ],
   "source": [
    "# better style\n",
    "function fixedpointmap(f, iv, tolerance, maxiter)\n",
    "    # setup the algorithm\n",
    "    x_old = iv\n",
    "    normdiff = Inf\n",
    "    iter = 1\n",
    "    while normdiff > tolerance && iter <= maxiter\n",
    "        x_new = f(x_old) # use the passed in map\n",
    "        normdiff = norm(x_new - x_old)\n",
    "        x_old = x_new\n",
    "        iter = iter + 1\n",
    "    end\n",
    "    return (x_old, normdiff, iter)\n",
    "end\n",
    "\n",
    "# define a map and parameters\n",
    "p = 1.0\n",
    "beta = 0.9\n",
    "f(v) = p + beta * v # note that p and beta are used in the function!\n",
    "\n",
    "maxiter = 1000\n",
    "tolerance = 1.0E-7\n",
    "v_initial = 0.8 # initial condition\n",
    "\n",
    "v_star, normdiff, iter = fixedpointmap(f, v_initial, tolerance, maxiter)\n",
    "println(\"Fixed point = $v_star\n",
    "  |f(x) - x| = $normdiff in $iter iterations\")"
   ]
  },
  {
   "cell_type": "markdown",
   "id": "9862d699",
   "metadata": {},
   "source": [
    "Much closer, but there are still hidden bugs if the user orders the settings or returns types wrong."
   ]
  },
  {
   "cell_type": "markdown",
   "id": "44d6a736",
   "metadata": {},
   "source": [
    "### Named Arguments and Return Values\n",
    "\n",
    "To enable this, Julia has two features:  named function parameters, and named tuples"
   ]
  },
  {
   "cell_type": "code",
   "execution_count": 25,
   "id": "c85675a4",
   "metadata": {
    "hide-output": false
   },
   "outputs": [
    {
     "name": "stdout",
     "output_type": "stream",
     "text": [
      "Fixed point = 9.999999918629035\n",
      "  |f(x) - x| = 9.041219328764782e-9 in 177 iterations\n"
     ]
    }
   ],
   "source": [
    "# good style\n",
    "function fixedpointmap(f, iv; tolerance = 1E-7, maxiter = 1000)\n",
    "    # setup the algorithm\n",
    "    x_old = iv\n",
    "    normdiff = Inf\n",
    "    iter = 1\n",
    "    while normdiff > tolerance && iter <= maxiter\n",
    "        x_new = f(x_old) # use the passed in map\n",
    "        normdiff = norm(x_new - x_old)\n",
    "        x_old = x_new\n",
    "        iter = iter + 1\n",
    "    end\n",
    "    return (; value = x_old, normdiff, iter) # A named tuple\n",
    "end\n",
    "\n",
    "# define a map and parameters\n",
    "p = 1.0\n",
    "beta = 0.9\n",
    "f(v) = p + beta * v # note that p and beta are used in the function!\n",
    "\n",
    "sol = fixedpointmap(f, 0.8; tolerance = 1.0E-8) # don't need to pass\n",
    "println(\"Fixed point = $(sol.value)\n",
    "  |f(x) - x| = $(sol.normdiff) in $(sol.iter) iterations\")"
   ]
  },
  {
   "cell_type": "markdown",
   "id": "5035d7e6",
   "metadata": {},
   "source": [
    "In this example, all function parameters after the `;` in the list, must be called by name.\n",
    "\n",
    "Furthermore, a default value may be enabled – so the named parameter `iv` is required while `tolerance` and `maxiter` have default values.\n",
    "\n",
    "The return type of the function also has named fields, `value, normdiff,` and `iter` – all accessed intuitively using `.`.\n",
    "\n",
    "Finally, this shows how named tuples and keyword arguments are constructed from local variable names.  In particular, ` (;value = x_old, normdiff, iter)` is identical to `(value = x_old, normdiff = normdiff, iter = iter)` where anything after the `;` is assumed to be a keyword with the name identical to the local variable.\n",
    "\n",
    "The named tuple notation is also used for unpacking values.  In particular we could have written the execution of this with"
   ]
  },
  {
   "cell_type": "code",
   "execution_count": 26,
   "id": "2056a245",
   "metadata": {
    "hide-output": false
   },
   "outputs": [
    {
     "name": "stdout",
     "output_type": "stream",
     "text": [
      "Fixed point = 9.999999918629035\n",
      "  |f(x) - x| = 9.041219328764782e-9 in 177 iterations\n"
     ]
    }
   ],
   "source": [
    "(; value, normdiff, iter) = fixedpointmap(f, 0.8; tolerance = 1.0E-8)\n",
    "println(\"Fixed point = $value\n",
    "  |f(x) - x| = $normdiff in $iter iterations\")"
   ]
  },
  {
   "cell_type": "markdown",
   "id": "95948c8d",
   "metadata": {},
   "source": [
    "That is, `(; value, normdiff, iter) = expression` is the same as `exp = expression(); value = exp.value, normdiff = exp.normdiff, iter = exp.iter`.\n",
    "\n",
    "To show the flexibility of this code, we can use it to find a fixed point of the non-linear logistic equation, $ x = f(x) $ where $ f(x) := r x (1-x) $."
   ]
  },
  {
   "cell_type": "code",
   "execution_count": 27,
   "id": "5b93ec7d",
   "metadata": {
    "hide-output": false
   },
   "outputs": [
    {
     "name": "stdout",
     "output_type": "stream",
     "text": [
      "Fixed point = 0.4999999999999968\n",
      "  |f(x) - x| = 3.979330237546819e-8 in 7 iterations\n"
     ]
    }
   ],
   "source": [
    "r = 2.0\n",
    "f(x) = r * x * (1 - x)\n",
    "\n",
    "sol = fixedpointmap(f, 0.8) # the ; is optional but generally good style\n",
    "println(\"Fixed point = $(sol.value)\n",
    "  |f(x) - x| = $(sol.normdiff) in $(sol.iter) iterations\")"
   ]
  },
  {
   "cell_type": "markdown",
   "id": "6312148c",
   "metadata": {},
   "source": [
    "### Using a Package\n",
    "\n",
    "But best of all is to avoid writing code altogether."
   ]
  },
  {
   "cell_type": "code",
   "execution_count": 28,
   "id": "395686bd",
   "metadata": {
    "hide-output": false
   },
   "outputs": [
    {
     "name": "stdout",
     "output_type": "stream",
     "text": [
      "Fixed point = [9.999999909587816]\n",
      "  |f(x) - x| = 9.041219328764782e-9 in 176 iterations\n"
     ]
    }
   ],
   "source": [
    "# best style\n",
    "using NLsolve\n",
    "\n",
    "p = 1.0\n",
    "beta = 0.9\n",
    "f(v) = p .+ beta * v # broadcast the +\n",
    "sol = fixedpoint(f, [0.8]; m = 0)\n",
    "normdiff = norm(f(sol.zero) - sol.zero)\n",
    "println(\"Fixed point = $(sol.zero)\n",
    "  |f(x) - x| = $normdiff in $(sol.iterations) iterations\")"
   ]
  },
  {
   "cell_type": "markdown",
   "id": "605cdb06",
   "metadata": {},
   "source": [
    "The `fixedpoint` function from the `NLsolve.jl` library implements the simple fixed point iteration scheme above.\n",
    "\n",
    "Since the `NLsolve` library only accepts vector based inputs, we needed to make the `f(v)` function broadcast on the `+` sign, and pass in the initial condition as a vector of length 1 with `[0.8]`.\n",
    "\n",
    "While a key benefit of using a package is that the code is clearer, and the implementation is tested, by using an orthogonal library we also enable performance improvements."
   ]
  },
  {
   "cell_type": "code",
   "execution_count": 32,
   "id": "d65d7979",
   "metadata": {
    "hide-output": false
   },
   "outputs": [
    {
     "name": "stdout",
     "output_type": "stream",
     "text": [
      "Fixed point = [9.999999999999972]\n",
      "  |f(x) - x| = 3.552713678800501e-15  in 3 iterations\n",
      "  converged = true\n"
     ]
    }
   ],
   "source": [
    "# best style\n",
    "p = 1.0\n",
    "beta = 0.9\n",
    "iv = [0.8]\n",
    "sol = fixedpoint(v -> p .+ beta * v, iv)\n",
    "fnorm = norm(f(sol.zero) - sol.zero)\n",
    "println(\"Fixed point = $(sol.zero)\n",
    "  |f(x) - x| = $fnorm  in $(sol.iterations) iterations\n",
    "  converged = $(sol.f_converged)\")"
   ]
  },
  {
   "cell_type": "markdown",
   "id": "c68fae6a",
   "metadata": {},
   "source": [
    "Note that this completes in `3` iterations vs `176` for the naive fixed point iteration algorithm.\n",
    "\n",
    "Since Anderson iteration is doing more calculations in an iteration,  whether it is faster or not would depend on the complexity of the `f` function.\n",
    "\n",
    "But this demonstrates the value of keeping the math separate from the algorithm, since by decoupling the mathematical definition of the fixed point from the implementation in [(2.2)](#equation-fixed-point-naive), we were able to exploit new algorithms for finding a fixed point.\n",
    "\n",
    "The only other change in this function is the move from directly defining `f(v)` and using an **anonymous** function.\n",
    "\n",
    "Similar to anonymous functions in MATLAB, and lambda functions in Python, Julia enables the creation of small functions without any names.\n",
    "\n",
    "The code `v -> p .+ beta * v` defines a function of a dummy argument, `v` with the same body as our `f(x)`."
   ]
  },
  {
   "cell_type": "markdown",
   "id": "cfc0935f",
   "metadata": {},
   "source": [
    "### Composing Packages\n",
    "\n",
    "A key benefit of using Julia is that you can compose various packages, types, and techniques, without making changes to your underlying source.\n",
    "\n",
    "As an example, consider if we want to solve the model with a higher-precision, as floating points cannot be distinguished beyond the machine epsilon for that type (recall that computers approximate real numbers to the nearest binary  of a given precision; the *machine epsilon* is the smallest nonzero magnitude).\n",
    "\n",
    "In Julia, this number can be calculated as"
   ]
  },
  {
   "cell_type": "code",
   "execution_count": 33,
   "id": "aacba2e1",
   "metadata": {
    "hide-output": false
   },
   "outputs": [
    {
     "data": {
      "text/plain": [
       "2.220446049250313e-16"
      ]
     },
     "metadata": {},
     "output_type": "display_data"
    }
   ],
   "source": [
    "eps()"
   ]
  },
  {
   "cell_type": "markdown",
   "id": "c301cbed",
   "metadata": {},
   "source": [
    "For many cases, this is sufficient precision – but consider that in iterative algorithms applied millions of times, those small differences can add up.\n",
    "\n",
    "The only change we will need to our model in order to use a different floating point type is to call the function with an arbitrary precision floating point, `BigFloat`, for the initial value."
   ]
  },
  {
   "cell_type": "code",
   "execution_count": 34,
   "id": "719f1546",
   "metadata": {
    "hide-output": false
   },
   "outputs": [
    {
     "name": "stdout",
     "output_type": "stream",
     "text": [
      "Fixed point = BigFloat[10.00000000000000222044604925031357388532909931412848377287867809936811555686155]\n",
      "  |f(x) - x| = 0.0 in 3 iterations\n"
     ]
    }
   ],
   "source": [
    "# use arbitrary precision floating points\n",
    "p = 1.0\n",
    "beta = 0.9\n",
    "iv = [BigFloat(0.8)] # higher precision\n",
    "\n",
    "# otherwise identical\n",
    "sol = fixedpoint(v -> p .+ beta * v, iv)\n",
    "normdiff = norm(f(sol.zero) - sol.zero)\n",
    "println(\"Fixed point = $(sol.zero)\n",
    "  |f(x) - x| = $normdiff in $(sol.iterations) iterations\")"
   ]
  },
  {
   "cell_type": "markdown",
   "id": "fc5ca8fd",
   "metadata": {},
   "source": [
    "Here, the literal `BigFloat(0.8)` takes the number `0.8` and changes it to an arbitrary precision number.\n",
    "\n",
    "The result is that the residual is now **exactly** `0.0` since it is able to use arbitrary precision in the calculations, and the solution has a finite-precision solution with those parameters."
   ]
  },
  {
   "cell_type": "markdown",
   "id": "d754ed70",
   "metadata": {},
   "source": [
    "### Multivariate Fixed Point Maps\n",
    "\n",
    "The above example can be extended to multivariate maps without any modifications to the fixed point iteration code.\n",
    "\n",
    "Using our own, homegrown iteration and simply passing in a bivariate map:"
   ]
  },
  {
   "cell_type": "code",
   "execution_count": 35,
   "id": "a31e05c4",
   "metadata": {
    "hide-output": false
   },
   "outputs": [
    {
     "name": "stdout",
     "output_type": "stream",
     "text": [
      "Fixed point = [9.999999961080519, 19.999999923853192]\n",
      "  |f(x) - x| = 9.501826248250528e-9 in 184 iterations\n"
     ]
    }
   ],
   "source": [
    "p = [1.0, 2.0]\n",
    "beta = 0.9\n",
    "iv = [0.8, 2.0]\n",
    "f(v) = p .+ beta * v # note that p and beta are used in the function!\n",
    "\n",
    "sol = fixedpointmap(f, iv; tolerance = 1.0E-8)\n",
    "println(\"Fixed point = $(sol.value)\n",
    "  |f(x) - x| = $(sol.normdiff) in $(sol.iter) iterations\")"
   ]
  },
  {
   "cell_type": "markdown",
   "id": "2c41e89a",
   "metadata": {},
   "source": [
    "This also works without any modifications with the `fixedpoint` library function."
   ]
  },
  {
   "cell_type": "code",
   "execution_count": 36,
   "id": "163e9c1a",
   "metadata": {
    "hide-output": false
   },
   "outputs": [
    {
     "name": "stdout",
     "output_type": "stream",
     "text": [
      "Fixed point = [10.0, 20.000000000000004, 0.9999999999999929]\n",
      "  |f(x) - x| = 6.661338147750939e-16 in 3 iterations\n"
     ]
    }
   ],
   "source": [
    "using NLsolve\n",
    "\n",
    "p = [1.0, 2.0, 0.1]\n",
    "beta = 0.9\n",
    "iv = [0.8, 2.0, 51.0]\n",
    "f(v) = p .+ beta * v\n",
    "\n",
    "sol = fixedpoint(v -> p .+ beta * v, iv)\n",
    "normdiff = norm(f(sol.zero) - sol.zero)\n",
    "println(\"Fixed point = $(sol.zero)\n",
    "  |f(x) - x| = $normdiff in $(sol.iterations) iterations\")"
   ]
  },
  {
   "cell_type": "markdown",
   "id": "e4ce687a",
   "metadata": {},
   "source": [
    "Finally, to demonstrate the importance of composing different libraries, use a `StaticArrays.jl` type, which provides an efficient implementation for small arrays and matrices."
   ]
  },
  {
   "cell_type": "code",
   "execution_count": 37,
   "id": "b02e91de",
   "metadata": {
    "hide-output": false
   },
   "outputs": [
    {
     "name": "stdout",
     "output_type": "stream",
     "text": [
      "Fixed point = [10.0, 20.000000000000004, 0.9999999999999929]\n",
      "  |f(x) - x| = 6.661338147750939e-16 in 3 iterations\n"
     ]
    }
   ],
   "source": [
    "using NLsolve, StaticArrays\n",
    "p = @SVector [1.0, 2.0, 0.1]\n",
    "beta = 0.9\n",
    "iv = [0.8, 2.0, 51.0]\n",
    "f(v) = p .+ beta * v\n",
    "\n",
    "sol = fixedpoint(v -> p .+ beta * v, iv)\n",
    "normdiff = norm(f(sol.zero) - sol.zero)\n",
    "println(\"Fixed point = $(sol.zero)\n",
    "  |f(x) - x| = $normdiff in $(sol.iterations) iterations\")"
   ]
  },
  {
   "cell_type": "markdown",
   "id": "a8773bcc",
   "metadata": {},
   "source": [
    "The `@SVector` in front of the `[1.0, 2.0, 0.1]` is a macro for turning a vector literal into a static vector.\n",
    "\n",
    "All macros in Julia are prefixed by `@` in the name, and manipulate the code prior to compilation.\n",
    "\n",
    "We will see a variety of macros, and discuss the “metaprogramming” behind them in a later lecture."
   ]
  },
  {
   "cell_type": "markdown",
   "id": "4d3898fb",
   "metadata": {},
   "source": [
    "## Exercises\n",
    "\n",
    "\n",
    "<a id='jbe-ex1'></a>"
   ]
  },
  {
   "cell_type": "markdown",
   "id": "c3b5a78c",
   "metadata": {},
   "source": [
    "### Exercise 1\n",
    "\n",
    "Recall that $ n! $ is read as “$ n $ factorial” and defined as\n",
    "$ n! = n \\times (n - 1) \\times \\cdots \\times 2 \\times 1 $.\n",
    "\n",
    "In Julia you can compute this value with `factorial(n)`.\n",
    "\n",
    "Write your own version of this function, called `factorial2`, using a `for` loop.\n",
    "\n",
    "\n",
    "<a id='jbe-ex2'></a>"
   ]
  },
  {
   "cell_type": "markdown",
   "id": "043848f1",
   "metadata": {},
   "source": [
    "### Exercise 2\n",
    "\n",
    "The [binomial random variable](https://en.wikipedia.org/wiki/Binomial_distribution) $ Y \\sim Bin(n, p) $ represents\n",
    "\n",
    "- number of successes in $ n $ binary trials  \n",
    "- each trial succeeds with probability $ p $  \n",
    "\n",
    "\n",
    "Using only `rand()` from the set of Julia’s built-in random number\n",
    "generators (not the `Distributions` package), write a function `binomial_rv` such that `binomial_rv(n, p)` generates one draw of $ Y $.\n",
    "\n",
    "Hint: If $ U $ is uniform on $ (0, 1) $ and $ p \\in (0,1) $, then the expression `U < p` evaluates to `true` with probability $ p $.\n",
    "\n",
    "\n",
    "<a id='jbe-ex3'></a>"
   ]
  },
  {
   "cell_type": "markdown",
   "id": "32a8367e",
   "metadata": {},
   "source": [
    "### Exercise 3\n",
    "\n",
    "Compute an approximation to $ \\pi $ using Monte Carlo.\n",
    "\n",
    "For random number generation use only `rand()`.\n",
    "\n",
    "Your hints are as follows:\n",
    "\n",
    "- If $ U $ is a bivariate uniform random variable on the unit square $ (0, 1)^2 $, then the probability that $ U $ lies in a subset $ B $ of $ (0,1)^2 $ is equal to the area of $ B $.  \n",
    "- If $ U_1,\\ldots,U_n $ are iid copies of $ U $, then, as $ n $ gets larger, the fraction that falls in $ B $ converges to the probability of landing in $ B $.  \n",
    "- For a circle, area = π * $ radius^2 $.  \n",
    "\n",
    "\n",
    "\n",
    "<a id='jbe-ex4'></a>"
   ]
  },
  {
   "cell_type": "markdown",
   "id": "a4ec86e3",
   "metadata": {},
   "source": [
    "### Exercise 4\n",
    "\n",
    "Write a program that prints one realization of the following random device:\n",
    "\n",
    "- Flip an unbiased coin 10 times.  \n",
    "- If 3 consecutive heads occur one or more times within this sequence, pay one dollar.  \n",
    "- If not, pay nothing.  \n",
    "\n",
    "\n",
    "Once again use only `rand()` as your random number generator.\n",
    "\n",
    "\n",
    "<a id='jbe-ex5'></a>"
   ]
  },
  {
   "cell_type": "markdown",
   "id": "6e77f482",
   "metadata": {},
   "source": [
    "### Exercise 5\n",
    "\n",
    "Simulate and plot the correlated time series\n",
    "\n",
    "$$\n",
    "x_{t+1} = \\alpha \\, x_t + \\epsilon_{t+1}\n",
    "\\quad \\text{where} \\quad\n",
    "x_0 = 0\n",
    "\\quad \\text{and} \\quad t = 0,\\ldots,n\n",
    "$$\n",
    "\n",
    "The sequence of shocks $ \\{\\epsilon_t\\} $ is assumed to be iid and standard normal.\n",
    "\n",
    "Set $ n = 200 $ and $ \\alpha = 0.9 $.\n",
    "\n",
    "\n",
    "<a id='jbe-ex6'></a>"
   ]
  },
  {
   "cell_type": "markdown",
   "id": "81c4aaa0",
   "metadata": {},
   "source": [
    "### Exercise 6\n",
    "\n",
    "Plot three simulated time series, one for each of the cases $ \\alpha = 0 $, $ \\alpha = 0.8 $ and $ \\alpha = 0.98 $.\n",
    "\n",
    "(The figure will illustrate how time series with the same one-step-ahead conditional volatilities, as these three processes have, can have very different unconditional volatilities)\n",
    "\n",
    "\n",
    "<a id='jbe-ex7'></a>"
   ]
  },
  {
   "cell_type": "markdown",
   "id": "da21c49b",
   "metadata": {},
   "source": [
    "### Exercise 7\n",
    "\n",
    "This exercise is more challenging.\n",
    "\n",
    "Take a random walk, starting from $ x_0 = 1 $\n",
    "\n",
    "$$\n",
    "x_{t+1} = \\, \\alpha \\, x_t + \\sigma\\, \\epsilon_{t+1}\n",
    "\\quad \\text{where} \\quad\n",
    "x_0 = 1\n",
    "\\quad \\text{and} \\quad t = 0,\\ldots,t_{\\max}\n",
    "$$\n",
    "\n",
    "- Furthermore, assume that the $ x_{t_{\\max}} = 0 $  (i.e. at $ t_{\\max} $, the value drops to zero, regardless of its current state).  \n",
    "- The sequence of shocks $ \\{\\epsilon_t\\} $ is assumed to be iid and standard normal.  \n",
    "- For a given path $ \\{x_t\\} $ define a **first-passage time** as $ T_a = \\min\\{t\\, |\\, x_t \\leq a\\} $, where by the assumption of the process $ T_a \\leq t_{\\max} $.  \n",
    "\n",
    "\n",
    "Start with $ \\sigma = 0.2, \\alpha = 1.0 $\n",
    "\n",
    "1. calculate the first-passage time, $ T_0 $, for 100 simulated random walks – to a $ t_{\\max} = 200 $ and plot a histogram  \n",
    "1. plot the sample mean of $ T_0 $ from the simulation for $ \\alpha \\in \\{0.8, 1.0, 1.2\\} $  \n",
    "\n",
    "\n",
    "\n",
    "<a id='jbe-ex8a'></a>"
   ]
  },
  {
   "cell_type": "markdown",
   "id": "215eaba9",
   "metadata": {},
   "source": [
    "### Exercise 8(a)\n",
    "\n",
    "This exercise is more challenging.\n",
    "\n",
    "The root of a univariate function $ f(\\cdot) $ is an $ x $ such that $ f(x) = 0 $.\n",
    "\n",
    "One solution method to find local roots of smooth functions is called Newton’s method.\n",
    "\n",
    "Starting with an $ x_0 $ guess, a function $ f(\\cdot) $ and the first-derivative $ f'(\\cdot) $, the algorithm is to repeat\n",
    "\n",
    "$$\n",
    "x^{n+1} = x^n - \\frac{f(x^n)}{f'(x^n)}\n",
    "$$\n",
    "\n",
    "until $ | x^{n+1} - x^n| $ is below a tolerance\n",
    "\n",
    "1. Use a variation of the `fixedpointmap` code to implement Newton’s method, where the function would accept arguments `f, f_prime, x_0, tolerance, maxiter`.  \n",
    "1. Test it with $ f(x) = (x-1)^3 $ and another function of your choice where you can analytically find the derivative.  "
   ]
  },
  {
   "cell_type": "markdown",
   "id": "3ecb024a",
   "metadata": {},
   "source": [
    "### Exercise 8(b)\n",
    "\n",
    "For those impatient to use more advanced features of Julia, implement a version of Exercise 8(a) where `f_prime` is calculated with auto-differentiation."
   ]
  },
  {
   "cell_type": "code",
   "execution_count": 38,
   "id": "11037f15",
   "metadata": {
    "hide-output": false
   },
   "outputs": [
    {
     "data": {
      "text/plain": [
       "(0.010000000000000002, 0.2)"
      ]
     },
     "metadata": {},
     "output_type": "display_data"
    }
   ],
   "source": [
    "using ForwardDiff\n",
    "\n",
    "# operator to get the derivative of this function using AD\n",
    "D(f) = x -> ForwardDiff.derivative(f, x)\n",
    "\n",
    "# example usage: create a function and get the derivative\n",
    "f(x) = x^2\n",
    "f_prime = D(f)\n",
    "\n",
    "f(0.1), f_prime(0.1)"
   ]
  },
  {
   "cell_type": "markdown",
   "id": "e7dc779b",
   "metadata": {},
   "source": [
    "1. Using the `D(f)` operator definition above, implement a version of Newton’s method that does not require the user to provide an analytical derivative.  \n",
    "1. Test the sorts of `f` functions which can be automatically integrated by `ForwardDff.jl`.  "
   ]
  },
  {
   "cell_type": "markdown",
   "id": "d98fc986",
   "metadata": {},
   "source": [
    "## Solutions"
   ]
  },
  {
   "cell_type": "markdown",
   "id": "1e9a2a98",
   "metadata": {},
   "source": [
    "### Exercise 1"
   ]
  },
  {
   "cell_type": "code",
   "execution_count": 39,
   "id": "341fe8e2",
   "metadata": {
    "hide-output": false
   },
   "outputs": [
    {
     "data": {
      "text/plain": [
       "24"
      ]
     },
     "metadata": {},
     "output_type": "display_data"
    }
   ],
   "source": [
    "function factorial2(n)\n",
    "    k = 1\n",
    "    for i in 1:n\n",
    "        k *= i  # or k = k * i\n",
    "    end\n",
    "    return k\n",
    "end\n",
    "\n",
    "factorial2(4)"
   ]
  },
  {
   "cell_type": "code",
   "execution_count": null,
   "id": "925bb4e3",
   "metadata": {
    "hide-output": false
   },
   "outputs": [],
   "source": [
    "factorial2(4) == factorial(4) # built-in function"
   ]
  },
  {
   "cell_type": "markdown",
   "id": "f0eba81e",
   "metadata": {},
   "source": [
    "### Exercise 2"
   ]
  },
  {
   "cell_type": "code",
   "execution_count": null,
   "id": "d9f69dab",
   "metadata": {
    "hide-output": false
   },
   "outputs": [],
   "source": [
    "function binomial_rv(n, p)\n",
    "    count = 0\n",
    "    U = rand(n)\n",
    "    for i in 1:n\n",
    "        if U[i] < p\n",
    "            count += 1 # or count = count + 1\n",
    "        end\n",
    "    end\n",
    "    return count\n",
    "end\n",
    "\n",
    "for j in 1:25\n",
    "    b = binomial_rv(10, 0.5)\n",
    "    print(\"$b, \")\n",
    "end"
   ]
  },
  {
   "cell_type": "markdown",
   "id": "ec3f3dd7",
   "metadata": {},
   "source": [
    "### Exercise 3\n",
    "\n",
    "Consider a circle with diameter 1 embedded in a unit square.\n",
    "\n",
    "Let $ A $ be its area and let $ r = 1/2 $ be its radius.\n",
    "\n",
    "If we know $ \\pi $ then we can compute $ A $ via\n",
    "$ A = \\pi r^2 $.\n",
    "\n",
    "But the point here is to compute $ \\pi $, which we can do by\n",
    "$ \\pi = A / r^2 $.\n",
    "\n",
    "Summary: If we can estimate the area of the unit circle, then dividing\n",
    "by $ r^2 = (1/2)^2 = 1/4 $ gives an estimate of $ \\pi $.\n",
    "\n",
    "We estimate the area by sampling bivariate uniforms and looking at the\n",
    "fraction that fall into the unit circle."
   ]
  },
  {
   "cell_type": "code",
   "execution_count": null,
   "id": "d03e3cee",
   "metadata": {
    "hide-output": false
   },
   "outputs": [],
   "source": [
    "n = 1000000\n",
    "count = 0\n",
    "for i in 1:n\n",
    "    u, v = rand(2)\n",
    "    d = sqrt((u - 0.5)^2 + (v - 0.5)^2)  # distance from middle of square\n",
    "    if d < 0.5\n",
    "        count += 1\n",
    "    end\n",
    "end\n",
    "\n",
    "area_estimate = count / n\n",
    "\n",
    "print(area_estimate * 4)  # dividing by radius**2"
   ]
  },
  {
   "cell_type": "markdown",
   "id": "40ccc90d",
   "metadata": {},
   "source": [
    "### Exercise 4"
   ]
  },
  {
   "cell_type": "code",
   "execution_count": null,
   "id": "4945cb0e",
   "metadata": {
    "hide-output": false
   },
   "outputs": [],
   "source": [
    "payoff = 0\n",
    "count = 0\n",
    "\n",
    "print(\"Count = \")\n",
    "\n",
    "for i in 1:10\n",
    "    U = rand()\n",
    "    if U < 0.5\n",
    "        count += 1\n",
    "    else\n",
    "        count = 0\n",
    "    end\n",
    "    print(count)\n",
    "    if count == 3\n",
    "        payoff = 1\n",
    "    end\n",
    "end\n",
    "println(\"\\npayoff = $payoff\")"
   ]
  },
  {
   "cell_type": "markdown",
   "id": "7d418173",
   "metadata": {},
   "source": [
    "We can simplify this somewhat using the **ternary operator**. Here are\n",
    "some examples"
   ]
  },
  {
   "cell_type": "code",
   "execution_count": null,
   "id": "13d326a5",
   "metadata": {
    "hide-output": false
   },
   "outputs": [],
   "source": [
    "a = 1 < 2 ? \"foo\" : \"bar\""
   ]
  },
  {
   "cell_type": "code",
   "execution_count": null,
   "id": "3c1b5214",
   "metadata": {
    "hide-output": false
   },
   "outputs": [],
   "source": [
    "a = 1 > 2 ? \"foo\" : \"bar\""
   ]
  },
  {
   "cell_type": "markdown",
   "id": "c614af3a",
   "metadata": {},
   "source": [
    "Using this construction:"
   ]
  },
  {
   "cell_type": "code",
   "execution_count": null,
   "id": "b4e26abb",
   "metadata": {
    "hide-output": false
   },
   "outputs": [],
   "source": [
    "payoff = 0.0\n",
    "count = 0.0\n",
    "\n",
    "print(\"Count = \")\n",
    "\n",
    "for i in 1:10\n",
    "    U = rand()\n",
    "    count = U < 0.5 ? count + 1 : 0\n",
    "    print(count)\n",
    "    if count == 3\n",
    "        payoff = 1\n",
    "    end\n",
    "end\n",
    "println(\"\\npayoff = $payoff\")"
   ]
  },
  {
   "cell_type": "markdown",
   "id": "d6c804fd",
   "metadata": {},
   "source": [
    "### Exercise 5\n",
    "\n",
    "Here’s one solution"
   ]
  },
  {
   "cell_type": "code",
   "execution_count": null,
   "id": "a158fbaf",
   "metadata": {
    "hide-output": false
   },
   "outputs": [],
   "source": [
    "using Plots\n",
    "alpha = 0.9\n",
    "n = 200\n",
    "x = zeros(n + 1)\n",
    "\n",
    "for t in 1:n\n",
    "    x[t + 1] = alpha * x[t] + randn()\n",
    "end\n",
    "plot(x)"
   ]
  },
  {
   "cell_type": "markdown",
   "id": "c03a214b",
   "metadata": {},
   "source": [
    "### Exercise 6"
   ]
  },
  {
   "cell_type": "code",
   "execution_count": null,
   "id": "b55cbe14",
   "metadata": {
    "hide-output": false
   },
   "outputs": [],
   "source": [
    "alphas = [0.0, 0.8, 0.98]\n",
    "n = 200\n",
    "p = plot() # naming a plot to add to\n",
    "\n",
    "for alpha in alphas\n",
    "    x = zeros(n + 1)\n",
    "    x[1] = 0.0\n",
    "    for t in 1:n\n",
    "        x[t + 1] = alpha * x[t] + randn()\n",
    "    end\n",
    "    plot!(p, x, label = \"alpha = $alpha\") # add to plot p\n",
    "end\n",
    "p # display plot"
   ]
  },
  {
   "cell_type": "markdown",
   "id": "ac7b9c58",
   "metadata": {},
   "source": [
    "### Exercise 7: Hint\n",
    "\n",
    "As a hint, notice the following pattern for finding the number of draws of a uniform random number until it is below a given threshold"
   ]
  },
  {
   "cell_type": "code",
   "execution_count": null,
   "id": "b651f26f",
   "metadata": {
    "hide-output": false
   },
   "outputs": [],
   "source": [
    "function drawsuntilthreshold(threshold; maxdraws = 100)\n",
    "    for i in 1:maxdraws\n",
    "        val = rand()\n",
    "        if val < threshold # checks threshold\n",
    "            return i # leaves function, returning draw number\n",
    "        end\n",
    "    end\n",
    "    return Inf # if here, reached maxdraws\n",
    "end\n",
    "\n",
    "draws = drawsuntilthreshold(0.1; maxdraws = 100)"
   ]
  },
  {
   "cell_type": "markdown",
   "id": "0c1bc285",
   "metadata": {},
   "source": [
    "Additionally, it is sometimes convenient to add to just push numbers onto an array without indexing it directly"
   ]
  },
  {
   "cell_type": "code",
   "execution_count": null,
   "id": "ef498437",
   "metadata": {
    "hide-output": false
   },
   "outputs": [],
   "source": [
    "vals = zeros(0) # empty vector\n",
    "\n",
    "for i in 1:100\n",
    "    val = rand()\n",
    "    if val < 0.5\n",
    "        push!(vals, val)\n",
    "    end\n",
    "end\n",
    "println(\"There were $(length(vals)) below 0.5\")"
   ]
  }
 ],
 "metadata": {
  "date": 1704478552.0527196,
  "filename": "julia_by_example.md",
  "kernelspec": {
   "display_name": "Julia 1.10.2",
   "language": "julia",
   "name": "julia-1.10"
  },
  "language_info": {
   "file_extension": ".jl",
   "mimetype": "application/julia",
   "name": "julia",
   "version": "1.10.2"
  },
  "title": "Introductory Examples"
 },
 "nbformat": 4,
 "nbformat_minor": 5
}
