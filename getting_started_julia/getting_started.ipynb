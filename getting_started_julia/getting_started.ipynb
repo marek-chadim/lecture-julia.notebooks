{
 "cells": [
  {
   "cell_type": "markdown",
   "id": "baf4a2a6",
   "metadata": {},
   "source": [
    "\n",
    "<a id='getting-started'></a>"
   ]
  },
  {
   "cell_type": "markdown",
   "id": "f5aea129",
   "metadata": {},
   "source": [
    "# Setting up Your Julia Environment"
   ]
  },
  {
   "cell_type": "markdown",
   "id": "4020c03e",
   "metadata": {},
   "source": [
    "## Contents\n",
    "\n",
    "- [Setting up Your Julia Environment](#Setting-up-Your-Julia-Environment)  \n",
    "  - [Overview](#Overview)  \n",
    "  - [A Note on Jupyter](#A-Note-on-Jupyter)  \n",
    "  - [Desktop Installation of Julia and Jupyter](#Desktop-Installation-of-Julia-and-Jupyter)  \n",
    "  - [Setting up Git and VS Code](#Setting-up-Git-and-VS-Code)  \n",
    "  - [Downloading the Notebooks](#Downloading-the-Notebooks)  \n",
    "  - [Installing Packages](#Installing-Packages)  \n",
    "  - [Running JupyterLab](#Running-JupyterLab)  \n",
    "  - [Refreshing the Notebooks after Modification](#Refreshing-the-Notebooks-after-Modification)  \n",
    "  - [Interacting with Julia](#Interacting-with-Julia)  \n",
    "  - [Using Jupyter](#Using-Jupyter)  "
   ]
  },
  {
   "cell_type": "markdown",
   "id": "4d895ed8",
   "metadata": {},
   "source": [
    "## Overview\n",
    "\n",
    "In this lecture we will cover how to get up and running with Julia.\n",
    "\n",
    "While there are alternative ways to access Julia (e.g. if you have a JupyterHub provided by your university), this section assumes you will install it to your [local desktop](#jl-jupyterlocal).\n",
    "\n",
    "It is not strictly required for running the lectures, but we will strongly encourage installing and using [Visual Studio Code (VS Code)](https://code.visualstudio.com/).\n",
    "\n",
    "As the most popular and best-supported open-source code editor, it provides a large number of useful features and extensions.  We will begin to use it as a primary editor in the [tools lecture](https://julia.quantecon.org/../software_engineering/tools_editors.html)."
   ]
  },
  {
   "cell_type": "markdown",
   "id": "7cf88e6f",
   "metadata": {},
   "source": [
    "## A Note on Jupyter\n",
    "\n",
    "Like Python and R, and unlike products such as Matlab and Stata, there is a looser connection between Julia as a programming language and Julia as a specific development environment.\n",
    "\n",
    "While you will eventually use other editors, there are some advantages to starting with the [Jupyter](http://jupyter.org/) environment while learning Julia.\n",
    "\n",
    "- The ability to mix formatted text (including mathematical expressions) and code in a single document.  \n",
    "- Nicely formatted output including tables, figures, animation, video, etc.  \n",
    "- Conversion tools to generate PDF slides, static HTML, etc.  \n",
    "\n",
    "\n",
    "We’ll discuss the workflow on these features in the [next section](#julia-environment)"
   ]
  },
  {
   "cell_type": "markdown",
   "id": "6d82a2bb",
   "metadata": {},
   "source": [
    "## Quick installation for experienced users\n",
    "\n",
    "If you have already installed Jupyter, Julia, and Git and have experience with these tools, you can\n",
    "\n",
    "- Get the notebooks’ repositories with `git clone https://github.com/quantecon/lecture-julia.notebooks`  \n",
    "- Open a Jupyter notebook within the downloaded notebooks  \n",
    "- Install the necessary packages in a Julia REPL with `using Pkg; Pkg.instantiate()`  \n",
    "\n",
    "\n",
    "At that point, you could directly move on to the [julia by example](https://julia.quantecon.org/julia_by_example.html) lecture.\n",
    "\n",
    "However, as we strongly recommend becoming familiar with VS Code as a transition towards using more advanced tools and to support better software engineering workflows, so consider walking through the rest of these instructions.\n",
    "\n",
    "For those with little to no programming experience (e.g. you have never used a loop or “if” statement) see the list of [introductory resources](https://julia.quantecon.org/julia_by_example.html#intro-resources).\n",
    "\n",
    "\n",
    "<a id='jl-jupyterlocal'></a>"
   ]
  },
  {
   "cell_type": "markdown",
   "id": "3a5fddf6",
   "metadata": {},
   "source": [
    "## Desktop Installation of Julia and Jupyter\n",
    "\n",
    "In this section, we will describe the installation of Julia and Jupyter on your desktop.\n",
    "\n",
    "On Windows, you probably want to install the new open-source [Windows Terminal](https://github.com/microsoft/terminal).  See [here](https://aka.ms/terminal) for installation instructions, and select the option to add the explorer context menu if provided.\n",
    "\n",
    "It provides a much more modern terminal with better font support for Julia, and with better operating system integration.  For example, you can right-click on a folder in the File Explorer and choose `Open in Microsoft Terminal` to start a terminal in that location.  Rather than providing a particular shell directly, it hosts those that are available in your setup (e.g., PowerShell, Git Bash, Ubuntu Bash in WSL).\n",
    "\n",
    "\n",
    "<a id='install-jupyter'></a>"
   ]
  },
  {
   "cell_type": "markdown",
   "id": "484c14bf",
   "metadata": {},
   "source": [
    "### Installing Jupyter\n",
    "\n",
    "[Anaconda](https://www.anaconda.com/) provides an easy to install package of jupyter, python, and many data science tools.\n",
    "\n",
    "If you have not previously installed Conda or Jupyter, then\n",
    "\n",
    "1. Download the binary ([https://www.anaconda.com/download/](https://www.anaconda.com/download/)) and follow the [installation instructions](https://conda.io/projects/conda/en/latest/user-guide/install/index.html) for your platform.  \n",
    "1. If given the option for your operating system, let Conda add Python to your PATH environment variables.  \n",
    "\n",
    "\n",
    ">**Note**\n",
    ">\n",
    ">While Conda is the easiest way to install jupyter, it is not strictly required.  With any python you can install with `pip install jupyter`.  Alternatively you can let `IJulia` install its own version of Conda by following [these instructions](https://julialang.github.io/IJulia.jl/dev/manual/running/), or use the direct support for [Jupyter notebooks in VS Code](https://marketplace.visualstudio.com/items?itemName=ms-toolsai.jupyter) - which does no Python installation at all.\n",
    "\n",
    "\n",
    "<a id='intro-repl'></a>"
   ]
  },
  {
   "cell_type": "markdown",
   "id": "e0c560c2",
   "metadata": {},
   "source": [
    "### Install Julia\n",
    "\n",
    "After Conda is installed, you can install Julia.\n",
    "\n",
    ">**Note**\n",
    ">\n",
    ">The semi-official installation method for Windows is to use [Juliaup](https://github.com/JuliaLang/juliaup), which makes it easier to upgrade and manage concurrent Julia versions.  Support on Mac and Linux is prerelease.  See [here](https://github.com/JuliaLang/juliaup#using-juliaup) for a list of commands, such as `juliaup update` to upgrade to the latest available Julia version after installation, or ways to switch to newer Julia versions after they are released.\n",
    "\n",
    "1. Download and install Julia following the [Juliaup instructions](https://github.com/JuliaLang/juliaup#installation)  \n",
    "  - Windows: easiest method is `winget install julia -s msstore` in a Windows terminal  \n",
    "  - Linux/Mac: in a terminal use `curl -fsSL https://install.julialang.org | sh`  \n",
    "  - If you have previously installed Julia manually, you will need to uninstall previous versions before switching to `juliaup`.  \n",
    "  - Alternatively, can manually install from [download page](http://julialang.org/downloads/), accepting all default options  \n",
    "1. Open Julia, by either  \n",
    "  - Navigating to Julia through your menus or desktop icons (Windows, Mac), or  \n",
    "  - Opening a terminal and type `julia` (which should work for all OS if you used `juliaup`.  Otherwise see [here](https://julialang.org/downloads/platform/))  \n",
    "  You should now be looking at something like this  \n",
    "  ![https://julia.quantecon.org/_static/figures/julia_term_1.png](https://julia.quantecon.org/_static/figures/julia_term_1.png)\n",
    "  \n",
    "    \n",
    "  This is called the JULIA *REPL* (Read-Evaluate-Print-Loop), which we discuss more [later](https://julia.quantecon.org/../software_engineering/tools_editors.html#repl-main).  \n",
    "1. In the Julia REPL, hit `]` to enter package mode and then enter:  "
   ]
  },
  {
   "cell_type": "code",
   "execution_count": 1,
   "id": "533d14ca",
   "metadata": {
    "hide-output": false
   },
   "outputs": [
    {
     "ename": "UndefVarError",
     "evalue": "UndefVarError: `add` not defined",
     "output_type": "error",
     "traceback": [
      "UndefVarError: `add` not defined\n"
     ]
    }
   ],
   "source": [
    "add IJulia"
   ]
  },
  {
   "cell_type": "markdown",
   "id": "74bfb73b",
   "metadata": {},
   "source": [
    "This adds packages for the `IJulia` kernel which links Julia to Jupyter you previously installed with Anaconda (i.e., allows your browser to run Julia code, manage Julia packages, etc.).  \n",
    "1. You can exit the julia REPL by hitting backspace to exit the package mode, and then  "
   ]
  },
  {
   "cell_type": "code",
   "execution_count": 2,
   "id": "8c3dd0fe",
   "metadata": {
    "hide-output": false
   },
   "outputs": [],
   "source": [
    "exit()"
   ]
  },
  {
   "cell_type": "markdown",
   "id": "715cef8a",
   "metadata": {},
   "source": [
    "\n",
    "\n",
    ">**Note**\n",
    ">\n",
    ">As entering of the package mode is so common in these notes, we will denote this with a `] IJulia`, etc.  On Windows and in Jupyter, you can directly copy this into your terminal, whereas on Linux and macOS you may need to manually enter the package mode.\n",
    "\n",
    "\n",
    "<a id='initial-vscode-setup'></a>"
   ]
  },
  {
   "cell_type": "markdown",
   "id": "2af80fa4",
   "metadata": {},
   "source": [
    "## Setting up Git and VS Code\n",
    "\n",
    "A primary benefit of using [open-source](https://en.wikipedia.org/wiki/Open-source_software) languages such as Julia, Python, and R is that they can enable far better workflows for both collaboration and [reproducible research](https://en.wikipedia.org/wiki/Reproducibility#Reproducible_research).\n",
    "\n",
    "Reproducibility will ensure that you, your future self, your collaborators, and eventually the public will be able to run the exact code with the identical environment with which you provided the results - or even roll back to a snapshot in the past where the results may have been different in order to compare.\n",
    "\n",
    "We will explore these topics in detail in the lectures on [source code control](https://julia.quantecon.org/../software_engineering/version_control.html) and [continuous integration and test-driven development](https://julia.quantecon.org/../software_engineering/testing.html), but it is worth installing and beginning to use these tools immediately.\n",
    "\n",
    "First, we will install [Git](https://julia.quantecon.org/../software_engineering/version_control.html#more-on-git), which has become the industry standard open-source version-control tool.  This lets you download both the files and the entire version history from a server (e.g. on GitHub) to your desktop.\n",
    "\n",
    "1. Install [Git](https://git-scm.com/book/en/v2/Getting-Started-Installing-Git/) and accept the default arguments.  \n",
    "  - If you allow Git to add to your path, then you can run it with the `git` command, but we will frequently use the built-in VS Code features.  \n",
    "1. (Optional) Install [VS Code](https://code.visualstudio.com/) for your platform and open it  \n",
    "  - On Windows, during install under `Select Additional Tasks`, choose all options that begin with `Add \"Open with Code\" action`. This lets you open VS Code from inside File Explorer folders directly.  \n",
    "  - While optional, we find the experience with VS Code will be much easier and the transition to more advanced tools will be more seamless.  \n",
    "1. (Optional) Install the [VS Code Julia](https://marketplace.visualstudio.com/items?itemName=julialang.language-julia) extension  \n",
    "  - After installation of VS Code, you should be able to choose `Install` on the webpage of any extensions and it will open on your desktop.  \n",
    "  - Otherwise: run VS Code and open the extensions with `<Ctrl+Shift+X>` or selecting extensions in the left-hand side of the VS Code window.  Then search for `Julia` in the Marketplace.  \n",
    "  ![https://julia.quantecon.org/_static/figures/vscode_intro_0.png](https://julia.quantecon.org/_static/figures/vscode_intro_0.png)\n",
    "  \n",
    "    \n",
    "  - No further configuration should be required, but see [here](https://julia.quantecon.org/../software_engineering/tools_editors.html#install-vscode) if you have issues.  \n",
    "\n",
    "\n",
    "The VS Code and the VS Code Julia extension will help us better manage environments during our initial setup, and will provide a seamless transition to the more [advanced tools](https://julia.quantecon.org/../software_engineering/tools_editors.html).\n",
    "\n",
    "\n",
    "<a id='command-palette'></a>"
   ]
  },
  {
   "cell_type": "markdown",
   "id": "b9599447",
   "metadata": {},
   "source": [
    "### Command Palette on VS Code\n",
    "\n",
    "A key feature within VS Code is the [Command Palette](https://code.visualstudio.com/docs/getstarted/userinterface#_command-palette), which can be accessed with `<Ctrl+Shift+P>` or `View > Command Palette...` in the menus.\n",
    "\n",
    "![https://code.visualstudio.com/assets/docs/getstarted/userinterface/commands.png](https://code.visualstudio.com/assets/docs/getstarted/userinterface/commands.png)\n",
    "\n",
    "  \n",
    "This is so common that in these notes we\n",
    "denote opening the command palette and searching for a command with things like `> Julia: Start REPL` , etc.\n",
    "\n",
    "You can type partial strings for different commands and it helps you to find features of vscode and its extensions.  Furthermore, the command palette remembers your most recent and common commands.\n",
    "\n",
    "[Integrated Terminals](https://code.visualstudio.com/docs/editor/integrated-terminal) within VS Code are a convenient because they are local to that project, detect hypertext links, and provide better fonts.\n",
    "\n",
    "To launch a terminal, use either (1) `<Ctrl+`>`, (2) `>View: Toggle Terminal` with the command palette, or (3) `View > Terminal` in the menus.\n",
    "\n",
    ">**Note**\n",
    ">\n",
    ">Becoming comfortable with VS Code and tools for source code control/software engineering is an essential step towards ensuring reproducibility.  An easy way to begin that process is to start using VS Code to edit LaTeX, and practice managing your `.tex` files in GitHub rather than dropbox or similar alternatives.  While not directly connected to Julia, this familiarity will make everything easier - even for proprietary languages such as Stata and Matlab.  See [here](https://julia.quantecon.org/../software_engineering/tools_editors.html#vscode-latex) for instructions on this setup process.\n",
    "\n",
    "\n",
    "<a id='clone-lectures'></a>"
   ]
  },
  {
   "cell_type": "markdown",
   "id": "c0646640",
   "metadata": {},
   "source": [
    "## Downloading the Notebooks\n",
    "\n",
    "Next, let’s install the QuantEcon lecture notes to our machine and run them (for more details on the tools we’ll use, see our lecture on [version control](https://julia.quantecon.org/../software_engineering/version_control.html)).\n",
    "\n",
    "With VS Code installed, you can easily clone the lecture notes repository\n",
    "\n",
    "1. Open the command palette with `<Ctrl+Shift+P>` and type `> Git: Clone`  \n",
    "1. For the Repository URL, provide enter `https://github.com/quantecon/lecture-julia.notebooks`\n",
    "  Alternatively, if you are already a user of Visual Studio Code, you can clone within VS Code by using the `> Git: Clone` command from the [command palette](#command-palette).  See the lectures on [tools](https://julia.quantecon.org/../software_engineering/tools_editors.html) and [source code control](https://julia.quantecon.org/../software_engineering/version_control.html) for more details.  \n",
    "1. Choose the location to clone when prompted  \n",
    "  - The workflow will be easiest if you clone the repo to the default location relative to the home folder for your user.  \n",
    "  - For example, on Windows a good choice might be `c:\\Users\\YOURUSERNAME\\Documents\\GitHub` or simply `c:\\Users\\YOURUSERNAME\\Documents`.  On linux and macOS, your home directory `~` or `~/GitHub`.  \n",
    "1. Accept the option to open in a new window when prompted  "
   ]
  },
  {
   "cell_type": "markdown",
   "id": "15b5a5d6",
   "metadata": {},
   "source": [
    "## Cloning without VS Code\n",
    "\n",
    "To use the command-line to begin the introduction to source control tools.\n",
    "\n",
    "1. Choose and create if necessary a convenient parent folder where you would like the notebooks directory, see above for suggestions.  \n",
    "1. Open a new terminal for your machine and navigate to the parent folder of where you wish to store the notebooks.  \n",
    "  - On Windows: if using the [Windows Terminal](https://aka.ms/terminal) you can simply right-click on the directory in the File Explorer and choose to “Open in Microsoft Terminal” or, alternatively “Git Bash Here” to use the terminal provided by Git.  On macOS, see [here](https://apple.stackexchange.com/questions/11323/how-can-i-open-a-terminal-window-directly-from-my-current-finder-location) for a discussion of different approaches.  \n",
    "1. Execute the following code in the terminal to download the entire suite of notebooks associated with these lectures with `git clone https://github.com/quantecon/lecture-julia.notebooks`\n",
    "  This will download the repository with the notebooks into the directory `lecture-julia.notebooks` within your working directory.  \n",
    "1. Then, `cd` to that location in your terminal with `cd lecture-julia.notebooks`  \n",
    "1. Finally, you can open this directory from your terminal in VS Code with `code .` or manually opening  \n",
    "\n",
    "\n",
    "If you have opened this in VS Code, it should look something like\n",
    "\n",
    "![https://julia.quantecon.org/_static/figures/vscode_intro_1.png](https://julia.quantecon.org/_static/figures/vscode_intro_1.png)\n",
    "\n",
    "  \n",
    "\n",
    "<a id='install-packages'></a>"
   ]
  },
  {
   "cell_type": "markdown",
   "id": "33fd223c",
   "metadata": {},
   "source": [
    "## Installing Packages\n",
    "\n",
    "After you have the notebooks available, as described in [the previous section](#clone-lectures), we can install the required packages for plotting, benchmarking, and statistics.\n",
    "\n",
    "For this, we will use the integrated terminal in VS Code.\n",
    "\n",
    "Recall that you can start this directly from the [command palette](#command-palette) with `<Ctrl+Shift+P>` then typing part of the `> Julia: Start REPL` command.\n",
    "\n",
    "![https://julia.quantecon.org/_static/figures/vscode_intro_2.png](https://julia.quantecon.org/_static/figures/vscode_intro_2.png)\n",
    "\n",
    "  \n",
    "1. Start a REPL; it may do an initial compilation of packages in the background, but will then look something like  \n",
    "  ![https://julia.quantecon.org/_static/figures/vscode_intro_3.png](https://julia.quantecon.org/_static/figures/vscode_intro_3.png)\n",
    "  \n",
    "    \n",
    "1. Next type `]` to enter the package mode, which should indicate that the local project is activated by changing the cursor to `(quantecon-notebooks-julia) pkg>`.  \n",
    "1. Type `instantiate` to install all of the packages required for these notes.  \n",
    "  ![https://julia.quantecon.org/_static/figures/vscode_intro_4.png](https://julia.quantecon.org/_static/figures/vscode_intro_4.png)\n",
    "  \n",
    "    \n",
    "\n",
    "\n",
    "This process will take several minutes to download and compile all of the files used by the lectures.\n",
    "\n",
    "If the cursor is instead `(@v1.10) pkg>` then you may not have started the integrated terminal in the correct location, or you used an external REPL.  Assuming that you are in the correct location, if you type `activate .` in the package mode, the cursor should change to `(quantecon-notebooks-julia) pkg>` as it activates this project file.\n",
    "\n",
    "One benefit of using the integrated REPL is that it will set important options for launching Julia (e.g. the number of threads) and activate the local project files (i.e. the `Project.toml` file in the notebooks directory) automatically.  If you use an external REPL, you will need to set these manually.  Here you would want to run the REPL with `julia --project --threads auto`  to tell Julia to set the number of threads equal to your local machine’s number of cores, and to activate the existing project.  See [here](https://julia.quantecon.org/../software_engineering/tools_editors.html#repl-main) for more details.\n",
    "\n",
    "\n",
    "<a id='running-jupyterlab'></a>"
   ]
  },
  {
   "cell_type": "markdown",
   "id": "817e18f2",
   "metadata": {},
   "source": [
    "## Running JupyterLab\n",
    "\n",
    "You can start Jupyter within any directory by executing the following in a terminal"
   ]
  },
  {
   "cell_type": "markdown",
   "id": "e8e2984c",
   "metadata": {
    "hide-output": false
   },
   "source": [
    "```bash\n",
    "jupyter lab\n",
    "```\n"
   ]
  },
  {
   "cell_type": "markdown",
   "id": "9a7bf505",
   "metadata": {},
   "source": [
    "This runs a process giving Jupyter permission to access this directory, but not its parents.  This is especially convenient to do in VS Code since we have already navigated to this directory:\n",
    "\n",
    "1. If the Julia REPL is still open, create a new terminal by clicking on the `+` button on the terminal pane and create a new terminal appropriate for your operating system.  Close the Julia REPL if you wish.  \n",
    "  ![https://julia.quantecon.org/_static/figures/vscode_intro_5.png](https://julia.quantecon.org/_static/figures/vscode_intro_5.png)\n",
    "  \n",
    "    \n",
    "  - [As before](#command-palette), if the terminal pane is not available, use `<Ctrl+`>` or `>View: Toggle Terminal` to see the pane.  \n",
    "  - You can close the Julia REPL if you wish, or create multiple terminals in this interface  \n",
    "1. Within the new terminal, execute `jupyter lab`.  This should run in the background in this terminal, with output such as  \n",
    "  ![https://julia.quantecon.org/_static/figures/vscode_intro_6.png](https://julia.quantecon.org/_static/figures/vscode_intro_6.png)\n",
    "  \n",
    "    \n",
    "\n",
    "\n",
    "The process should launch a webpage on your desktop, which may look like\n",
    "\n",
    "![https://julia.quantecon.org/_static/figures/jupyterlab_first.png](https://julia.quantecon.org/_static/figures/jupyterlab_first.png)\n",
    "\n",
    "  \n",
    "If it does not start automatically, use the link at the bottom of the output in the terminal (which should show with `Follow link (ctrl + click`).\n",
    "\n",
    "Proceed to the next section on [Jupyter](#julia-environment) to explore this interface and start writing code.\n",
    "\n",
    "\n",
    "<a id='reset-notebooks'></a>"
   ]
  },
  {
   "cell_type": "markdown",
   "id": "31517ad0",
   "metadata": {},
   "source": [
    "## Refreshing the Notebooks after Modification\n",
    "\n",
    "As you work through the notebooks, you may wish to reset these to the most recent version on the server.\n",
    "\n",
    "1. To see this, modify one of the notebooks in Jupyter, and then go back to VS Code, which should now highlight on the left hand side that one or more modified files have been modified.  \n",
    "1. Choose the highlighted “Source Control” pane, or use `<Ctrl+Shift+G>`; then it will summarize all of the modified files.  \n",
    "1. To revert back to the versions you previously downloaded, right click on “Changes” and then choose `Discard All Changes`:  \n",
    "\n",
    "\n",
    "![https://julia.quantecon.org/_static/figures/vscode_intro_7.png](https://julia.quantecon.org/_static/figures/vscode_intro_7.png)\n",
    "\n",
    "  \n",
    "Additionally, if the notebooks themselves are modified as the lecture notes evolve, you can first discard any changes, and then either use `> Git: Pull` command or click on the arrow next to “main” on the bottom left of the screen to download the latest versions. Here “main” refers to the main branch of the repo where the latest versions are hosted.\n",
    "\n",
    "If the `Project.toml` or `Manifest.toml` files are modified, then after reverting you will want to redo the step to ensure you have the correct versions.  To do this, run the project, enter package management mode with `]`, ensure that `(quantecon-notebooks-julia) pkg>` is displayed, and then type `instantiate` to install the correct versions.\n",
    "\n",
    "We will explore these sorts of features, and how to use them for your own projects, in the [source code control](https://julia.quantecon.org/../software_engineering/version_control.html) lecture.\n",
    "\n",
    "\n",
    "<a id='julia-environment'></a>"
   ]
  },
  {
   "cell_type": "markdown",
   "id": "7225838e",
   "metadata": {},
   "source": [
    "## Interacting with Julia\n",
    "\n",
    "Next, we’ll start examining different features of the Julia and Jupyter environments.\n",
    "\n",
    "While we emphasize a [local installation of Jupyter](#jl-jupyterlocal), other alternatives exist.\n",
    "\n",
    "For example,\n",
    "\n",
    "- Some universities may have JupyterHub installations available - which provide a hosted Jupyter environment.  However, it would require the hub to have explicit Julia support.  \n",
    "- VS Code has rapidly progressing [support for Jupyter](https://code.visualstudio.com/docs/datascience/jupyter-notebooks) using an existing Jupyter installation.  \n",
    "- The combination of the new [VS Code Jupyter](https://julia.quantecon.org/../software_engineering/tools_editors.html#optional-extensions) and [VS Code Julia](https://julia.quantecon.org/../software_engineering/tools_editors.html#install-vscode) extensions supports Jupyter notebooks without even a fragile Conda/python installation  \n",
    "- Online services such as [JuliaHub](https://juliahub.com/lp/) provide a tailored experience for Julia.  Be warned, however, that [Colab](https://colab.research.google.com/) and others are only designed for Python, and adding Julia requires a great deal of effort.  "
   ]
  },
  {
   "cell_type": "markdown",
   "id": "5fc5a75c",
   "metadata": {},
   "source": [
    "## Using Jupyter\n",
    "\n",
    "\n",
    "<a id='ipython-notebook'></a>"
   ]
  },
  {
   "cell_type": "markdown",
   "id": "6b830896",
   "metadata": {},
   "source": [
    "### Getting Started\n",
    "\n",
    ">**Note**\n",
    ">\n",
    ">The easiest way to get started with these notebooks is to follow the [cloning instructions](#clone-lectures) earlier.\n",
    "\n",
    "Launch `jupyter lab` and navigate to this notebook(i.e. `getting_started_julia/getting_started.ipynb` )\n",
    "\n",
    "See [here](#running-jupyterlab) for the previous instructions on launching Jupyter Lab.\n",
    "\n",
    "Your web browser should open to a page that looks something like this\n",
    "\n",
    "![https://julia.quantecon.org/_static/figures/starting_nb_julia.png](https://julia.quantecon.org/_static/figures/starting_nb_julia.png)\n",
    "\n",
    "  \n",
    "The page you are looking at is called the “dashboard”.\n",
    "\n",
    "If you click on “Julia 1.x.x” under “Notebook” you should have the option to start a Julia notebook.\n",
    "\n",
    "Here’s what your Julia notebook should look like\n",
    "\n",
    "![https://julia.quantecon.org/_static/figures/nb2_julia.png](https://julia.quantecon.org/_static/figures/nb2_julia.png)\n",
    "\n",
    "  \n",
    "The notebook displays an *active cell*, into which you can type Julia commands."
   ]
  },
  {
   "cell_type": "markdown",
   "id": "17d41c8e",
   "metadata": {},
   "source": [
    "### Notebook Basics\n",
    "\n",
    "Notice that in the previous figure the cell is surrounded by a blue border.\n",
    "\n",
    "This means that the cell is selected, and double-clicking will place it in edit mode.\n",
    "\n",
    "As a result, you can type in Julia code and it will appear in the cell.\n",
    "\n",
    "When you’re ready to execute these commands, hit `Shift-Enter`\n",
    "\n",
    "![https://julia.quantecon.org/_static/figures/nb3_julia.png](https://julia.quantecon.org/_static/figures/nb3_julia.png)"
   ]
  },
  {
   "cell_type": "markdown",
   "id": "cc5e7f89",
   "metadata": {},
   "source": [
    "#### Modal Editing\n",
    "\n",
    "The next thing to understand about the Jupyter notebook is that it uses a *modal* editing system.\n",
    "\n",
    "This means that the effect of typing at the keyboard **depends on which mode you are in**.\n",
    "\n",
    "The two modes are\n",
    "\n",
    "1. Edit mode  \n",
    "  - Indicated by a blue border around one cell, as in the pictures above.  \n",
    "  - Whatever you type appears as is in that cell.  \n",
    "1. Command mode  \n",
    "  - The blue border disappears and turns into a plain grey border.  \n",
    "  - Key strokes are interpreted as commands — for example, typing b adds a new cell below  the current one.  \n",
    "\n",
    "\n",
    "(To learn about other commands available in command mode, go to “Keyboard Shortcuts” in the “Help” menu)"
   ]
  },
  {
   "cell_type": "markdown",
   "id": "d73b9779",
   "metadata": {},
   "source": [
    "#### Switching modes\n",
    "\n",
    "- To switch to command mode from edit mode, hit the `Esc` key.  \n",
    "- To switch to edit mode from command mode, hit `Enter` or click in a cell.  \n",
    "\n",
    "\n",
    "The modal behavior of the Jupyter notebook is a little tricky at first but very efficient when you get used to it."
   ]
  },
  {
   "cell_type": "markdown",
   "id": "01cb9882",
   "metadata": {},
   "source": [
    "#### Plots\n",
    "\n",
    "Run the following cell"
   ]
  },
  {
   "cell_type": "code",
   "execution_count": 1,
   "id": "0ef1cbbb",
   "metadata": {
    "hide-output": false
   },
   "outputs": [
    {
     "data": {
      "image/png": "[encoded data removed]",
      "image/svg+xml": [
       "<?xml version=\"1.0\" encoding=\"utf-8\"?>\n",
       "<svg xmlns=\"http://www.w3.org/2000/svg\" xmlns:xlink=\"http://www.w3.org/1999/xlink\" width=\"600\" height=\"400\" viewBox=\"0 0 2400 1600\">\n",
       "<defs>\n",
       "  <clipPath id=\"clip120\">\n",
       "    <rect x=\"0\" y=\"0\" width=\"2400\" height=\"1600\"/>\n",
       "  </clipPath>\n",
       "</defs>\n",
       "<path clip-path=\"url(#clip120)\" d=\"M0 1600 L2400 1600 L2400 0 L0 0  Z\" fill=\"#ffffff\" fill-rule=\"evenodd\" fill-opacity=\"1\"/>\n",
       "<defs>\n",
       "  <clipPath id=\"clip121\">\n",
       "    <rect x=\"480\" y=\"0\" width=\"1681\" height=\"1600\"/>\n",
       "  </clipPath>\n",
       "</defs>\n",
       "<path clip-path=\"url(#clip120)\" d=\"M193.936 1486.45 L2352.76 1486.45 L2352.76 47.2441 L193.936 47.2441  Z\" fill=\"#ffffff\" fill-rule=\"evenodd\" fill-opacity=\"1\"/>\n",
       "<defs>\n",
       "  <clipPath id=\"clip122\">\n",
       "    <rect x=\"193\" y=\"47\" width=\"2160\" height=\"1440\"/>\n",
       "  </clipPath>\n",
       "</defs>\n",
       "<polyline clip-path=\"url(#clip122)\" style=\"stroke:#000000; stroke-linecap:round; stroke-linejoin:round; stroke-width:2; stroke-opacity:0.1; fill:none\" points=\"463,1486.45 463,47.2441 \"/>\n",
       "<polyline clip-path=\"url(#clip122)\" style=\"stroke:#000000; stroke-linecap:round; stroke-linejoin:round; stroke-width:2; stroke-opacity:0.1; fill:none\" points=\"868.173,1486.45 868.173,47.2441 \"/>\n",
       "<polyline clip-path=\"url(#clip122)\" style=\"stroke:#000000; stroke-linecap:round; stroke-linejoin:round; stroke-width:2; stroke-opacity:0.1; fill:none\" points=\"1273.35,1486.45 1273.35,47.2441 \"/>\n",
       "<polyline clip-path=\"url(#clip122)\" style=\"stroke:#000000; stroke-linecap:round; stroke-linejoin:round; stroke-width:2; stroke-opacity:0.1; fill:none\" points=\"1678.52,1486.45 1678.52,47.2441 \"/>\n",
       "<polyline clip-path=\"url(#clip122)\" style=\"stroke:#000000; stroke-linecap:round; stroke-linejoin:round; stroke-width:2; stroke-opacity:0.1; fill:none\" points=\"2083.69,1486.45 2083.69,47.2441 \"/>\n",
       "<polyline clip-path=\"url(#clip120)\" style=\"stroke:#000000; stroke-linecap:round; stroke-linejoin:round; stroke-width:4; stroke-opacity:1; fill:none\" points=\"193.936,1486.45 2352.76,1486.45 \"/>\n",
       "<polyline clip-path=\"url(#clip120)\" style=\"stroke:#000000; stroke-linecap:round; stroke-linejoin:round; stroke-width:4; stroke-opacity:1; fill:none\" points=\"463,1486.45 463,1467.55 \"/>\n",
       "<polyline clip-path=\"url(#clip120)\" style=\"stroke:#000000; stroke-linecap:round; stroke-linejoin:round; stroke-width:4; stroke-opacity:1; fill:none\" points=\"868.173,1486.45 868.173,1467.55 \"/>\n",
       "<polyline clip-path=\"url(#clip120)\" style=\"stroke:#000000; stroke-linecap:round; stroke-linejoin:round; stroke-width:4; stroke-opacity:1; fill:none\" points=\"1273.35,1486.45 1273.35,1467.55 \"/>\n",
       "<polyline clip-path=\"url(#clip120)\" style=\"stroke:#000000; stroke-linecap:round; stroke-linejoin:round; stroke-width:4; stroke-opacity:1; fill:none\" points=\"1678.52,1486.45 1678.52,1467.55 \"/>\n",
       "<polyline clip-path=\"url(#clip120)\" style=\"stroke:#000000; stroke-linecap:round; stroke-linejoin:round; stroke-width:4; stroke-opacity:1; fill:none\" points=\"2083.69,1486.45 2083.69,1467.55 \"/>\n",
       "<path clip-path=\"url(#clip120)\" d=\"M409.528 1532.02 L439.203 1532.02 L439.203 1535.95 L409.528 1535.95 L409.528 1532.02 Z\" fill=\"#000000\" fill-rule=\"nonzero\" fill-opacity=\"1\" /><path clip-path=\"url(#clip120)\" d=\"M449.342 1514.29 L467.699 1514.29 L467.699 1518.22 L453.625 1518.22 L453.625 1526.7 Q454.643 1526.35 455.662 1526.19 Q456.68 1526 457.699 1526 Q463.486 1526 466.865 1529.17 Q470.245 1532.34 470.245 1537.76 Q470.245 1543.34 466.773 1546.44 Q463.301 1549.52 456.981 1549.52 Q454.805 1549.52 452.537 1549.15 Q450.291 1548.78 447.884 1548.04 L447.884 1543.34 Q449.967 1544.47 452.189 1545.03 Q454.412 1545.58 456.889 1545.58 Q460.893 1545.58 463.231 1543.48 Q465.569 1541.37 465.569 1537.76 Q465.569 1534.15 463.231 1532.04 Q460.893 1529.94 456.889 1529.94 Q455.014 1529.94 453.139 1530.35 Q451.287 1530.77 449.342 1531.65 L449.342 1514.29 Z\" fill=\"#000000\" fill-rule=\"nonzero\" fill-opacity=\"1\" /><path clip-path=\"url(#clip120)\" d=\"M479.458 1542.97 L484.342 1542.97 L484.342 1548.85 L479.458 1548.85 L479.458 1542.97 Z\" fill=\"#000000\" fill-rule=\"nonzero\" fill-opacity=\"1\" /><path clip-path=\"url(#clip120)\" d=\"M504.527 1517.37 Q500.916 1517.37 499.087 1520.93 Q497.282 1524.47 497.282 1531.6 Q497.282 1538.71 499.087 1542.27 Q500.916 1545.82 504.527 1545.82 Q508.161 1545.82 509.967 1542.27 Q511.796 1538.71 511.796 1531.6 Q511.796 1524.47 509.967 1520.93 Q508.161 1517.37 504.527 1517.37 M504.527 1513.66 Q510.337 1513.66 513.393 1518.27 Q516.472 1522.85 516.472 1531.6 Q516.472 1540.33 513.393 1544.94 Q510.337 1549.52 504.527 1549.52 Q498.717 1549.52 495.638 1544.94 Q492.583 1540.33 492.583 1531.6 Q492.583 1522.85 495.638 1518.27 Q498.717 1513.66 504.527 1513.66 Z\" fill=\"#000000\" fill-rule=\"nonzero\" fill-opacity=\"1\" /><path clip-path=\"url(#clip120)\" d=\"M815.199 1532.02 L844.874 1532.02 L844.874 1535.95 L815.199 1535.95 L815.199 1532.02 Z\" fill=\"#000000\" fill-rule=\"nonzero\" fill-opacity=\"1\" /><path clip-path=\"url(#clip120)\" d=\"M858.995 1544.91 L875.314 1544.91 L875.314 1548.85 L853.37 1548.85 L853.37 1544.91 Q856.032 1542.16 860.615 1537.53 Q865.221 1532.88 866.402 1531.53 Q868.647 1529.01 869.527 1527.27 Q870.43 1525.51 870.43 1523.82 Q870.43 1521.07 868.485 1519.33 Q866.564 1517.6 863.462 1517.6 Q861.263 1517.6 858.809 1518.36 Q856.379 1519.13 853.601 1520.68 L853.601 1515.95 Q856.425 1514.82 858.879 1514.24 Q861.333 1513.66 863.37 1513.66 Q868.74 1513.66 871.934 1516.35 Q875.129 1519.03 875.129 1523.52 Q875.129 1525.65 874.319 1527.57 Q873.532 1529.47 871.425 1532.07 Q870.846 1532.74 867.745 1535.95 Q864.643 1539.15 858.995 1544.91 Z\" fill=\"#000000\" fill-rule=\"nonzero\" fill-opacity=\"1\" /><path clip-path=\"url(#clip120)\" d=\"M885.129 1542.97 L890.013 1542.97 L890.013 1548.85 L885.129 1548.85 L885.129 1542.97 Z\" fill=\"#000000\" fill-rule=\"nonzero\" fill-opacity=\"1\" /><path clip-path=\"url(#clip120)\" d=\"M900.244 1514.29 L918.601 1514.29 L918.601 1518.22 L904.527 1518.22 L904.527 1526.7 Q905.545 1526.35 906.564 1526.19 Q907.582 1526 908.601 1526 Q914.388 1526 917.767 1529.17 Q921.147 1532.34 921.147 1537.76 Q921.147 1543.34 917.675 1546.44 Q914.203 1549.52 907.883 1549.52 Q905.707 1549.52 903.439 1549.15 Q901.193 1548.78 898.786 1548.04 L898.786 1543.34 Q900.869 1544.47 903.092 1545.03 Q905.314 1545.58 907.791 1545.58 Q911.795 1545.58 914.133 1543.48 Q916.471 1541.37 916.471 1537.76 Q916.471 1534.15 914.133 1532.04 Q911.795 1529.94 907.791 1529.94 Q905.916 1529.94 904.041 1530.35 Q902.189 1530.77 900.244 1531.65 L900.244 1514.29 Z\" fill=\"#000000\" fill-rule=\"nonzero\" fill-opacity=\"1\" /><path clip-path=\"url(#clip120)\" d=\"M1250.73 1517.37 Q1247.12 1517.37 1245.29 1520.93 Q1243.49 1524.47 1243.49 1531.6 Q1243.49 1538.71 1245.29 1542.27 Q1247.12 1545.82 1250.73 1545.82 Q1254.36 1545.82 1256.17 1542.27 Q1258 1538.71 1258 1531.6 Q1258 1524.47 1256.17 1520.93 Q1254.36 1517.37 1250.73 1517.37 M1250.73 1513.66 Q1256.54 1513.66 1259.6 1518.27 Q1262.67 1522.85 1262.67 1531.6 Q1262.67 1540.33 1259.6 1544.94 Q1256.54 1549.52 1250.73 1549.52 Q1244.92 1549.52 1241.84 1544.94 Q1238.79 1540.33 1238.79 1531.6 Q1238.79 1522.85 1241.84 1518.27 Q1244.92 1513.66 1250.73 1513.66 Z\" fill=\"#000000\" fill-rule=\"nonzero\" fill-opacity=\"1\" /><path clip-path=\"url(#clip120)\" d=\"M1270.89 1542.97 L1275.78 1542.97 L1275.78 1548.85 L1270.89 1548.85 L1270.89 1542.97 Z\" fill=\"#000000\" fill-rule=\"nonzero\" fill-opacity=\"1\" /><path clip-path=\"url(#clip120)\" d=\"M1295.96 1517.37 Q1292.35 1517.37 1290.52 1520.93 Q1288.72 1524.47 1288.72 1531.6 Q1288.72 1538.71 1290.52 1542.27 Q1292.35 1545.82 1295.96 1545.82 Q1299.6 1545.82 1301.4 1542.27 Q1303.23 1538.71 1303.23 1531.6 Q1303.23 1524.47 1301.4 1520.93 Q1299.6 1517.37 1295.96 1517.37 M1295.96 1513.66 Q1301.77 1513.66 1304.83 1518.27 Q1307.91 1522.85 1307.91 1531.6 Q1307.91 1540.33 1304.83 1544.94 Q1301.77 1549.52 1295.96 1549.52 Q1290.15 1549.52 1287.07 1544.94 Q1284.02 1540.33 1284.02 1531.6 Q1284.02 1522.85 1287.07 1518.27 Q1290.15 1513.66 1295.96 1513.66 Z\" fill=\"#000000\" fill-rule=\"nonzero\" fill-opacity=\"1\" /><path clip-path=\"url(#clip120)\" d=\"M1650.26 1544.91 L1666.57 1544.91 L1666.57 1548.85 L1644.63 1548.85 L1644.63 1544.91 Q1647.29 1542.16 1651.88 1537.53 Q1656.48 1532.88 1657.66 1531.53 Q1659.91 1529.01 1660.79 1527.27 Q1661.69 1525.51 1661.69 1523.82 Q1661.69 1521.07 1659.75 1519.33 Q1657.82 1517.6 1654.72 1517.6 Q1652.52 1517.6 1650.07 1518.36 Q1647.64 1519.13 1644.86 1520.68 L1644.86 1515.95 Q1647.69 1514.82 1650.14 1514.24 Q1652.59 1513.66 1654.63 1513.66 Q1660 1513.66 1663.2 1516.35 Q1666.39 1519.03 1666.39 1523.52 Q1666.39 1525.65 1665.58 1527.57 Q1664.79 1529.47 1662.69 1532.07 Q1662.11 1532.74 1659.01 1535.95 Q1655.9 1539.15 1650.26 1544.91 Z\" fill=\"#000000\" fill-rule=\"nonzero\" fill-opacity=\"1\" /><path clip-path=\"url(#clip120)\" d=\"M1676.39 1542.97 L1681.27 1542.97 L1681.27 1548.85 L1676.39 1548.85 L1676.39 1542.97 Z\" fill=\"#000000\" fill-rule=\"nonzero\" fill-opacity=\"1\" /><path clip-path=\"url(#clip120)\" d=\"M1691.51 1514.29 L1709.86 1514.29 L1709.86 1518.22 L1695.79 1518.22 L1695.79 1526.7 Q1696.81 1526.35 1697.82 1526.19 Q1698.84 1526 1699.86 1526 Q1705.65 1526 1709.03 1529.17 Q1712.41 1532.34 1712.41 1537.76 Q1712.41 1543.34 1708.94 1546.44 Q1705.46 1549.52 1699.14 1549.52 Q1696.97 1549.52 1694.7 1549.15 Q1692.45 1548.78 1690.05 1548.04 L1690.05 1543.34 Q1692.13 1544.47 1694.35 1545.03 Q1696.57 1545.58 1699.05 1545.58 Q1703.06 1545.58 1705.39 1543.48 Q1707.73 1541.37 1707.73 1537.76 Q1707.73 1534.15 1705.39 1532.04 Q1703.06 1529.94 1699.05 1529.94 Q1697.18 1529.94 1695.3 1530.35 Q1693.45 1530.77 1691.51 1531.65 L1691.51 1514.29 Z\" fill=\"#000000\" fill-rule=\"nonzero\" fill-opacity=\"1\" /><path clip-path=\"url(#clip120)\" d=\"M2050.86 1514.29 L2069.21 1514.29 L2069.21 1518.22 L2055.14 1518.22 L2055.14 1526.7 Q2056.16 1526.35 2057.18 1526.19 Q2058.19 1526 2059.21 1526 Q2065 1526 2068.38 1529.17 Q2071.76 1532.34 2071.76 1537.76 Q2071.76 1543.34 2068.29 1546.44 Q2064.82 1549.52 2058.5 1549.52 Q2056.32 1549.52 2054.05 1549.15 Q2051.81 1548.78 2049.4 1548.04 L2049.4 1543.34 Q2051.48 1544.47 2053.7 1545.03 Q2055.93 1545.58 2058.4 1545.58 Q2062.41 1545.58 2064.75 1543.48 Q2067.08 1541.37 2067.08 1537.76 Q2067.08 1534.15 2064.75 1532.04 Q2062.41 1529.94 2058.4 1529.94 Q2056.53 1529.94 2054.65 1530.35 Q2052.8 1530.77 2050.86 1531.65 L2050.86 1514.29 Z\" fill=\"#000000\" fill-rule=\"nonzero\" fill-opacity=\"1\" /><path clip-path=\"url(#clip120)\" d=\"M2080.97 1542.97 L2085.86 1542.97 L2085.86 1548.85 L2080.97 1548.85 L2080.97 1542.97 Z\" fill=\"#000000\" fill-rule=\"nonzero\" fill-opacity=\"1\" /><path clip-path=\"url(#clip120)\" d=\"M2106.04 1517.37 Q2102.43 1517.37 2100.6 1520.93 Q2098.8 1524.47 2098.8 1531.6 Q2098.8 1538.71 2100.6 1542.27 Q2102.43 1545.82 2106.04 1545.82 Q2109.68 1545.82 2111.48 1542.27 Q2113.31 1538.71 2113.31 1531.6 Q2113.31 1524.47 2111.48 1520.93 Q2109.68 1517.37 2106.04 1517.37 M2106.04 1513.66 Q2111.85 1513.66 2114.91 1518.27 Q2117.99 1522.85 2117.99 1531.6 Q2117.99 1540.33 2114.91 1544.94 Q2111.85 1549.52 2106.04 1549.52 Q2100.23 1549.52 2097.15 1544.94 Q2094.1 1540.33 2094.1 1531.6 Q2094.1 1522.85 2097.15 1518.27 Q2100.23 1513.66 2106.04 1513.66 Z\" fill=\"#000000\" fill-rule=\"nonzero\" fill-opacity=\"1\" /><polyline clip-path=\"url(#clip122)\" style=\"stroke:#000000; stroke-linecap:round; stroke-linejoin:round; stroke-width:2; stroke-opacity:0.1; fill:none\" points=\"193.936,1445.73 2352.76,1445.73 \"/>\n",
       "<polyline clip-path=\"url(#clip122)\" style=\"stroke:#000000; stroke-linecap:round; stroke-linejoin:round; stroke-width:2; stroke-opacity:0.1; fill:none\" points=\"193.936,1106.29 2352.76,1106.29 \"/>\n",
       "<polyline clip-path=\"url(#clip122)\" style=\"stroke:#000000; stroke-linecap:round; stroke-linejoin:round; stroke-width:2; stroke-opacity:0.1; fill:none\" points=\"193.936,766.845 2352.76,766.845 \"/>\n",
       "<polyline clip-path=\"url(#clip122)\" style=\"stroke:#000000; stroke-linecap:round; stroke-linejoin:round; stroke-width:2; stroke-opacity:0.1; fill:none\" points=\"193.936,427.405 2352.76,427.405 \"/>\n",
       "<polyline clip-path=\"url(#clip122)\" style=\"stroke:#000000; stroke-linecap:round; stroke-linejoin:round; stroke-width:2; stroke-opacity:0.1; fill:none\" points=\"193.936,87.965 2352.76,87.965 \"/>\n",
       "<polyline clip-path=\"url(#clip120)\" style=\"stroke:#000000; stroke-linecap:round; stroke-linejoin:round; stroke-width:4; stroke-opacity:1; fill:none\" points=\"193.936,1486.45 193.936,47.2441 \"/>\n",
       "<polyline clip-path=\"url(#clip120)\" style=\"stroke:#000000; stroke-linecap:round; stroke-linejoin:round; stroke-width:4; stroke-opacity:1; fill:none\" points=\"193.936,1445.73 212.834,1445.73 \"/>\n",
       "<polyline clip-path=\"url(#clip120)\" style=\"stroke:#000000; stroke-linecap:round; stroke-linejoin:round; stroke-width:4; stroke-opacity:1; fill:none\" points=\"193.936,1106.29 212.834,1106.29 \"/>\n",
       "<polyline clip-path=\"url(#clip120)\" style=\"stroke:#000000; stroke-linecap:round; stroke-linejoin:round; stroke-width:4; stroke-opacity:1; fill:none\" points=\"193.936,766.845 212.834,766.845 \"/>\n",
       "<polyline clip-path=\"url(#clip120)\" style=\"stroke:#000000; stroke-linecap:round; stroke-linejoin:round; stroke-width:4; stroke-opacity:1; fill:none\" points=\"193.936,427.405 212.834,427.405 \"/>\n",
       "<polyline clip-path=\"url(#clip120)\" style=\"stroke:#000000; stroke-linecap:round; stroke-linejoin:round; stroke-width:4; stroke-opacity:1; fill:none\" points=\"193.936,87.965 212.834,87.965 \"/>\n",
       "<path clip-path=\"url(#clip120)\" d=\"M50.9921 1446.18 L80.6679 1446.18 L80.6679 1450.11 L50.9921 1450.11 L50.9921 1446.18 Z\" fill=\"#000000\" fill-rule=\"nonzero\" fill-opacity=\"1\" /><path clip-path=\"url(#clip120)\" d=\"M91.5706 1459.07 L99.2095 1459.07 L99.2095 1432.7 L90.8993 1434.37 L90.8993 1430.11 L99.1632 1428.45 L103.839 1428.45 L103.839 1459.07 L111.478 1459.07 L111.478 1463.01 L91.5706 1463.01 L91.5706 1459.07 Z\" fill=\"#000000\" fill-rule=\"nonzero\" fill-opacity=\"1\" /><path clip-path=\"url(#clip120)\" d=\"M120.922 1457.13 L125.807 1457.13 L125.807 1463.01 L120.922 1463.01 L120.922 1457.13 Z\" fill=\"#000000\" fill-rule=\"nonzero\" fill-opacity=\"1\" /><path clip-path=\"url(#clip120)\" d=\"M145.992 1431.52 Q142.381 1431.52 140.552 1435.09 Q138.746 1438.63 138.746 1445.76 Q138.746 1452.87 140.552 1456.43 Q142.381 1459.97 145.992 1459.97 Q149.626 1459.97 151.431 1456.43 Q153.26 1452.87 153.26 1445.76 Q153.26 1438.63 151.431 1435.09 Q149.626 1431.52 145.992 1431.52 M145.992 1427.82 Q151.802 1427.82 154.857 1432.43 Q157.936 1437.01 157.936 1445.76 Q157.936 1454.49 154.857 1459.09 Q151.802 1463.68 145.992 1463.68 Q140.181 1463.68 137.103 1459.09 Q134.047 1454.49 134.047 1445.76 Q134.047 1437.01 137.103 1432.43 Q140.181 1427.82 145.992 1427.82 Z\" fill=\"#000000\" fill-rule=\"nonzero\" fill-opacity=\"1\" /><path clip-path=\"url(#clip120)\" d=\"M51.9875 1106.74 L81.6633 1106.74 L81.6633 1110.67 L51.9875 1110.67 L51.9875 1106.74 Z\" fill=\"#000000\" fill-rule=\"nonzero\" fill-opacity=\"1\" /><path clip-path=\"url(#clip120)\" d=\"M101.756 1092.08 Q98.1447 1092.08 96.316 1095.65 Q94.5104 1099.19 94.5104 1106.32 Q94.5104 1113.43 96.316 1116.99 Q98.1447 1120.53 101.756 1120.53 Q105.39 1120.53 107.196 1116.99 Q109.024 1113.43 109.024 1106.32 Q109.024 1099.19 107.196 1095.65 Q105.39 1092.08 101.756 1092.08 M101.756 1088.38 Q107.566 1088.38 110.621 1092.99 Q113.7 1097.57 113.7 1106.32 Q113.7 1115.05 110.621 1119.65 Q107.566 1124.24 101.756 1124.24 Q95.9456 1124.24 92.8669 1119.65 Q89.8114 1115.05 89.8114 1106.32 Q89.8114 1097.57 92.8669 1092.99 Q95.9456 1088.38 101.756 1088.38 Z\" fill=\"#000000\" fill-rule=\"nonzero\" fill-opacity=\"1\" /><path clip-path=\"url(#clip120)\" d=\"M121.918 1117.69 L126.802 1117.69 L126.802 1123.57 L121.918 1123.57 L121.918 1117.69 Z\" fill=\"#000000\" fill-rule=\"nonzero\" fill-opacity=\"1\" /><path clip-path=\"url(#clip120)\" d=\"M137.033 1089.01 L155.39 1089.01 L155.39 1092.94 L141.316 1092.94 L141.316 1101.41 Q142.334 1101.07 143.353 1100.9 Q144.371 1100.72 145.39 1100.72 Q151.177 1100.72 154.556 1103.89 Q157.936 1107.06 157.936 1112.48 Q157.936 1118.06 154.464 1121.16 Q150.992 1124.24 144.672 1124.24 Q142.496 1124.24 140.228 1123.87 Q137.982 1123.5 135.575 1122.76 L135.575 1118.06 Q137.658 1119.19 139.881 1119.75 Q142.103 1120.3 144.58 1120.3 Q148.584 1120.3 150.922 1118.2 Q153.26 1116.09 153.26 1112.48 Q153.26 1108.87 150.922 1106.76 Q148.584 1104.65 144.58 1104.65 Q142.705 1104.65 140.83 1105.07 Q138.978 1105.49 137.033 1106.37 L137.033 1089.01 Z\" fill=\"#000000\" fill-rule=\"nonzero\" fill-opacity=\"1\" /><path clip-path=\"url(#clip120)\" d=\"M100.76 752.644 Q97.1493 752.644 95.3206 756.209 Q93.515 759.75 93.515 766.88 Q93.515 773.986 95.3206 777.551 Q97.1493 781.093 100.76 781.093 Q104.395 781.093 106.2 777.551 Q108.029 773.986 108.029 766.88 Q108.029 759.75 106.2 756.209 Q104.395 752.644 100.76 752.644 M100.76 748.94 Q106.571 748.94 109.626 753.547 Q112.705 758.13 112.705 766.88 Q112.705 775.607 109.626 780.213 Q106.571 784.797 100.76 784.797 Q94.9502 784.797 91.8715 780.213 Q88.816 775.607 88.816 766.88 Q88.816 758.13 91.8715 753.547 Q94.9502 748.94 100.76 748.94 Z\" fill=\"#000000\" fill-rule=\"nonzero\" fill-opacity=\"1\" /><path clip-path=\"url(#clip120)\" d=\"M120.922 778.246 L125.807 778.246 L125.807 784.125 L120.922 784.125 L120.922 778.246 Z\" fill=\"#000000\" fill-rule=\"nonzero\" fill-opacity=\"1\" /><path clip-path=\"url(#clip120)\" d=\"M145.992 752.644 Q142.381 752.644 140.552 756.209 Q138.746 759.75 138.746 766.88 Q138.746 773.986 140.552 777.551 Q142.381 781.093 145.992 781.093 Q149.626 781.093 151.431 777.551 Q153.26 773.986 153.26 766.88 Q153.26 759.75 151.431 756.209 Q149.626 752.644 145.992 752.644 M145.992 748.94 Q151.802 748.94 154.857 753.547 Q157.936 758.13 157.936 766.88 Q157.936 775.607 154.857 780.213 Q151.802 784.797 145.992 784.797 Q140.181 784.797 137.103 780.213 Q134.047 775.607 134.047 766.88 Q134.047 758.13 137.103 753.547 Q140.181 748.94 145.992 748.94 Z\" fill=\"#000000\" fill-rule=\"nonzero\" fill-opacity=\"1\" /><path clip-path=\"url(#clip120)\" d=\"M101.756 413.204 Q98.1447 413.204 96.316 416.769 Q94.5104 420.31 94.5104 427.44 Q94.5104 434.546 96.316 438.111 Q98.1447 441.653 101.756 441.653 Q105.39 441.653 107.196 438.111 Q109.024 434.546 109.024 427.44 Q109.024 420.31 107.196 416.769 Q105.39 413.204 101.756 413.204 M101.756 409.5 Q107.566 409.5 110.621 414.107 Q113.7 418.69 113.7 427.44 Q113.7 436.167 110.621 440.773 Q107.566 445.356 101.756 445.356 Q95.9456 445.356 92.8669 440.773 Q89.8114 436.167 89.8114 427.44 Q89.8114 418.69 92.8669 414.107 Q95.9456 409.5 101.756 409.5 Z\" fill=\"#000000\" fill-rule=\"nonzero\" fill-opacity=\"1\" /><path clip-path=\"url(#clip120)\" d=\"M121.918 438.805 L126.802 438.805 L126.802 444.685 L121.918 444.685 L121.918 438.805 Z\" fill=\"#000000\" fill-rule=\"nonzero\" fill-opacity=\"1\" /><path clip-path=\"url(#clip120)\" d=\"M137.033 410.125 L155.39 410.125 L155.39 414.06 L141.316 414.06 L141.316 422.532 Q142.334 422.185 143.353 422.023 Q144.371 421.838 145.39 421.838 Q151.177 421.838 154.556 425.009 Q157.936 428.181 157.936 433.597 Q157.936 439.176 154.464 442.278 Q150.992 445.356 144.672 445.356 Q142.496 445.356 140.228 444.986 Q137.982 444.616 135.575 443.875 L135.575 439.176 Q137.658 440.31 139.881 440.866 Q142.103 441.421 144.58 441.421 Q148.584 441.421 150.922 439.315 Q153.26 437.208 153.26 433.597 Q153.26 429.986 150.922 427.88 Q148.584 425.773 144.58 425.773 Q142.705 425.773 140.83 426.19 Q138.978 426.606 137.033 427.486 L137.033 410.125 Z\" fill=\"#000000\" fill-rule=\"nonzero\" fill-opacity=\"1\" /><path clip-path=\"url(#clip120)\" d=\"M91.5706 101.31 L99.2095 101.31 L99.2095 74.9442 L90.8993 76.6108 L90.8993 72.3516 L99.1632 70.685 L103.839 70.685 L103.839 101.31 L111.478 101.31 L111.478 105.245 L91.5706 105.245 L91.5706 101.31 Z\" fill=\"#000000\" fill-rule=\"nonzero\" fill-opacity=\"1\" /><path clip-path=\"url(#clip120)\" d=\"M120.922 99.3654 L125.807 99.3654 L125.807 105.245 L120.922 105.245 L120.922 99.3654 Z\" fill=\"#000000\" fill-rule=\"nonzero\" fill-opacity=\"1\" /><path clip-path=\"url(#clip120)\" d=\"M145.992 73.7636 Q142.381 73.7636 140.552 77.3284 Q138.746 80.8701 138.746 87.9997 Q138.746 95.1061 140.552 98.6709 Q142.381 102.213 145.992 102.213 Q149.626 102.213 151.431 98.6709 Q153.26 95.1061 153.26 87.9997 Q153.26 80.8701 151.431 77.3284 Q149.626 73.7636 145.992 73.7636 M145.992 70.06 Q151.802 70.06 154.857 74.6664 Q157.936 79.2497 157.936 87.9997 Q157.936 96.7265 154.857 101.333 Q151.802 105.916 145.992 105.916 Q140.181 105.916 137.103 101.333 Q134.047 96.7265 134.047 87.9997 Q134.047 79.2497 137.103 74.6664 Q140.181 70.06 145.992 70.06 Z\" fill=\"#000000\" fill-rule=\"nonzero\" fill-opacity=\"1\" /><polyline clip-path=\"url(#clip122)\" style=\"stroke:#009af9; stroke-linecap:round; stroke-linejoin:round; stroke-width:4; stroke-opacity:1; fill:none\" points=\"255.035,766.845 258.35,752.961 261.664,739.082 264.979,725.215 268.294,711.365 283.62,647.728 298.945,585.154 314.27,524.204 329.596,465.422 337.259,437.009 344.921,409.334 352.584,382.457 360.247,356.439 367.91,331.339 375.572,307.212 383.235,284.113 390.898,262.092 400.108,237.122 409.318,213.862 418.527,192.387 427.737,172.768 436.947,155.066 446.157,139.339 455.367,125.638 464.577,114.007 472.364,105.816 480.151,99.151 487.938,94.027 495.725,90.4559 503.512,88.4459 511.299,88.0017 519.085,89.1243 526.872,91.8111 535.331,96.4949 543.79,103.004 552.249,111.322 560.707,121.424 569.166,133.284 577.625,146.87 586.084,162.144 594.542,179.066 602.341,196.084 610.139,214.425 617.937,234.044 625.735,254.896 633.533,276.933 641.332,300.104 649.13,324.356 656.928,349.632 665.289,377.801 673.649,407.006 682.01,437.168 690.37,468.207 707.091,532.584 723.812,599.452 762.558,760.008 801.304,920.953 818.52,990.186 835.737,1056.9 844.345,1089.08 852.953,1120.35 861.561,1150.62 870.17,1179.81 877.718,1204.45 885.267,1228.14 892.815,1250.83 900.364,1272.47 907.913,1293.01 915.461,1312.41 923.01,1330.63 930.558,1347.63 938.788,1364.72 947.018,1380.28 955.248,1394.25 963.478,1406.6 971.708,1417.31 979.938,1426.33 988.168,1433.66 996.398,1439.27 1004.68,1443.16 1012.96,1445.29 1021.24,1445.65 1029.51,1444.23 1037.79,1441.05 1046.07,1436.11 1054.35,1429.43 1062.63,1421.02 1071.78,1409.73 1080.94,1396.39 1090.09,1381.04 1099.24,1363.74 1108.4,1344.53 1117.55,1323.48 1126.7,1300.65 1135.86,1276.13 1144.57,1251.28 1153.28,1225.04 1161.98,1197.47 1170.69,1168.66 1179.4,1138.69 1188.11,1107.64 1196.82,1075.61 1205.53,1042.69 1223.64,971.797 1241.75,898.344 1259.86,823.251 1277.98,747.454 1293.22,683.798 1308.47,620.877 1323.71,559.246 1338.96,499.451 1348.27,464.078 1357.57,429.704 1366.88,396.442 1376.19,364.4 1385.49,333.685 1394.8,304.398 1404.11,276.635 1413.41,250.489 1421.94,228.029 1430.46,207.06 1438.99,187.639 1447.51,169.821 1456.04,153.655 1464.57,139.184 1473.09,126.451 1481.62,115.489 1489.49,106.965 1497.36,99.998 1505.24,94.6048 1513.11,90.7982 1520.99,88.5869 1528.86,87.9763 1536.73,88.9677 1544.61,91.559 1552.58,95.8085 1560.56,101.683 1568.54,109.168 1576.51,118.246 1584.49,128.894 1592.46,141.087 1600.44,154.796 1608.42,169.986 1617.36,188.726 1626.29,209.225 1635.23,231.419 1644.17,255.241 1653.11,280.62 1662.05,307.477 1670.99,335.732 1679.93,365.297 1688.03,393.145 1696.13,421.927 1704.23,451.57 1712.33,482 1728.53,544.917 1744.73,610.05 1781.83,764.012 1818.92,918.121 1836.1,987.271 1853.27,1053.95 1861.86,1086.13 1870.44,1117.41 1879.03,1147.7 1887.62,1176.93 1896.08,1204.62 1904.55,1231.11 1913.01,1256.34 1921.48,1280.23 1929.95,1302.72 1938.41,1323.75 1946.88,1343.27 1955.34,1361.2 1963.56,1377.07 1971.78,1391.37 1980,1404.06 1988.22,1415.11 1996.44,1424.5 2004.66,1432.19 2012.88,1438.17 2021.1,1442.43 2029.53,1444.99 2037.95,1445.72 2046.38,1444.61 2054.8,1441.67 2063.23,1436.91 2071.66,1430.33 2080.08,1421.97 2088.51,1411.83 2097.74,1398.73 2106.97,1383.57 2116.2,1366.41 2125.44,1347.31 2134.67,1326.33 2143.9,1303.53 2153.13,1278.99 2162.36,1252.79 2175.77,1211.95 2189.18,1168.06 2202.59,1121.42 2216,1072.36 2229.42,1021.2 2242.83,968.309 2256.24,914.037 2269.65,858.757 2275.15,835.872 2280.65,812.907 2286.15,789.89 2291.66,766.845 \"/>\n",
       "<path clip-path=\"url(#clip120)\" d=\"M1938.59 198.898 L2280.8 198.898 L2280.8 95.2176 L1938.59 95.2176  Z\" fill=\"#ffffff\" fill-rule=\"evenodd\" fill-opacity=\"1\"/>\n",
       "<polyline clip-path=\"url(#clip120)\" style=\"stroke:#000000; stroke-linecap:round; stroke-linejoin:round; stroke-width:4; stroke-opacity:1; fill:none\" points=\"1938.59,198.898 2280.8,198.898 2280.8,95.2176 1938.59,95.2176 1938.59,198.898 \"/>\n",
       "<polyline clip-path=\"url(#clip120)\" style=\"stroke:#009af9; stroke-linecap:round; stroke-linejoin:round; stroke-width:4; stroke-opacity:1; fill:none\" points=\"1962.58,147.058 2106.5,147.058 \"/>\n",
       "<path clip-path=\"url(#clip120)\" d=\"M2148.92 139.176 L2148.92 143.203 Q2147.11 142.277 2145.17 141.815 Q2143.22 141.352 2141.14 141.352 Q2137.97 141.352 2136.37 142.324 Q2134.8 143.296 2134.8 145.24 Q2134.8 146.722 2135.93 147.578 Q2137.06 148.412 2140.49 149.176 L2141.95 149.5 Q2146.48 150.472 2148.38 152.254 Q2150.3 154.014 2150.3 157.185 Q2150.3 160.796 2147.43 162.902 Q2144.59 165.009 2139.59 165.009 Q2137.5 165.009 2135.23 164.592 Q2132.99 164.199 2130.49 163.388 L2130.49 158.99 Q2132.85 160.217 2135.14 160.842 Q2137.43 161.444 2139.68 161.444 Q2142.69 161.444 2144.31 160.426 Q2145.93 159.384 2145.93 157.509 Q2145.93 155.773 2144.75 154.847 Q2143.59 153.921 2139.63 153.064 L2138.15 152.717 Q2134.19 151.884 2132.43 150.171 Q2130.67 148.435 2130.67 145.426 Q2130.67 141.768 2133.27 139.778 Q2135.86 137.787 2140.63 137.787 Q2142.99 137.787 2145.07 138.134 Q2147.16 138.481 2148.92 139.176 Z\" fill=\"#000000\" fill-rule=\"nonzero\" fill-opacity=\"1\" /><path clip-path=\"url(#clip120)\" d=\"M2157.09 138.412 L2161.35 138.412 L2161.35 164.338 L2157.09 164.338 L2157.09 138.412 M2157.09 128.319 L2161.35 128.319 L2161.35 133.713 L2157.09 133.713 L2157.09 128.319 Z\" fill=\"#000000\" fill-rule=\"nonzero\" fill-opacity=\"1\" /><path clip-path=\"url(#clip120)\" d=\"M2191.81 148.689 L2191.81 164.338 L2187.55 164.338 L2187.55 148.828 Q2187.55 145.148 2186.11 143.319 Q2184.68 141.49 2181.81 141.49 Q2178.36 141.49 2176.37 143.69 Q2174.38 145.889 2174.38 149.685 L2174.38 164.338 L2170.1 164.338 L2170.1 138.412 L2174.38 138.412 L2174.38 142.44 Q2175.91 140.102 2177.97 138.944 Q2180.05 137.787 2182.76 137.787 Q2187.23 137.787 2189.52 140.565 Q2191.81 143.319 2191.81 148.689 Z\" fill=\"#000000\" fill-rule=\"nonzero\" fill-opacity=\"1\" /><path clip-path=\"url(#clip120)\" d=\"M2210.54 128.366 Q2207.43 133.69 2205.93 138.898 Q2204.42 144.106 2204.42 149.453 Q2204.42 154.801 2205.93 160.055 Q2207.46 165.287 2210.54 170.588 L2206.83 170.588 Q2203.36 165.148 2201.62 159.893 Q2199.91 154.639 2199.91 149.453 Q2199.91 144.291 2201.62 139.06 Q2203.34 133.828 2206.83 128.366 L2210.54 128.366 Z\" fill=\"#000000\" fill-rule=\"nonzero\" fill-opacity=\"1\" /><path clip-path=\"url(#clip120)\" d=\"M2240.35 138.412 L2230.98 151.027 L2240.84 164.338 L2235.81 164.338 L2228.27 154.152 L2220.72 164.338 L2215.7 164.338 L2225.77 150.773 L2216.55 138.412 L2221.58 138.412 L2228.45 147.648 L2235.33 138.412 L2240.35 138.412 Z\" fill=\"#000000\" fill-rule=\"nonzero\" fill-opacity=\"1\" /><path clip-path=\"url(#clip120)\" d=\"M2246.18 128.366 L2249.89 128.366 Q2253.36 133.828 2255.07 139.06 Q2256.81 144.291 2256.81 149.453 Q2256.81 154.639 2255.07 159.893 Q2253.36 165.148 2249.89 170.588 L2246.18 170.588 Q2249.26 165.287 2250.77 160.055 Q2252.29 154.801 2252.29 149.453 Q2252.29 144.106 2250.77 138.898 Q2249.26 133.69 2246.18 128.366 Z\" fill=\"#000000\" fill-rule=\"nonzero\" fill-opacity=\"1\" /></svg>\n"
      ],
      "text/html": [
       "<?xml version=\"1.0\" encoding=\"utf-8\"?>\n",
       "<svg xmlns=\"http://www.w3.org/2000/svg\" xmlns:xlink=\"http://www.w3.org/1999/xlink\" width=\"600\" height=\"400\" viewBox=\"0 0 2400 1600\">\n",
       "<defs>\n",
       "  <clipPath id=\"clip170\">\n",
       "    <rect x=\"0\" y=\"0\" width=\"2400\" height=\"1600\"/>\n",
       "  </clipPath>\n",
       "</defs>\n",
       "<path clip-path=\"url(#clip170)\" d=\"M0 1600 L2400 1600 L2400 0 L0 0  Z\" fill=\"#ffffff\" fill-rule=\"evenodd\" fill-opacity=\"1\"/>\n",
       "<defs>\n",
       "  <clipPath id=\"clip171\">\n",
       "    <rect x=\"480\" y=\"0\" width=\"1681\" height=\"1600\"/>\n",
       "  </clipPath>\n",
       "</defs>\n",
       "<path clip-path=\"url(#clip170)\" d=\"M193.936 1486.45 L2352.76 1486.45 L2352.76 47.2441 L193.936 47.2441  Z\" fill=\"#ffffff\" fill-rule=\"evenodd\" fill-opacity=\"1\"/>\n",
       "<defs>\n",
       "  <clipPath id=\"clip172\">\n",
       "    <rect x=\"193\" y=\"47\" width=\"2160\" height=\"1440\"/>\n",
       "  </clipPath>\n",
       "</defs>\n",
       "<polyline clip-path=\"url(#clip172)\" style=\"stroke:#000000; stroke-linecap:round; stroke-linejoin:round; stroke-width:2; stroke-opacity:0.1; fill:none\" points=\"463,1486.45 463,47.2441 \"/>\n",
       "<polyline clip-path=\"url(#clip172)\" style=\"stroke:#000000; stroke-linecap:round; stroke-linejoin:round; stroke-width:2; stroke-opacity:0.1; fill:none\" points=\"868.173,1486.45 868.173,47.2441 \"/>\n",
       "<polyline clip-path=\"url(#clip172)\" style=\"stroke:#000000; stroke-linecap:round; stroke-linejoin:round; stroke-width:2; stroke-opacity:0.1; fill:none\" points=\"1273.35,1486.45 1273.35,47.2441 \"/>\n",
       "<polyline clip-path=\"url(#clip172)\" style=\"stroke:#000000; stroke-linecap:round; stroke-linejoin:round; stroke-width:2; stroke-opacity:0.1; fill:none\" points=\"1678.52,1486.45 1678.52,47.2441 \"/>\n",
       "<polyline clip-path=\"url(#clip172)\" style=\"stroke:#000000; stroke-linecap:round; stroke-linejoin:round; stroke-width:2; stroke-opacity:0.1; fill:none\" points=\"2083.69,1486.45 2083.69,47.2441 \"/>\n",
       "<polyline clip-path=\"url(#clip170)\" style=\"stroke:#000000; stroke-linecap:round; stroke-linejoin:round; stroke-width:4; stroke-opacity:1; fill:none\" points=\"193.936,1486.45 2352.76,1486.45 \"/>\n",
       "<polyline clip-path=\"url(#clip170)\" style=\"stroke:#000000; stroke-linecap:round; stroke-linejoin:round; stroke-width:4; stroke-opacity:1; fill:none\" points=\"463,1486.45 463,1467.55 \"/>\n",
       "<polyline clip-path=\"url(#clip170)\" style=\"stroke:#000000; stroke-linecap:round; stroke-linejoin:round; stroke-width:4; stroke-opacity:1; fill:none\" points=\"868.173,1486.45 868.173,1467.55 \"/>\n",
       "<polyline clip-path=\"url(#clip170)\" style=\"stroke:#000000; stroke-linecap:round; stroke-linejoin:round; stroke-width:4; stroke-opacity:1; fill:none\" points=\"1273.35,1486.45 1273.35,1467.55 \"/>\n",
       "<polyline clip-path=\"url(#clip170)\" style=\"stroke:#000000; stroke-linecap:round; stroke-linejoin:round; stroke-width:4; stroke-opacity:1; fill:none\" points=\"1678.52,1486.45 1678.52,1467.55 \"/>\n",
       "<polyline clip-path=\"url(#clip170)\" style=\"stroke:#000000; stroke-linecap:round; stroke-linejoin:round; stroke-width:4; stroke-opacity:1; fill:none\" points=\"2083.69,1486.45 2083.69,1467.55 \"/>\n",
       "<path clip-path=\"url(#clip170)\" d=\"M409.528 1532.02 L439.203 1532.02 L439.203 1535.95 L409.528 1535.95 L409.528 1532.02 Z\" fill=\"#000000\" fill-rule=\"nonzero\" fill-opacity=\"1\" /><path clip-path=\"url(#clip170)\" d=\"M449.342 1514.29 L467.699 1514.29 L467.699 1518.22 L453.625 1518.22 L453.625 1526.7 Q454.643 1526.35 455.662 1526.19 Q456.68 1526 457.699 1526 Q463.486 1526 466.865 1529.17 Q470.245 1532.34 470.245 1537.76 Q470.245 1543.34 466.773 1546.44 Q463.301 1549.52 456.981 1549.52 Q454.805 1549.52 452.537 1549.15 Q450.291 1548.78 447.884 1548.04 L447.884 1543.34 Q449.967 1544.47 452.189 1545.03 Q454.412 1545.58 456.889 1545.58 Q460.893 1545.58 463.231 1543.48 Q465.569 1541.37 465.569 1537.76 Q465.569 1534.15 463.231 1532.04 Q460.893 1529.94 456.889 1529.94 Q455.014 1529.94 453.139 1530.35 Q451.287 1530.77 449.342 1531.65 L449.342 1514.29 Z\" fill=\"#000000\" fill-rule=\"nonzero\" fill-opacity=\"1\" /><path clip-path=\"url(#clip170)\" d=\"M479.458 1542.97 L484.342 1542.97 L484.342 1548.85 L479.458 1548.85 L479.458 1542.97 Z\" fill=\"#000000\" fill-rule=\"nonzero\" fill-opacity=\"1\" /><path clip-path=\"url(#clip170)\" d=\"M504.527 1517.37 Q500.916 1517.37 499.087 1520.93 Q497.282 1524.47 497.282 1531.6 Q497.282 1538.71 499.087 1542.27 Q500.916 1545.82 504.527 1545.82 Q508.161 1545.82 509.967 1542.27 Q511.796 1538.71 511.796 1531.6 Q511.796 1524.47 509.967 1520.93 Q508.161 1517.37 504.527 1517.37 M504.527 1513.66 Q510.337 1513.66 513.393 1518.27 Q516.472 1522.85 516.472 1531.6 Q516.472 1540.33 513.393 1544.94 Q510.337 1549.52 504.527 1549.52 Q498.717 1549.52 495.638 1544.94 Q492.583 1540.33 492.583 1531.6 Q492.583 1522.85 495.638 1518.27 Q498.717 1513.66 504.527 1513.66 Z\" fill=\"#000000\" fill-rule=\"nonzero\" fill-opacity=\"1\" /><path clip-path=\"url(#clip170)\" d=\"M815.199 1532.02 L844.874 1532.02 L844.874 1535.95 L815.199 1535.95 L815.199 1532.02 Z\" fill=\"#000000\" fill-rule=\"nonzero\" fill-opacity=\"1\" /><path clip-path=\"url(#clip170)\" d=\"M858.995 1544.91 L875.314 1544.91 L875.314 1548.85 L853.37 1548.85 L853.37 1544.91 Q856.032 1542.16 860.615 1537.53 Q865.221 1532.88 866.402 1531.53 Q868.647 1529.01 869.527 1527.27 Q870.43 1525.51 870.43 1523.82 Q870.43 1521.07 868.485 1519.33 Q866.564 1517.6 863.462 1517.6 Q861.263 1517.6 858.809 1518.36 Q856.379 1519.13 853.601 1520.68 L853.601 1515.95 Q856.425 1514.82 858.879 1514.24 Q861.333 1513.66 863.37 1513.66 Q868.74 1513.66 871.934 1516.35 Q875.129 1519.03 875.129 1523.52 Q875.129 1525.65 874.319 1527.57 Q873.532 1529.47 871.425 1532.07 Q870.846 1532.74 867.745 1535.95 Q864.643 1539.15 858.995 1544.91 Z\" fill=\"#000000\" fill-rule=\"nonzero\" fill-opacity=\"1\" /><path clip-path=\"url(#clip170)\" d=\"M885.129 1542.97 L890.013 1542.97 L890.013 1548.85 L885.129 1548.85 L885.129 1542.97 Z\" fill=\"#000000\" fill-rule=\"nonzero\" fill-opacity=\"1\" /><path clip-path=\"url(#clip170)\" d=\"M900.244 1514.29 L918.601 1514.29 L918.601 1518.22 L904.527 1518.22 L904.527 1526.7 Q905.545 1526.35 906.564 1526.19 Q907.582 1526 908.601 1526 Q914.388 1526 917.767 1529.17 Q921.147 1532.34 921.147 1537.76 Q921.147 1543.34 917.675 1546.44 Q914.203 1549.52 907.883 1549.52 Q905.707 1549.52 903.439 1549.15 Q901.193 1548.78 898.786 1548.04 L898.786 1543.34 Q900.869 1544.47 903.092 1545.03 Q905.314 1545.58 907.791 1545.58 Q911.795 1545.58 914.133 1543.48 Q916.471 1541.37 916.471 1537.76 Q916.471 1534.15 914.133 1532.04 Q911.795 1529.94 907.791 1529.94 Q905.916 1529.94 904.041 1530.35 Q902.189 1530.77 900.244 1531.65 L900.244 1514.29 Z\" fill=\"#000000\" fill-rule=\"nonzero\" fill-opacity=\"1\" /><path clip-path=\"url(#clip170)\" d=\"M1250.73 1517.37 Q1247.12 1517.37 1245.29 1520.93 Q1243.49 1524.47 1243.49 1531.6 Q1243.49 1538.71 1245.29 1542.27 Q1247.12 1545.82 1250.73 1545.82 Q1254.36 1545.82 1256.17 1542.27 Q1258 1538.71 1258 1531.6 Q1258 1524.47 1256.17 1520.93 Q1254.36 1517.37 1250.73 1517.37 M1250.73 1513.66 Q1256.54 1513.66 1259.6 1518.27 Q1262.67 1522.85 1262.67 1531.6 Q1262.67 1540.33 1259.6 1544.94 Q1256.54 1549.52 1250.73 1549.52 Q1244.92 1549.52 1241.84 1544.94 Q1238.79 1540.33 1238.79 1531.6 Q1238.79 1522.85 1241.84 1518.27 Q1244.92 1513.66 1250.73 1513.66 Z\" fill=\"#000000\" fill-rule=\"nonzero\" fill-opacity=\"1\" /><path clip-path=\"url(#clip170)\" d=\"M1270.89 1542.97 L1275.78 1542.97 L1275.78 1548.85 L1270.89 1548.85 L1270.89 1542.97 Z\" fill=\"#000000\" fill-rule=\"nonzero\" fill-opacity=\"1\" /><path clip-path=\"url(#clip170)\" d=\"M1295.96 1517.37 Q1292.35 1517.37 1290.52 1520.93 Q1288.72 1524.47 1288.72 1531.6 Q1288.72 1538.71 1290.52 1542.27 Q1292.35 1545.82 1295.96 1545.82 Q1299.6 1545.82 1301.4 1542.27 Q1303.23 1538.71 1303.23 1531.6 Q1303.23 1524.47 1301.4 1520.93 Q1299.6 1517.37 1295.96 1517.37 M1295.96 1513.66 Q1301.77 1513.66 1304.83 1518.27 Q1307.91 1522.85 1307.91 1531.6 Q1307.91 1540.33 1304.83 1544.94 Q1301.77 1549.52 1295.96 1549.52 Q1290.15 1549.52 1287.07 1544.94 Q1284.02 1540.33 1284.02 1531.6 Q1284.02 1522.85 1287.07 1518.27 Q1290.15 1513.66 1295.96 1513.66 Z\" fill=\"#000000\" fill-rule=\"nonzero\" fill-opacity=\"1\" /><path clip-path=\"url(#clip170)\" d=\"M1650.26 1544.91 L1666.57 1544.91 L1666.57 1548.85 L1644.63 1548.85 L1644.63 1544.91 Q1647.29 1542.16 1651.88 1537.53 Q1656.48 1532.88 1657.66 1531.53 Q1659.91 1529.01 1660.79 1527.27 Q1661.69 1525.51 1661.69 1523.82 Q1661.69 1521.07 1659.75 1519.33 Q1657.82 1517.6 1654.72 1517.6 Q1652.52 1517.6 1650.07 1518.36 Q1647.64 1519.13 1644.86 1520.68 L1644.86 1515.95 Q1647.69 1514.82 1650.14 1514.24 Q1652.59 1513.66 1654.63 1513.66 Q1660 1513.66 1663.2 1516.35 Q1666.39 1519.03 1666.39 1523.52 Q1666.39 1525.65 1665.58 1527.57 Q1664.79 1529.47 1662.69 1532.07 Q1662.11 1532.74 1659.01 1535.95 Q1655.9 1539.15 1650.26 1544.91 Z\" fill=\"#000000\" fill-rule=\"nonzero\" fill-opacity=\"1\" /><path clip-path=\"url(#clip170)\" d=\"M1676.39 1542.97 L1681.27 1542.97 L1681.27 1548.85 L1676.39 1548.85 L1676.39 1542.97 Z\" fill=\"#000000\" fill-rule=\"nonzero\" fill-opacity=\"1\" /><path clip-path=\"url(#clip170)\" d=\"M1691.51 1514.29 L1709.86 1514.29 L1709.86 1518.22 L1695.79 1518.22 L1695.79 1526.7 Q1696.81 1526.35 1697.82 1526.19 Q1698.84 1526 1699.86 1526 Q1705.65 1526 1709.03 1529.17 Q1712.41 1532.34 1712.41 1537.76 Q1712.41 1543.34 1708.94 1546.44 Q1705.46 1549.52 1699.14 1549.52 Q1696.97 1549.52 1694.7 1549.15 Q1692.45 1548.78 1690.05 1548.04 L1690.05 1543.34 Q1692.13 1544.47 1694.35 1545.03 Q1696.57 1545.58 1699.05 1545.58 Q1703.06 1545.58 1705.39 1543.48 Q1707.73 1541.37 1707.73 1537.76 Q1707.73 1534.15 1705.39 1532.04 Q1703.06 1529.94 1699.05 1529.94 Q1697.18 1529.94 1695.3 1530.35 Q1693.45 1530.77 1691.51 1531.65 L1691.51 1514.29 Z\" fill=\"#000000\" fill-rule=\"nonzero\" fill-opacity=\"1\" /><path clip-path=\"url(#clip170)\" d=\"M2050.86 1514.29 L2069.21 1514.29 L2069.21 1518.22 L2055.14 1518.22 L2055.14 1526.7 Q2056.16 1526.35 2057.18 1526.19 Q2058.19 1526 2059.21 1526 Q2065 1526 2068.38 1529.17 Q2071.76 1532.34 2071.76 1537.76 Q2071.76 1543.34 2068.29 1546.44 Q2064.82 1549.52 2058.5 1549.52 Q2056.32 1549.52 2054.05 1549.15 Q2051.81 1548.78 2049.4 1548.04 L2049.4 1543.34 Q2051.48 1544.47 2053.7 1545.03 Q2055.93 1545.58 2058.4 1545.58 Q2062.41 1545.58 2064.75 1543.48 Q2067.08 1541.37 2067.08 1537.76 Q2067.08 1534.15 2064.75 1532.04 Q2062.41 1529.94 2058.4 1529.94 Q2056.53 1529.94 2054.65 1530.35 Q2052.8 1530.77 2050.86 1531.65 L2050.86 1514.29 Z\" fill=\"#000000\" fill-rule=\"nonzero\" fill-opacity=\"1\" /><path clip-path=\"url(#clip170)\" d=\"M2080.97 1542.97 L2085.86 1542.97 L2085.86 1548.85 L2080.97 1548.85 L2080.97 1542.97 Z\" fill=\"#000000\" fill-rule=\"nonzero\" fill-opacity=\"1\" /><path clip-path=\"url(#clip170)\" d=\"M2106.04 1517.37 Q2102.43 1517.37 2100.6 1520.93 Q2098.8 1524.47 2098.8 1531.6 Q2098.8 1538.71 2100.6 1542.27 Q2102.43 1545.82 2106.04 1545.82 Q2109.68 1545.82 2111.48 1542.27 Q2113.31 1538.71 2113.31 1531.6 Q2113.31 1524.47 2111.48 1520.93 Q2109.68 1517.37 2106.04 1517.37 M2106.04 1513.66 Q2111.85 1513.66 2114.91 1518.27 Q2117.99 1522.85 2117.99 1531.6 Q2117.99 1540.33 2114.91 1544.94 Q2111.85 1549.52 2106.04 1549.52 Q2100.23 1549.52 2097.15 1544.94 Q2094.1 1540.33 2094.1 1531.6 Q2094.1 1522.85 2097.15 1518.27 Q2100.23 1513.66 2106.04 1513.66 Z\" fill=\"#000000\" fill-rule=\"nonzero\" fill-opacity=\"1\" /><polyline clip-path=\"url(#clip172)\" style=\"stroke:#000000; stroke-linecap:round; stroke-linejoin:round; stroke-width:2; stroke-opacity:0.1; fill:none\" points=\"193.936,1445.73 2352.76,1445.73 \"/>\n",
       "<polyline clip-path=\"url(#clip172)\" style=\"stroke:#000000; stroke-linecap:round; stroke-linejoin:round; stroke-width:2; stroke-opacity:0.1; fill:none\" points=\"193.936,1106.29 2352.76,1106.29 \"/>\n",
       "<polyline clip-path=\"url(#clip172)\" style=\"stroke:#000000; stroke-linecap:round; stroke-linejoin:round; stroke-width:2; stroke-opacity:0.1; fill:none\" points=\"193.936,766.845 2352.76,766.845 \"/>\n",
       "<polyline clip-path=\"url(#clip172)\" style=\"stroke:#000000; stroke-linecap:round; stroke-linejoin:round; stroke-width:2; stroke-opacity:0.1; fill:none\" points=\"193.936,427.405 2352.76,427.405 \"/>\n",
       "<polyline clip-path=\"url(#clip172)\" style=\"stroke:#000000; stroke-linecap:round; stroke-linejoin:round; stroke-width:2; stroke-opacity:0.1; fill:none\" points=\"193.936,87.965 2352.76,87.965 \"/>\n",
       "<polyline clip-path=\"url(#clip170)\" style=\"stroke:#000000; stroke-linecap:round; stroke-linejoin:round; stroke-width:4; stroke-opacity:1; fill:none\" points=\"193.936,1486.45 193.936,47.2441 \"/>\n",
       "<polyline clip-path=\"url(#clip170)\" style=\"stroke:#000000; stroke-linecap:round; stroke-linejoin:round; stroke-width:4; stroke-opacity:1; fill:none\" points=\"193.936,1445.73 212.834,1445.73 \"/>\n",
       "<polyline clip-path=\"url(#clip170)\" style=\"stroke:#000000; stroke-linecap:round; stroke-linejoin:round; stroke-width:4; stroke-opacity:1; fill:none\" points=\"193.936,1106.29 212.834,1106.29 \"/>\n",
       "<polyline clip-path=\"url(#clip170)\" style=\"stroke:#000000; stroke-linecap:round; stroke-linejoin:round; stroke-width:4; stroke-opacity:1; fill:none\" points=\"193.936,766.845 212.834,766.845 \"/>\n",
       "<polyline clip-path=\"url(#clip170)\" style=\"stroke:#000000; stroke-linecap:round; stroke-linejoin:round; stroke-width:4; stroke-opacity:1; fill:none\" points=\"193.936,427.405 212.834,427.405 \"/>\n",
       "<polyline clip-path=\"url(#clip170)\" style=\"stroke:#000000; stroke-linecap:round; stroke-linejoin:round; stroke-width:4; stroke-opacity:1; fill:none\" points=\"193.936,87.965 212.834,87.965 \"/>\n",
       "<path clip-path=\"url(#clip170)\" d=\"M50.9921 1446.18 L80.6679 1446.18 L80.6679 1450.11 L50.9921 1450.11 L50.9921 1446.18 Z\" fill=\"#000000\" fill-rule=\"nonzero\" fill-opacity=\"1\" /><path clip-path=\"url(#clip170)\" d=\"M91.5706 1459.07 L99.2095 1459.07 L99.2095 1432.7 L90.8993 1434.37 L90.8993 1430.11 L99.1632 1428.45 L103.839 1428.45 L103.839 1459.07 L111.478 1459.07 L111.478 1463.01 L91.5706 1463.01 L91.5706 1459.07 Z\" fill=\"#000000\" fill-rule=\"nonzero\" fill-opacity=\"1\" /><path clip-path=\"url(#clip170)\" d=\"M120.922 1457.13 L125.807 1457.13 L125.807 1463.01 L120.922 1463.01 L120.922 1457.13 Z\" fill=\"#000000\" fill-rule=\"nonzero\" fill-opacity=\"1\" /><path clip-path=\"url(#clip170)\" d=\"M145.992 1431.52 Q142.381 1431.52 140.552 1435.09 Q138.746 1438.63 138.746 1445.76 Q138.746 1452.87 140.552 1456.43 Q142.381 1459.97 145.992 1459.97 Q149.626 1459.97 151.431 1456.43 Q153.26 1452.87 153.26 1445.76 Q153.26 1438.63 151.431 1435.09 Q149.626 1431.52 145.992 1431.52 M145.992 1427.82 Q151.802 1427.82 154.857 1432.43 Q157.936 1437.01 157.936 1445.76 Q157.936 1454.49 154.857 1459.09 Q151.802 1463.68 145.992 1463.68 Q140.181 1463.68 137.103 1459.09 Q134.047 1454.49 134.047 1445.76 Q134.047 1437.01 137.103 1432.43 Q140.181 1427.82 145.992 1427.82 Z\" fill=\"#000000\" fill-rule=\"nonzero\" fill-opacity=\"1\" /><path clip-path=\"url(#clip170)\" d=\"M51.9875 1106.74 L81.6633 1106.74 L81.6633 1110.67 L51.9875 1110.67 L51.9875 1106.74 Z\" fill=\"#000000\" fill-rule=\"nonzero\" fill-opacity=\"1\" /><path clip-path=\"url(#clip170)\" d=\"M101.756 1092.08 Q98.1447 1092.08 96.316 1095.65 Q94.5104 1099.19 94.5104 1106.32 Q94.5104 1113.43 96.316 1116.99 Q98.1447 1120.53 101.756 1120.53 Q105.39 1120.53 107.196 1116.99 Q109.024 1113.43 109.024 1106.32 Q109.024 1099.19 107.196 1095.65 Q105.39 1092.08 101.756 1092.08 M101.756 1088.38 Q107.566 1088.38 110.621 1092.99 Q113.7 1097.57 113.7 1106.32 Q113.7 1115.05 110.621 1119.65 Q107.566 1124.24 101.756 1124.24 Q95.9456 1124.24 92.8669 1119.65 Q89.8114 1115.05 89.8114 1106.32 Q89.8114 1097.57 92.8669 1092.99 Q95.9456 1088.38 101.756 1088.38 Z\" fill=\"#000000\" fill-rule=\"nonzero\" fill-opacity=\"1\" /><path clip-path=\"url(#clip170)\" d=\"M121.918 1117.69 L126.802 1117.69 L126.802 1123.57 L121.918 1123.57 L121.918 1117.69 Z\" fill=\"#000000\" fill-rule=\"nonzero\" fill-opacity=\"1\" /><path clip-path=\"url(#clip170)\" d=\"M137.033 1089.01 L155.39 1089.01 L155.39 1092.94 L141.316 1092.94 L141.316 1101.41 Q142.334 1101.07 143.353 1100.9 Q144.371 1100.72 145.39 1100.72 Q151.177 1100.72 154.556 1103.89 Q157.936 1107.06 157.936 1112.48 Q157.936 1118.06 154.464 1121.16 Q150.992 1124.24 144.672 1124.24 Q142.496 1124.24 140.228 1123.87 Q137.982 1123.5 135.575 1122.76 L135.575 1118.06 Q137.658 1119.19 139.881 1119.75 Q142.103 1120.3 144.58 1120.3 Q148.584 1120.3 150.922 1118.2 Q153.26 1116.09 153.26 1112.48 Q153.26 1108.87 150.922 1106.76 Q148.584 1104.65 144.58 1104.65 Q142.705 1104.65 140.83 1105.07 Q138.978 1105.49 137.033 1106.37 L137.033 1089.01 Z\" fill=\"#000000\" fill-rule=\"nonzero\" fill-opacity=\"1\" /><path clip-path=\"url(#clip170)\" d=\"M100.76 752.644 Q97.1493 752.644 95.3206 756.209 Q93.515 759.75 93.515 766.88 Q93.515 773.986 95.3206 777.551 Q97.1493 781.093 100.76 781.093 Q104.395 781.093 106.2 777.551 Q108.029 773.986 108.029 766.88 Q108.029 759.75 106.2 756.209 Q104.395 752.644 100.76 752.644 M100.76 748.94 Q106.571 748.94 109.626 753.547 Q112.705 758.13 112.705 766.88 Q112.705 775.607 109.626 780.213 Q106.571 784.797 100.76 784.797 Q94.9502 784.797 91.8715 780.213 Q88.816 775.607 88.816 766.88 Q88.816 758.13 91.8715 753.547 Q94.9502 748.94 100.76 748.94 Z\" fill=\"#000000\" fill-rule=\"nonzero\" fill-opacity=\"1\" /><path clip-path=\"url(#clip170)\" d=\"M120.922 778.246 L125.807 778.246 L125.807 784.125 L120.922 784.125 L120.922 778.246 Z\" fill=\"#000000\" fill-rule=\"nonzero\" fill-opacity=\"1\" /><path clip-path=\"url(#clip170)\" d=\"M145.992 752.644 Q142.381 752.644 140.552 756.209 Q138.746 759.75 138.746 766.88 Q138.746 773.986 140.552 777.551 Q142.381 781.093 145.992 781.093 Q149.626 781.093 151.431 777.551 Q153.26 773.986 153.26 766.88 Q153.26 759.75 151.431 756.209 Q149.626 752.644 145.992 752.644 M145.992 748.94 Q151.802 748.94 154.857 753.547 Q157.936 758.13 157.936 766.88 Q157.936 775.607 154.857 780.213 Q151.802 784.797 145.992 784.797 Q140.181 784.797 137.103 780.213 Q134.047 775.607 134.047 766.88 Q134.047 758.13 137.103 753.547 Q140.181 748.94 145.992 748.94 Z\" fill=\"#000000\" fill-rule=\"nonzero\" fill-opacity=\"1\" /><path clip-path=\"url(#clip170)\" d=\"M101.756 413.204 Q98.1447 413.204 96.316 416.769 Q94.5104 420.31 94.5104 427.44 Q94.5104 434.546 96.316 438.111 Q98.1447 441.653 101.756 441.653 Q105.39 441.653 107.196 438.111 Q109.024 434.546 109.024 427.44 Q109.024 420.31 107.196 416.769 Q105.39 413.204 101.756 413.204 M101.756 409.5 Q107.566 409.5 110.621 414.107 Q113.7 418.69 113.7 427.44 Q113.7 436.167 110.621 440.773 Q107.566 445.356 101.756 445.356 Q95.9456 445.356 92.8669 440.773 Q89.8114 436.167 89.8114 427.44 Q89.8114 418.69 92.8669 414.107 Q95.9456 409.5 101.756 409.5 Z\" fill=\"#000000\" fill-rule=\"nonzero\" fill-opacity=\"1\" /><path clip-path=\"url(#clip170)\" d=\"M121.918 438.805 L126.802 438.805 L126.802 444.685 L121.918 444.685 L121.918 438.805 Z\" fill=\"#000000\" fill-rule=\"nonzero\" fill-opacity=\"1\" /><path clip-path=\"url(#clip170)\" d=\"M137.033 410.125 L155.39 410.125 L155.39 414.06 L141.316 414.06 L141.316 422.532 Q142.334 422.185 143.353 422.023 Q144.371 421.838 145.39 421.838 Q151.177 421.838 154.556 425.009 Q157.936 428.181 157.936 433.597 Q157.936 439.176 154.464 442.278 Q150.992 445.356 144.672 445.356 Q142.496 445.356 140.228 444.986 Q137.982 444.616 135.575 443.875 L135.575 439.176 Q137.658 440.31 139.881 440.866 Q142.103 441.421 144.58 441.421 Q148.584 441.421 150.922 439.315 Q153.26 437.208 153.26 433.597 Q153.26 429.986 150.922 427.88 Q148.584 425.773 144.58 425.773 Q142.705 425.773 140.83 426.19 Q138.978 426.606 137.033 427.486 L137.033 410.125 Z\" fill=\"#000000\" fill-rule=\"nonzero\" fill-opacity=\"1\" /><path clip-path=\"url(#clip170)\" d=\"M91.5706 101.31 L99.2095 101.31 L99.2095 74.9442 L90.8993 76.6108 L90.8993 72.3516 L99.1632 70.685 L103.839 70.685 L103.839 101.31 L111.478 101.31 L111.478 105.245 L91.5706 105.245 L91.5706 101.31 Z\" fill=\"#000000\" fill-rule=\"nonzero\" fill-opacity=\"1\" /><path clip-path=\"url(#clip170)\" d=\"M120.922 99.3654 L125.807 99.3654 L125.807 105.245 L120.922 105.245 L120.922 99.3654 Z\" fill=\"#000000\" fill-rule=\"nonzero\" fill-opacity=\"1\" /><path clip-path=\"url(#clip170)\" d=\"M145.992 73.7636 Q142.381 73.7636 140.552 77.3284 Q138.746 80.8701 138.746 87.9997 Q138.746 95.1061 140.552 98.6709 Q142.381 102.213 145.992 102.213 Q149.626 102.213 151.431 98.6709 Q153.26 95.1061 153.26 87.9997 Q153.26 80.8701 151.431 77.3284 Q149.626 73.7636 145.992 73.7636 M145.992 70.06 Q151.802 70.06 154.857 74.6664 Q157.936 79.2497 157.936 87.9997 Q157.936 96.7265 154.857 101.333 Q151.802 105.916 145.992 105.916 Q140.181 105.916 137.103 101.333 Q134.047 96.7265 134.047 87.9997 Q134.047 79.2497 137.103 74.6664 Q140.181 70.06 145.992 70.06 Z\" fill=\"#000000\" fill-rule=\"nonzero\" fill-opacity=\"1\" /><polyline clip-path=\"url(#clip172)\" style=\"stroke:#009af9; stroke-linecap:round; stroke-linejoin:round; stroke-width:4; stroke-opacity:1; fill:none\" points=\"255.035,766.845 258.35,752.961 261.664,739.082 264.979,725.215 268.294,711.365 283.62,647.728 298.945,585.154 314.27,524.204 329.596,465.422 337.259,437.009 344.921,409.334 352.584,382.457 360.247,356.439 367.91,331.339 375.572,307.212 383.235,284.113 390.898,262.092 400.108,237.122 409.318,213.862 418.527,192.387 427.737,172.768 436.947,155.066 446.157,139.339 455.367,125.638 464.577,114.007 472.364,105.816 480.151,99.151 487.938,94.027 495.725,90.4559 503.512,88.4459 511.299,88.0017 519.085,89.1243 526.872,91.8111 535.331,96.4949 543.79,103.004 552.249,111.322 560.707,121.424 569.166,133.284 577.625,146.87 586.084,162.144 594.542,179.066 602.341,196.084 610.139,214.425 617.937,234.044 625.735,254.896 633.533,276.933 641.332,300.104 649.13,324.356 656.928,349.632 665.289,377.801 673.649,407.006 682.01,437.168 690.37,468.207 707.091,532.584 723.812,599.452 762.558,760.008 801.304,920.953 818.52,990.186 835.737,1056.9 844.345,1089.08 852.953,1120.35 861.561,1150.62 870.17,1179.81 877.718,1204.45 885.267,1228.14 892.815,1250.83 900.364,1272.47 907.913,1293.01 915.461,1312.41 923.01,1330.63 930.558,1347.63 938.788,1364.72 947.018,1380.28 955.248,1394.25 963.478,1406.6 971.708,1417.31 979.938,1426.33 988.168,1433.66 996.398,1439.27 1004.68,1443.16 1012.96,1445.29 1021.24,1445.65 1029.51,1444.23 1037.79,1441.05 1046.07,1436.11 1054.35,1429.43 1062.63,1421.02 1071.78,1409.73 1080.94,1396.39 1090.09,1381.04 1099.24,1363.74 1108.4,1344.53 1117.55,1323.48 1126.7,1300.65 1135.86,1276.13 1144.57,1251.28 1153.28,1225.04 1161.98,1197.47 1170.69,1168.66 1179.4,1138.69 1188.11,1107.64 1196.82,1075.61 1205.53,1042.69 1223.64,971.797 1241.75,898.344 1259.86,823.251 1277.98,747.454 1293.22,683.798 1308.47,620.877 1323.71,559.246 1338.96,499.451 1348.27,464.078 1357.57,429.704 1366.88,396.442 1376.19,364.4 1385.49,333.685 1394.8,304.398 1404.11,276.635 1413.41,250.489 1421.94,228.029 1430.46,207.06 1438.99,187.639 1447.51,169.821 1456.04,153.655 1464.57,139.184 1473.09,126.451 1481.62,115.489 1489.49,106.965 1497.36,99.998 1505.24,94.6048 1513.11,90.7982 1520.99,88.5869 1528.86,87.9763 1536.73,88.9677 1544.61,91.559 1552.58,95.8085 1560.56,101.683 1568.54,109.168 1576.51,118.246 1584.49,128.894 1592.46,141.087 1600.44,154.796 1608.42,169.986 1617.36,188.726 1626.29,209.225 1635.23,231.419 1644.17,255.241 1653.11,280.62 1662.05,307.477 1670.99,335.732 1679.93,365.297 1688.03,393.145 1696.13,421.927 1704.23,451.57 1712.33,482 1728.53,544.917 1744.73,610.05 1781.83,764.012 1818.92,918.121 1836.1,987.271 1853.27,1053.95 1861.86,1086.13 1870.44,1117.41 1879.03,1147.7 1887.62,1176.93 1896.08,1204.62 1904.55,1231.11 1913.01,1256.34 1921.48,1280.23 1929.95,1302.72 1938.41,1323.75 1946.88,1343.27 1955.34,1361.2 1963.56,1377.07 1971.78,1391.37 1980,1404.06 1988.22,1415.11 1996.44,1424.5 2004.66,1432.19 2012.88,1438.17 2021.1,1442.43 2029.53,1444.99 2037.95,1445.72 2046.38,1444.61 2054.8,1441.67 2063.23,1436.91 2071.66,1430.33 2080.08,1421.97 2088.51,1411.83 2097.74,1398.73 2106.97,1383.57 2116.2,1366.41 2125.44,1347.31 2134.67,1326.33 2143.9,1303.53 2153.13,1278.99 2162.36,1252.79 2175.77,1211.95 2189.18,1168.06 2202.59,1121.42 2216,1072.36 2229.42,1021.2 2242.83,968.309 2256.24,914.037 2269.65,858.757 2275.15,835.872 2280.65,812.907 2286.15,789.89 2291.66,766.845 \"/>\n",
       "<path clip-path=\"url(#clip170)\" d=\"M1938.59 198.898 L2280.8 198.898 L2280.8 95.2176 L1938.59 95.2176  Z\" fill=\"#ffffff\" fill-rule=\"evenodd\" fill-opacity=\"1\"/>\n",
       "<polyline clip-path=\"url(#clip170)\" style=\"stroke:#000000; stroke-linecap:round; stroke-linejoin:round; stroke-width:4; stroke-opacity:1; fill:none\" points=\"1938.59,198.898 2280.8,198.898 2280.8,95.2176 1938.59,95.2176 1938.59,198.898 \"/>\n",
       "<polyline clip-path=\"url(#clip170)\" style=\"stroke:#009af9; stroke-linecap:round; stroke-linejoin:round; stroke-width:4; stroke-opacity:1; fill:none\" points=\"1962.58,147.058 2106.5,147.058 \"/>\n",
       "<path clip-path=\"url(#clip170)\" d=\"M2148.92 139.176 L2148.92 143.203 Q2147.11 142.277 2145.17 141.815 Q2143.22 141.352 2141.14 141.352 Q2137.97 141.352 2136.37 142.324 Q2134.8 143.296 2134.8 145.24 Q2134.8 146.722 2135.93 147.578 Q2137.06 148.412 2140.49 149.176 L2141.95 149.5 Q2146.48 150.472 2148.38 152.254 Q2150.3 154.014 2150.3 157.185 Q2150.3 160.796 2147.43 162.902 Q2144.59 165.009 2139.59 165.009 Q2137.5 165.009 2135.23 164.592 Q2132.99 164.199 2130.49 163.388 L2130.49 158.99 Q2132.85 160.217 2135.14 160.842 Q2137.43 161.444 2139.68 161.444 Q2142.69 161.444 2144.31 160.426 Q2145.93 159.384 2145.93 157.509 Q2145.93 155.773 2144.75 154.847 Q2143.59 153.921 2139.63 153.064 L2138.15 152.717 Q2134.19 151.884 2132.43 150.171 Q2130.67 148.435 2130.67 145.426 Q2130.67 141.768 2133.27 139.778 Q2135.86 137.787 2140.63 137.787 Q2142.99 137.787 2145.07 138.134 Q2147.16 138.481 2148.92 139.176 Z\" fill=\"#000000\" fill-rule=\"nonzero\" fill-opacity=\"1\" /><path clip-path=\"url(#clip170)\" d=\"M2157.09 138.412 L2161.35 138.412 L2161.35 164.338 L2157.09 164.338 L2157.09 138.412 M2157.09 128.319 L2161.35 128.319 L2161.35 133.713 L2157.09 133.713 L2157.09 128.319 Z\" fill=\"#000000\" fill-rule=\"nonzero\" fill-opacity=\"1\" /><path clip-path=\"url(#clip170)\" d=\"M2191.81 148.689 L2191.81 164.338 L2187.55 164.338 L2187.55 148.828 Q2187.55 145.148 2186.11 143.319 Q2184.68 141.49 2181.81 141.49 Q2178.36 141.49 2176.37 143.69 Q2174.38 145.889 2174.38 149.685 L2174.38 164.338 L2170.1 164.338 L2170.1 138.412 L2174.38 138.412 L2174.38 142.44 Q2175.91 140.102 2177.97 138.944 Q2180.05 137.787 2182.76 137.787 Q2187.23 137.787 2189.52 140.565 Q2191.81 143.319 2191.81 148.689 Z\" fill=\"#000000\" fill-rule=\"nonzero\" fill-opacity=\"1\" /><path clip-path=\"url(#clip170)\" d=\"M2210.54 128.366 Q2207.43 133.69 2205.93 138.898 Q2204.42 144.106 2204.42 149.453 Q2204.42 154.801 2205.93 160.055 Q2207.46 165.287 2210.54 170.588 L2206.83 170.588 Q2203.36 165.148 2201.62 159.893 Q2199.91 154.639 2199.91 149.453 Q2199.91 144.291 2201.62 139.06 Q2203.34 133.828 2206.83 128.366 L2210.54 128.366 Z\" fill=\"#000000\" fill-rule=\"nonzero\" fill-opacity=\"1\" /><path clip-path=\"url(#clip170)\" d=\"M2240.35 138.412 L2230.98 151.027 L2240.84 164.338 L2235.81 164.338 L2228.27 154.152 L2220.72 164.338 L2215.7 164.338 L2225.77 150.773 L2216.55 138.412 L2221.58 138.412 L2228.45 147.648 L2235.33 138.412 L2240.35 138.412 Z\" fill=\"#000000\" fill-rule=\"nonzero\" fill-opacity=\"1\" /><path clip-path=\"url(#clip170)\" d=\"M2246.18 128.366 L2249.89 128.366 Q2253.36 133.828 2255.07 139.06 Q2256.81 144.291 2256.81 149.453 Q2256.81 154.639 2255.07 159.893 Q2253.36 165.148 2249.89 170.588 L2246.18 170.588 Q2249.26 165.287 2250.77 160.055 Q2252.29 154.801 2252.29 149.453 Q2252.29 144.106 2250.77 138.898 Q2249.26 133.69 2246.18 128.366 Z\" fill=\"#000000\" fill-rule=\"nonzero\" fill-opacity=\"1\" /></svg>\n"
      ]
     },
     "metadata": {},
     "output_type": "display_data"
    }
   ],
   "source": [
    "using Plots\n",
    "plot(sin, -2π, 2π, label = \"sin(x)\")"
   ]
  },
  {
   "cell_type": "markdown",
   "id": "7e1023c6",
   "metadata": {},
   "source": [
    "You’ll see something like this (although the style of plot depends on your\n",
    "installation)\n",
    "\n",
    "![https://julia.quantecon.org/_static/figures/nb4_julia.png](https://julia.quantecon.org/_static/figures/nb4_julia.png)\n",
    "\n",
    "  \n",
    "If this code fails to work because the `Plots` package is missing, then either you\n",
    "\n",
    "1. did not [install the packages](#install-packages) in the previous lecture  \n",
    "  - You should go back and follow the [install the packages](#install-packages) instructions, or just call `using Pkg; Pkg.instantiate()` in a new cell.  \n",
    "1. downloaded or moved this notebook rather than [cloning the notebook repository](#clone-lectures).  In that case, it does not have the associated `Project.toml` file local to it.  \n",
    "  - Consider [cloning the notebook repository](#clone-lectures) instead.  \n",
    "  - If you would prefer not, then you can manually install packages as you need them.  For example, in this case you could type `] add Plots` into a code cell in the notebook or into your Julia REPL.  "
   ]
  },
  {
   "cell_type": "markdown",
   "id": "6e95764b",
   "metadata": {},
   "source": [
    "### Working with the Notebook\n",
    "\n",
    "Let’s go over some more Jupyter notebook features — enough so that we can press ahead with programming."
   ]
  },
  {
   "cell_type": "markdown",
   "id": "f44f4cff",
   "metadata": {},
   "source": [
    "#### Tab Completion\n",
    "\n",
    "Tab completion in Jupyter makes it easy to find Julia commands and functions available.\n",
    "\n",
    "For example if you type `rep` and hit the tab key you’ll get a list of all\n",
    "commands that start with `rep`\n",
    "\n",
    "![https://julia.quantecon.org/_static/figures/nb5_julia.png](https://julia.quantecon.org/_static/figures/nb5_julia.png)\n",
    "\n",
    "  \n",
    "\n",
    "<a id='gs-help'></a>"
   ]
  },
  {
   "cell_type": "markdown",
   "id": "b61cb667",
   "metadata": {},
   "source": [
    "#### Getting Help\n",
    "\n",
    "To get help on the Julia function such as `repeat`, enter `? repeat`.\n",
    "\n",
    "Documentation should now appear in the browser\n",
    "\n",
    "![https://julia.quantecon.org/_static/figures/repeatexample.png](https://julia.quantecon.org/_static/figures/repeatexample.png)"
   ]
  },
  {
   "cell_type": "markdown",
   "id": "fda806a4",
   "metadata": {},
   "source": [
    "#### Other Content\n",
    "\n",
    "In addition to executing code, the Jupyter notebook allows you to embed text, equations, figures and even videos in the page.\n",
    "\n",
    "For example, here we enter a mixture of plain text and LaTeX instead of code\n",
    "\n",
    "![https://julia.quantecon.org/_static/figures/nb6_julia.png](https://julia.quantecon.org/_static/figures/nb6_julia.png)\n",
    "\n",
    "  \n",
    "Next we `Esc` to enter command mode and then type `m` to indicate that we\n",
    "are writing [Markdown](http://daringfireball.net/projects/markdown/), a mark-up language similar to (but simpler than) LaTeX.\n",
    "\n",
    "(You can also use your mouse to select `Markdown` from the `Code` drop-down box just below the list of menu items)\n",
    "\n",
    "Now we `Shift + Enter` to produce this\n",
    "\n",
    "![https://julia.quantecon.org/_static/figures/nb7_julia.png](https://julia.quantecon.org/_static/figures/nb7_julia.png)"
   ]
  },
  {
   "cell_type": "markdown",
   "id": "5961768b",
   "metadata": {},
   "source": [
    "#### Inserting Unicode (e.g. Greek letters)\n",
    "\n",
    "Julia supports the use of [unicode characters](https://docs.julialang.org/en/v1/manual/unicode-input/)\n",
    "such as `α` and `β` in your code.\n",
    "\n",
    "Unicode characters can be typed quickly in Jupyter using the `tab` key.\n",
    "\n",
    "Try creating a new code cell and typing `\\alpha`, then hitting the `tab` key on your keyboard.\n",
    "\n",
    "There are other operators with a mathematical notation.  For example, the `LinearAlgebra` package has a `dot` function as identical to the latex `\\cdot`."
   ]
  },
  {
   "cell_type": "code",
   "execution_count": null,
   "id": "92fb43a3",
   "metadata": {
    "hide-output": false
   },
   "outputs": [],
   "source": [
    "using LinearAlgebra\n",
    "x = [1, 2]\n",
    "y = [3, 4]\n",
    "@show dot(x, y)\n",
    "@show x ⋅ y;"
   ]
  },
  {
   "cell_type": "markdown",
   "id": "5fb46518",
   "metadata": {},
   "source": [
    "#### Shell Commands\n",
    "\n",
    "You can execute shell commands (system commands) in Jupyter by prepending a semicolon.\n",
    "\n",
    "For example, `; ls` will execute the UNIX style shell command `ls`,\n",
    "which — at least for UNIX style operating systems — lists the\n",
    "contents of the current working directory.\n",
    "\n",
    "These shell commands are handled by your default system shell and hence are platform specific."
   ]
  },
  {
   "cell_type": "markdown",
   "id": "21e77ef5",
   "metadata": {},
   "source": [
    "#### Package Operations\n",
    "\n",
    "You can execute package operations in the notebook by prepending a `]`.\n",
    "\n",
    "For example, `] st` will give the status of installed packages in the current environment.\n",
    "\n",
    "**Note**: Cells where you use `;` and `]` must not have any other instructions in them (i.e., they should be one-liners)."
   ]
  },
  {
   "cell_type": "markdown",
   "id": "923ab91f",
   "metadata": {},
   "source": [
    "### Sharing Notebooks\n",
    "\n",
    "Notebook files are just text files structured in [JSON](https://en.wikipedia.org/wiki/JSON) and typically end with `.ipynb`.\n",
    "\n",
    "A notebook can easily be saved and shared between users — you just need to\n",
    "pass around the `ipynb` file.\n",
    "\n",
    "To open an existing `ipynb` file, import it from the dashboard (the first\n",
    "browser page that opens when you start Jupyter notebook) and run the cells or edit as discussed above.\n",
    "\n",
    "The Jupyter organization has a site for sharing notebooks called [nbviewer](http://nbviewer.jupyter.org/)\n",
    "which provides a static HTML representations of notebooks.\n",
    "\n",
    "QuantEcon also hosts the [QuantEcon Notes](http://notes.quantecon.org/) website, where you can upload and share your notebooks with other economists and the QuantEcon community."
   ]
  }
 ],
 "metadata": {
  "date": 1704478551.9128218,
  "filename": "getting_started.md",
  "kernelspec": {
   "display_name": "Julia 1.10.2",
   "language": "julia",
   "name": "julia-1.10"
  },
  "language_info": {
   "file_extension": ".jl",
   "mimetype": "application/julia",
   "name": "julia",
   "version": "1.10.2"
  },
  "title": "Setting up Your Julia Environment"
 },
 "nbformat": 4,
 "nbformat_minor": 5
}
